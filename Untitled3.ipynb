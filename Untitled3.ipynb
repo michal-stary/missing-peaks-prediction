{
 "cells": [
  {
   "cell_type": "code",
   "execution_count": 1,
   "id": "93f857d9-8b82-477a-8603-3c8f14c8d671",
   "metadata": {},
   "outputs": [],
   "source": [
    "# clean"
   ]
  },
  {
   "cell_type": "code",
   "execution_count": 1,
   "id": "5fcbe029-a3d9-4f6f-a98e-b99f64629349",
   "metadata": {},
   "outputs": [],
   "source": [
    "import os\n",
    "import numpy as np"
   ]
  },
  {
   "cell_type": "code",
   "execution_count": 2,
   "id": "9784dd16-e6c8-4234-ac14-6fd40f36a776",
   "metadata": {},
   "outputs": [],
   "source": [
    "# for  parent, directories, files in os.walk(\"predictions/de_novo/gen_val/\"):\n",
    "#     for dire in directories:\n",
    "#         if \"lstm\" in dire:\n",
    "            \n",
    "#             ys = np.load(f\"{parent}/{dire}/X_intens.npy\", allow_pickle=True)\n",
    "#             #print(ys)\n",
    "#             for y in ys:\n",
    "                \n",
    "#                 while(0 in y):\n",
    "#                     y.pop(-1)\n",
    "            \n",
    "#             print(y)\n",
    "#             np.save(f\"{parent}/{dire}/X_intens.npy\", ys)"
   ]
  },
  {
   "cell_type": "code",
   "execution_count": 5,
   "id": "aadf5348-4250-473b-8f24-e130ebd4c530",
   "metadata": {},
   "outputs": [
    {
     "name": "stdout",
     "output_type": "stream",
     "text": [
      "(30, 27908, 20)\n"
     ]
    }
   ],
   "source": [
    "for  parent, directories, files in os.walk(\"predictions/de_novo/gen_test/\"):\n",
    "    for dire in directories:\n",
    "        if \"elstm_unfreeze_intens_dst\" in dire:\n",
    "            lpk = np.load(f\"{parent}/{dire}/l_pred_indices_per_k.npy\", allow_pickle=True)\n",
    "            \n",
    "            print(lpk.shape)"
   ]
  },
  {
   "cell_type": "code",
   "execution_count": 6,
   "id": "b697333c-c673-4bf6-bb8e-8ec9e6801d1c",
   "metadata": {},
   "outputs": [
    {
     "name": "stdout",
     "output_type": "stream",
     "text": [
      "(30, 22564, 20)\n"
     ]
    }
   ],
   "source": [
    "for  parent, directories, files in os.walk(\"predictions/in_database/gen_test/\"):\n",
    "    for dire in directories:\n",
    "        if \"elstm_unfreeze_intens_dst\" in dire:\n",
    "            lpk = np.load(f\"{parent}/{dire}/l_pred_indices_per_k.npy\", allow_pickle=True)\n",
    "            \n",
    "            print(lpk.shape)"
   ]
  },
  {
   "cell_type": "code",
   "execution_count": null,
   "id": "7e3882d5-e0ce-4a77-ad71-b091a21b01b2",
   "metadata": {},
   "outputs": [],
   "source": []
  }
 ],
 "metadata": {
  "kernelspec": {
   "display_name": "Python 3",
   "language": "python",
   "name": "python3"
  },
  "language_info": {
   "codemirror_mode": {
    "name": "ipython",
    "version": 3
   },
   "file_extension": ".py",
   "mimetype": "text/x-python",
   "name": "python",
   "nbconvert_exporter": "python",
   "pygments_lexer": "ipython3",
   "version": "3.8.5"
  }
 },
 "nbformat": 4,
 "nbformat_minor": 5
}
