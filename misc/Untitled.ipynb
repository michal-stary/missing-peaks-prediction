{
 "cells": [
  {
   "cell_type": "code",
   "execution_count": 1,
   "metadata": {},
   "outputs": [
    {
     "name": "stdout",
     "output_type": "stream",
     "text": [
      "/mnt/storage-brno6/home/xstary1/raims\n"
     ]
    }
   ],
   "source": [
    "!pwd"
   ]
  },
  {
   "cell_type": "code",
   "execution_count": 2,
   "metadata": {},
   "outputs": [],
   "source": [
    "import numpy as np\n",
    "%load_ext autoreload\n",
    "%autoreload 2\n",
    "\n",
    "import sys; sys.path.append(\"..\")\n",
    "\n",
    "from utils.model_evaluation import model_selection, load_predictions\n",
    "from utils.visual_utils import plot_scores"
   ]
  },
  {
   "cell_type": "code",
   "execution_count": 4,
   "metadata": {},
   "outputs": [],
   "source": [
    "kind=\"de_novo\""
   ]
  },
  {
   "cell_type": "code",
   "execution_count": 5,
   "metadata": {},
   "outputs": [],
   "source": [
    "P_FOLDER = f\"predictions/{kind}\""
   ]
  },
  {
   "cell_type": "code",
   "execution_count": 49,
   "metadata": {},
   "outputs": [],
   "source": [
    "l_pred_indices_per_k, y_indices, X_intens = load_predictions(\"gpt2_embd300_auto\", \"hugg_val\", P_FOLDER)\n",
    "l_pred_indices_per_k_, y_indices_, X_intens_ = load_predictions(\"base_1\", \"spec_val\", P_FOLDER)"
   ]
  },
  {
   "cell_type": "code",
   "execution_count": 7,
   "metadata": {},
   "outputs": [
    {
     "data": {
      "text/plain": [
       "(array([147,  67, 138, 298, 299, 113, 204, 279, 209,  63]),\n",
       " array([31., 29., 30., 16., 17., 28., 15., 14., 33., 27.]))"
      ]
     },
     "execution_count": 7,
     "metadata": {},
     "output_type": "execute_result"
    }
   ],
   "source": [
    "y_indices[0], y_indices_[0]"
   ]
  },
  {
   "cell_type": "code",
   "execution_count": 8,
   "metadata": {},
   "outputs": [
    {
     "data": {
      "text/plain": [
       "(array([1.        , 0.47304304, 0.40104104, 0.31303303, 0.29203203,\n",
       "        0.26102102, 0.21402402, 0.08101101, 0.04900901, 0.008999  ,\n",
       "        0.003003  ]),\n",
       " array([1.        , 0.47304304, 0.40104104, 0.31303303, 0.29203203,\n",
       "        0.26102102, 0.21402402, 0.08101101, 0.04900901, 0.008999  ]))"
      ]
     },
     "execution_count": 8,
     "metadata": {},
     "output_type": "execute_result"
    }
   ],
   "source": [
    "X_intens[0], X_intens_[0]"
   ]
  },
  {
   "cell_type": "code",
   "execution_count": 30,
   "metadata": {},
   "outputs": [
    {
     "data": {
      "text/plain": [
       "array([-1., -1., -1., -1., -1., -1., -1., -1., -1., -1., -1., -1., -1.,\n",
       "       -1., -1., -1., -1., -1., -1., -1.])"
      ]
     },
     "execution_count": 30,
     "metadata": {},
     "output_type": "execute_result"
    }
   ],
   "source": [
    "l_pred_indices_per_k[10][0]"
   ]
  },
  {
   "cell_type": "code",
   "execution_count": 18,
   "metadata": {},
   "outputs": [
    {
     "data": {
      "text/plain": [
       "array([ 16., 297., 367., 366.,  23., 380.,  88.,  32.,   2.,  14.,  26.,\n",
       "        57.])"
      ]
     },
     "execution_count": 18,
     "metadata": {},
     "output_type": "execute_result"
    }
   ],
   "source": [
    "l_pred_indices_per_k[23][300][X_intens[300][23:] > X_intens[300][23]*.2]"
   ]
  },
  {
   "cell_type": "code",
   "execution_count": 28,
   "metadata": {},
   "outputs": [
    {
     "data": {
      "text/plain": [
       "array([297,  16,  23, 367, 366,  57,  88, 121, 380,  32,  14,   2])"
      ]
     },
     "execution_count": 28,
     "metadata": {},
     "output_type": "execute_result"
    }
   ],
   "source": [
    "y_indices[300][23:][:np.argmin(X_intens[300][23:] > X_intens[300][23]*.2)]"
   ]
  },
  {
   "cell_type": "code",
   "execution_count": 21,
   "metadata": {},
   "outputs": [
    {
     "data": {
      "text/plain": [
       "array([ True,  True,  True,  True,  True,  True,  True,  True,  True,\n",
       "        True,  True,  True, False, False, False, False, False, False,\n",
       "       False, False])"
      ]
     },
     "execution_count": 21,
     "metadata": {},
     "output_type": "execute_result"
    }
   ],
   "source": [
    "X_intens[300][23:] > X_intens[300][23]*.2"
   ]
  },
  {
   "cell_type": "code",
   "execution_count": 23,
   "metadata": {},
   "outputs": [
    {
     "data": {
      "text/plain": [
       "12"
      ]
     },
     "execution_count": 23,
     "metadata": {},
     "output_type": "execute_result"
    }
   ],
   "source": [
    "np.argmin(X_intens[300][23:] > X_intens[300][23]*.2) "
   ]
  },
  {
   "cell_type": "code",
   "execution_count": 18,
   "metadata": {},
   "outputs": [
    {
     "data": {
      "text/plain": [
       "0"
      ]
     },
     "execution_count": 18,
     "metadata": {},
     "output_type": "execute_result"
    }
   ],
   "source": [
    "k=0\n",
    "to_rel_inten=.6\n",
    "intens = np.array([1, .5, .3, .25, .20, .19, .15])\n",
    "j = min(np.argmax(intens < intens[k]*to_rel_inten) - k - 1, 20)\n",
    "if j ==-1:\n",
    "    j=len(intens) - k -1\n",
    "j"
   ]
  },
  {
   "cell_type": "code",
   "execution_count": 11,
   "metadata": {},
   "outputs": [
    {
     "data": {
      "text/plain": [
       "327860"
      ]
     },
     "execution_count": 11,
     "metadata": {},
     "output_type": "execute_result"
    }
   ],
   "source": [
    "(l_pred_indices_per_k == -1).sum()"
   ]
  },
  {
   "cell_type": "code",
   "execution_count": 28,
   "metadata": {},
   "outputs": [
    {
     "data": {
      "text/plain": [
       "array([ 44.,  29.,  58.,  12.,  14.,  86.,  40.,  60.,  30.,  88.,  18.,\n",
       "        16.,  62.,  57.,  26., 116.,  27., 114.,  70.,  17.])"
      ]
     },
     "execution_count": 28,
     "metadata": {},
     "output_type": "execute_result"
    }
   ],
   "source": [
    "l_pred_indices_per_k_[1][10]"
   ]
  },
  {
   "cell_type": "code",
   "execution_count": 41,
   "metadata": {},
   "outputs": [
    {
     "data": {
      "text/plain": [
       "(32, 32)"
      ]
     },
     "execution_count": 41,
     "metadata": {},
     "output_type": "execute_result"
    }
   ],
   "source": [
    "len(X_intens[433]), len(y_indices[433])"
   ]
  },
  {
   "cell_type": "code",
   "execution_count": 54,
   "metadata": {},
   "outputs": [
    {
     "name": "stdout",
     "output_type": "stream",
     "text": [
      "113 112\n",
      "28028\n"
     ]
    }
   ],
   "source": [
    "for i, (inte, y) in enumerate(zip(X_intens,y_indices)):\n",
    "    \n",
    "    if len(inte) != len(y):\n",
    "        print(len(inte), len(y))\n",
    "        print(i)"
   ]
  },
  {
   "cell_type": "code",
   "execution_count": 52,
   "metadata": {},
   "outputs": [],
   "source": [
    "for i, (inte, idd) in enumerate(zip(X_intens,X_intens_)):\n",
    "    \n",
    "    if len(inte) != len(idd):\n",
    "        print(len(inte), len(idd))\n",
    "        print(i)"
   ]
  },
  {
   "cell_type": "code",
   "execution_count": null,
   "metadata": {},
   "outputs": [],
   "source": [
    "for i, (y, idd) in enumerate(zip(y_indices,X_intens_)):\n"
   ]
  },
  {
   "cell_type": "code",
   "execution_count": null,
   "metadata": {},
   "outputs": [],
   "source": [
    "class PredictionsTester():\n",
    "    def __init__(self, P_FOLDER, d_name):\n",
    "        self.P_FOLDER = P_FOLDER\n",
    "        self.d_name = d_name\n",
    "        \n",
    "    def test(self):\n",
    "        for (dirpath, dirnames, filenames) in os.walk(f\"{self.P_FOLDER}/{self.d_name}/\"):\n",
    "            # if kw is not None:\n",
    "            #     selected = [dirname for dirname in dirnames if kw in dirname]\n",
    "            # if predictors is not None:\n",
    "            #     selected = set(dirnames).intersection(set(predictors.keys()))\n",
    "            for p_name in dirnames:\n",
    "                print(p_name)\n",
    "                l_pred_indices_per_k, y_indices, X_intens = load_predictions(p_name, d_name, P_FOLDER)\n",
    "\n",
    "        def test_len(self, y_indices, X_intens):\n",
    "            return all(map(lambda x,y: len(x)==len(y) zip(y_indices, X_intens)))\n",
    "        \n",
    "class MetricsTester():\n",
    "    def __init__(self, )"
   ]
  },
  {
   "cell_type": "code",
   "execution_count": 48,
   "metadata": {},
   "outputs": [
    {
     "data": {
      "text/plain": [
       "28034"
      ]
     },
     "execution_count": 48,
     "metadata": {},
     "output_type": "execute_result"
    }
   ],
   "source": [
    "len(y_indices)"
   ]
  },
  {
   "cell_type": "code",
   "execution_count": null,
   "metadata": {},
   "outputs": [],
   "source": []
  }
 ],
 "metadata": {
  "kernelspec": {
   "display_name": "Python 3",
   "language": "python",
   "name": "python3"
  },
  "language_info": {
   "codemirror_mode": {
    "name": "ipython",
    "version": 3
   },
   "file_extension": ".py",
   "mimetype": "text/x-python",
   "name": "python",
   "nbconvert_exporter": "python",
   "pygments_lexer": "ipython3",
   "version": "3.8.10"
  }
 },
 "nbformat": 4,
 "nbformat_minor": 5
}
