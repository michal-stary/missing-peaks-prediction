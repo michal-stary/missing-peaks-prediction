{
 "cells": [
  {
   "cell_type": "markdown",
   "metadata": {},
   "source": [
    "# Align measured with annotated spectra"
   ]
  },
  {
   "cell_type": "code",
   "execution_count": 1,
   "metadata": {},
   "outputs": [],
   "source": [
    "\n",
    "%load_ext autoreload\n",
    "%autoreload 2"
   ]
  },
  {
   "cell_type": "code",
   "execution_count": 2,
   "metadata": {},
   "outputs": [
    {
     "name": "stdout",
     "output_type": "stream",
     "text": [
      "\u001b[33mWARNING: The directory '/home/jovyan/.cache/pip' or its parent directory is not owned or is not writable by the current user. The cache has been disabled. Check the permissions and owner of that directory. If executing pip with sudo, you should use sudo's -H flag.\u001b[0m\u001b[33m\n",
      "\u001b[0mRequirement already satisfied: dtw-python in /opt/conda/lib/python3.7/site-packages (1.3.0)\n",
      "Requirement already satisfied: scipy>=1.1 in /opt/conda/lib/python3.7/site-packages (from dtw-python) (1.3.1)\n",
      "Requirement already satisfied: numpy>=1.19 in /opt/conda/lib/python3.7/site-packages (from dtw-python) (1.21.6)\n",
      "\u001b[33mWARNING: Running pip as the 'root' user can result in broken permissions and conflicting behaviour with the system package manager. It is recommended to use a virtual environment instead: https://pip.pypa.io/warnings/venv\u001b[0m\u001b[33m\n",
      "\u001b[0m"
     ]
    }
   ],
   "source": [
    "!pip install dtw-python"
   ]
  },
  {
   "cell_type": "code",
   "execution_count": 3,
   "metadata": {},
   "outputs": [
    {
     "name": "stderr",
     "output_type": "stream",
     "text": [
      "/opt/conda/lib/python3.7/site-packages/pandas/compat/_optional.py:138: UserWarning: Pandas requires version '2.7.0' or newer of 'numexpr' (version '2.6.9' currently installed).\n",
      "  warnings.warn(msg, UserWarning)\n"
     ]
    }
   ],
   "source": [
    "import sys\n",
    "sys.path.append(\"..\")\n",
    "\n",
    "import pandas as pd\n",
    "import matchms\n",
    "from matchms.importing import load_from_msp\n",
    "from data_utils import spectrum_processing\n",
    "from pipeline_utils import get_galaxy_filename\n",
    "\n",
    "def get_spectra(path):\n",
    "    spectrums = [spectrum_processing(s, min_rel_int=None, n_required_peaks=1) for s in load_from_msp(path, metadata_harmonization=False)]\n",
    "    # Omit spectrums that didn't qualify for analysis\n",
    "    spectrums = [s for s in spectrums if s is not None]\n",
    "    return spectrums"
   ]
  },
  {
   "cell_type": "code",
   "execution_count": 7,
   "metadata": {},
   "outputs": [],
   "source": [
    "model = \"GPT2\"\n",
    "\n",
    "ground = pd.read_csv(\"tmp/6_KC_Confirmed_seminalplasma.csv.csv\")\n",
    "library = get_spectra(\"tmp/5_rcx_gc-orbitrap_metabolites_20210817.msp.msp\")\n",
    "measured = get_spectra(get_galaxy_filename(f\"_{model}\", \"tmp\"))\n",
    "matches = pd.read_csv(get_galaxy_filename(f\"- {model}\", \"tmp\"), sep=\"\\t\")"
   ]
  },
  {
   "cell_type": "code",
   "execution_count": 15,
   "metadata": {},
   "outputs": [],
   "source": [
    "ground[\"RT\"] = ground[\"Average Rt(min)\"]*60\n",
    "ground = ground.sort_values(by=['RT'], ascending=True) "
   ]
  },
  {
   "cell_type": "code",
   "execution_count": 16,
   "metadata": {},
   "outputs": [
    {
     "data": {
      "text/html": [
       "<div>\n",
       "<style scoped>\n",
       "    .dataframe tbody tr th:only-of-type {\n",
       "        vertical-align: middle;\n",
       "    }\n",
       "\n",
       "    .dataframe tbody tr th {\n",
       "        vertical-align: top;\n",
       "    }\n",
       "\n",
       "    .dataframe thead th {\n",
       "        text-align: right;\n",
       "    }\n",
       "</style>\n",
       "<table border=\"1\" class=\"dataframe\">\n",
       "  <thead>\n",
       "    <tr style=\"text-align: right;\">\n",
       "      <th></th>\n",
       "      <th>Average Rt(min)</th>\n",
       "      <th>Average RI</th>\n",
       "      <th>Metabolite name</th>\n",
       "      <th>RT</th>\n",
       "    </tr>\n",
       "  </thead>\n",
       "  <tbody>\n",
       "    <tr>\n",
       "      <th>0</th>\n",
       "      <td>2.484</td>\n",
       "      <td>1224.68</td>\n",
       "      <td>2-Methylmalonic acid_2TMS</td>\n",
       "      <td>149.04</td>\n",
       "    </tr>\n",
       "    <tr>\n",
       "      <th>33</th>\n",
       "      <td>2.615</td>\n",
       "      <td>1266.17</td>\n",
       "      <td>Leucine_2TMS</td>\n",
       "      <td>156.90</td>\n",
       "    </tr>\n",
       "    <tr>\n",
       "      <th>31</th>\n",
       "      <td>2.691</td>\n",
       "      <td>1288.34</td>\n",
       "      <td>Isoleucine_2TMS</td>\n",
       "      <td>161.46</td>\n",
       "    </tr>\n",
       "    <tr>\n",
       "      <th>47</th>\n",
       "      <td>2.718</td>\n",
       "      <td>1296.42</td>\n",
       "      <td>Proline_2TMS</td>\n",
       "      <td>163.08</td>\n",
       "    </tr>\n",
       "    <tr>\n",
       "      <th>26</th>\n",
       "      <td>2.744</td>\n",
       "      <td>1303.46</td>\n",
       "      <td>Glycine_3TMS</td>\n",
       "      <td>164.64</td>\n",
       "    </tr>\n",
       "    <tr>\n",
       "      <th>...</th>\n",
       "      <td>...</td>\n",
       "      <td>...</td>\n",
       "      <td>...</td>\n",
       "      <td>...</td>\n",
       "    </tr>\n",
       "    <tr>\n",
       "      <th>57</th>\n",
       "      <td>5.793</td>\n",
       "      <td>2234.36</td>\n",
       "      <td>Stearic acid_1TMS</td>\n",
       "      <td>347.58</td>\n",
       "    </tr>\n",
       "    <tr>\n",
       "      <th>55</th>\n",
       "      <td>5.832</td>\n",
       "      <td>2247.44</td>\n",
       "      <td>Spermidine_5TMS</td>\n",
       "      <td>349.92</td>\n",
       "    </tr>\n",
       "    <tr>\n",
       "      <th>56</th>\n",
       "      <td>7.086</td>\n",
       "      <td>2740.02</td>\n",
       "      <td>Spermine_6TMS</td>\n",
       "      <td>425.16</td>\n",
       "    </tr>\n",
       "    <tr>\n",
       "      <th>37</th>\n",
       "      <td>8.709</td>\n",
       "      <td>3529.40</td>\n",
       "      <td>Maltotriose_11TMS isomer 1</td>\n",
       "      <td>522.54</td>\n",
       "    </tr>\n",
       "    <tr>\n",
       "      <th>38</th>\n",
       "      <td>8.851</td>\n",
       "      <td>3576.89</td>\n",
       "      <td>Maltotriose_11TMS isomer 2</td>\n",
       "      <td>531.06</td>\n",
       "    </tr>\n",
       "  </tbody>\n",
       "</table>\n",
       "<p>65 rows × 4 columns</p>\n",
       "</div>"
      ],
      "text/plain": [
       "    Average Rt(min)  Average RI             Metabolite name      RT\n",
       "0             2.484     1224.68   2-Methylmalonic acid_2TMS  149.04\n",
       "33            2.615     1266.17                Leucine_2TMS  156.90\n",
       "31            2.691     1288.34             Isoleucine_2TMS  161.46\n",
       "47            2.718     1296.42                Proline_2TMS  163.08\n",
       "26            2.744     1303.46                Glycine_3TMS  164.64\n",
       "..              ...         ...                         ...     ...\n",
       "57            5.793     2234.36           Stearic acid_1TMS  347.58\n",
       "55            5.832     2247.44             Spermidine_5TMS  349.92\n",
       "56            7.086     2740.02               Spermine_6TMS  425.16\n",
       "37            8.709     3529.40  Maltotriose_11TMS isomer 1  522.54\n",
       "38            8.851     3576.89  Maltotriose_11TMS isomer 2  531.06\n",
       "\n",
       "[65 rows x 4 columns]"
      ]
     },
     "execution_count": 16,
     "metadata": {},
     "output_type": "execute_result"
    }
   ],
   "source": [
    "# select library spectra present in ground\n",
    "ground\n",
    "\n",
    "# add RT column to the selected library spectra\n",
    "\n",
    "# sort selected library spectra by RT"
   ]
  },
  {
   "cell_type": "code",
   "execution_count": 7,
   "metadata": {},
   "outputs": [
    {
     "data": {
      "text/html": [
       "<div>\n",
       "<style scoped>\n",
       "    .dataframe tbody tr th:only-of-type {\n",
       "        vertical-align: middle;\n",
       "    }\n",
       "\n",
       "    .dataframe tbody tr th {\n",
       "        vertical-align: top;\n",
       "    }\n",
       "\n",
       "    .dataframe thead th {\n",
       "        text-align: right;\n",
       "    }\n",
       "</style>\n",
       "<table border=\"1\" class=\"dataframe\">\n",
       "  <thead>\n",
       "    <tr style=\"text-align: right;\">\n",
       "      <th></th>\n",
       "      <th>Average Rt(min)</th>\n",
       "      <th>Average RI</th>\n",
       "      <th>Metabolite name</th>\n",
       "    </tr>\n",
       "  </thead>\n",
       "  <tbody>\n",
       "    <tr>\n",
       "      <th>0</th>\n",
       "      <td>2.484</td>\n",
       "      <td>1224.68</td>\n",
       "      <td>2-Methylmalonic acid_2TMS</td>\n",
       "    </tr>\n",
       "    <tr>\n",
       "      <th>1</th>\n",
       "      <td>5.333</td>\n",
       "      <td>2071.84</td>\n",
       "      <td>Acetylgalactosamine_4TMS</td>\n",
       "    </tr>\n",
       "    <tr>\n",
       "      <th>2</th>\n",
       "      <td>5.318</td>\n",
       "      <td>2065.37</td>\n",
       "      <td>Acetylgalactosamine_5TMS isomer 1</td>\n",
       "    </tr>\n",
       "    <tr>\n",
       "      <th>3</th>\n",
       "      <td>5.386</td>\n",
       "      <td>2088.77</td>\n",
       "      <td>Acetylgalactosamine_5TMS isomer 2</td>\n",
       "    </tr>\n",
       "    <tr>\n",
       "      <th>4</th>\n",
       "      <td>5.328</td>\n",
       "      <td>2070.17</td>\n",
       "      <td>Acetylglucosamine_5TMS isomer 1</td>\n",
       "    </tr>\n",
       "    <tr>\n",
       "      <th>...</th>\n",
       "      <td>...</td>\n",
       "      <td>...</td>\n",
       "      <td>...</td>\n",
       "    </tr>\n",
       "    <tr>\n",
       "      <th>60</th>\n",
       "      <td>2.993</td>\n",
       "      <td>1377.14</td>\n",
       "      <td>Threonine_3TMS spectra 1</td>\n",
       "    </tr>\n",
       "    <tr>\n",
       "      <th>61</th>\n",
       "      <td>2.996</td>\n",
       "      <td>1378.30</td>\n",
       "      <td>Threonine_3TMS spectra 2</td>\n",
       "    </tr>\n",
       "    <tr>\n",
       "      <th>62</th>\n",
       "      <td>4.218</td>\n",
       "      <td>1732.44</td>\n",
       "      <td>trans-Aconitic acid_3TMS</td>\n",
       "    </tr>\n",
       "    <tr>\n",
       "      <th>63</th>\n",
       "      <td>5.717</td>\n",
       "      <td>2208.86</td>\n",
       "      <td>Tryptophan_3TMS</td>\n",
       "    </tr>\n",
       "    <tr>\n",
       "      <th>64</th>\n",
       "      <td>4.903</td>\n",
       "      <td>1932.06</td>\n",
       "      <td>Tyrosine_3TMS</td>\n",
       "    </tr>\n",
       "  </tbody>\n",
       "</table>\n",
       "<p>65 rows × 3 columns</p>\n",
       "</div>"
      ],
      "text/plain": [
       "    Average Rt(min)  Average RI                    Metabolite name\n",
       "0             2.484     1224.68          2-Methylmalonic acid_2TMS\n",
       "1             5.333     2071.84           Acetylgalactosamine_4TMS\n",
       "2             5.318     2065.37  Acetylgalactosamine_5TMS isomer 1\n",
       "3             5.386     2088.77  Acetylgalactosamine_5TMS isomer 2\n",
       "4             5.328     2070.17    Acetylglucosamine_5TMS isomer 1\n",
       "..              ...         ...                                ...\n",
       "60            2.993     1377.14           Threonine_3TMS spectra 1\n",
       "61            2.996     1378.30           Threonine_3TMS spectra 2\n",
       "62            4.218     1732.44           trans-Aconitic acid_3TMS\n",
       "63            5.717     2208.86                    Tryptophan_3TMS\n",
       "64            4.903     1932.06                      Tyrosine_3TMS\n",
       "\n",
       "[65 rows x 3 columns]"
      ]
     },
     "execution_count": 7,
     "metadata": {},
     "output_type": "execute_result"
    }
   ],
   "source": [
    "ground"
   ]
  },
  {
   "cell_type": "code",
   "execution_count": null,
   "metadata": {},
   "outputs": [],
   "source": []
  },
  {
   "cell_type": "code",
   "execution_count": 3,
   "metadata": {},
   "outputs": [
    {
     "name": "stdout",
     "output_type": "stream",
     "text": [
      "Importing the dtw module. When using in academic works please cite:\n",
      "  T. Giorgino. Computing and Visualizing Dynamic Time Warping Alignments in R: The dtw Package.\n",
      "  J. Stat. Soft., doi:10.18637/jss.v031.i07.\n",
      "\n"
     ]
    },
    {
     "ename": "NameError",
     "evalue": "name 'query' is not defined",
     "output_type": "error",
     "traceback": [
      "\u001b[0;31m---------------------------------------------------------------------------\u001b[0m",
      "\u001b[0;31mNameError\u001b[0m                                 Traceback (most recent call last)",
      "\u001b[0;32m<ipython-input-3-0ec6518d80bb>\u001b[0m in \u001b[0;36m<module>\u001b[0;34m\u001b[0m\n\u001b[1;32m      1\u001b[0m \u001b[0;32mfrom\u001b[0m \u001b[0mdtw\u001b[0m \u001b[0;32mimport\u001b[0m \u001b[0;34m*\u001b[0m\u001b[0;34m\u001b[0m\u001b[0;34m\u001b[0m\u001b[0m\n\u001b[0;32m----> 2\u001b[0;31m \u001b[0malignment\u001b[0m \u001b[0;34m=\u001b[0m \u001b[0mdtw\u001b[0m\u001b[0;34m(\u001b[0m\u001b[0mquery\u001b[0m\u001b[0;34m,\u001b[0m \u001b[0mtemplate\u001b[0m\u001b[0;34m,\u001b[0m \u001b[0mkeep_internals\u001b[0m\u001b[0;34m=\u001b[0m\u001b[0;32mTrue\u001b[0m\u001b[0;34m)\u001b[0m\u001b[0;34m\u001b[0m\u001b[0;34m\u001b[0m\u001b[0m\n\u001b[0m",
      "\u001b[0;31mNameError\u001b[0m: name 'query' is not defined"
     ]
    }
   ],
   "source": [
    "from dtw import *\n",
    "alignment = dtw(query, template, keep_internals=True)"
   ]
  },
  {
   "cell_type": "code",
   "execution_count": null,
   "metadata": {},
   "outputs": [],
   "source": []
  }
 ],
 "metadata": {
  "kernelspec": {
   "display_name": "Python 3",
   "language": "python",
   "name": "python3"
  },
  "language_info": {
   "codemirror_mode": {
    "name": "ipython",
    "version": 3
   },
   "file_extension": ".py",
   "mimetype": "text/x-python",
   "name": "python",
   "nbconvert_exporter": "python",
   "pygments_lexer": "ipython3",
   "version": "3.7.3"
  }
 },
 "nbformat": 4,
 "nbformat_minor": 4
}
