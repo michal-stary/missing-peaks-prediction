{
 "cells": [
  {
   "cell_type": "code",
   "execution_count": 1,
   "metadata": {},
   "outputs": [],
   "source": [
    "# Compare two matchms tables"
   ]
  },
  {
   "cell_type": "code",
   "execution_count": 2,
   "metadata": {},
   "outputs": [
    {
     "name": "stderr",
     "output_type": "stream",
     "text": [
      "/opt/conda/lib/python3.7/site-packages/pandas/compat/_optional.py:138: UserWarning: Pandas requires version '2.7.0' or newer of 'numexpr' (version '2.6.9' currently installed).\n",
      "  warnings.warn(msg, UserWarning)\n"
     ]
    }
   ],
   "source": [
    "from pipeline_utils import get_galaxy_filename\n",
    "import numpy as np\n",
    "import pandas as pd\n",
    "from matplotlib_venn import venn2 as venn2_\n",
    "import matplotlib.pyplot as plt\n",
    "\n",
    "\n",
    "def venn2(*args,):\n",
    "    v = venn2_(*args, set_labels = ('Predicted', 'Ground'))\n",
    "    v.get_patch_by_id('100').set_color('red')\n",
    "    v.get_patch_by_id('010').set_color('orange')\n",
    "    v.get_patch_by_id('110').set_color('green')"
   ]
  },
  {
   "cell_type": "code",
   "execution_count": 4,
   "metadata": {},
   "outputs": [
    {
     "ename": "FileNotFoundError",
     "evalue": "[Errno 2] No such file or directory: '../data'",
     "output_type": "error",
     "traceback": [
      "\u001b[0;31m---------------------------------------------------------------------------\u001b[0m",
      "\u001b[0;31mFileNotFoundError\u001b[0m                         Traceback (most recent call last)",
      "\u001b[0;32m<ipython-input-4-8c113eb93331>\u001b[0m in \u001b[0;36m<module>\u001b[0;34m\u001b[0m\n\u001b[0;32m----> 1\u001b[0;31m \u001b[0mfres1\u001b[0m \u001b[0;34m=\u001b[0m \u001b[0mget_galaxy_filename\u001b[0m\u001b[0;34m(\u001b[0m\u001b[0;34m'3_matchms output formatter _get-thresholded-data_ on data 129'\u001b[0m\u001b[0;34m,\u001b[0m \u001b[0;34m'../data'\u001b[0m\u001b[0;34m,\u001b[0m \u001b[0;32mNone\u001b[0m\u001b[0;34m)\u001b[0m\u001b[0;34m\u001b[0m\u001b[0;34m\u001b[0m\u001b[0m\n\u001b[0m\u001b[1;32m      2\u001b[0m \u001b[0mfres2\u001b[0m \u001b[0;34m=\u001b[0m \u001b[0mget_galaxy_filename\u001b[0m\u001b[0;34m(\u001b[0m\u001b[0;34m'4_matchms output formatter _get-thresholded-data_ on data 148'\u001b[0m\u001b[0;34m,\u001b[0m \u001b[0;34m'../data'\u001b[0m\u001b[0;34m,\u001b[0m \u001b[0;32mNone\u001b[0m\u001b[0;34m)\u001b[0m\u001b[0;34m\u001b[0m\u001b[0;34m\u001b[0m\u001b[0m\n\u001b[1;32m      3\u001b[0m \u001b[0;34m\u001b[0m\u001b[0m\n\u001b[1;32m      4\u001b[0m \u001b[0mfref\u001b[0m \u001b[0;34m=\u001b[0m \u001b[0mget_galaxy_filename\u001b[0m\u001b[0;34m(\u001b[0m\u001b[0;34m'KC_Confirmed'\u001b[0m\u001b[0;34m,\u001b[0m \u001b[0;34m'../data'\u001b[0m\u001b[0;34m,\u001b[0m \u001b[0;32mNone\u001b[0m\u001b[0;34m)\u001b[0m\u001b[0;34m\u001b[0m\u001b[0;34m\u001b[0m\u001b[0m\n\u001b[1;32m      5\u001b[0m \u001b[0;34m\u001b[0m\u001b[0m\n",
      "\u001b[0;32m/mnt/volume/shared/ces-nya/nfs4/home/umsa/job_working_directory_object/034/34768/working/jupyter/raims/real_pipeline_test/pipeline_utils.py\u001b[0m in \u001b[0;36mget_galaxy_filename\u001b[0;34m(name, directory, prohibited)\u001b[0m\n\u001b[1;32m      2\u001b[0m \u001b[0;34m\u001b[0m\u001b[0m\n\u001b[1;32m      3\u001b[0m \u001b[0;32mdef\u001b[0m \u001b[0mget_galaxy_filename\u001b[0m\u001b[0;34m(\u001b[0m\u001b[0mname\u001b[0m\u001b[0;34m,\u001b[0m \u001b[0mdirectory\u001b[0m\u001b[0;34m,\u001b[0m \u001b[0mprohibited\u001b[0m\u001b[0;34m=\u001b[0m\u001b[0;32mNone\u001b[0m\u001b[0;34m)\u001b[0m\u001b[0;34m:\u001b[0m\u001b[0;34m\u001b[0m\u001b[0;34m\u001b[0m\u001b[0m\n\u001b[0;32m----> 4\u001b[0;31m     \u001b[0;32mfor\u001b[0m \u001b[0mfilename\u001b[0m \u001b[0;32min\u001b[0m \u001b[0mos\u001b[0m\u001b[0;34m.\u001b[0m\u001b[0mlistdir\u001b[0m\u001b[0;34m(\u001b[0m\u001b[0mdirectory\u001b[0m\u001b[0;34m)\u001b[0m\u001b[0;34m:\u001b[0m\u001b[0;34m\u001b[0m\u001b[0;34m\u001b[0m\u001b[0m\n\u001b[0m\u001b[1;32m      5\u001b[0m         \u001b[0;32mif\u001b[0m \u001b[0mname\u001b[0m \u001b[0;32min\u001b[0m \u001b[0mfilename\u001b[0m \u001b[0;32mand\u001b[0m \u001b[0;34m(\u001b[0m\u001b[0mprohibited\u001b[0m \u001b[0;32mis\u001b[0m \u001b[0;32mNone\u001b[0m \u001b[0;32mor\u001b[0m \u001b[0mall\u001b[0m\u001b[0;34m(\u001b[0m\u001b[0;34m[\u001b[0m\u001b[0mx\u001b[0m \u001b[0;32mnot\u001b[0m \u001b[0;32min\u001b[0m \u001b[0mfilename\u001b[0m \u001b[0;32mfor\u001b[0m \u001b[0mx\u001b[0m \u001b[0;32min\u001b[0m \u001b[0mprohibited\u001b[0m\u001b[0;34m]\u001b[0m\u001b[0;34m)\u001b[0m\u001b[0;34m)\u001b[0m\u001b[0;34m:\u001b[0m\u001b[0;34m\u001b[0m\u001b[0;34m\u001b[0m\u001b[0m\n\u001b[1;32m      6\u001b[0m             \u001b[0;32mreturn\u001b[0m \u001b[0mdirectory\u001b[0m \u001b[0;34m+\u001b[0m \u001b[0;34m\"/\"\u001b[0m \u001b[0;34m+\u001b[0m \u001b[0mfilename\u001b[0m\u001b[0;34m\u001b[0m\u001b[0;34m\u001b[0m\u001b[0m\n",
      "\u001b[0;31mFileNotFoundError\u001b[0m: [Errno 2] No such file or directory: '../data'"
     ]
    }
   ],
   "source": [
    "fres1 = get_galaxy_filename('3_matchms output formatter _get-thresholded-data_ on data 129', '../data', None)\n",
    "fres2 = get_galaxy_filename('4_matchms output formatter _get-thresholded-data_ on data 148', '../data', None)\n",
    "\n",
    "fref = \"tmp/6_KC_Confirmed_seminalplasma.csv.csv\"\n",
    "\n",
    "\n",
    "\n",
    "# reference_lib = \"../data/1_rcx_gc-orbitrap_metabolites_20210817.msp.msp\"\n",
    "# concs = [\"all\"]\n",
    "# # if the predictions were generated in this galaxy session set to True\n",
    "# is_fresh = False\n",
    "# suffix = \"\" if is_fresh else \".txt\"\n",
    "\n",
    "\n",
    "%load_ext autoreload\n",
    "%autoreload 2"
   ]
  },
  {
   "cell_type": "code",
   "execution_count": 5,
   "metadata": {},
   "outputs": [
    {
     "data": {
      "text/plain": [
       "'../data/3_matchms output formatter _get-thresholded-data_ on data 129 and data 128.tsv'"
      ]
     },
     "execution_count": 5,
     "metadata": {},
     "output_type": "execute_result"
    }
   ],
   "source": [
    "fres1"
   ]
  },
  {
   "cell_type": "code",
   "execution_count": 6,
   "metadata": {},
   "outputs": [],
   "source": [
    "ref = pd.read_csv(fref)\n",
    "res1 = pd.read_csv(fres1, sep=\"\\t\", index_col=0)\n",
    "res2 = pd.read_csv(fres2, sep=\"\\t\", index_col=0)"
   ]
  },
  {
   "cell_type": "code",
   "execution_count": 119,
   "metadata": {},
   "outputs": [
    {
     "data": {
      "text/plain": [
       "41"
      ]
     },
     "execution_count": 119,
     "metadata": {},
     "output_type": "execute_result"
    }
   ],
   "source": [
    "len(res1.groupby(\"query\").mean())"
   ]
  },
  {
   "cell_type": "code",
   "execution_count": 120,
   "metadata": {},
   "outputs": [
    {
     "data": {
      "text/plain": [
       "(143, 147)"
      ]
     },
     "execution_count": 120,
     "metadata": {},
     "output_type": "execute_result"
    }
   ],
   "source": [
    "len(res1), len(res2)"
   ]
  },
  {
   "cell_type": "code",
   "execution_count": 121,
   "metadata": {},
   "outputs": [],
   "source": [
    "ground = set(ref[\"Metabolite name\"])\n",
    "# orig = set(res1.reference) \n",
    "# new = set(res2.reference) "
   ]
  },
  {
   "cell_type": "raw",
   "metadata": {},
   "source": [
    "ground"
   ]
  },
  {
   "cell_type": "code",
   "execution_count": 166,
   "metadata": {},
   "outputs": [],
   "source": [
    "th_m = 1\n",
    "th_s = 0.4\n",
    "top_considered = 1"
   ]
  },
  {
   "cell_type": "code",
   "execution_count": 173,
   "metadata": {},
   "outputs": [],
   "source": [
    "# only set \n",
    "orig = res1[((res1.matches > th_m) & (res1.score > th_s))].reference\n",
    "\n",
    "\n",
    "# the top compound according to prespecified \"best\" criterion\n",
    "\n",
    "# add helper collumn - the best criterion in the score as in rcx galaxy formatter\n",
    "res1[\"total\"] = res1[\"score\"]\n",
    "res2[\"total\"] = res2[\"score\"]#\n",
    "\n",
    "x  = res1[((res1.matches > th_m) & (res1.score > th_s))]\n",
    "x = x.reset_index()\n",
    "\n",
    "x = x.loc[x.groupby('query')['total'].idxmax(), ['query', 'reference', 'total']]\n",
    "orig = x.reference\n",
    "\n",
    "\n",
    "\n",
    "\n",
    "\n",
    "# different perspective - how much of recovered spectra were sucesfully matched?\n",
    "# i sucessful mathcing is if the correct compound is matched in top 3(5) compounds sorted by score now\n",
    "# the linking of detected spectra to annotations is via RT\n",
    "\n",
    "\n"
   ]
  },
  {
   "cell_type": "code",
   "execution_count": null,
   "metadata": {},
   "outputs": [],
   "source": [
    "    "
   ]
  },
  {
   "cell_type": "code",
   "execution_count": 184,
   "metadata": {},
   "outputs": [
    {
     "data": {
      "text/html": [
       "<div>\n",
       "<style scoped>\n",
       "    .dataframe tbody tr th:only-of-type {\n",
       "        vertical-align: middle;\n",
       "    }\n",
       "\n",
       "    .dataframe tbody tr th {\n",
       "        vertical-align: top;\n",
       "    }\n",
       "\n",
       "    .dataframe thead th {\n",
       "        text-align: right;\n",
       "    }\n",
       "</style>\n",
       "<table border=\"1\" class=\"dataframe\">\n",
       "  <thead>\n",
       "    <tr style=\"text-align: right;\">\n",
       "      <th></th>\n",
       "      <th>query</th>\n",
       "      <th>reference</th>\n",
       "      <th>total</th>\n",
       "    </tr>\n",
       "  </thead>\n",
       "  <tbody>\n",
       "    <tr>\n",
       "      <th>0</th>\n",
       "      <td>C02</td>\n",
       "      <td>Lysine_4TMS</td>\n",
       "      <td>0.922810</td>\n",
       "    </tr>\n",
       "    <tr>\n",
       "      <th>2</th>\n",
       "      <td>C06</td>\n",
       "      <td>Fructose_5TMS isomer 2</td>\n",
       "      <td>0.876681</td>\n",
       "    </tr>\n",
       "    <tr>\n",
       "      <th>5</th>\n",
       "      <td>C08</td>\n",
       "      <td>Citric acid_4TMS</td>\n",
       "      <td>0.874922</td>\n",
       "    </tr>\n",
       "    <tr>\n",
       "      <th>7</th>\n",
       "      <td>C10</td>\n",
       "      <td>Myo-inositol_6TMS</td>\n",
       "      <td>0.915567</td>\n",
       "    </tr>\n",
       "    <tr>\n",
       "      <th>8</th>\n",
       "      <td>C16</td>\n",
       "      <td>Uridine_4TMS isomer 1</td>\n",
       "      <td>0.602506</td>\n",
       "    </tr>\n",
       "    <tr>\n",
       "      <th>9</th>\n",
       "      <td>C17</td>\n",
       "      <td>Serine_3TMS</td>\n",
       "      <td>0.825573</td>\n",
       "    </tr>\n",
       "    <tr>\n",
       "      <th>10</th>\n",
       "      <td>C19</td>\n",
       "      <td>Aspartic acid_3TMS isomer</td>\n",
       "      <td>0.909835</td>\n",
       "    </tr>\n",
       "    <tr>\n",
       "      <th>14</th>\n",
       "      <td>C26</td>\n",
       "      <td>Threonine_3TMS spectra 1</td>\n",
       "      <td>0.796540</td>\n",
       "    </tr>\n",
       "    <tr>\n",
       "      <th>16</th>\n",
       "      <td>C30</td>\n",
       "      <td>Asparagine_3TMS</td>\n",
       "      <td>0.420921</td>\n",
       "    </tr>\n",
       "    <tr>\n",
       "      <th>17</th>\n",
       "      <td>C39</td>\n",
       "      <td>Histidine_3TMS</td>\n",
       "      <td>0.839636</td>\n",
       "    </tr>\n",
       "    <tr>\n",
       "      <th>18</th>\n",
       "      <td>C40</td>\n",
       "      <td>Stearic acid_1TMS</td>\n",
       "      <td>0.417295</td>\n",
       "    </tr>\n",
       "    <tr>\n",
       "      <th>20</th>\n",
       "      <td>C43</td>\n",
       "      <td>Acetylgalactosamine_5TMS isomer 1</td>\n",
       "      <td>0.453993</td>\n",
       "    </tr>\n",
       "    <tr>\n",
       "      <th>21</th>\n",
       "      <td>C47</td>\n",
       "      <td>Valine_2TMS</td>\n",
       "      <td>0.884027</td>\n",
       "    </tr>\n",
       "    <tr>\n",
       "      <th>22</th>\n",
       "      <td>C48</td>\n",
       "      <td>Urea_2TMS</td>\n",
       "      <td>0.566104</td>\n",
       "    </tr>\n",
       "    <tr>\n",
       "      <th>23</th>\n",
       "      <td>C63</td>\n",
       "      <td>Phenylalanine_2TMS</td>\n",
       "      <td>0.491230</td>\n",
       "    </tr>\n",
       "    <tr>\n",
       "      <th>24</th>\n",
       "      <td>C68</td>\n",
       "      <td>Palmitic acid_1TMS</td>\n",
       "      <td>0.471064</td>\n",
       "    </tr>\n",
       "  </tbody>\n",
       "</table>\n",
       "</div>"
      ],
      "text/plain": [
       "   query                          reference     total\n",
       "0    C02                        Lysine_4TMS  0.922810\n",
       "2    C06             Fructose_5TMS isomer 2  0.876681\n",
       "5    C08                   Citric acid_4TMS  0.874922\n",
       "7    C10                  Myo-inositol_6TMS  0.915567\n",
       "8    C16              Uridine_4TMS isomer 1  0.602506\n",
       "9    C17                        Serine_3TMS  0.825573\n",
       "10   C19          Aspartic acid_3TMS isomer  0.909835\n",
       "14   C26           Threonine_3TMS spectra 1  0.796540\n",
       "16   C30                    Asparagine_3TMS  0.420921\n",
       "17   C39                     Histidine_3TMS  0.839636\n",
       "18   C40                  Stearic acid_1TMS  0.417295\n",
       "20   C43  Acetylgalactosamine_5TMS isomer 1  0.453993\n",
       "21   C47                        Valine_2TMS  0.884027\n",
       "22   C48                          Urea_2TMS  0.566104\n",
       "23   C63                 Phenylalanine_2TMS  0.491230\n",
       "24   C68                 Palmitic acid_1TMS  0.471064"
      ]
     },
     "execution_count": 184,
     "metadata": {},
     "output_type": "execute_result"
    },
    {
     "data": {
      "image/png": "[encoded data removed]",
      "text/plain": [
       "<Figure size 432x288 with 1 Axes>"
      ]
     },
     "metadata": {},
     "output_type": "display_data"
    }
   ],
   "source": [
    "orig = res1[((res1.matches > th_m) & (res1.score > th_s))].reference\n",
    "# venn2((set(orig), ground))\n",
    "# orig\n",
    "#res1[((res1.matches > th_m) & (res1.score > th_s))].groupby([\"query\", \"reference\"])[\"total\"].max()\n",
    "\n",
    "\n",
    "x  = res1[((res1.matches > th_m) & (res1.score > th_s))]\n",
    "x = x.reset_index()\n",
    "\n",
    "x = x.loc[x.groupby('query')['total'].idxmax(), ['query', 'reference', 'total']]\n",
    "orig = x.reference\n",
    "\n",
    "\n",
    "venn2((set(orig), ground))\n",
    "orig\n",
    "x\n"
   ]
  },
  {
   "cell_type": "code",
   "execution_count": 175,
   "metadata": {},
   "outputs": [
    {
     "data": {
      "text/plain": [
       "{'Acetylgalactosamine_5TMS isomer 1',\n",
       " 'Asparagine_3TMS',\n",
       " 'Aspartic acid_3TMS isomer',\n",
       " 'Citric acid_4TMS',\n",
       " 'Fructose_5TMS isomer 2',\n",
       " 'Histidine_3TMS',\n",
       " 'Lysine_4TMS',\n",
       " 'Myo-inositol_6TMS',\n",
       " 'Palmitic acid_1TMS',\n",
       " 'Phenylalanine_2TMS',\n",
       " 'Serine_3TMS',\n",
       " 'Stearic acid_1TMS',\n",
       " 'Threonine_3TMS spectra 1'}"
      ]
     },
     "execution_count": 175,
     "metadata": {},
     "output_type": "execute_result"
    }
   ],
   "source": [
    "set(orig).intersection(ground)"
   ]
  },
  {
   "cell_type": "code",
   "execution_count": null,
   "metadata": {},
   "outputs": [],
   "source": [
    "\n"
   ]
  },
  {
   "cell_type": "code",
   "execution_count": null,
   "metadata": {},
   "outputs": [],
   "source": []
  },
  {
   "cell_type": "code",
   "execution_count": 176,
   "metadata": {},
   "outputs": [
    {
     "data": {
      "text/html": [
       "<div>\n",
       "<style scoped>\n",
       "    .dataframe tbody tr th:only-of-type {\n",
       "        vertical-align: middle;\n",
       "    }\n",
       "\n",
       "    .dataframe tbody tr th {\n",
       "        vertical-align: top;\n",
       "    }\n",
       "\n",
       "    .dataframe thead th {\n",
       "        text-align: right;\n",
       "    }\n",
       "</style>\n",
       "<table border=\"1\" class=\"dataframe\">\n",
       "  <thead>\n",
       "    <tr style=\"text-align: right;\">\n",
       "      <th></th>\n",
       "      <th>query</th>\n",
       "      <th>reference</th>\n",
       "      <th>total</th>\n",
       "    </tr>\n",
       "  </thead>\n",
       "  <tbody>\n",
       "    <tr>\n",
       "      <th>0</th>\n",
       "      <td>C01</td>\n",
       "      <td>Lysine_4TMS</td>\n",
       "      <td>0.922073</td>\n",
       "    </tr>\n",
       "    <tr>\n",
       "      <th>2</th>\n",
       "      <td>C03</td>\n",
       "      <td>Fructose_5TMS isomer 2</td>\n",
       "      <td>0.876672</td>\n",
       "    </tr>\n",
       "    <tr>\n",
       "      <th>5</th>\n",
       "      <td>C07</td>\n",
       "      <td>Citric acid_4TMS</td>\n",
       "      <td>0.874352</td>\n",
       "    </tr>\n",
       "    <tr>\n",
       "      <th>7</th>\n",
       "      <td>C11</td>\n",
       "      <td>Myo-inositol_6TMS</td>\n",
       "      <td>0.915567</td>\n",
       "    </tr>\n",
       "    <tr>\n",
       "      <th>9</th>\n",
       "      <td>C17</td>\n",
       "      <td>Glutamic acid_3TMS spectra 2</td>\n",
       "      <td>0.931333</td>\n",
       "    </tr>\n",
       "    <tr>\n",
       "      <th>10</th>\n",
       "      <td>C19</td>\n",
       "      <td>Aspartic acid_3TMS isomer</td>\n",
       "      <td>0.909993</td>\n",
       "    </tr>\n",
       "    <tr>\n",
       "      <th>14</th>\n",
       "      <td>C21</td>\n",
       "      <td>Uridine_4TMS isomer 1</td>\n",
       "      <td>0.602503</td>\n",
       "    </tr>\n",
       "    <tr>\n",
       "      <th>15</th>\n",
       "      <td>C23</td>\n",
       "      <td>Serine_3TMS</td>\n",
       "      <td>0.825573</td>\n",
       "    </tr>\n",
       "    <tr>\n",
       "      <th>16</th>\n",
       "      <td>C25</td>\n",
       "      <td>Palmitic acid_1TMS</td>\n",
       "      <td>0.513152</td>\n",
       "    </tr>\n",
       "    <tr>\n",
       "      <th>18</th>\n",
       "      <td>C26</td>\n",
       "      <td>Acetylgalactosamine_5TMS isomer 1</td>\n",
       "      <td>0.452095</td>\n",
       "    </tr>\n",
       "    <tr>\n",
       "      <th>19</th>\n",
       "      <td>C29</td>\n",
       "      <td>Threonine_3TMS spectra 1</td>\n",
       "      <td>0.796540</td>\n",
       "    </tr>\n",
       "    <tr>\n",
       "      <th>21</th>\n",
       "      <td>C33</td>\n",
       "      <td>Asparagine_3TMS</td>\n",
       "      <td>0.420921</td>\n",
       "    </tr>\n",
       "    <tr>\n",
       "      <th>22</th>\n",
       "      <td>C36</td>\n",
       "      <td>Histidine_3TMS</td>\n",
       "      <td>0.847464</td>\n",
       "    </tr>\n",
       "    <tr>\n",
       "      <th>23</th>\n",
       "      <td>C39</td>\n",
       "      <td>Stearic acid_1TMS</td>\n",
       "      <td>0.417137</td>\n",
       "    </tr>\n",
       "    <tr>\n",
       "      <th>24</th>\n",
       "      <td>C43</td>\n",
       "      <td>Urea_2TMS</td>\n",
       "      <td>0.566104</td>\n",
       "    </tr>\n",
       "    <tr>\n",
       "      <th>25</th>\n",
       "      <td>C46</td>\n",
       "      <td>Leucine_2TMS</td>\n",
       "      <td>0.958918</td>\n",
       "    </tr>\n",
       "    <tr>\n",
       "      <th>26</th>\n",
       "      <td>C56</td>\n",
       "      <td>Valine_2TMS</td>\n",
       "      <td>0.884027</td>\n",
       "    </tr>\n",
       "    <tr>\n",
       "      <th>27</th>\n",
       "      <td>C61</td>\n",
       "      <td>Phenylalanine_2TMS</td>\n",
       "      <td>0.491202</td>\n",
       "    </tr>\n",
       "  </tbody>\n",
       "</table>\n",
       "</div>"
      ],
      "text/plain": [
       "   query                          reference     total\n",
       "0    C01                        Lysine_4TMS  0.922073\n",
       "2    C03             Fructose_5TMS isomer 2  0.876672\n",
       "5    C07                   Citric acid_4TMS  0.874352\n",
       "7    C11                  Myo-inositol_6TMS  0.915567\n",
       "9    C17       Glutamic acid_3TMS spectra 2  0.931333\n",
       "10   C19          Aspartic acid_3TMS isomer  0.909993\n",
       "14   C21              Uridine_4TMS isomer 1  0.602503\n",
       "15   C23                        Serine_3TMS  0.825573\n",
       "16   C25                 Palmitic acid_1TMS  0.513152\n",
       "18   C26  Acetylgalactosamine_5TMS isomer 1  0.452095\n",
       "19   C29           Threonine_3TMS spectra 1  0.796540\n",
       "21   C33                    Asparagine_3TMS  0.420921\n",
       "22   C36                     Histidine_3TMS  0.847464\n",
       "23   C39                  Stearic acid_1TMS  0.417137\n",
       "24   C43                          Urea_2TMS  0.566104\n",
       "25   C46                       Leucine_2TMS  0.958918\n",
       "26   C56                        Valine_2TMS  0.884027\n",
       "27   C61                 Phenylalanine_2TMS  0.491202"
      ]
     },
     "execution_count": 176,
     "metadata": {},
     "output_type": "execute_result"
    },
    {
     "data": {
      "image/png": "[encoded data removed]",
      "text/plain": [
       "<Figure size 432x288 with 1 Axes>"
      ]
     },
     "metadata": {},
     "output_type": "display_data"
    }
   ],
   "source": [
    "new = res2[((res2.matches > th_m) & (res2.score > th_s))].reference\n",
    "x  = res2[((res2.matches > th_m) & (res2.score > th_s))]\n",
    "x = x.reset_index()\n",
    "\n",
    "x = x.loc[x.groupby('query')['total'].idxmax(), ['query', 'reference', 'total']]\n",
    "new = x.reference\n",
    "\n",
    "\n",
    "venn2((set(new), ground))\n",
    "x"
   ]
  },
  {
   "cell_type": "code",
   "execution_count": 177,
   "metadata": {},
   "outputs": [
    {
     "data": {
      "text/plain": [
       "{'Glutamic acid_3TMS spectra 2', 'Leucine_2TMS'}"
      ]
     },
     "execution_count": 177,
     "metadata": {},
     "output_type": "execute_result"
    }
   ],
   "source": [
    "set(new).difference(orig).intersection(ground)"
   ]
  },
  {
   "cell_type": "code",
   "execution_count": 178,
   "metadata": {},
   "outputs": [
    {
     "data": {
      "text/plain": [
       "{'Acetylgalactosamine_5TMS isomer 1',\n",
       " 'Asparagine_3TMS',\n",
       " 'Aspartic acid_3TMS isomer',\n",
       " 'Citric acid_4TMS',\n",
       " 'Fructose_5TMS isomer 2',\n",
       " 'Glutamic acid_3TMS spectra 2',\n",
       " 'Histidine_3TMS',\n",
       " 'Leucine_2TMS',\n",
       " 'Lysine_4TMS',\n",
       " 'Myo-inositol_6TMS',\n",
       " 'Palmitic acid_1TMS',\n",
       " 'Phenylalanine_2TMS',\n",
       " 'Serine_3TMS',\n",
       " 'Stearic acid_1TMS',\n",
       " 'Threonine_3TMS spectra 1'}"
      ]
     },
     "execution_count": 178,
     "metadata": {},
     "output_type": "execute_result"
    }
   ],
   "source": [
    "set(new).intersection(ground)"
   ]
  },
  {
   "cell_type": "code",
   "execution_count": 179,
   "metadata": {},
   "outputs": [],
   "source": [
    "orig = np.zeros(shape=(20, 20))\n",
    "new = orig.copy()\n",
    "\n",
    "stat_orig = np.ones(63) * (100)\n",
    "stat_new = stat_orig.copy()\n",
    "for i, n_m in enumerate(range(1,21)):\n",
    "    for j, n_s in enumerate(np.arange(0,1,0.05)):\n",
    "        for res, grid, stat in zip([res1, res2], [orig, new], [stat_orig, stat_new]):\n",
    "            p = set(res[((res.matches > n_m) & (res.score > n_s))].reference)\n",
    "            \n",
    "            x  = res[((res.matches > n_m) & (res.score > n_s))]\n",
    "            x = x.reset_index()\n",
    "\n",
    "            x = x.loc[x.groupby('query')['total'].idxmax(), ['query', 'reference', 'total']]\n",
    "            p = set(x.reference)\n",
    "            \n",
    "            TP = len(p.intersection(ground))\n",
    "            FP = len(p.difference(ground))\n",
    "            FN = len(ground.difference(p))\n",
    "            stat[TP] = min(FP, stat[TP])\n",
    "            grid[i,j] = TP/(TP + 0.5*(FN+FP)) if (TP + 0.5*(FN+FP)) != 0 else 0\n",
    "stat_orig[stat_orig == 100] = np.nan\n",
    "stat_new[stat_new == 100] = np.nan"
   ]
  },
  {
   "cell_type": "code",
   "execution_count": 180,
   "metadata": {},
   "outputs": [
    {
     "data": {
      "text/plain": [
       "<matplotlib.collections.PathCollection at 0x7f2d68d51a20>"
      ]
     },
     "execution_count": 180,
     "metadata": {},
     "output_type": "execute_result"
    },
    {
     "data": {
      "image/png": "[encoded data removed]",
      "text/plain": [
       "<Figure size 432x288 with 1 Axes>"
      ]
     },
     "metadata": {
      "needs_background": "light"
     },
     "output_type": "display_data"
    }
   ],
   "source": [
    "plt.scatter(x=np.arange(63), y=stat_orig, color=\"blue\")\n",
    "plt.scatter(x=np.arange(63), y=stat_new, color = \"red\")"
   ]
  },
  {
   "cell_type": "code",
   "execution_count": 149,
   "metadata": {},
   "outputs": [
    {
     "data": {
      "text/plain": [
       "<matplotlib.collections.PathCollection at 0x7f2d6983c2e8>"
      ]
     },
     "execution_count": 149,
     "metadata": {},
     "output_type": "execute_result"
    },
    {
     "data": {
      "image/png": "[encoded data removed]",
      "text/plain": [
       "<Figure size 432x288 with 1 Axes>"
      ]
     },
     "metadata": {
      "needs_background": "light"
     },
     "output_type": "display_data"
    }
   ],
   "source": [
    "plt.scatter(x=np.arange(63), y=stat_orig, color=\"blue\")\n",
    "plt.scatter(x=np.arange(63), y=stat_new, color = \"red\")"
   ]
  },
  {
   "cell_type": "code",
   "execution_count": 43,
   "metadata": {},
   "outputs": [
    {
     "data": {
      "text/plain": [
       "array([ 0.,  0.,  0.,  0.,  0.,  0.,  0.,  0.,  0.,  1.,  2.,  1.,  0.,\n",
       "        1.,  1.,  1., nan,  1.,  4., nan, nan, nan, nan, nan, nan, nan,\n",
       "       nan, nan, nan, nan, nan, nan, nan, nan, nan, nan, nan, nan, nan,\n",
       "       nan, nan, nan, nan, nan, nan, nan, nan, nan, nan, nan, nan, nan,\n",
       "       nan, nan, nan, nan, nan, nan, nan, nan, nan, nan, nan])"
      ]
     },
     "execution_count": 43,
     "metadata": {},
     "output_type": "execute_result"
    }
   ],
   "source": [
    "stat_orig - stat_new"
   ]
  },
  {
   "cell_type": "code",
   "execution_count": 44,
   "metadata": {},
   "outputs": [
    {
     "data": {
      "text/plain": [
       "<matplotlib.colorbar.Colorbar at 0x7f2d69f6e160>"
      ]
     },
     "execution_count": 44,
     "metadata": {},
     "output_type": "execute_result"
    },
    {
     "data": {
      "image/png": "[encoded data removed]",
      "text/plain": [
       "<Figure size 432x288 with 2 Axes>"
      ]
     },
     "metadata": {
      "needs_background": "light"
     },
     "output_type": "display_data"
    }
   ],
   "source": [
    "c = plt.contour(new, cmap='RdGy')\n",
    "plt.clabel(c, inline=True, fontsize=8)\n",
    "\n",
    "plt.colorbar()"
   ]
  },
  {
   "cell_type": "code",
   "execution_count": 45,
   "metadata": {},
   "outputs": [
    {
     "data": {
      "text/plain": [
       "<matplotlib.colorbar.Colorbar at 0x7f2d69ed4d68>"
      ]
     },
     "execution_count": 45,
     "metadata": {},
     "output_type": "execute_result"
    },
    {
     "data": {
      "image/png": "[encoded data removed]",
      "text/plain": [
       "<Figure size 432x288 with 2 Axes>"
      ]
     },
     "metadata": {
      "needs_background": "light"
     },
     "output_type": "display_data"
    }
   ],
   "source": [
    "c = plt.contour(orig, cmap='RdGy')\n",
    "plt.clabel(c, inline=True, fontsize=8)\n",
    "\n",
    "plt.colorbar()\n"
   ]
  },
  {
   "cell_type": "code",
   "execution_count": 46,
   "metadata": {},
   "outputs": [
    {
     "data": {
      "text/plain": [
       "56.818564573400565"
      ]
     },
     "execution_count": 46,
     "metadata": {},
     "output_type": "execute_result"
    }
   ],
   "source": [
    "new.sum()"
   ]
  },
  {
   "cell_type": "code",
   "execution_count": 47,
   "metadata": {},
   "outputs": [
    {
     "data": {
      "text/plain": [
       "50.58450836858507"
      ]
     },
     "execution_count": 47,
     "metadata": {},
     "output_type": "execute_result"
    }
   ],
   "source": [
    "orig.sum()"
   ]
  },
  {
   "cell_type": "code",
   "execution_count": 48,
   "metadata": {},
   "outputs": [],
   "source": [
    "th_m, th_s = 5, 0.4\n",
    "orig = res1[((res1.matches > th_m) & (res1.score > th_s))].reference\n",
    "new = res2[((res2.matches > th_m) & (res2.score > th_s))].reference\n"
   ]
  },
  {
   "cell_type": "code",
   "execution_count": 49,
   "metadata": {},
   "outputs": [
    {
     "data": {
      "text/plain": [
       "set()"
      ]
     },
     "execution_count": 49,
     "metadata": {},
     "output_type": "execute_result"
    }
   ],
   "source": [
    "set(orig) -set(new)"
   ]
  },
  {
   "cell_type": "code",
   "execution_count": 50,
   "metadata": {},
   "outputs": [
    {
     "data": {
      "text/plain": [
       "{'Acetylgalactosamine_4TMS',\n",
       " 'Acetylgalactosamine_5TMS isomer 1',\n",
       " 'Aspartic acid_3TMS isomer',\n",
       " 'Glutamic acid_3TMS spectra 1',\n",
       " 'Glutamic acid_3TMS spectra 2',\n",
       " 'Palmitic acid_1TMS'}"
      ]
     },
     "execution_count": 50,
     "metadata": {},
     "output_type": "execute_result"
    }
   ],
   "source": [
    "set(new) -set(orig)"
   ]
  },
  {
   "cell_type": "code",
   "execution_count": 51,
   "metadata": {},
   "outputs": [
    {
     "data": {
      "text/plain": [
       "{'Gluconic acid-1,4-lactone',\n",
       " 'Glucuro-3,6-lactone_3TMS isomer 1',\n",
       " 'Glutamic acid_3TMS spectra 1',\n",
       " 'Isocitric acid_4TMS',\n",
       " 'Uridine_4TMS isomer 1'}"
      ]
     },
     "execution_count": 51,
     "metadata": {},
     "output_type": "execute_result"
    }
   ],
   "source": [
    "set(new) - ground"
   ]
  },
  {
   "cell_type": "code",
   "execution_count": 52,
   "metadata": {},
   "outputs": [
    {
     "data": {
      "text/plain": [
       "{'Gluconic acid-1,4-lactone',\n",
       " 'Glucuro-3,6-lactone_3TMS isomer 1',\n",
       " 'Isocitric acid_4TMS',\n",
       " 'Uridine_4TMS isomer 1'}"
      ]
     },
     "execution_count": 52,
     "metadata": {},
     "output_type": "execute_result"
    }
   ],
   "source": [
    "set(orig) - ground"
   ]
  },
  {
   "cell_type": "code",
   "execution_count": 188,
   "metadata": {},
   "outputs": [
    {
     "name": "stdout",
     "output_type": "stream",
     "text": [
      "/mnt/volume/shared/ces-nya/nfs4/home/umsa/job_working_directory_object/034/34762/working/jupyter/raims\n"
     ]
    }
   ],
   "source": [
    "!pwd"
   ]
  },
  {
   "cell_type": "code",
   "execution_count": null,
   "metadata": {},
   "outputs": [],
   "source": []
  }
 ],
 "metadata": {
  "kernelspec": {
   "display_name": "Python 3",
   "language": "python",
   "name": "python3"
  },
  "language_info": {
   "codemirror_mode": {
    "name": "ipython",
    "version": 3
   },
   "file_extension": ".py",
   "mimetype": "text/x-python",
   "name": "python",
   "nbconvert_exporter": "python",
   "pygments_lexer": "ipython3",
   "version": "3.7.3"
  }
 },
 "nbformat": 4,
 "nbformat_minor": 4
}
