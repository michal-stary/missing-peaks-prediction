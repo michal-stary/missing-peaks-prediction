{
 "cells": [
  {
   "cell_type": "markdown",
   "metadata": {},
   "source": [
    "# FF model\n"
   ]
  },
  {
   "cell_type": "markdown",
   "metadata": {},
   "source": [
    "## Settings"
   ]
  },
  {
   "cell_type": "code",
   "execution_count": 1,
   "metadata": {},
   "outputs": [],
   "source": [
    "from pipeline_utils import get_galaxy_filename\n",
    "\n",
    "base = \"tmp\"\n",
    "dataset = \"nist\"\n",
    "kind = \"in_database\"\n",
    "\n",
    "\n",
    "wv_path = f\"gas2vec/{kind}.model\"\n",
    "\n",
    "data_train_path =f\"{base}/{dataset}/{kind}/train.msp\"\n",
    "data_val_path =f\"{base}/{dataset}/{kind}/val.msp\"\n",
    "data_test_path =f\"{base}/{dataset}/{kind}/test.msp\"\n",
    "\n",
    "\n",
    "data_rcx1_path = \"../data/nist/rcx1_no_nist/train.msp\"\n",
    "data_rcx2_path = \"../data/nist/rcx2_no_nist/train.msp\"\n",
    "\n",
    "data_realtest_path = get_galaxy_filename('Aplcms12', base, [\"enh\", \"pred\"])\n",
    "\n",
    "%load_ext autoreload\n",
    "%autoreload 2\n",
    "\n",
    "import sys; sys.path.append(\"..\")"
   ]
  },
  {
   "cell_type": "markdown",
   "metadata": {},
   "source": [
    "## Data loading"
   ]
  },
  {
   "cell_type": "code",
   "execution_count": 2,
   "metadata": {},
   "outputs": [],
   "source": [
    "# from matchms.importing import load_from_msp\n",
    "\n",
    "from matchms.importing import load_from_msp\n",
    "from utils.helpers import get_mz_vector, get_his_size\n",
    "from utils.data_utils import spectrum_processing\n",
    "from utils.data_utils import FixedSizeDS\n",
    "from torch.utils.data import Dataset, DataLoader\n",
    "import numpy as np\n",
    "\n",
    "import torch\n",
    "import torch.nn as nn\n",
    "import tqdm\n",
    "import torch.nn.functional as F\n",
    "\n",
    "# only for visual \n",
    "from spec2vec import SpectrumDocument\n",
    "from utils.data_utils import BasicCoder\n"
   ]
  },
  {
   "cell_type": "code",
   "execution_count": 3,
   "metadata": {},
   "outputs": [],
   "source": [
    "def load_process_documents(path):\n",
    "    # Load data from MSP file and apply filters\n",
    "    spectrums = [spectrum_processing(s, min_rel_int=None, n_required_peaks=1) for s in load_from_msp(path, metadata_harmonization=False)]\n",
    "    # Omit spectrums that didn't qualify for analysis\n",
    "    spectrums = [s for s in spectrums if s is not None]\n",
    "    # Create spectrum documents\n",
    "    documents = [SpectrumDocument(s, n_decimals=0) for s in spectrums]\n",
    "    return documents, spectrums\n",
    "\n",
    "# documents_train = load_process_documents(data_train_path)\n",
    "# documents_val = load_process_documents(data_val_path)\n",
    "# documents_test = load_process_documents(data_test_path)\n",
    "documents_supertest, spectrums_supertest = load_process_documents(data_realtest_path)\n",
    "\n",
    "documents_rcx1, spectrums_rcx1 = load_process_documents(data_rcx1_path)\n",
    "documents_rcx2, spectrums_rcx2 = load_process_documents(data_rcx2_path)"
   ]
  },
  {
   "cell_type": "code",
   "execution_count": 4,
   "metadata": {},
   "outputs": [],
   "source": [
    "\n",
    "datasets = {\n",
    "    \"fixed_train\": FixedSizeDS(spectrums_supertest),\n",
    "    \"fixed_libtest1\": FixedSizeDS(spectrums_rcx1),\n",
    "    \"fixed_libtest2\": FixedSizeDS(spectrums_rcx2),\n",
    "    \"fixed_supertest\": FixedSizeDS(spectrums_supertest)\n",
    "}\n",
    "\n",
    "dataloaders = {\n",
    "}"
   ]
  },
  {
   "cell_type": "code",
   "execution_count": 5,
   "metadata": {},
   "outputs": [
    {
     "data": {
      "text/plain": [
       "tensor(0.)"
      ]
     },
     "execution_count": 5,
     "metadata": {},
     "output_type": "execute_result"
    }
   ],
   "source": [
    "datasets[\"fixed_train\"][0][1].sum()"
   ]
  },
  {
   "cell_type": "markdown",
   "metadata": {},
   "source": [
    "## Models definition"
   ]
  },
  {
   "cell_type": "code",
   "execution_count": 6,
   "metadata": {},
   "outputs": [],
   "source": [
    "class Linear(nn.Module):\n",
    "    def __init__(self, max_mz=1001):\n",
    "        super(Linear, self).__init__()\n",
    "        self.in_features = max_mz\n",
    "        self.out_features = max_mz\n",
    "    \n",
    "        self.linear = nn.Linear(self.in_features, self.out_features)\n",
    "        self.sigm = nn.Sigmoid()\n",
    "    \n",
    "    def forward(self, x):\n",
    "        x = self.linear(x)\n",
    "        return self.sigm(x)\n",
    "    \n",
    "class MLP(nn.Module):\n",
    "    def __init__(self, max_mz=1001, hidden_layers=(2000,)):\n",
    "        super(MLP, self).__init__()\n",
    "        self.in_features = max_mz\n",
    "        self.out_features = max_mz\n",
    "        \n",
    "        assert len(hidden_layers) != 0\n",
    "        self.relu = nn.ReLU()        \n",
    "        layers = [nn.Linear(self.in_features, hidden_layers[0])]\n",
    "        \n",
    "        for i in range(len(hidden_layers)-1):\n",
    "            layers.append(self.relu)\n",
    "            layers.append(nn.Linear(hidden_layers[i], hidden_layers[i+1]))\n",
    "            \n",
    "        \n",
    "        self.layers = nn.Sequential(*layers)\n",
    "        self.linear = nn.Linear(hidden_layers[-1], self.out_features)\n",
    "        self.sigm = nn.Sigmoid()\n",
    "\n",
    "        \n",
    "    def forward(self, x):\n",
    "        x = self.layers(x)\n",
    "        x= self.relu(x)\n",
    "        x = self.linear(x)\n",
    "        return self.sigm(x)\n",
    "    "
   ]
  },
  {
   "cell_type": "code",
   "execution_count": 7,
   "metadata": {},
   "outputs": [],
   "source": [
    "linear = Linear(datasets[\"fixed_train\"].max_mz)\n",
    "mlp_1 = MLP(datasets[\"fixed_train\"].max_mz, (1000,))\n",
    "mlp_2 = MLP(datasets[\"fixed_train\"].max_mz, (1000,1000))\n",
    "mlp_3 = MLP(datasets[\"fixed_train\"].max_mz, (1000,1000, 1000))\n",
    "mlp_1s = MLP(datasets[\"fixed_train\"].max_mz, (500,))\n",
    "mlp_2s = MLP(datasets[\"fixed_train\"].max_mz, (500,500))\n",
    "mlp_3s = MLP(datasets[\"fixed_train\"].max_mz, (500,500, 500))\n",
    "\n"
   ]
  },
  {
   "cell_type": "code",
   "execution_count": 8,
   "metadata": {},
   "outputs": [
    {
     "name": "stdout",
     "output_type": "stream",
     "text": [
      "cpu\n"
     ]
    }
   ],
   "source": [
    "# discver whether to use GPU or not\n",
    "use_cuda = False#torch.cuda.is_available()\n",
    "device = torch.device('cuda' if use_cuda else 'cpu')\n",
    "print(device)\n"
   ]
  },
  {
   "cell_type": "markdown",
   "metadata": {},
   "source": [
    "## Prediction"
   ]
  },
  {
   "cell_type": "code",
   "execution_count": 9,
   "metadata": {},
   "outputs": [],
   "source": [
    "class PredictorFF():\n",
    "    def __init__(self,model, max_mz=1001, threshold=.5):\n",
    "        self.model = model\n",
    "        self.max_mz= max_mz\n",
    "        self.threshold = threshold\n",
    "        \n",
    "    @classmethod\n",
    "    def from_file(cls, file, device=\"cpu\", max_mz=1001, threshold=.5):\n",
    "        model = torch.load(file,  map_location=torch.device(device)) \n",
    "        return cls(model, max_mz=max_mz, threshold=threshold)\n",
    "   \n",
    "\n",
    "    def __call__(self, X):\n",
    "        with torch.no_grad():\n",
    "            return self.model(X)\n",
    "    \n",
    "    def predict_random_all(self, ds, probs, cum_level=.95, filtered=True, \\\n",
    "                           device=\"cpu\", **kwargs):\n",
    "        # reset rng before each prediction to have comparable results\n",
    "        self.rng = np.random.default_rng(42)\n",
    "\n",
    "        spectrums = ds.spectrums\n",
    "        m_pred_per_p = [[None for _ in range(len(spectrums))] for _ in range(len(probs))]\n",
    "        m_y_per_p = [[None for _ in range(len(spectrums))] for _ in range(len(probs))]\n",
    "        some_pred_per_p = [[None for _ in range(len(spectrums))] for _ in range(len(probs))]\n",
    "        \n",
    "        for i, spec in enumerate(spectrums):\n",
    "            vect = get_mz_vector(spec, self.max_mz)\n",
    "            \n",
    "            mat = np.zeros(shape=(len(probs),vect.shape[0]), dtype=np.float32)\n",
    "\n",
    "            # descending = np.argsort(spec.peaks.intensities)[::-1]\n",
    "            \n",
    "            # argsorted = np.argsort(vect)[::-1]\n",
    "            his_size = get_his_size(spec, cum_level)\n",
    "            his_ind = np.argpartition(vect, -his_size)[-his_size:]\n",
    "       \n",
    "            for m, p in enumerate(probs):\n",
    "                \n",
    "                ## cripple vector\n",
    "                mat[m] = vect.copy()\n",
    "                \n",
    "                # if too little peaks are present in the high intensity section, simply cut out top m most intense peaks \n",
    "                # cut_out_kths = self.rng.choice(max(n_peaks_considered, m), size=m, replace=False)\n",
    "                #cut_out_kths = self.rng.choice(n_peaks_considered, size=min(m, n_peaks_considered), replace=False)\n",
    "                \n",
    "                # his_ind = np.argsort(mat[m])[::-1][:his_size]\n",
    "                mask_missing = self.rng.uniform(0,1, self.max_mz) < p\n",
    "                \n",
    "                #cut_out_indices = argsorted[his_ind[mask_missing]] \n",
    "                \n",
    "                mat[m][mask_missing] = 0\n",
    "                \n",
    "                his_mask = np.zeros_like(vect) == 1\n",
    "                his_mask[his_ind] = True\n",
    "                \n",
    "                m_y_per_p[m][i] = np.where(mask_missing & his_mask)[0]\n",
    "                \n",
    "            # get predictions\n",
    "            with torch.no_grad():\n",
    "                mat_ = torch.from_numpy(mat).to(device)\n",
    "                pred = self.model(mat_)\n",
    "                pred = pred.cpu().numpy()    \n",
    "            \n",
    "            if filtered:\n",
    "                pred[mat!=0] = 0\n",
    "                \n",
    "            # get best peaks above threshold (except the given ones)    \n",
    "            for m in range(len(probs)):\n",
    "                some = np.where(pred[m] > self.threshold)[0]\n",
    "                some_pred_per_p[m][i] = some\n",
    "            \n",
    "            # get best m peaks (except the given ones)\n",
    "            for m in range(len(probs)):\n",
    "                next_m = np.argsort(pred[m])[::-1][:len(m_y_per_p[m][i])]\n",
    "                m_pred_per_p[m][i] = next_m     \n",
    "            \n",
    "        return some_pred_per_p, m_pred_per_p, m_y_per_p\n",
    "\n"
   ]
  },
  {
   "cell_type": "markdown",
   "metadata": {},
   "source": [
    "# MLP"
   ]
  },
  {
   "cell_type": "code",
   "execution_count": 10,
   "metadata": {},
   "outputs": [],
   "source": [
    "P_FOLDER = f\"predictions/{kind}\"\n",
    "probs = [0, .05, .1, .15, .2, .25, .3, .35, .4, .45, .5]"
   ]
  },
  {
   "cell_type": "code",
   "execution_count": 11,
   "metadata": {},
   "outputs": [],
   "source": [
    "predictors = { \n",
    "            \"mlp_1_.8\": PredictorFF.from_file(f\"../models/{kind}/mlp_1\", max_mz=1001, device=device, threshold=.8),\n",
    "            \"mlp_1_.5\": PredictorFF.from_file(f\"../models/{kind}/mlp_1\", max_mz=1001, device=device, threshold=.5),\n",
    "            \"mlp_1_.3\": PredictorFF.from_file(f\"../models/{kind}/mlp_1\", max_mz=1001, device=device, threshold=.3),\n",
    "            \"mlp_1_.1\": PredictorFF.from_file(f\"../models/{kind}/mlp_1\", max_mz=1001, device=device, threshold=.1),\n",
    "            \"mlp_2_.8\": PredictorFF.from_file(f\"../models/{kind}/mlp_2\", max_mz=1001, device=device, threshold=.8),\n",
    "            \"mlp_2_.5\": PredictorFF.from_file(f\"../models/{kind}/mlp_2\", max_mz=1001, device=device, threshold=.5),\n",
    "            \"mlp_2_.3\": PredictorFF.from_file(f\"../models/{kind}/mlp_2\", max_mz=1001, device=device, threshold=.3),\n",
    "            \"mlp_2_.1\": PredictorFF.from_file(f\"../models/{kind}/mlp_2\", max_mz=1001, device=device, threshold=.1),\n",
    "            \"mlp_3_.8\": PredictorFF.from_file(f\"../models/{kind}/mlp_3\", max_mz=1001, device=device, threshold=.8),\n",
    "            \"mlp_3_.5\": PredictorFF.from_file(f\"../models/{kind}/mlp_3\", max_mz=1001, device=device, threshold=.5),\n",
    "            \"mlp_3_.3\": PredictorFF.from_file(f\"../models/{kind}/mlp_3\", max_mz=1001, device=device, threshold=.3),\n",
    "            \"mlp_3_.1\": PredictorFF.from_file(f\"../models/{kind}/mlp_3\", max_mz=1001, device=device, threshold=.1),\n",
    "            \"mlp_2s_.8\": PredictorFF.from_file(f\"../models/{kind}/mlp_2s\", max_mz=1001, device=device, threshold=.8),\n",
    "            \"mlp_2s_.5\": PredictorFF.from_file(f\"../models/{kind}/mlp_2s\", max_mz=1001, device=device, threshold=.5),\n",
    "            \"mlp_2s_.3\": PredictorFF.from_file(f\"../models/{kind}/mlp_2s\", max_mz=1001, device=device, threshold=.3),\n",
    "            \"mlp_2s_.1\": PredictorFF.from_file(f\"../models/{kind}/mlp_2s\", max_mz=1001, device=device, threshold=.1)\n",
    "\n",
    "\n",
    "}\n"
   ]
  },
  {
   "cell_type": "code",
   "execution_count": 12,
   "metadata": {},
   "outputs": [
    {
     "data": {
      "text/plain": [
       "'predictions/in_database'"
      ]
     },
     "execution_count": 12,
     "metadata": {},
     "output_type": "execute_result"
    }
   ],
   "source": [
    "P_FOLDER"
   ]
  },
  {
   "cell_type": "code",
   "execution_count": 13,
   "metadata": {},
   "outputs": [],
   "source": [
    "best_p_name = \"mlp_2_.1\""
   ]
  },
  {
   "cell_type": "markdown",
   "metadata": {},
   "source": [
    "## Simulated test on rcx libraries"
   ]
  },
  {
   "cell_type": "code",
   "execution_count": 14,
   "metadata": {},
   "outputs": [],
   "source": [
    "from utils.model_evaluation import calc_predictions_random, load_predictions_random, model_selection_random\n",
    "from utils.visual_utils import plot_scores"
   ]
  },
  {
   "cell_type": "code",
   "execution_count": 15,
   "metadata": {},
   "outputs": [
    {
     "name": "stdout",
     "output_type": "stream",
     "text": [
      "mlp_2_.1\n"
     ]
    },
    {
     "name": "stderr",
     "output_type": "stream",
     "text": [
      "/storage/brno2/home/xstary1/brno6/.local-Pytorch-21.SIF/lib/python3.8/site-packages/numpy/lib/npyio.py:518: VisibleDeprecationWarning: Creating an ndarray from ragged nested sequences (which is a list-or-tuple of lists-or-tuples-or ndarrays with different lengths or shapes) is deprecated. If you meant to do this, you must specify 'dtype=object' when creating the ndarray.\n",
      "  arr = np.asanyarray(arr)\n"
     ]
    },
    {
     "name": "stdout",
     "output_type": "stream",
     "text": [
      "mlp_2_.1\n",
      "CPU times: user 2.8 s, sys: 19.5 ms, total: 2.82 s\n",
      "Wall time: 2.87 s\n"
     ]
    }
   ],
   "source": [
    "\n",
    "%%time\n",
    "calc_predictions_random(probs, {best_p_name: predictors[best_p_name]}, datasets, \"fixed_libtest1\", P_FOLDER, batch_size=512, device=device, verbose=True)\n",
    "calc_predictions_random(probs, {best_p_name: predictors[best_p_name]}, datasets, \"fixed_libtest2\", P_FOLDER, batch_size=512, device=device, verbose=True)"
   ]
  },
  {
   "cell_type": "code",
   "execution_count": 16,
   "metadata": {},
   "outputs": [
    {
     "name": "stdout",
     "output_type": "stream",
     "text": [
      "mlp_2_.1\n"
     ]
    },
    {
     "name": "stderr",
     "output_type": "stream",
     "text": [
      "../utils/metrics.py:228: RuntimeWarning: Mean of empty slice\n",
      "  \"mr\": np.nanmean(recs_some, axis=1),\n",
      "../utils/metrics.py:230: RuntimeWarning: Mean of empty slice\n",
      "  \"mf1\": np.nanmean(f1_some, axis=1),\n",
      "../utils/metrics.py:231: RuntimeWarning: Mean of empty slice\n",
      "  \"mps\": np.nanmean(precs_m, axis=1)\n"
     ]
    },
    {
     "data": {
      "image/png": "[encoded data removed]",
      "text/plain": [
       "<Figure size 504x288 with 1 Axes>"
      ]
     },
     "metadata": {
      "needs_background": "light"
     },
     "output_type": "display_data"
    }
   ],
   "source": [
    "orderer_f = lambda x: (x.split(\"_\")[1], x.split(\"_\")[2][1])\n",
    "hue_f = lambda x: [1,3,5,8].index(int(x.split(\"_\")[2][1]))\n",
    "_, scores_test = model_selection_random(P_FOLDER, \"fixed_libtest1\", predictors={best_p_name: predictors[best_p_name]})\n",
    "plot_scores(scores_test, metrics=\"mf1\", x=probs, grouper_f=lambda x: x.split(\"_\")[1],\n",
    "            orderer_f=orderer_f,hue_f=hue_f,\n",
    "            title= \"De novo\" if kind==\"de_novo\" else \"In database\",\n",
    "            xlabel= \"p\", ylabel=\"meanF1\")\n"
   ]
  },
  {
   "cell_type": "code",
   "execution_count": 17,
   "metadata": {},
   "outputs": [
    {
     "name": "stderr",
     "output_type": "stream",
     "text": [
      "../utils/metrics.py:228: RuntimeWarning: Mean of empty slice\n",
      "  \"mr\": np.nanmean(recs_some, axis=1),\n",
      "../utils/metrics.py:230: RuntimeWarning: Mean of empty slice\n",
      "  \"mf1\": np.nanmean(f1_some, axis=1),\n",
      "../utils/metrics.py:231: RuntimeWarning: Mean of empty slice\n",
      "  \"mps\": np.nanmean(precs_m, axis=1)\n"
     ]
    },
    {
     "name": "stdout",
     "output_type": "stream",
     "text": [
      "mlp_2_.1\n"
     ]
    },
    {
     "data": {
      "image/png": "[encoded data removed]",
      "text/plain": [
       "<Figure size 504x288 with 1 Axes>"
      ]
     },
     "metadata": {
      "needs_background": "light"
     },
     "output_type": "display_data"
    }
   ],
   "source": [
    "orderer_f = lambda x: (x.split(\"_\")[1], x.split(\"_\")[2][1])\n",
    "hue_f = lambda x: [1,3,5,8].index(int(x.split(\"_\")[2][1]))\n",
    "_, scores_test = model_selection_random(P_FOLDER, \"fixed_libtest2\", predictors={best_p_name: predictors[best_p_name]})\n",
    "plot_scores(scores_test, metrics=\"mf1\", x=probs, grouper_f=lambda x: x.split(\"_\")[1],\n",
    "            orderer_f=orderer_f,hue_f=hue_f,\n",
    "            title= \"De novo\" if kind==\"de_novo\" else \"In database\",\n",
    "            xlabel= \"p\", ylabel=\"meanF1\")"
   ]
  },
  {
   "cell_type": "markdown",
   "metadata": {},
   "source": [
    "## Supertest"
   ]
  },
  {
   "cell_type": "code",
   "execution_count": 18,
   "metadata": {},
   "outputs": [],
   "source": [
    "ds = datasets[\"fixed_supertest\"]\n",
    "batch_size = 1\n",
    "predictor = predictors[best_p_name]"
   ]
  },
  {
   "cell_type": "code",
   "execution_count": 19,
   "metadata": {},
   "outputs": [],
   "source": [
    "some_pred_per_p, _, _ = predictor.predict_random_all(ds,[0])\n",
    "preds = some_pred_per_p[0]"
   ]
  },
  {
   "cell_type": "code",
   "execution_count": 20,
   "metadata": {},
   "outputs": [],
   "source": [
    "from utils.prediction_utils import enhance_spectra, predict_spectra\n",
    "        \n",
    "enhanced_spectra = [*enhance_spectra(spectrums_supertest, preds, 5)]\n",
    "predicted_spectra = [*predict_spectra(spectrums_supertest, preds, 5)]\n"
   ]
  },
  {
   "cell_type": "code",
   "execution_count": 21,
   "metadata": {},
   "outputs": [],
   "source": [
    "from matchms.exporting import save_as_msp"
   ]
  },
  {
   "cell_type": "code",
   "execution_count": 22,
   "metadata": {},
   "outputs": [],
   "source": [
    "# save_as_msp(enhanced_spectra, f\"{data_realtest_path[:-4]}_enh_{best_p_name}.msp\")\n",
    "save_as_msp(predicted_spectra, f\"{data_realtest_path[:-4]}_pred_{best_p_name}.msp\")\n",
    "\n",
    "# put(f\"{data_realtest_path[:-4]}_enh_{best_p_name}.msp\")\n",
    "# put(f\"{data_realtest_path[:-4]}_pred_{best_p_name}.msp\")"
   ]
  },
  {
   "cell_type": "code",
   "execution_count": 23,
   "metadata": {},
   "outputs": [
    {
     "data": {
      "text/plain": [
       "[[array([81]),\n",
       "  array([ 72,  88, 144, 189, 331, 333]),\n",
       "  array([ 81,  86,  91,  93, 106, 281]),\n",
       "  array([104, 126, 155, 157, 207, 280]),\n",
       "  array([ 81,  95,  97, 157, 173, 242]),\n",
       "  array([279]),\n",
       "  array([ 95, 126, 192]),\n",
       "  array([155, 156, 212, 241, 332]),\n",
       "  array([ 78,  91,  93, 107, 122, 174, 198, 249, 251, 280]),\n",
       "  array([111, 112]),\n",
       "  array([], dtype=int64),\n",
       "  array([ 93, 147]),\n",
       "  array([ 86, 149, 167, 168]),\n",
       "  array([112, 167]),\n",
       "  array([101, 125]),\n",
       "  array([ 77,  90, 105, 121, 136, 144, 175, 188, 191, 192, 221]),\n",
       "  array([148, 150, 191]),\n",
       "  array([117, 118, 149]),\n",
       "  array([119]),\n",
       "  array([131, 160, 189]),\n",
       "  array([ 77,  84, 106, 242, 262]),\n",
       "  array([ 73, 166, 174, 202]),\n",
       "  array([201, 216, 217]),\n",
       "  array([ 51,  78, 105, 183, 186, 187, 288]),\n",
       "  array([ 91, 119, 183, 203, 230]),\n",
       "  array([ 51, 186]),\n",
       "  array([229]),\n",
       "  array([ 93, 117, 166]),\n",
       "  array([217]),\n",
       "  array([113, 234, 235, 307]),\n",
       "  array([113, 118, 146, 161, 172]),\n",
       "  array([], dtype=int64),\n",
       "  array([158, 230, 353]),\n",
       "  array([ 75, 231, 232, 247, 317, 409]),\n",
       "  array([295, 315]),\n",
       "  array([132, 175, 181, 182, 193, 195, 283, 302, 303]),\n",
       "  array([103, 130, 131, 133, 145, 204, 231]),\n",
       "  array([152, 163, 197, 206, 210, 224, 226, 253, 254, 281, 282]),\n",
       "  array([ 91, 159, 288]),\n",
       "  array([ 85, 110, 207]),\n",
       "  array([119, 121, 141, 149, 157, 257]),\n",
       "  array([ 91, 118, 119, 121, 178, 187, 203]),\n",
       "  array([175, 247]),\n",
       "  array([ 50,  74,  89,  90, 104, 105, 179, 223, 251, 254]),\n",
       "  array([101, 131]),\n",
       "  array([125, 171, 172, 174]),\n",
       "  array([104, 228, 286]),\n",
       "  array([], dtype=int64),\n",
       "  array([190, 191, 244]),\n",
       "  array([ 75, 185, 190, 201, 204, 217, 221]),\n",
       "  array([179, 182]),\n",
       "  array([195, 198, 199, 373]),\n",
       "  array([ 72, 115]),\n",
       "  array([ 55, 125, 181, 228]),\n",
       "  array([ 55,  69, 114, 182, 210, 223, 235, 238, 257, 328, 331, 351]),\n",
       "  array([ 69,  93, 142, 244, 353, 354]),\n",
       "  array([113, 325, 327]),\n",
       "  array([202, 252]),\n",
       "  array([112, 114, 132]),\n",
       "  array([203, 204, 215]),\n",
       "  array([156, 294]),\n",
       "  array([131, 176, 200, 201, 249, 325, 326]),\n",
       "  array([121, 145, 147, 212, 231, 315]),\n",
       "  array([154, 155, 157, 181, 183, 210, 212, 215, 257, 259]),\n",
       "  array([ 93, 155, 158, 193, 194, 195, 213, 214, 258]),\n",
       "  array([113, 247]),\n",
       "  array([ 85, 248, 273]),\n",
       "  array([], dtype=int64),\n",
       "  array([192, 268, 279]),\n",
       "  array([197, 198, 200, 212]),\n",
       "  array([117, 201, 203, 229, 232, 317]),\n",
       "  array([142, 259, 327]),\n",
       "  array([259, 280]),\n",
       "  array([223, 236, 238, 270, 294, 305, 307]),\n",
       "  array([401]),\n",
       "  array([135]),\n",
       "  array([167, 181, 229]),\n",
       "  array([ 59,  73, 181, 209, 212, 227, 240, 299, 301, 314, 318, 344, 357,\n",
       "         373, 386, 389]),\n",
       "  array([ 88, 149, 152, 195, 197, 212, 257, 414, 416]),\n",
       "  array([299, 300, 303, 314, 315, 341, 358, 371]),\n",
       "  array([109, 142, 248, 257, 266]),\n",
       "  array([ 76, 157, 228, 231, 245, 257, 272, 362]),\n",
       "  array([ 75, 117, 129, 137, 145, 149, 152, 155, 183, 187, 189, 193, 195,\n",
       "         197, 199, 210, 229, 230, 232, 233, 243, 246, 247, 257, 261, 274,\n",
       "         288, 301, 304, 347, 349, 363, 378]),\n",
       "  array([273, 276, 303, 306]),\n",
       "  array([175, 286, 287, 303, 320]),\n",
       "  array([274, 275]),\n",
       "  array([156, 238, 240]),\n",
       "  array([ 75,  77,  81,  89,  91,  93, 109, 133, 134, 135, 149, 152, 169,\n",
       "         184, 185, 200, 212, 245, 294, 295, 329]),\n",
       "  array([ 81, 132, 134, 139, 287, 328]),\n",
       "  array([104, 133, 150]),\n",
       "  array([135, 137, 330]),\n",
       "  array([ 90, 136, 150, 245, 279, 316, 317]),\n",
       "  array([ 95, 124, 134, 315]),\n",
       "  array([ 65,  91, 120, 121, 136]),\n",
       "  array([158, 320]),\n",
       "  array([184, 211, 225, 237, 268, 269]),\n",
       "  array([119, 132, 275, 292]),\n",
       "  array([192, 217, 220, 233]),\n",
       "  array([173, 174, 176, 367]),\n",
       "  array([101, 105, 128, 131, 157, 202, 204, 278, 306]),\n",
       "  array([102, 104, 157, 197, 263, 273]),\n",
       "  array([106, 172, 181, 183, 184, 197, 199, 280, 345]),\n",
       "  array([190, 207, 219, 220, 311, 344]),\n",
       "  array([155, 182, 210, 255]),\n",
       "  array([142, 159, 175, 190, 437]),\n",
       "  array([ 85,  93, 107, 142, 156, 157, 175, 201, 213, 226, 231, 245, 256,\n",
       "         261, 267]),\n",
       "  array([ 73,  75,  84, 102, 113, 127, 142, 145, 168, 172, 185, 199, 214,\n",
       "         227, 229, 240, 252, 253, 256, 315, 316]),\n",
       "  array([218, 239, 240]),\n",
       "  array([157, 181, 292, 298, 332]),\n",
       "  array([ 88, 101, 131, 133, 134]),\n",
       "  array([ 63,  77, 131, 134, 160, 190, 191, 219, 221]),\n",
       "  array([147, 160, 225, 260]),\n",
       "  array([296, 338, 352, 354]),\n",
       "  array([171, 173, 195, 197, 392, 435, 437]),\n",
       "  array([286]),\n",
       "  array([ 69,  81, 109, 114, 115, 117, 125, 141, 144, 172, 183, 187, 197,\n",
       "         203, 206, 207, 211, 242, 244, 271, 273, 276, 345, 415, 416]),\n",
       "  array([111, 112, 155, 177, 234]),\n",
       "  array([131, 246, 272, 273, 288]),\n",
       "  array([155, 171, 174, 214, 254, 256, 257, 259, 270, 314]),\n",
       "  array([ 73,  81, 157, 211, 213, 241, 283, 318, 321]),\n",
       "  array([ 91, 189, 191, 328, 442]),\n",
       "  array([163, 192, 208, 319, 320]),\n",
       "  array([190, 218, 219]),\n",
       "  array([201, 353, 354, 432]),\n",
       "  array([289, 291, 325, 387, 431]),\n",
       "  array([243, 383]),\n",
       "  array([203, 204]),\n",
       "  array([191, 283, 312]),\n",
       "  array([155, 169, 195, 199, 226, 227, 312]),\n",
       "  array([205, 262, 279, 303, 349, 352, 381, 382, 409, 410, 426, 439]),\n",
       "  array([522]),\n",
       "  array([287]),\n",
       "  array([ 75, 460]),\n",
       "  array([141, 157, 185, 195, 213, 217, 225, 242, 244, 246, 259]),\n",
       "  array([157, 172, 186, 286, 291]),\n",
       "  array([362, 451]),\n",
       "  array([ 83, 173, 174]),\n",
       "  array([ 95, 114, 128, 131, 143, 144, 147, 156, 298, 300, 314, 327, 328]),\n",
       "  array([309, 462]),\n",
       "  array([ 81,  93,  95, 105, 109, 111, 117, 118, 119, 121, 123, 130, 131,\n",
       "         133, 135, 143, 147, 157, 161, 171, 186, 187, 216, 227, 232, 246,\n",
       "         249, 257, 258, 261, 300, 315, 327, 366]),\n",
       "  array([ 93,  97, 105, 109, 121, 136]),\n",
       "  array([ 81,  95, 106, 119, 122]),\n",
       "  array([ 95, 132, 163, 344, 354, 357, 563]),\n",
       "  array([77]),\n",
       "  array([ 81,  95, 104, 120, 165, 178]),\n",
       "  array([118, 145, 147, 152, 268, 282, 326, 339, 342, 356, 387, 403]),\n",
       "  array([166, 193, 208, 280, 475, 477]),\n",
       "  array([155, 164, 168, 181, 195, 211, 240, 326, 342, 343, 386, 388, 477]),\n",
       "  array([ 69, 147, 178, 189, 313, 326, 329, 417]),\n",
       "  array([210]),\n",
       "  array([ 77,  79,  93,  99, 294]),\n",
       "  array([224, 227, 344, 360, 374]),\n",
       "  array([286]),\n",
       "  array([ 77, 194, 195, 340, 341, 343, 344, 346]),\n",
       "  array([144, 163, 198, 212, 213]),\n",
       "  array([ 79, 106, 163, 179, 180, 195, 197, 198, 224, 228, 229, 241, 251,\n",
       "         253, 254, 255, 268, 282, 297, 329, 343, 345]),\n",
       "  array([ 73, 181, 183, 191, 195, 197, 212, 228, 267, 269, 281, 283]),\n",
       "  array([208, 209, 211, 344]),\n",
       "  array([226]),\n",
       "  array([121, 155, 161, 194, 196, 208, 210, 312, 344, 401]),\n",
       "  array([ 78, 105, 224, 285, 355, 358, 359, 414, 431]),\n",
       "  array([195, 228, 230, 231, 270, 342]),\n",
       "  array([ 88, 210, 211, 214, 229, 493]),\n",
       "  array([195, 196, 198, 209, 252, 253, 326]),\n",
       "  array([ 93, 128, 198, 210, 211, 213, 248, 252, 268, 282, 322, 325, 326,\n",
       "         342, 343, 345, 387, 389, 390])]]"
      ]
     },
     "execution_count": 23,
     "metadata": {},
     "output_type": "execute_result"
    }
   ],
   "source": [
    "some_pred_per_p"
   ]
  },
  {
   "cell_type": "code",
   "execution_count": 24,
   "metadata": {},
   "outputs": [
    {
     "ename": "AssertionError",
     "evalue": "",
     "output_type": "error",
     "traceback": [
      "\u001b[0;31m---------------------------------------------------------------------------\u001b[0m",
      "\u001b[0;31mAssertionError\u001b[0m                            Traceback (most recent call last)",
      "\u001b[0;32m<ipython-input-24-a871fdc9ebee>\u001b[0m in \u001b[0;36m<module>\u001b[0;34m\u001b[0m\n\u001b[0;32m----> 1\u001b[0;31m \u001b[0;32massert\u001b[0m \u001b[0;32mFalse\u001b[0m\u001b[0;34m\u001b[0m\u001b[0;34m\u001b[0m\u001b[0m\n\u001b[0m",
      "\u001b[0;31mAssertionError\u001b[0m: "
     ]
    }
   ],
   "source": [
    "assert False"
   ]
  },
  {
   "cell_type": "code",
   "execution_count": null,
   "metadata": {},
   "outputs": [],
   "source": []
  },
  {
   "cell_type": "code",
   "execution_count": null,
   "metadata": {},
   "outputs": [],
   "source": []
  },
  {
   "cell_type": "code",
   "execution_count": null,
   "metadata": {},
   "outputs": [],
   "source": []
  },
  {
   "cell_type": "code",
   "execution_count": null,
   "metadata": {},
   "outputs": [],
   "source": []
  },
  {
   "cell_type": "code",
   "execution_count": null,
   "metadata": {},
   "outputs": [],
   "source": []
  },
  {
   "cell_type": "code",
   "execution_count": null,
   "metadata": {},
   "outputs": [],
   "source": []
  },
  {
   "cell_type": "code",
   "execution_count": null,
   "metadata": {},
   "outputs": [],
   "source": []
  },
  {
   "cell_type": "code",
   "execution_count": null,
   "metadata": {},
   "outputs": [],
   "source": []
  },
  {
   "cell_type": "code",
   "execution_count": null,
   "metadata": {},
   "outputs": [],
   "source": []
  },
  {
   "cell_type": "code",
   "execution_count": null,
   "metadata": {},
   "outputs": [],
   "source": []
  },
  {
   "cell_type": "code",
   "execution_count": null,
   "metadata": {},
   "outputs": [],
   "source": []
  },
  {
   "cell_type": "code",
   "execution_count": null,
   "metadata": {},
   "outputs": [],
   "source": []
  },
  {
   "cell_type": "code",
   "execution_count": null,
   "metadata": {},
   "outputs": [],
   "source": []
  },
  {
   "cell_type": "code",
   "execution_count": null,
   "metadata": {},
   "outputs": [],
   "source": []
  },
  {
   "cell_type": "code",
   "execution_count": null,
   "metadata": {},
   "outputs": [],
   "source": []
  },
  {
   "cell_type": "code",
   "execution_count": null,
   "metadata": {},
   "outputs": [],
   "source": []
  },
  {
   "cell_type": "code",
   "execution_count": null,
   "metadata": {},
   "outputs": [],
   "source": []
  },
  {
   "cell_type": "code",
   "execution_count": null,
   "metadata": {},
   "outputs": [],
   "source": []
  },
  {
   "cell_type": "code",
   "execution_count": null,
   "metadata": {},
   "outputs": [],
   "source": [
    "def loader_gen(ds, batch_size):\n",
    "    \n",
    "    for i in range((len(ds)//batch_size)):\n",
    "        n_sam = batch_size #if i*batch_size < len(ds) else len(ds) % batch_size\n",
    "        batch = torch.zeros(batch_size, 1001), torch.zeros(batch_size, 1001)\n",
    "        for j in range(n_sam):\n",
    "            batch[0][j] = ds[i*batch_size+j][0]\n",
    "            batch[1][j] = ds[i*batch_size+j][1]\n",
    "        yield batch\n",
    "            \n",
    "    n_sam = len(ds)% batch_size\n",
    "            \n",
    "    batch = torch.zeros(batch_size, 1001), torch.zeros(batch_size, 1001)    \n",
    "    for j in range((len(ds) % batch_size)):\n",
    "        batch[0][j] = ds[(i+1)*batch_size+j][0]\n",
    "        batch[1][j] = ds[(i+1)*batch_size+j][1]\n",
    "        yield batch\n",
    "            \n",
    "loader = loader_gen(ds, batch_size)\n",
    "len_loader = len(ds)//batch_size + 1\n",
    "\n",
    "\n",
    "X_intens = [np.sort(s.peaks.intensities)[::-1] for s in ds.spectrums]\n",
    "\n"
   ]
  },
  {
   "cell_type": "code",
   "execution_count": null,
   "metadata": {},
   "outputs": [],
   "source": [
    "len(ds)"
   ]
  },
  {
   "cell_type": "code",
   "execution_count": null,
   "metadata": {},
   "outputs": [],
   "source": [
    "from tqdm import tqdm\n",
    "preds = []\n",
    "for b, X_dict_batch_ in enumerate(tqdm(loader)):\n",
    "    #print(X_dict_batch_)\n",
    "#     X_dict_batch = {\"input_ids\": torch.atleast_2d(X_dict_batch_[\"input_ids\"][X_dict_batch_[\"attention_mask\"] == 1])}\n",
    "    #print(X_dict_batch)\n",
    "    pred = predictor.predict_l_next(X_dict_batch, l=10)[0]\n",
    "#     pred = predictor.coder.index2mz[pred]\n",
    "    preds.append(pred)"
   ]
  },
  {
   "cell_type": "code",
   "execution_count": null,
   "metadata": {},
   "outputs": [],
   "source": [
    "len(preds)"
   ]
  },
  {
   "cell_type": "code",
   "execution_count": null,
   "metadata": {},
   "outputs": [],
   "source": [
    "hugg_ds.ref_docs[0]"
   ]
  },
  {
   "cell_type": "code",
   "execution_count": null,
   "metadata": {},
   "outputs": [],
   "source": [
    "spectrums_supertest[1].metadata"
   ]
  },
  {
   "cell_type": "code",
   "execution_count": null,
   "metadata": {},
   "outputs": [],
   "source": [
    "spectrums_supertest[0].peaks.mz"
   ]
  },
  {
   "cell_type": "code",
   "execution_count": null,
   "metadata": {},
   "outputs": [],
   "source": []
  },
  {
   "cell_type": "code",
   "execution_count": null,
   "metadata": {},
   "outputs": [],
   "source": []
  }
 ],
 "metadata": {
  "kernelspec": {
   "display_name": "Python 3",
   "language": "python",
   "name": "python3"
  },
  "language_info": {
   "codemirror_mode": {
    "name": "ipython",
    "version": 3
   },
   "file_extension": ".py",
   "mimetype": "text/x-python",
   "name": "python",
   "nbconvert_exporter": "python",
   "pygments_lexer": "ipython3",
   "version": "3.8.5"
  }
 },
 "nbformat": 4,
 "nbformat_minor": 4
}
