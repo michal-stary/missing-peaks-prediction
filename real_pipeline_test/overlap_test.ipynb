{
 "cells": [
  {
   "cell_type": "code",
   "execution_count": 1,
   "metadata": {},
   "outputs": [],
   "source": [
    "%load_ext autoreload\n",
    "%autoreload 2"
   ]
  },
  {
   "cell_type": "code",
   "execution_count": 2,
   "metadata": {},
   "outputs": [],
   "source": [
    "import sys\n",
    "sys.path.append(\"..\")\n",
    "\n",
    "import pandas as pd\n",
    "import matchms\n",
    "from matchms.importing import load_from_msp\n",
    "from data_utils import spectrum_processing\n",
    "from pipeline_utils import get_galaxy_filename\n",
    "\n",
    "def get_spectra(path):\n",
    "    spectrums = [spectrum_processing(s, min_rel_int=None, n_required_peaks=1) for s in load_from_msp(path, metadata_harmonization=False)]\n",
    "    # Omit spectrums that didn't qualify for analysis\n",
    "    spectrums = [s for s in spectrums if s is not None]\n",
    "    return spectrums"
   ]
  },
  {
   "cell_type": "code",
   "execution_count": 4,
   "metadata": {},
   "outputs": [],
   "source": [
    "# model = \"Orig_exp_6\"\n",
    "\n",
    "# ground = pd.read_csv(\"tmp/6_KC_Confirmed_seminalplasma.csv.csv\")\n",
    "library = get_spectra(\"tmp/5_rcx_gc-orbitrap_metabolites_20210817.msp.msp\")\n",
    "library_nonist = get_spectra(\"tmp/5_rcx_gc-orbitrap_metabolites_20210817_nonist.msp.msp\")\n",
    "# measured = get_spectra(get_galaxy_filename(f\"_{model}\", \"tmp\"))\n",
    "# matches = pd.read_csv(get_galaxy_filename(f\"- {model}\", \"tmp\"), sep=\"\\t\")"
   ]
  },
  {
   "cell_type": "code",
   "execution_count": 8,
   "metadata": {},
   "outputs": [
    {
     "data": {
      "text/plain": [
       "265"
      ]
     },
     "execution_count": 8,
     "metadata": {},
     "output_type": "execute_result"
    }
   ],
   "source": [
    "len(library_nonist)"
   ]
  },
  {
   "cell_type": "code",
   "execution_count": 9,
   "metadata": {},
   "outputs": [
    {
     "data": {
      "text/plain": [
       "265"
      ]
     },
     "execution_count": 9,
     "metadata": {},
     "output_type": "execute_result"
    }
   ],
   "source": [
    "len(library)"
   ]
  },
  {
   "cell_type": "code",
   "execution_count": null,
   "metadata": {},
   "outputs": [],
   "source": []
  }
 ],
 "metadata": {
  "kernelspec": {
   "display_name": "Python 3",
   "language": "python",
   "name": "python3"
  },
  "language_info": {
   "codemirror_mode": {
    "name": "ipython",
    "version": 3
   },
   "file_extension": ".py",
   "mimetype": "text/x-python",
   "name": "python",
   "nbconvert_exporter": "python",
   "pygments_lexer": "ipython3",
   "version": "3.8.10"
  }
 },
 "nbformat": 4,
 "nbformat_minor": 4
}
