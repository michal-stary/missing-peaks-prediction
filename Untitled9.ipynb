{
 "cells": [
  {
   "cell_type": "code",
   "execution_count": null,
   "id": "408672c5-e75a-4d1a-82c7-33155d0c5676",
   "metadata": {},
   "outputs": [],
   "source": [
    "\"DD\""
   ]
  },
  {
   "cell_type": "code",
   "execution_count": null,
   "id": "d73eb199-7a7c-4c4f-aa97-aac1cc352970",
   "metadata": {},
   "outputs": [],
   "source": []
  }
 ],
 "metadata": {
  "kernelspec": {
   "display_name": "Python 3",
   "language": "python",
   "name": "python3"
  },
  "language_info": {
   "name": ""
  }
 },
 "nbformat": 4,
 "nbformat_minor": 5
}
