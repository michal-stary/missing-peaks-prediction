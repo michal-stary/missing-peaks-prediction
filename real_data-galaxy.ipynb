{
 "cells": [
  {
   "cell_type": "markdown",
   "metadata": {},
   "source": [
    "# Real data validation"
   ]
  },
  {
   "cell_type": "code",
   "execution_count": 1,
   "metadata": {},
   "outputs": [],
   "source": [
    "measured_path = [\"../data/7_RI using kovats of Mass spectra from RAMClustR on data 71.msp\"]\n",
    "matched_path = [\"../data/10_matchms output formatter _get-thresholded-data_ on data 76 and data 75.tsv\"]\n",
    "reference_lib = \"../data/1_rcx_gc-orbitrap_metabolites_20210817.msp.msp\"\n",
    "concs = [\"all\"]\n",
    "\n",
    "\n",
    "%load_ext autoreload\n",
    "%autoreload 2"
   ]
  },
  {
   "cell_type": "code",
   "execution_count": 2,
   "metadata": {},
   "outputs": [
    {
     "name": "stderr",
     "output_type": "stream",
     "text": [
      "/opt/conda/lib/python3.7/site-packages/pandas/compat/_optional.py:138: UserWarning: Pandas requires version '2.7.0' or newer of 'numexpr' (version '2.6.9' currently installed).\n",
      "  warnings.warn(msg, UserWarning)\n",
      "/opt/conda/lib/python3.7/site-packages/statsmodels/tools/_testing.py:19: FutureWarning: pandas.util.testing is deprecated. Use the functions in the public API at pandas.testing instead.\n",
      "  import pandas.util.testing as tm\n"
     ]
    }
   ],
   "source": [
    "from matchms.importing import load_from_msp\n",
    "from data_utils import spectrum_processing, get_n_samples\n",
    "from helpers import get_mz_vector, get_his_size, compact_to_mz\n",
    "from visual_utils import plot_spectrum_sample_prediction\n",
    "\n",
    "import numpy as np\n",
    "from matchms.filtering import normalize_intensities\n",
    "\n",
    "\n",
    "import seaborn as sns\n",
    "import pandas as pd\n",
    "import matplotlib.pyplot as plt\n",
    "from matchms.plotting import spectrum_plots"
   ]
  },
  {
   "cell_type": "markdown",
   "metadata": {},
   "source": [
    "## Data loading"
   ]
  },
  {
   "cell_type": "code",
   "execution_count": 3,
   "metadata": {},
   "outputs": [],
   "source": [
    "def get_spectra(path):\n",
    "    # Load data from MSP file and apply filters\n",
    "    spectrums = [*load_from_msp(path,  metadata_harmonization=False)]\n",
    "    # Omit spectrums that didn't qualify for analysis\n",
    "    spectrums = [normalize_intensities(s) for s in spectrums if s is not None]\n",
    "    # Create spectrum documents\n",
    "    return spectrums\n",
    "\n",
    "# spectrums_val = get_spectra(data_val_path)\n",
    "# spectrums_test = get_spectra(data_test_path)"
   ]
  },
  {
   "cell_type": "code",
   "execution_count": 4,
   "metadata": {},
   "outputs": [],
   "source": [
    "measured, matched, enhanced = dict(), dict(), dict()\n",
    "for i, conc in enumerate(concs):\n",
    "    measured[conc] = {s.metadata[\"compound_name\"]:s for s in get_spectra(f\"{measured_path[i]}\")}\n",
    "    measured[conc+\"_enh\"] = {s.metadata[\"compound_name\"]:s for s in get_spectra(f\"{measured_path[i][:-4]}_enh.msp\")}\n",
    "    enhanced[conc] = {s.metadata[\"compound_name\"]:s for s in get_spectra(f\"{measured_path[i][:-4]}_enh.msp\")}\n",
    "    \n",
    "    \n",
    "    matched[conc] = pd.read_csv(f\"{matched_path[i]}\", sep=\"\\t\", names=[\"id\", \"name\", \"n_ions\", \t\"confidence\"]).iloc[1:]\n",
    "    matched[conc+\"_enh\"] = pd.read_csv(f\"{matched_path[i]}\", sep=\"\\t\", names=[\"id\", \"name\", \"n_ions\", \t\"confidence\"])..iloc[1:]\n",
    "    "
   ]
  },
  {
   "cell_type": "code",
   "execution_count": 5,
   "metadata": {},
   "outputs": [],
   "source": [
    "library = {s.metadata[\"compound_name\"]:s for s in get_spectra(reference_lib)}"
   ]
  },
  {
   "cell_type": "code",
   "execution_count": 6,
   "metadata": {},
   "outputs": [
    {
     "data": {
      "text/plain": [
       "{'Acetylserotonin_2TMS isomer 2': <matchms.Spectrum.Spectrum at 0x7f9d87b26828>,\n",
       " 'Acetylserotonin_TMS derivative': <matchms.Spectrum.Spectrum at 0x7f9d87b26b38>,\n",
       " 'Acetylserotonin_3TMS': <matchms.Spectrum.Spectrum at 0x7f9d87d87940>,\n",
       " 'Acetylserotonin_2TMS isomer 1': <matchms.Spectrum.Spectrum at 0x7f9d87b2d278>,\n",
       " 'Methylnicotinamide': <matchms.Spectrum.Spectrum at 0x7f9d87b2d400>,\n",
       " 'Pipecolinic acid_2TMS': <matchms.Spectrum.Spectrum at 0x7f9d87b2d470>,\n",
       " 'Pipecolinic acid_1TMS': <matchms.Spectrum.Spectrum at 0x7f9d87b2d518>,\n",
       " 'Nicotinic acid_1TMS': <matchms.Spectrum.Spectrum at 0x7f9d87b2d5f8>,\n",
       " 'Ribose_4TMS': <matchms.Spectrum.Spectrum at 0x7f9d87b2d6a0>,\n",
       " 'Syringic acid_2TMS': <matchms.Spectrum.Spectrum at 0x7f9d87b2d748>,\n",
       " 'Guanine_3TMS': <matchms.Spectrum.Spectrum at 0x7f9d87b2d7b8>,\n",
       " 'Guanine_4TMS': <matchms.Spectrum.Spectrum at 0x7f9d87b2d860>,\n",
       " 'Leucine_2TMS': <matchms.Spectrum.Spectrum at 0x7f9d87b2d940>,\n",
       " 'Gallic acid_4TMS': <matchms.Spectrum.Spectrum at 0x7f9d87b2d9b0>,\n",
       " 'trans-Caffeic acid_3TMS': <matchms.Spectrum.Spectrum at 0x7f9d87b2da58>,\n",
       " 'cis-Caffeic acid_3TMS': <matchms.Spectrum.Spectrum at 0x7f9d87b2db38>,\n",
       " 'Acetylglucosamine_5TMS isomer 1': <matchms.Spectrum.Spectrum at 0x7f9d87b2dbe0>,\n",
       " 'Acetylglucosamine_5TMS isomer 2': <matchms.Spectrum.Spectrum at 0x7f9d87b2dc88>,\n",
       " '4-Hydroxy-3methoxyphenylacetic acid_2TMS': <matchms.Spectrum.Spectrum at 0x7f9d87b2dcf8>,\n",
       " 'Glycine_3TMS': <matchms.Spectrum.Spectrum at 0x7f9d87b2ddd8>,\n",
       " 'Thymine_2TMS': <matchms.Spectrum.Spectrum at 0x7f9d87b2de48>,\n",
       " 'Asparagine_3TMS': <matchms.Spectrum.Spectrum at 0x7f9d87b2def0>,\n",
       " 'Asparagine_2TMS': <matchms.Spectrum.Spectrum at 0x7f9d87b2df98>,\n",
       " 'Asparagine_4TMS isomer 1': <matchms.Spectrum.Spectrum at 0x7f9d87b35080>,\n",
       " 'Asparagine_4TMS isomer 2': <matchms.Spectrum.Spectrum at 0x7f9d87b35128>,\n",
       " 'Azelaic acid_2TMS': <matchms.Spectrum.Spectrum at 0x7f9d87b35208>,\n",
       " 'Indole-3-acetic acid_2TMS': <matchms.Spectrum.Spectrum at 0x7f9d87b352b0>,\n",
       " 'Indole-3-acetic acid_1TMS': <matchms.Spectrum.Spectrum at 0x7f9d87b35320>,\n",
       " 'Acetyltyrosine_2TMS': <matchms.Spectrum.Spectrum at 0x7f9d87b35400>,\n",
       " 'Acetyltyrosine_3TMS': <matchms.Spectrum.Spectrum at 0x7f9d87b35470>,\n",
       " 'Allantoin_5TMS': <matchms.Spectrum.Spectrum at 0x7f9d87b35518>,\n",
       " 'Allantoin_4TMS': <matchms.Spectrum.Spectrum at 0x7f9d87b355f8>,\n",
       " 'Allantoin_3TMS': <matchms.Spectrum.Spectrum at 0x7f9d87b356a0>,\n",
       " 'Theobromine_1TMS': <matchms.Spectrum.Spectrum at 0x7f9d87b35748>,\n",
       " 'Glucose-6-phosphate_6TMS isomer 1': <matchms.Spectrum.Spectrum at 0x7f9d87b357f0>,\n",
       " 'Glucose-6-phosphate_6TMS isomer 2': <matchms.Spectrum.Spectrum at 0x7f9d87b35898>,\n",
       " 'Galactitol_6TMS': <matchms.Spectrum.Spectrum at 0x7f9d87b35940>,\n",
       " 'Ribitol_5TMS': <matchms.Spectrum.Spectrum at 0x7f9d87b359e8>,\n",
       " 'Glutamic acid_3TMS spectra 2': <matchms.Spectrum.Spectrum at 0x7f9d87b35a58>,\n",
       " 'Pyroglutamic acid_2TMS': <matchms.Spectrum.Spectrum at 0x7f9d87ac5c88>,\n",
       " 'Glutamic acid_2TMS': <matchms.Spectrum.Spectrum at 0x7f9d87b35ba8>,\n",
       " 'Cholestanol_1TMS': <matchms.Spectrum.Spectrum at 0x7f9d87b35c88>,\n",
       " 'Succinic acid_1TMS': <matchms.Spectrum.Spectrum at 0x7f9d87b35d30>,\n",
       " 'Maltose_8TMS isomer 1': <matchms.Spectrum.Spectrum at 0x7f9d87b35da0>,\n",
       " 'Maltose_8TMS isomer 2': <matchms.Spectrum.Spectrum at 0x7f9d87b35e48>,\n",
       " 'Alanine_3TMS': <matchms.Spectrum.Spectrum at 0x7f9d87b35f28>,\n",
       " 'Alanine_2TMS': <matchms.Spectrum.Spectrum at 0x7f9d87b35fd0>,\n",
       " 'Indole-2-carboxylic acid_1TMS': <matchms.Spectrum.Spectrum at 0x7f9d87b3a080>,\n",
       " 'Aspartic acid_2TMS': <matchms.Spectrum.Spectrum at 0x7f9d87b3a128>,\n",
       " 'Aspartic acid_4TMS': <matchms.Spectrum.Spectrum at 0x7f9d87b3a1d0>,\n",
       " 'Myristic acid_1TMS': <matchms.Spectrum.Spectrum at 0x7f9d87b3a278>,\n",
       " 'Aspartic acid_3TMS isomer': <matchms.Spectrum.Spectrum at 0x7f9d87ae4320>,\n",
       " '3-Indolepropionic acid': <matchms.Spectrum.Spectrum at 0x7f9d87b3a400>,\n",
       " '3-Indolepropionic acid_1TMS': <matchms.Spectrum.Spectrum at 0x7f9d87b3a4a8>,\n",
       " 'Indole-3-carboxylic acid_2TMS': <matchms.Spectrum.Spectrum at 0x7f9d87b3a518>,\n",
       " 'Gluconic acid-1,5-lactone': <matchms.Spectrum.Spectrum at 0x7f9d87b3a5f8>,\n",
       " 'Gluconic acid-1,4-lactone': <matchms.Spectrum.Spectrum at 0x7f9d87b3a668>,\n",
       " 'Gluconic acid_6TMS': <matchms.Spectrum.Spectrum at 0x7f9d87b3a748>,\n",
       " 'Gluconolactone': <matchms.Spectrum.Spectrum at 0x7f9d87b3a7f0>,\n",
       " 'Methylnicotinamide_1TMS': <matchms.Spectrum.Spectrum at 0x7f9d87b3a860>,\n",
       " 'Mannose_5TMS isomer 1': <matchms.Spectrum.Spectrum at 0x7f9d87b3a908>,\n",
       " 'Mannose_5TMS isomer 2': <matchms.Spectrum.Spectrum at 0x7f9d87b3a9e8>,\n",
       " 'Melatonin_2TMS': <matchms.Spectrum.Spectrum at 0x7f9d87b3aa90>,\n",
       " 'Melatonin_1TMS': <matchms.Spectrum.Spectrum at 0x7f9d87b3ab00>,\n",
       " 'Inosine_4TMS': <matchms.Spectrum.Spectrum at 0x7f9d87b3abe0>,\n",
       " 'Acetylleucine_1TMS': <matchms.Spectrum.Spectrum at 0x7f9d87b3ac88>,\n",
       " 'Acetylleucine_2TMS': <matchms.Spectrum.Spectrum at 0x7f9d87b3ad30>,\n",
       " 'Homoveratric_acid_1TMS': <matchms.Spectrum.Spectrum at 0x7f9d87b3ada0>,\n",
       " 'Mannitol_6TMS': <matchms.Spectrum.Spectrum at 0x7f9d87b3ae80>,\n",
       " 'Thymol_1TMS': <matchms.Spectrum.Spectrum at 0x7f9d87b3af28>,\n",
       " 'Tryptophan_3TMS': <matchms.Spectrum.Spectrum at 0x7f9d87b3af98>,\n",
       " 'Tryptophan_2TMS': <matchms.Spectrum.Spectrum at 0x7f9d87abf0b8>,\n",
       " 'trans-Aconitic acid_3TMS': <matchms.Spectrum.Spectrum at 0x7f9d87abf128>,\n",
       " 'Ergosterol_1TMS': <matchms.Spectrum.Spectrum at 0x7f9d87abf208>,\n",
       " '3-Methylglutaric acid_2TMS': <matchms.Spectrum.Spectrum at 0x7f9d87abf278>,\n",
       " 'Arabitol_5TMS': <matchms.Spectrum.Spectrum at 0x7f9d87ac5400>,\n",
       " 'Cholestenone': <matchms.Spectrum.Spectrum at 0x7f9d87abf400>,\n",
       " 'Sorbitol_6TMS': <matchms.Spectrum.Spectrum at 0x7f9d87abf470>,\n",
       " 'Isoleucine_2TMS': <matchms.Spectrum.Spectrum at 0x7f9d87abf518>,\n",
       " 'Fructose_5TMS isomer 1': <matchms.Spectrum.Spectrum at 0x7f9d87abf5c0>,\n",
       " 'Fructose_5TMS isomer 2': <matchms.Spectrum.Spectrum at 0x7f9d87abf6a0>,\n",
       " 'Fumaric acid_2TMS': <matchms.Spectrum.Spectrum at 0x7f9d87abf710>,\n",
       " 'Isocitric acid_4TMS': <matchms.Spectrum.Spectrum at 0x7f9d87abf7b8>,\n",
       " 'Urea_2TMS': <matchms.Spectrum.Spectrum at 0x7f9d87abf898>,\n",
       " 'Urea_3TMS': <matchms.Spectrum.Spectrum at 0x7f9d87abf940>,\n",
       " 'Guanosine_5TMS': <matchms.Spectrum.Spectrum at 0x7f9d87abf9b0>,\n",
       " 'Histidine_3TMS': <matchms.Spectrum.Spectrum at 0x7f9d87abfa58>,\n",
       " 'Histidine_4TMS': <matchms.Spectrum.Spectrum at 0x7f9d87abfb38>,\n",
       " 'Xylose_4TMS': <matchms.Spectrum.Spectrum at 0x7f9d87abfbe0>,\n",
       " 'Acetylalanine_1TMS': <matchms.Spectrum.Spectrum at 0x7f9d87abfc88>,\n",
       " 'Glycylleucine_3TMS': <matchms.Spectrum.Spectrum at 0x7f9d87abfcf8>,\n",
       " '3,4-Dihydroxybenzeneacetic acid_3TMS': <matchms.Spectrum.Spectrum at 0x7f9d87abfdd8>,\n",
       " 'Glycylleucine_4TMS': <matchms.Spectrum.Spectrum at 0x7f9d87abfe80>,\n",
       " 'Indole-3-acetamide_2TMS': <matchms.Spectrum.Spectrum at 0x7f9d87abfef0>,\n",
       " 'Indole-3-acetamide_3TMS': <matchms.Spectrum.Spectrum at 0x7f9d87abff98>,\n",
       " 'Lithocholic acid_2TMS': <matchms.Spectrum.Spectrum at 0x7f9d87ac5080>,\n",
       " 'Allose_5TMS isomer 1': <matchms.Spectrum.Spectrum at 0x7f9d87ac5128>,\n",
       " 'Allose_5TMS isomer 2': <matchms.Spectrum.Spectrum at 0x7f9d87ac51d0>,\n",
       " 'Tetradecanedioic acid_2TMS': <matchms.Spectrum.Spectrum at 0x7f9d87ac52b0>,\n",
       " 'Deoxycholic acid_3TMS': <matchms.Spectrum.Spectrum at 0x7f9d87ac5358>,\n",
       " 'Phosphoserine_4TMS': <matchms.Spectrum.Spectrum at 0x7f9d87ac5470>,\n",
       " 'Malic acid_3TMS': <matchms.Spectrum.Spectrum at 0x7f9d87ac5518>,\n",
       " 'Uracil_2TMS': <matchms.Spectrum.Spectrum at 0x7f9d87ac55f8>,\n",
       " 'Adenosine_4TMS': <matchms.Spectrum.Spectrum at 0x7f9d87ac5668>,\n",
       " 'Adenosine_5TMS': <matchms.Spectrum.Spectrum at 0x7f9d87ac5748>,\n",
       " 'Acetylglutamine_2TMS': <matchms.Spectrum.Spectrum at 0x7f9d87ac57b8>,\n",
       " 'Acetylglutamine_4TMS': <matchms.Spectrum.Spectrum at 0x7f9d87ac5898>,\n",
       " 'gamma-Aminobutyric acid_3TMS': <matchms.Spectrum.Spectrum at 0x7f9d87ac5908>,\n",
       " 'Acetylglutamine_3TMS': <matchms.Spectrum.Spectrum at 0x7f9d87ac59b0>,\n",
       " 'gamma-Aminobutyric acid_2TMS': <matchms.Spectrum.Spectrum at 0x7f9d87ac5a90>,\n",
       " 'Sarcosine_2TMS': <matchms.Spectrum.Spectrum at 0x7f9d87ac5b00>,\n",
       " '2-Methylmalonic acid_2TMS': <matchms.Spectrum.Spectrum at 0x7f9d87ac5be0>,\n",
       " 'Acetylaspartic acid_3TMS': <matchms.Spectrum.Spectrum at 0x7f9d87ac5cf8>,\n",
       " 'Taurine_3TMS': <matchms.Spectrum.Spectrum at 0x7f9d87ac5dd8>,\n",
       " 'Acetylgalactosamine_4TMS': <matchms.Spectrum.Spectrum at 0x7f9d87ac5e80>,\n",
       " 'Citric acid_4TMS': <matchms.Spectrum.Spectrum at 0x7f9d87ac5f28>,\n",
       " 'Acetylgalactosamine_5TMS isomer 1': <matchms.Spectrum.Spectrum at 0x7f9d87ac5fd0>,\n",
       " 'Orotic acid_3TMS': <matchms.Spectrum.Spectrum at 0x7f9d87aca0b8>,\n",
       " 'Acetylgalactosamine_5TMS isomer 2': <matchms.Spectrum.Spectrum at 0x7f9d87aca160>,\n",
       " 'Arginine_3TMS': <matchms.Spectrum.Spectrum at 0x7f9d87aca1d0>,\n",
       " 'Maltotriose_11TMS isomer 1': <matchms.Spectrum.Spectrum at 0x7f9d87aca2b0>,\n",
       " 'Maltotriose_11TMS isomer 2': <matchms.Spectrum.Spectrum at 0x7f9d87aca320>,\n",
       " 'Threonic acid_4TMS': <matchms.Spectrum.Spectrum at 0x7f9d87aca3c8>,\n",
       " 'Threonine_3TMS spectra 2': <matchms.Spectrum.Spectrum at 0x7f9d87aca470>,\n",
       " 'Sebacid acid_2TMS': <matchms.Spectrum.Spectrum at 0x7f9d87aca550>,\n",
       " 'Hypotaurine_3TMS': <matchms.Spectrum.Spectrum at 0x7f9d87aca5c0>,\n",
       " 'Kynurenic acid_2TMS': <matchms.Spectrum.Spectrum at 0x7f9d87aca6a0>,\n",
       " 'Theanine_3TMS': <matchms.Spectrum.Spectrum at 0x7f9d87aca710>,\n",
       " 'Theanine_2TMS': <matchms.Spectrum.Spectrum at 0x7f9d87aca7f0>,\n",
       " '4-Methoxymandelic acid_2TMS': <matchms.Spectrum.Spectrum at 0x7f9d87aca898>,\n",
       " 'Acetyllysine_3TMS': <matchms.Spectrum.Spectrum at 0x7f9d87aca908>,\n",
       " 'Acetyllysine_4TMS': <matchms.Spectrum.Spectrum at 0x7f9d87aca9b0>,\n",
       " 'Methyl stearate': <matchms.Spectrum.Spectrum at 0x7f9d87acaa58>,\n",
       " '6-Aminocaproic acid_3TMS': <matchms.Spectrum.Spectrum at 0x7f9d87acab38>,\n",
       " '6-Aminocaproic acid_2TMS': <matchms.Spectrum.Spectrum at 0x7f9d87acaba8>,\n",
       " 'Suberic acid_2TMS': <matchms.Spectrum.Spectrum at 0x7f9d87acac88>,\n",
       " 'alpha-Methylcinammic acid_1TMS': <matchms.Spectrum.Spectrum at 0x7f9d87acacf8>,\n",
       " 'Maleic acid_2TMS': <matchms.Spectrum.Spectrum at 0x7f9d87acada0>,\n",
       " 'Hydroxyproline_3TMS': <matchms.Spectrum.Spectrum at 0x7f9d87acae80>,\n",
       " 'Cystine_4TMS': <matchms.Spectrum.Spectrum at 0x7f9d87acaf28>,\n",
       " 'Norleucine_2TMS': <matchms.Spectrum.Spectrum at 0x7f9d87acafd0>,\n",
       " 'Creatinine_3TMS': <matchms.Spectrum.Spectrum at 0x7f9d87acf080>,\n",
       " 'Ferulic acid_2TMS': <matchms.Spectrum.Spectrum at 0x7f9d87acf160>,\n",
       " 'Glutaric acid_2TMS': <matchms.Spectrum.Spectrum at 0x7f9d87acf1d0>,\n",
       " 'Methionine_2TMS': <matchms.Spectrum.Spectrum at 0x7f9d87acf278>,\n",
       " 'Cysteine_4TMS': <matchms.Spectrum.Spectrum at 0x7f9d87acf320>,\n",
       " 'Cysteine_3TMS': <matchms.Spectrum.Spectrum at 0x7f9d87acf400>,\n",
       " 'beta-Alanine_3TMS': <matchms.Spectrum.Spectrum at 0x7f9d87acf470>,\n",
       " 'Acetylmethionine_1TMS': <matchms.Spectrum.Spectrum at 0x7f9d87acf550>,\n",
       " 'Acetylmethionine_2TMS': <matchms.Spectrum.Spectrum at 0x7f9d87acf5c0>,\n",
       " 'Lysine_4TMS': <matchms.Spectrum.Spectrum at 0x7f9d87acf668>,\n",
       " 'Lysine_3TMS': <matchms.Spectrum.Spectrum at 0x7f9d87acf748>,\n",
       " 'Methionine sulfoxide_3TMS': <matchms.Spectrum.Spectrum at 0x7f9d87acf7f0>,\n",
       " 'Valine_2TMS': <matchms.Spectrum.Spectrum at 0x7f9d87acf898>,\n",
       " 'Glucuro-3,6-lactone_3TMS isomer 1': <matchms.Spectrum.Spectrum at 0x7f9d87acf908>,\n",
       " 'Glucuro-3,6-lactone_3TMS isomer 2': <matchms.Spectrum.Spectrum at 0x7f9d87acf9b0>,\n",
       " 'Sucrose_8TMS': <matchms.Spectrum.Spectrum at 0x7f9d87acfa90>,\n",
       " 'Itaconic acid_2TMS': <matchms.Spectrum.Spectrum at 0x7f9d87acfb38>,\n",
       " 'Shikimic acid_4TMS': <matchms.Spectrum.Spectrum at 0x7f9d87acfba8>,\n",
       " 'Epinepherine_4TMS': <matchms.Spectrum.Spectrum at 0x7f9d87acfc50>,\n",
       " 'Tryptophol_2TMS': <matchms.Spectrum.Spectrum at 0x7f9d87acfd30>,\n",
       " 'Tryptophol_1TMS': <matchms.Spectrum.Spectrum at 0x7f9d87acfda0>,\n",
       " 'Tyrosine_3TMS': <matchms.Spectrum.Spectrum at 0x7f9d87acfe48>,\n",
       " '3-Chlorotyrosine_3TMS': <matchms.Spectrum.Spectrum at 0x7f9d87acfef0>,\n",
       " 'Acetylproline_1TMS': <matchms.Spectrum.Spectrum at 0x7f9d87acffd0>,\n",
       " 'Vanillic acid_2TMS': <matchms.Spectrum.Spectrum at 0x7f9d87ad50b8>,\n",
       " 'Homoserine_3TMS': <matchms.Spectrum.Spectrum at 0x7f9d87ad5160>,\n",
       " 'Homoserine_4TMS': <matchms.Spectrum.Spectrum at 0x7f9d87ad51d0>,\n",
       " 'Homogentisic acid_3TMS': <matchms.Spectrum.Spectrum at 0x7f9d87ad52b0>,\n",
       " 'Homocysteine_4TMS': <matchms.Spectrum.Spectrum at 0x7f9d87ad5320>,\n",
       " 'Homocysteine_3TMS': <matchms.Spectrum.Spectrum at 0x7f9d87ad5400>,\n",
       " 'Ascorbic acid_4TMS': <matchms.Spectrum.Spectrum at 0x7f9d87ad54a8>,\n",
       " 'Spermine_6TMS': <matchms.Spectrum.Spectrum at 0x7f9d87ad5550>,\n",
       " 'Spermine_derivative': <matchms.Spectrum.Spectrum at 0x7f9d87ad55c0>,\n",
       " 'Stigmasterol_1TMS': <matchms.Spectrum.Spectrum at 0x7f9d87ad56a0>,\n",
       " 'Caffeine': <matchms.Spectrum.Spectrum at 0x7f9d87ad5710>,\n",
       " 'Myo-inositol_6TMS': <matchms.Spectrum.Spectrum at 0x7f9d87ad57b8>,\n",
       " 'Cotinine': <matchms.Spectrum.Spectrum at 0x7f9d87ad5898>,\n",
       " 'Progesterone': <matchms.Spectrum.Spectrum at 0x7f9d87ad5940>,\n",
       " 'Acetylphenylalanine_1TMS': <matchms.Spectrum.Spectrum at 0x7f9d87ad59b0>,\n",
       " 'Acetylalanine_2TMS': <matchms.Spectrum.Spectrum at 0x7f9d87ad5a58>,\n",
       " 'Uric acid_4TMS': <matchms.Spectrum.Spectrum at 0x7f9d87ad5b00>,\n",
       " 'Citraconic acid_2TMS': <matchms.Spectrum.Spectrum at 0x7f9d87ad5be0>,\n",
       " 'Quinolinic aicd_2TMS': <matchms.Spectrum.Spectrum at 0x7f9d87ad5c88>,\n",
       " 'Acetylglutamic acid_3TMS': <matchms.Spectrum.Spectrum at 0x7f9d87ad5cf8>,\n",
       " 'Acetylglutamic acid_2TMS': <matchms.Spectrum.Spectrum at 0x7f9d87ad5dd8>,\n",
       " 'Serotonin_4TMS': <matchms.Spectrum.Spectrum at 0x7f9d87ad5e80>,\n",
       " 'Serotonin_3TMS': <matchms.Spectrum.Spectrum at 0x7f9d87ad5f28>,\n",
       " 'Xanthine_3TMS': <matchms.Spectrum.Spectrum at 0x7f9d87ad5fd0>,\n",
       " 'Serine_3TMS': <matchms.Spectrum.Spectrum at 0x7f9d87ada0b8>,\n",
       " 'Serine_4TMS': <matchms.Spectrum.Spectrum at 0x7f9d87ada128>,\n",
       " 'Acetyltryptophan_3TMS': <matchms.Spectrum.Spectrum at 0x7f9d87ada1d0>,\n",
       " 'Acetyltryptophan_2TMS isomer 1': <matchms.Spectrum.Spectrum at 0x7f9d87ada278>,\n",
       " 'Tryptophan_derivative': <matchms.Spectrum.Spectrum at 0x7f9d87ada358>,\n",
       " 'Acetyltryptophan_2TMS isomer 2': <matchms.Spectrum.Spectrum at 0x7f9d87ada3c8>,\n",
       " 'Tryptamine_2TMS': <matchms.Spectrum.Spectrum at 0x7f9d87ada470>,\n",
       " 'Tryptamine_derivative': <matchms.Spectrum.Spectrum at 0x7f9d87ada550>,\n",
       " 'Tryptamine_3TMS': <matchms.Spectrum.Spectrum at 0x7f9d87ada668>,\n",
       " 'Estradiol_2TMS': <matchms.Spectrum.Spectrum at 0x7f9d87ada748>,\n",
       " 'Dehydroestradiol_2TMS': <matchms.Spectrum.Spectrum at 0x7f9d87ada7f0>,\n",
       " 'Kynurenine_3TMS': <matchms.Spectrum.Spectrum at 0x7f9d87ada898>,\n",
       " 'Kynurenine_4TMS': <matchms.Spectrum.Spectrum at 0x7f9d87ada940>,\n",
       " 'Glutamic acid_3TMS spectra 1': <matchms.Spectrum.Spectrum at 0x7f9d87ada9e8>,\n",
       " 'Palmitic acid_1TMS': <matchms.Spectrum.Spectrum at 0x7f9d87adaa58>,\n",
       " 'Kynurenine_2TMS': <matchms.Spectrum.Spectrum at 0x7f9d87adab38>,\n",
       " '1-Octadecanol_1TMS': <matchms.Spectrum.Spectrum at 0x7f9d87adabe0>,\n",
       " 'Dopamine_4TMS': <matchms.Spectrum.Spectrum at 0x7f9d87adac50>,\n",
       " 'Dopamine_3TMS': <matchms.Spectrum.Spectrum at 0x7f9d87adacf8>,\n",
       " 'Estrone_1TMS': <matchms.Spectrum.Spectrum at 0x7f9d87adae48>,\n",
       " '5-Hydroxyindole-3-acetic acid_3TMS': <matchms.Spectrum.Spectrum at 0x7f9d87adaf28>,\n",
       " 'Uridine_4TMS isomer 1': <matchms.Spectrum.Spectrum at 0x7f9d87adafd0>,\n",
       " 'Uridine_4TMS isomer 2': <matchms.Spectrum.Spectrum at 0x7f9d87adf080>,\n",
       " 'Palmitoleic acid_1TMS': <matchms.Spectrum.Spectrum at 0x7f9d87adf160>,\n",
       " 'Norvaline_2TMS': <matchms.Spectrum.Spectrum at 0x7f9d87adf1d0>,\n",
       " 'Norvaline_3TMS': <matchms.Spectrum.Spectrum at 0x7f9d87adf2b0>,\n",
       " 'Methyl-3-indolylacetate_1TMS': <matchms.Spectrum.Spectrum at 0x7f9d87adf320>,\n",
       " 'beta-Sitosterol_1TMS': <matchms.Spectrum.Spectrum at 0x7f9d87adf3c8>,\n",
       " 'Phenylalanine_2TMS': <matchms.Spectrum.Spectrum at 0x7f9d87adf470>,\n",
       " 'Homocitrulline_4TMS': <matchms.Spectrum.Spectrum at 0x7f9d87adf518>,\n",
       " 'Acetylserine_2TMS': <matchms.Spectrum.Spectrum at 0x7f9d87adf5f8>,\n",
       " '7-Dehydrocholesterol_1TMS': <matchms.Spectrum.Spectrum at 0x7f9d87adf668>,\n",
       " 'Salicylic acid_2TMS': <matchms.Spectrum.Spectrum at 0x7f9d87adf710>,\n",
       " 'Cytidine_5TMS': <matchms.Spectrum.Spectrum at 0x7f9d87adf7b8>,\n",
       " 'Stearic acid_1TMS': <matchms.Spectrum.Spectrum at 0x7f9d87adf860>,\n",
       " 'Adenine_2TMS': <matchms.Spectrum.Spectrum at 0x7f9d87adf940>,\n",
       " 'Galactose_5TMS isomer 1': <matchms.Spectrum.Spectrum at 0x7f9d87adf9b0>,\n",
       " 'Adenine_3TMS': <matchms.Spectrum.Spectrum at 0x7f9d87adfa90>,\n",
       " 'Galactose_5TMS isomer 2': <matchms.Spectrum.Spectrum at 0x7f9d87adfb38>,\n",
       " 'Hippuric acid_2TMS': <matchms.Spectrum.Spectrum at 0x7f9d87adfba8>,\n",
       " 'Hippuric acid_1TMS': <matchms.Spectrum.Spectrum at 0x7f9d87adfc50>,\n",
       " '2-Deoxyglucose_4TMS': <matchms.Spectrum.Spectrum at 0x7f9d87adfd30>,\n",
       " '2,3-Dihydroxybenzoic acid_3TMS': <matchms.Spectrum.Spectrum at 0x7f9d87adfda0>,\n",
       " 'Ergocalciferol_TMS': <matchms.Spectrum.Spectrum at 0x7f9d87adfe80>,\n",
       " 'Methyl palmitate': <matchms.Spectrum.Spectrum at 0x7f9d87adfef0>,\n",
       " 'Maleamic acid_2TMS isomer 2': <matchms.Spectrum.Spectrum at 0x7f9d87adffd0>,\n",
       " 'Maleamic acid_2TMS isomer 1': <matchms.Spectrum.Spectrum at 0x7f9d87ae40b8>,\n",
       " 'Maleamic acid_3TMS': <matchms.Spectrum.Spectrum at 0x7f9d87ae4128>,\n",
       " 'Glucose_5TMS isomer 1': <matchms.Spectrum.Spectrum at 0x7f9d87ae41d0>,\n",
       " 'Glucose_5TMS isomer 2': <matchms.Spectrum.Spectrum at 0x7f9d87ae42b0>,\n",
       " 'alpha-Tocopherol_1TMS': <matchms.Spectrum.Spectrum at 0x7f9d87ae4400>,\n",
       " 'Spermidine_5TMS': <matchms.Spectrum.Spectrum at 0x7f9d87ae4470>,\n",
       " 'Spermidine_4TMS': <matchms.Spectrum.Spectrum at 0x7f9d87ae4550>,\n",
       " 'Cytosine_2TMS': <matchms.Spectrum.Spectrum at 0x7f9d87ae45f8>,\n",
       " 'Cytosine_3TMS': <matchms.Spectrum.Spectrum at 0x7f9d87ae4668>,\n",
       " 'Glycylvaline_4TMS': <matchms.Spectrum.Spectrum at 0x7f9d87ae4710>,\n",
       " 'Hypoxanthine_2TMS': <matchms.Spectrum.Spectrum at 0x7f9d87ae47b8>,\n",
       " 'Pregnenolone_1TMS': <matchms.Spectrum.Spectrum at 0x7f9d87ae4898>,\n",
       " 'Levodopa_4TMS': <matchms.Spectrum.Spectrum at 0x7f9d87ae4908>,\n",
       " '2-Methoxybenzoic acid_1TMS': <matchms.Spectrum.Spectrum at 0x7f9d87ae49b0>,\n",
       " '5-Methylcytidine_4TMS isomer 1': <matchms.Spectrum.Spectrum at 0x7f9d87ae4a90>,\n",
       " '5-Methylcytidine_4TMS isomer 2': <matchms.Spectrum.Spectrum at 0x7f9d87ae4b38>,\n",
       " 'Acetylaspartic acid_2TMS': <matchms.Spectrum.Spectrum at 0x7f9d87ae4be0>,\n",
       " 'Threonine_3TMS spectra 1': <matchms.Spectrum.Spectrum at 0x7f9d87ae4c88>,\n",
       " '2-Oxoadipic acid_2TMS isomer 2': <matchms.Spectrum.Spectrum at 0x7f9d87ae4d30>,\n",
       " '2-Oxoadipic acid_2TMS isomer 1': <matchms.Spectrum.Spectrum at 0x7f9d87ae4dd8>,\n",
       " 'Cytidine_4TMS': <matchms.Spectrum.Spectrum at 0x7f9d87ae4e48>,\n",
       " 'Dehydrocholesterol_1TMS': <matchms.Spectrum.Spectrum at 0x7f9d87ae4f28>,\n",
       " 'Dehydroergosterol_1TMS': <matchms.Spectrum.Spectrum at 0x7f9d87ae4f98>,\n",
       " 'Cholestatrienol_1TMS': <matchms.Spectrum.Spectrum at 0x7f9d87aea080>,\n",
       " 'Proline_2TMS': <matchms.Spectrum.Spectrum at 0x7f9d87aea128>}"
      ]
     },
     "execution_count": 6,
     "metadata": {},
     "output_type": "execute_result"
    }
   ],
   "source": [
    "library"
   ]
  },
  {
   "cell_type": "markdown",
   "metadata": {},
   "source": [
    "len(measured[\"32\"])"
   ]
  },
  {
   "cell_type": "code",
   "execution_count": 7,
   "metadata": {},
   "outputs": [
    {
     "ename": "KeyError",
     "evalue": "'0'",
     "output_type": "error",
     "traceback": [
      "\u001b[0;31m---------------------------------------------------------------------------\u001b[0m",
      "\u001b[0;31mKeyError\u001b[0m                                  Traceback (most recent call last)",
      "\u001b[0;32m<ipython-input-7-a8ecc12d46c3>\u001b[0m in \u001b[0;36m<module>\u001b[0;34m\u001b[0m\n\u001b[0;32m----> 1\u001b[0;31m \u001b[0mmeasured\u001b[0m\u001b[0;34m[\u001b[0m\u001b[0;34m\"0\"\u001b[0m\u001b[0;34m]\u001b[0m\u001b[0;34m[\u001b[0m\u001b[0;34m\"C001\"\u001b[0m\u001b[0;34m]\u001b[0m\u001b[0;34m\u001b[0m\u001b[0;34m\u001b[0m\u001b[0m\n\u001b[0m",
      "\u001b[0;31mKeyError\u001b[0m: '0'"
     ]
    }
   ],
   "source": [
    "measured[\"0\"][\"C001\"]"
   ]
  },
  {
   "cell_type": "markdown",
   "metadata": {},
   "source": [
    "## Pair measured spectra with database spectra"
   ]
  },
  {
   "cell_type": "code",
   "execution_count": 8,
   "metadata": {},
   "outputs": [
    {
     "ename": "SyntaxError",
     "evalue": "invalid syntax (<ipython-input-8-dcf4ef5451fa>, line 6)",
     "output_type": "error",
     "traceback": [
      "\u001b[0;36m  File \u001b[0;32m\"<ipython-input-8-dcf4ef5451fa>\"\u001b[0;36m, line \u001b[0;32m6\u001b[0m\n\u001b[0;31m    paired[conc][\"id\"][] =\u001b[0m\n\u001b[0m                       ^\u001b[0m\n\u001b[0;31mSyntaxError\u001b[0m\u001b[0;31m:\u001b[0m invalid syntax\n"
     ]
    }
   ],
   "source": [
    "from collections import defaultdict\n",
    "paired = defaultdict(lambda x: defaultdict(dict))\n",
    "for conc in concs:\n",
    "    for s in measured[conc]:\n",
    "        matched[conc][\"id\"] == s.metadata[\"compound_name\"]\n",
    "        paired[conc][\"id\"][] = \n"
   ]
  },
  {
   "cell_type": "code",
   "execution_count": 9,
   "metadata": {},
   "outputs": [],
   "source": [
    "def couple(meas_id, measured, library, matched, conc=\"0\", repetition_count=0):\n",
    "    mask = matched[conc][\"id\"] == meas_id\n",
    "    if not (mask).any():\n",
    "        return measured[conc][meas_id], None\n",
    "    compound_name = matched[conc][\"name\"][mask].values[repetition_count]\n",
    "    return measured[conc][meas_id], library[compound_name]"
   ]
  },
  {
   "cell_type": "code",
   "execution_count": 10,
   "metadata": {},
   "outputs": [
    {
     "ename": "KeyError",
     "evalue": "'0'",
     "output_type": "error",
     "traceback": [
      "\u001b[0;31m---------------------------------------------------------------------------\u001b[0m",
      "\u001b[0;31mKeyError\u001b[0m                                  Traceback (most recent call last)",
      "\u001b[0;32m<ipython-input-10-cf29b8ec501b>\u001b[0m in \u001b[0;36m<module>\u001b[0;34m\u001b[0m\n\u001b[0;32m----> 1\u001b[0;31m \u001b[0mcouple\u001b[0m\u001b[0;34m(\u001b[0m\u001b[0;34m\"C019\"\u001b[0m\u001b[0;34m,\u001b[0m \u001b[0mmeasured\u001b[0m\u001b[0;34m,\u001b[0m \u001b[0mlibrary\u001b[0m\u001b[0;34m,\u001b[0m \u001b[0mmatched\u001b[0m\u001b[0;34m,\u001b[0m \u001b[0mconc\u001b[0m\u001b[0;34m=\u001b[0m\u001b[0;34m\"0\"\u001b[0m\u001b[0;34m)\u001b[0m\u001b[0;34m\u001b[0m\u001b[0;34m\u001b[0m\u001b[0m\n\u001b[0m",
      "\u001b[0;32m<ipython-input-9-add861b3e836>\u001b[0m in \u001b[0;36mcouple\u001b[0;34m(meas_id, measured, library, matched, conc, repetition_count)\u001b[0m\n\u001b[1;32m      1\u001b[0m \u001b[0;32mdef\u001b[0m \u001b[0mcouple\u001b[0m\u001b[0;34m(\u001b[0m\u001b[0mmeas_id\u001b[0m\u001b[0;34m,\u001b[0m \u001b[0mmeasured\u001b[0m\u001b[0;34m,\u001b[0m \u001b[0mlibrary\u001b[0m\u001b[0;34m,\u001b[0m \u001b[0mmatched\u001b[0m\u001b[0;34m,\u001b[0m \u001b[0mconc\u001b[0m\u001b[0;34m=\u001b[0m\u001b[0;34m\"0\"\u001b[0m\u001b[0;34m,\u001b[0m \u001b[0mrepetition_count\u001b[0m\u001b[0;34m=\u001b[0m\u001b[0;36m0\u001b[0m\u001b[0;34m)\u001b[0m\u001b[0;34m:\u001b[0m\u001b[0;34m\u001b[0m\u001b[0;34m\u001b[0m\u001b[0m\n\u001b[0;32m----> 2\u001b[0;31m     \u001b[0mmask\u001b[0m \u001b[0;34m=\u001b[0m \u001b[0mmatched\u001b[0m\u001b[0;34m[\u001b[0m\u001b[0mconc\u001b[0m\u001b[0;34m]\u001b[0m\u001b[0;34m[\u001b[0m\u001b[0;34m\"id\"\u001b[0m\u001b[0;34m]\u001b[0m \u001b[0;34m==\u001b[0m \u001b[0mmeas_id\u001b[0m\u001b[0;34m\u001b[0m\u001b[0;34m\u001b[0m\u001b[0m\n\u001b[0m\u001b[1;32m      3\u001b[0m     \u001b[0;32mif\u001b[0m \u001b[0;32mnot\u001b[0m \u001b[0;34m(\u001b[0m\u001b[0mmask\u001b[0m\u001b[0;34m)\u001b[0m\u001b[0;34m.\u001b[0m\u001b[0many\u001b[0m\u001b[0;34m(\u001b[0m\u001b[0;34m)\u001b[0m\u001b[0;34m:\u001b[0m\u001b[0;34m\u001b[0m\u001b[0;34m\u001b[0m\u001b[0m\n\u001b[1;32m      4\u001b[0m         \u001b[0;32mreturn\u001b[0m \u001b[0mmeasured\u001b[0m\u001b[0;34m[\u001b[0m\u001b[0mconc\u001b[0m\u001b[0;34m]\u001b[0m\u001b[0;34m[\u001b[0m\u001b[0mmeas_id\u001b[0m\u001b[0;34m]\u001b[0m\u001b[0;34m,\u001b[0m \u001b[0;32mNone\u001b[0m\u001b[0;34m\u001b[0m\u001b[0;34m\u001b[0m\u001b[0m\n\u001b[1;32m      5\u001b[0m     \u001b[0mcompound_name\u001b[0m \u001b[0;34m=\u001b[0m \u001b[0mmatched\u001b[0m\u001b[0;34m[\u001b[0m\u001b[0mconc\u001b[0m\u001b[0;34m]\u001b[0m\u001b[0;34m[\u001b[0m\u001b[0;34m\"name\"\u001b[0m\u001b[0;34m]\u001b[0m\u001b[0;34m[\u001b[0m\u001b[0mmask\u001b[0m\u001b[0;34m]\u001b[0m\u001b[0;34m.\u001b[0m\u001b[0mvalues\u001b[0m\u001b[0;34m[\u001b[0m\u001b[0mrepetition_count\u001b[0m\u001b[0;34m]\u001b[0m\u001b[0;34m\u001b[0m\u001b[0;34m\u001b[0m\u001b[0m\n",
      "\u001b[0;31mKeyError\u001b[0m: '0'"
     ]
    }
   ],
   "source": [
    "couple(\"C019\", measured, library, matched, conc=\"0\")"
   ]
  },
  {
   "cell_type": "code",
   "execution_count": 11,
   "metadata": {},
   "outputs": [],
   "source": [
    "conc = \"all\""
   ]
  },
  {
   "cell_type": "code",
   "execution_count": 12,
   "metadata": {},
   "outputs": [],
   "source": [
    "\n",
    "# for meas_id in measured[conc]:\n",
    "#     spec, lib = couple(meas_id, measured, library, matched, conc=conc)\n",
    "#     if lib is not None:\n",
    "#         false_detected = set(spec.peaks.mz.astype(int)).difference(set(lib.peaks.mz.astype(int)))\n",
    "#         missing_mz = set(lib.peaks.mz.astype(int)).difference(set(lib.peaks.mz.astype(int)).intersection(set(spec.peaks.mz.astype(int))))\n",
    "#         plot_spectrum_sample_prediction(lib, missing_mz, [], false_detected, [])\n",
    "        \n",
    "        "
   ]
  },
  {
   "cell_type": "markdown",
   "metadata": {
    "tags": []
   },
   "source": [
    "## Experiment 1 - take the compounds and observe"
   ]
  },
  {
   "cell_type": "code",
   "execution_count": 13,
   "metadata": {},
   "outputs": [],
   "source": [
    "def couple_plot(meas_id, measured, library, matched, conc=\"0\", repetition_count=0):\n",
    "    spec, lib = couple(meas_id, measured, library, matched, conc=conc, repetition_count=repetition_count)\n",
    "    \n",
    "    if lib is not None:\n",
    "        false_detected = set(spec.peaks.mz.astype(int)).difference(set(lib.peaks.mz.astype(int)))\n",
    "        missing_mz = set(lib.peaks.mz.astype(int)).difference(set(lib.peaks.mz.astype(int)).intersection(set(spec.peaks.mz.astype(int))))\n",
    "        print(f\"Spectrum {meas_id} - detected peaks: {len(spec.peaks.mz)}\")\n",
    "        print(f\"When matched to {lib.metadata['compound_name']}: {matched[conc][matched[conc].id==meas_id].n_ions.values[repetition_count]} matched ions with {matched[conc][matched[conc].id==meas_id].confidence.values[repetition_count]} total confidence\")\n",
    "        print(f\"In this match, {len(false_detected)} peaks were not in library spectrum and {len(missing_mz)} peaks from library spectrum were missing\")\n",
    "        plot_spectrum_sample_prediction(lib, missing_mz, [], false_detected, [])\n",
    "        print()\n",
    "    return spec, lib\n"
   ]
  },
  {
   "cell_type": "code",
   "execution_count": 14,
   "metadata": {},
   "outputs": [
    {
     "name": "stdout",
     "output_type": "stream",
     "text": [
      "Spectrum C02 - detected peaks: 54\n",
      "When matched to Lysine_4TMS: 23 matched ions with 0.92281020332912 total confidence\n",
      "In this match, 20 peaks were not in library spectrum and 25 peaks from library spectrum were missing\n"
     ]
    },
    {
     "data": {
      "image/png": "[encoded data removed]",
      "text/plain": [
       "<Figure size 648x216 with 1 Axes>"
      ]
     },
     "metadata": {
      "needs_background": "light"
     },
     "output_type": "display_data"
    },
    {
     "name": "stdout",
     "output_type": "stream",
     "text": [
      "\n"
     ]
    },
    {
     "data": {
      "image/png": "[encoded data removed]",
      "text/plain": [
       "<Figure size 1600x1200 with 1 Axes>"
      ]
     },
     "metadata": {
      "needs_background": "light"
     },
     "output_type": "display_data"
    },
    {
     "name": "stdout",
     "output_type": "stream",
     "text": [
      "Spectrum C02 - detected peaks: 54\n",
      "When matched to Pipecolinic acid_2TMS: 4 matched ions with 0.7553661382849925 total confidence\n",
      "In this match, 40 peaks were not in library spectrum and 7 peaks from library spectrum were missing\n"
     ]
    },
    {
     "ename": "KeyboardInterrupt",
     "evalue": "",
     "output_type": "error",
     "traceback": [
      "\u001b[0;31m---------------------------------------------------------------------------\u001b[0m",
      "\u001b[0;31mKeyboardInterrupt\u001b[0m                         Traceback (most recent call last)",
      "\u001b[0;32m<ipython-input-14-8de2243b51eb>\u001b[0m in \u001b[0;36m<module>\u001b[0;34m\u001b[0m\n\u001b[1;32m      4\u001b[0m \u001b[0;34m\u001b[0m\u001b[0m\n\u001b[1;32m      5\u001b[0m \u001b[0;32mfor\u001b[0m \u001b[0mmeas_id\u001b[0m \u001b[0;32min\u001b[0m \u001b[0mmatched\u001b[0m\u001b[0;34m[\u001b[0m\u001b[0mconc\u001b[0m\u001b[0;34m]\u001b[0m\u001b[0;34m.\u001b[0m\u001b[0mid\u001b[0m\u001b[0;34m:\u001b[0m\u001b[0;34m\u001b[0m\u001b[0;34m\u001b[0m\u001b[0m\n\u001b[0;32m----> 6\u001b[0;31m     \u001b[0mspec\u001b[0m\u001b[0;34m,\u001b[0m \u001b[0mlib\u001b[0m \u001b[0;34m=\u001b[0m \u001b[0mcouple_plot\u001b[0m\u001b[0;34m(\u001b[0m\u001b[0mmeas_id\u001b[0m\u001b[0;34m,\u001b[0m \u001b[0mmeasured\u001b[0m\u001b[0;34m,\u001b[0m \u001b[0mlibrary\u001b[0m\u001b[0;34m,\u001b[0m \u001b[0mmatched\u001b[0m\u001b[0;34m,\u001b[0m \u001b[0mconc\u001b[0m\u001b[0;34m=\u001b[0m\u001b[0mconc\u001b[0m\u001b[0;34m,\u001b[0m \u001b[0mrepetition_count\u001b[0m\u001b[0;34m=\u001b[0m\u001b[0mrepetition_counter\u001b[0m\u001b[0;34m[\u001b[0m\u001b[0mmeas_id\u001b[0m\u001b[0;34m]\u001b[0m\u001b[0;34m)\u001b[0m\u001b[0;34m\u001b[0m\u001b[0;34m\u001b[0m\u001b[0m\n\u001b[0m\u001b[1;32m      7\u001b[0m     \u001b[0;31m#plot_spectrum_sample_prediction(measured[conc][meas_id], [], [], [], [])\u001b[0m\u001b[0;34m\u001b[0m\u001b[0;34m\u001b[0m\u001b[0;34m\u001b[0m\u001b[0m\n\u001b[1;32m      8\u001b[0m     \u001b[0mspec\u001b[0m\u001b[0;34m.\u001b[0m\u001b[0mplot_against\u001b[0m\u001b[0;34m(\u001b[0m\u001b[0mlib\u001b[0m\u001b[0;34m,\u001b[0m \u001b[0mfigsize\u001b[0m\u001b[0;34m=\u001b[0m\u001b[0;34m(\u001b[0m\u001b[0;36m8\u001b[0m\u001b[0;34m,\u001b[0m \u001b[0;36m6\u001b[0m\u001b[0;34m)\u001b[0m\u001b[0;34m)\u001b[0m\u001b[0;34m\u001b[0m\u001b[0;34m\u001b[0m\u001b[0m\n",
      "\u001b[0;32m<ipython-input-13-58df3a8358b6>\u001b[0m in \u001b[0;36mcouple_plot\u001b[0;34m(meas_id, measured, library, matched, conc, repetition_count)\u001b[0m\n\u001b[1;32m      8\u001b[0m         \u001b[0mprint\u001b[0m\u001b[0;34m(\u001b[0m\u001b[0;34mf\"When matched to {lib.metadata['compound_name']}: {matched[conc][matched[conc].id==meas_id].n_ions.values[repetition_count]} matched ions with {matched[conc][matched[conc].id==meas_id].confidence.values[repetition_count]} total confidence\"\u001b[0m\u001b[0;34m)\u001b[0m\u001b[0;34m\u001b[0m\u001b[0;34m\u001b[0m\u001b[0m\n\u001b[1;32m      9\u001b[0m         \u001b[0mprint\u001b[0m\u001b[0;34m(\u001b[0m\u001b[0;34mf\"In this match, {len(false_detected)} peaks were not in library spectrum and {len(missing_mz)} peaks from library spectrum were missing\"\u001b[0m\u001b[0;34m)\u001b[0m\u001b[0;34m\u001b[0m\u001b[0;34m\u001b[0m\u001b[0m\n\u001b[0;32m---> 10\u001b[0;31m         \u001b[0mplot_spectrum_sample_prediction\u001b[0m\u001b[0;34m(\u001b[0m\u001b[0mlib\u001b[0m\u001b[0;34m,\u001b[0m \u001b[0mmissing_mz\u001b[0m\u001b[0;34m,\u001b[0m \u001b[0;34m[\u001b[0m\u001b[0;34m]\u001b[0m\u001b[0;34m,\u001b[0m \u001b[0mfalse_detected\u001b[0m\u001b[0;34m,\u001b[0m \u001b[0;34m[\u001b[0m\u001b[0;34m]\u001b[0m\u001b[0;34m)\u001b[0m\u001b[0;34m\u001b[0m\u001b[0;34m\u001b[0m\u001b[0m\n\u001b[0m\u001b[1;32m     11\u001b[0m         \u001b[0mprint\u001b[0m\u001b[0;34m(\u001b[0m\u001b[0;34m)\u001b[0m\u001b[0;34m\u001b[0m\u001b[0;34m\u001b[0m\u001b[0m\n\u001b[1;32m     12\u001b[0m     \u001b[0;32mreturn\u001b[0m \u001b[0mspec\u001b[0m\u001b[0;34m,\u001b[0m \u001b[0mlib\u001b[0m\u001b[0;34m\u001b[0m\u001b[0;34m\u001b[0m\u001b[0m\n",
      "\u001b[0;32m/mnt/volume/shared/ces-nya/nfs4/home/umsa/job_working_directory_object/032/32935/working/jupyter/r/visual_utils.py\u001b[0m in \u001b[0;36mplot_spectrum_sample_prediction\u001b[0;34m(proc_spec, missing_mz, TP_mz, FP_mz, FN_mz, max_mz, save_to_path)\u001b[0m\n\u001b[1;32m    645\u001b[0m     \u001b[0;31m#plot focused\u001b[0m\u001b[0;34m\u001b[0m\u001b[0;34m\u001b[0m\u001b[0;34m\u001b[0m\u001b[0m\n\u001b[1;32m    646\u001b[0m     \u001b[0mf\u001b[0m\u001b[0;34m,\u001b[0m \u001b[0;34m(\u001b[0m\u001b[0max1\u001b[0m\u001b[0;34m)\u001b[0m \u001b[0;34m=\u001b[0m \u001b[0mplt\u001b[0m\u001b[0;34m.\u001b[0m\u001b[0msubplots\u001b[0m\u001b[0;34m(\u001b[0m\u001b[0mnrows\u001b[0m\u001b[0;34m=\u001b[0m\u001b[0;36m1\u001b[0m\u001b[0;34m,\u001b[0m \u001b[0mncols\u001b[0m\u001b[0;34m=\u001b[0m\u001b[0;36m1\u001b[0m\u001b[0;34m,\u001b[0m\u001b[0mfigsize\u001b[0m\u001b[0;34m=\u001b[0m\u001b[0;34m(\u001b[0m\u001b[0;36m9\u001b[0m\u001b[0;34m,\u001b[0m \u001b[0;36m3\u001b[0m\u001b[0;34m)\u001b[0m\u001b[0;34m)\u001b[0m\u001b[0;34m\u001b[0m\u001b[0;34m\u001b[0m\u001b[0m\n\u001b[0;32m--> 647\u001b[0;31m     \u001b[0max1\u001b[0m \u001b[0;34m=\u001b[0m \u001b[0msns\u001b[0m\u001b[0;34m.\u001b[0m\u001b[0mbarplot\u001b[0m\u001b[0;34m(\u001b[0m\u001b[0mx\u001b[0m\u001b[0;34m=\u001b[0m\u001b[0mbase\u001b[0m\u001b[0;34m,\u001b[0m \u001b[0my\u001b[0m\u001b[0;34m=\u001b[0m\u001b[0mbars\u001b[0m\u001b[0;34m,\u001b[0m \u001b[0max\u001b[0m\u001b[0;34m=\u001b[0m\u001b[0max1\u001b[0m\u001b[0;34m,\u001b[0m \u001b[0mhue\u001b[0m\u001b[0;34m=\u001b[0m\u001b[0mhue\u001b[0m\u001b[0;34m,\u001b[0m \u001b[0mdodge\u001b[0m\u001b[0;34m=\u001b[0m\u001b[0;32mFalse\u001b[0m\u001b[0;34m,\u001b[0m \u001b[0mpalette\u001b[0m\u001b[0;34m=\u001b[0m\u001b[0mpalette\u001b[0m\u001b[0;34m)\u001b[0m\u001b[0;34m\u001b[0m\u001b[0;34m\u001b[0m\u001b[0m\n\u001b[0m\u001b[1;32m    648\u001b[0m \u001b[0;34m\u001b[0m\u001b[0m\n\u001b[1;32m    649\u001b[0m     \u001b[0mchange_width\u001b[0m\u001b[0;34m(\u001b[0m\u001b[0max1\u001b[0m\u001b[0;34m,\u001b[0m \u001b[0;36m.75\u001b[0m\u001b[0;34m)\u001b[0m\u001b[0;34m\u001b[0m\u001b[0;34m\u001b[0m\u001b[0m\n",
      "\u001b[0;32m/opt/conda/lib/python3.7/site-packages/seaborn/categorical.py\u001b[0m in \u001b[0;36mbarplot\u001b[0;34m(x, y, hue, data, order, hue_order, estimator, ci, n_boot, units, orient, color, palette, saturation, errcolor, errwidth, capsize, dodge, ax, **kwargs)\u001b[0m\n\u001b[1;32m   3152\u001b[0m         \u001b[0max\u001b[0m \u001b[0;34m=\u001b[0m \u001b[0mplt\u001b[0m\u001b[0;34m.\u001b[0m\u001b[0mgca\u001b[0m\u001b[0;34m(\u001b[0m\u001b[0;34m)\u001b[0m\u001b[0;34m\u001b[0m\u001b[0;34m\u001b[0m\u001b[0m\n\u001b[1;32m   3153\u001b[0m \u001b[0;34m\u001b[0m\u001b[0m\n\u001b[0;32m-> 3154\u001b[0;31m     \u001b[0mplotter\u001b[0m\u001b[0;34m.\u001b[0m\u001b[0mplot\u001b[0m\u001b[0;34m(\u001b[0m\u001b[0max\u001b[0m\u001b[0;34m,\u001b[0m \u001b[0mkwargs\u001b[0m\u001b[0;34m)\u001b[0m\u001b[0;34m\u001b[0m\u001b[0;34m\u001b[0m\u001b[0m\n\u001b[0m\u001b[1;32m   3155\u001b[0m     \u001b[0;32mreturn\u001b[0m \u001b[0max\u001b[0m\u001b[0;34m\u001b[0m\u001b[0;34m\u001b[0m\u001b[0m\n\u001b[1;32m   3156\u001b[0m \u001b[0;34m\u001b[0m\u001b[0m\n",
      "\u001b[0;32m/opt/conda/lib/python3.7/site-packages/seaborn/categorical.py\u001b[0m in \u001b[0;36mplot\u001b[0;34m(self, ax, bar_kws)\u001b[0m\n\u001b[1;32m   1659\u001b[0m     \u001b[0;32mdef\u001b[0m \u001b[0mplot\u001b[0m\u001b[0;34m(\u001b[0m\u001b[0mself\u001b[0m\u001b[0;34m,\u001b[0m \u001b[0max\u001b[0m\u001b[0;34m,\u001b[0m \u001b[0mbar_kws\u001b[0m\u001b[0;34m)\u001b[0m\u001b[0;34m:\u001b[0m\u001b[0;34m\u001b[0m\u001b[0;34m\u001b[0m\u001b[0m\n\u001b[1;32m   1660\u001b[0m         \u001b[0;34m\"\"\"Make the plot.\"\"\"\u001b[0m\u001b[0;34m\u001b[0m\u001b[0;34m\u001b[0m\u001b[0m\n\u001b[0;32m-> 1661\u001b[0;31m         \u001b[0mself\u001b[0m\u001b[0;34m.\u001b[0m\u001b[0mdraw_bars\u001b[0m\u001b[0;34m(\u001b[0m\u001b[0max\u001b[0m\u001b[0;34m,\u001b[0m \u001b[0mbar_kws\u001b[0m\u001b[0;34m)\u001b[0m\u001b[0;34m\u001b[0m\u001b[0;34m\u001b[0m\u001b[0m\n\u001b[0m\u001b[1;32m   1662\u001b[0m         \u001b[0mself\u001b[0m\u001b[0;34m.\u001b[0m\u001b[0mannotate_axes\u001b[0m\u001b[0;34m(\u001b[0m\u001b[0max\u001b[0m\u001b[0;34m)\u001b[0m\u001b[0;34m\u001b[0m\u001b[0;34m\u001b[0m\u001b[0m\n\u001b[1;32m   1663\u001b[0m         \u001b[0;32mif\u001b[0m \u001b[0mself\u001b[0m\u001b[0;34m.\u001b[0m\u001b[0morient\u001b[0m \u001b[0;34m==\u001b[0m \u001b[0;34m\"h\"\u001b[0m\u001b[0;34m:\u001b[0m\u001b[0;34m\u001b[0m\u001b[0;34m\u001b[0m\u001b[0m\n",
      "\u001b[0;32m/opt/conda/lib/python3.7/site-packages/seaborn/categorical.py\u001b[0m in \u001b[0;36mdraw_bars\u001b[0;34m(self, ax, kws)\u001b[0m\n\u001b[1;32m   1655\u001b[0m                                        \u001b[0merrcolors\u001b[0m\u001b[0;34m,\u001b[0m\u001b[0;34m\u001b[0m\u001b[0;34m\u001b[0m\u001b[0m\n\u001b[1;32m   1656\u001b[0m                                        \u001b[0mself\u001b[0m\u001b[0;34m.\u001b[0m\u001b[0merrwidth\u001b[0m\u001b[0;34m,\u001b[0m\u001b[0;34m\u001b[0m\u001b[0;34m\u001b[0m\u001b[0m\n\u001b[0;32m-> 1657\u001b[0;31m                                        self.capsize)\n\u001b[0m\u001b[1;32m   1658\u001b[0m \u001b[0;34m\u001b[0m\u001b[0m\n\u001b[1;32m   1659\u001b[0m     \u001b[0;32mdef\u001b[0m \u001b[0mplot\u001b[0m\u001b[0;34m(\u001b[0m\u001b[0mself\u001b[0m\u001b[0;34m,\u001b[0m \u001b[0max\u001b[0m\u001b[0;34m,\u001b[0m \u001b[0mbar_kws\u001b[0m\u001b[0;34m)\u001b[0m\u001b[0;34m:\u001b[0m\u001b[0;34m\u001b[0m\u001b[0;34m\u001b[0m\u001b[0m\n",
      "\u001b[0;32m/opt/conda/lib/python3.7/site-packages/seaborn/categorical.py\u001b[0m in \u001b[0;36mdraw_confints\u001b[0;34m(self, ax, at_group, confint, colors, errwidth, capsize, **kws)\u001b[0m\n\u001b[1;32m   1579\u001b[0m                                                 colors):\n\u001b[1;32m   1580\u001b[0m             \u001b[0;32mif\u001b[0m \u001b[0mself\u001b[0m\u001b[0;34m.\u001b[0m\u001b[0morient\u001b[0m \u001b[0;34m==\u001b[0m \u001b[0;34m\"v\"\u001b[0m\u001b[0;34m:\u001b[0m\u001b[0;34m\u001b[0m\u001b[0;34m\u001b[0m\u001b[0m\n\u001b[0;32m-> 1581\u001b[0;31m                 \u001b[0max\u001b[0m\u001b[0;34m.\u001b[0m\u001b[0mplot\u001b[0m\u001b[0;34m(\u001b[0m\u001b[0;34m[\u001b[0m\u001b[0mat\u001b[0m\u001b[0;34m,\u001b[0m \u001b[0mat\u001b[0m\u001b[0;34m]\u001b[0m\u001b[0;34m,\u001b[0m \u001b[0;34m[\u001b[0m\u001b[0mci_low\u001b[0m\u001b[0;34m,\u001b[0m \u001b[0mci_high\u001b[0m\u001b[0;34m]\u001b[0m\u001b[0;34m,\u001b[0m \u001b[0mcolor\u001b[0m\u001b[0;34m=\u001b[0m\u001b[0mcolor\u001b[0m\u001b[0;34m,\u001b[0m \u001b[0;34m**\u001b[0m\u001b[0mkws\u001b[0m\u001b[0;34m)\u001b[0m\u001b[0;34m\u001b[0m\u001b[0;34m\u001b[0m\u001b[0m\n\u001b[0m\u001b[1;32m   1582\u001b[0m                 \u001b[0;32mif\u001b[0m \u001b[0mcapsize\u001b[0m \u001b[0;32mis\u001b[0m \u001b[0;32mnot\u001b[0m \u001b[0;32mNone\u001b[0m\u001b[0;34m:\u001b[0m\u001b[0;34m\u001b[0m\u001b[0;34m\u001b[0m\u001b[0m\n\u001b[1;32m   1583\u001b[0m                     ax.plot([at - capsize / 2, at + capsize / 2],\n",
      "\u001b[0;32m/opt/conda/lib/python3.7/site-packages/matplotlib/axes/_axes.py\u001b[0m in \u001b[0;36mplot\u001b[0;34m(self, scalex, scaley, data, *args, **kwargs)\u001b[0m\n\u001b[1;32m   1667\u001b[0m         \u001b[0;32mfor\u001b[0m \u001b[0mline\u001b[0m \u001b[0;32min\u001b[0m \u001b[0mlines\u001b[0m\u001b[0;34m:\u001b[0m\u001b[0;34m\u001b[0m\u001b[0;34m\u001b[0m\u001b[0m\n\u001b[1;32m   1668\u001b[0m             \u001b[0mself\u001b[0m\u001b[0;34m.\u001b[0m\u001b[0madd_line\u001b[0m\u001b[0;34m(\u001b[0m\u001b[0mline\u001b[0m\u001b[0;34m)\u001b[0m\u001b[0;34m\u001b[0m\u001b[0;34m\u001b[0m\u001b[0m\n\u001b[0;32m-> 1669\u001b[0;31m         \u001b[0mself\u001b[0m\u001b[0;34m.\u001b[0m\u001b[0mautoscale_view\u001b[0m\u001b[0;34m(\u001b[0m\u001b[0mscalex\u001b[0m\u001b[0;34m=\u001b[0m\u001b[0mscalex\u001b[0m\u001b[0;34m,\u001b[0m \u001b[0mscaley\u001b[0m\u001b[0;34m=\u001b[0m\u001b[0mscaley\u001b[0m\u001b[0;34m)\u001b[0m\u001b[0;34m\u001b[0m\u001b[0;34m\u001b[0m\u001b[0m\n\u001b[0m\u001b[1;32m   1670\u001b[0m         \u001b[0;32mreturn\u001b[0m \u001b[0mlines\u001b[0m\u001b[0;34m\u001b[0m\u001b[0;34m\u001b[0m\u001b[0m\n\u001b[1;32m   1671\u001b[0m \u001b[0;34m\u001b[0m\u001b[0m\n",
      "\u001b[0;32m/opt/conda/lib/python3.7/site-packages/matplotlib/axes/_base.py\u001b[0m in \u001b[0;36mautoscale_view\u001b[0;34m(self, tight, scalex, scaley)\u001b[0m\n\u001b[1;32m   2415\u001b[0m             \u001b[0mstickies\u001b[0m \u001b[0;34m=\u001b[0m \u001b[0;34m[\u001b[0m\u001b[0martist\u001b[0m\u001b[0;34m.\u001b[0m\u001b[0msticky_edges\u001b[0m \u001b[0;32mfor\u001b[0m \u001b[0martist\u001b[0m \u001b[0;32min\u001b[0m \u001b[0mself\u001b[0m\u001b[0;34m.\u001b[0m\u001b[0mget_children\u001b[0m\u001b[0;34m(\u001b[0m\u001b[0;34m)\u001b[0m\u001b[0;34m]\u001b[0m\u001b[0;34m\u001b[0m\u001b[0;34m\u001b[0m\u001b[0m\n\u001b[1;32m   2416\u001b[0m             \u001b[0mx_stickies\u001b[0m \u001b[0;34m=\u001b[0m \u001b[0mnp\u001b[0m\u001b[0;34m.\u001b[0m\u001b[0marray\u001b[0m\u001b[0;34m(\u001b[0m\u001b[0;34m[\u001b[0m\u001b[0mx\u001b[0m \u001b[0;32mfor\u001b[0m \u001b[0msticky\u001b[0m \u001b[0;32min\u001b[0m \u001b[0mstickies\u001b[0m \u001b[0;32mfor\u001b[0m \u001b[0mx\u001b[0m \u001b[0;32min\u001b[0m \u001b[0msticky\u001b[0m\u001b[0;34m.\u001b[0m\u001b[0mx\u001b[0m\u001b[0;34m]\u001b[0m\u001b[0;34m)\u001b[0m\u001b[0;34m\u001b[0m\u001b[0;34m\u001b[0m\u001b[0m\n\u001b[0;32m-> 2417\u001b[0;31m             \u001b[0my_stickies\u001b[0m \u001b[0;34m=\u001b[0m \u001b[0mnp\u001b[0m\u001b[0;34m.\u001b[0m\u001b[0marray\u001b[0m\u001b[0;34m(\u001b[0m\u001b[0;34m[\u001b[0m\u001b[0my\u001b[0m \u001b[0;32mfor\u001b[0m \u001b[0msticky\u001b[0m \u001b[0;32min\u001b[0m \u001b[0mstickies\u001b[0m \u001b[0;32mfor\u001b[0m \u001b[0my\u001b[0m \u001b[0;32min\u001b[0m \u001b[0msticky\u001b[0m\u001b[0;34m.\u001b[0m\u001b[0my\u001b[0m\u001b[0;34m]\u001b[0m\u001b[0;34m)\u001b[0m\u001b[0;34m\u001b[0m\u001b[0;34m\u001b[0m\u001b[0m\n\u001b[0m\u001b[1;32m   2418\u001b[0m             \u001b[0;32mif\u001b[0m \u001b[0mself\u001b[0m\u001b[0;34m.\u001b[0m\u001b[0mget_xscale\u001b[0m\u001b[0;34m(\u001b[0m\u001b[0;34m)\u001b[0m\u001b[0;34m.\u001b[0m\u001b[0mlower\u001b[0m\u001b[0;34m(\u001b[0m\u001b[0;34m)\u001b[0m \u001b[0;34m==\u001b[0m \u001b[0;34m'log'\u001b[0m\u001b[0;34m:\u001b[0m\u001b[0;34m\u001b[0m\u001b[0;34m\u001b[0m\u001b[0m\n\u001b[1;32m   2419\u001b[0m                 \u001b[0mx_stickies\u001b[0m \u001b[0;34m=\u001b[0m \u001b[0mx_stickies\u001b[0m\u001b[0;34m[\u001b[0m\u001b[0mx_stickies\u001b[0m \u001b[0;34m>\u001b[0m \u001b[0;36m0\u001b[0m\u001b[0;34m]\u001b[0m\u001b[0;34m\u001b[0m\u001b[0;34m\u001b[0m\u001b[0m\n",
      "\u001b[0;32m/opt/conda/lib/python3.7/site-packages/matplotlib/axes/_base.py\u001b[0m in \u001b[0;36m<listcomp>\u001b[0;34m(.0)\u001b[0m\n\u001b[1;32m   2415\u001b[0m             \u001b[0mstickies\u001b[0m \u001b[0;34m=\u001b[0m \u001b[0;34m[\u001b[0m\u001b[0martist\u001b[0m\u001b[0;34m.\u001b[0m\u001b[0msticky_edges\u001b[0m \u001b[0;32mfor\u001b[0m \u001b[0martist\u001b[0m \u001b[0;32min\u001b[0m \u001b[0mself\u001b[0m\u001b[0;34m.\u001b[0m\u001b[0mget_children\u001b[0m\u001b[0;34m(\u001b[0m\u001b[0;34m)\u001b[0m\u001b[0;34m]\u001b[0m\u001b[0;34m\u001b[0m\u001b[0;34m\u001b[0m\u001b[0m\n\u001b[1;32m   2416\u001b[0m             \u001b[0mx_stickies\u001b[0m \u001b[0;34m=\u001b[0m \u001b[0mnp\u001b[0m\u001b[0;34m.\u001b[0m\u001b[0marray\u001b[0m\u001b[0;34m(\u001b[0m\u001b[0;34m[\u001b[0m\u001b[0mx\u001b[0m \u001b[0;32mfor\u001b[0m \u001b[0msticky\u001b[0m \u001b[0;32min\u001b[0m \u001b[0mstickies\u001b[0m \u001b[0;32mfor\u001b[0m \u001b[0mx\u001b[0m \u001b[0;32min\u001b[0m \u001b[0msticky\u001b[0m\u001b[0;34m.\u001b[0m\u001b[0mx\u001b[0m\u001b[0;34m]\u001b[0m\u001b[0;34m)\u001b[0m\u001b[0;34m\u001b[0m\u001b[0;34m\u001b[0m\u001b[0m\n\u001b[0;32m-> 2417\u001b[0;31m             \u001b[0my_stickies\u001b[0m \u001b[0;34m=\u001b[0m \u001b[0mnp\u001b[0m\u001b[0;34m.\u001b[0m\u001b[0marray\u001b[0m\u001b[0;34m(\u001b[0m\u001b[0;34m[\u001b[0m\u001b[0my\u001b[0m \u001b[0;32mfor\u001b[0m \u001b[0msticky\u001b[0m \u001b[0;32min\u001b[0m \u001b[0mstickies\u001b[0m \u001b[0;32mfor\u001b[0m \u001b[0my\u001b[0m \u001b[0;32min\u001b[0m \u001b[0msticky\u001b[0m\u001b[0;34m.\u001b[0m\u001b[0my\u001b[0m\u001b[0;34m]\u001b[0m\u001b[0;34m)\u001b[0m\u001b[0;34m\u001b[0m\u001b[0;34m\u001b[0m\u001b[0m\n\u001b[0m\u001b[1;32m   2418\u001b[0m             \u001b[0;32mif\u001b[0m \u001b[0mself\u001b[0m\u001b[0;34m.\u001b[0m\u001b[0mget_xscale\u001b[0m\u001b[0;34m(\u001b[0m\u001b[0;34m)\u001b[0m\u001b[0;34m.\u001b[0m\u001b[0mlower\u001b[0m\u001b[0;34m(\u001b[0m\u001b[0;34m)\u001b[0m \u001b[0;34m==\u001b[0m \u001b[0;34m'log'\u001b[0m\u001b[0;34m:\u001b[0m\u001b[0;34m\u001b[0m\u001b[0;34m\u001b[0m\u001b[0m\n\u001b[1;32m   2419\u001b[0m                 \u001b[0mx_stickies\u001b[0m \u001b[0;34m=\u001b[0m \u001b[0mx_stickies\u001b[0m\u001b[0;34m[\u001b[0m\u001b[0mx_stickies\u001b[0m \u001b[0;34m>\u001b[0m \u001b[0;36m0\u001b[0m\u001b[0;34m]\u001b[0m\u001b[0;34m\u001b[0m\u001b[0;34m\u001b[0m\u001b[0m\n",
      "\u001b[0;31mKeyboardInterrupt\u001b[0m: "
     ]
    },
    {
     "name": "stderr",
     "output_type": "stream",
     "text": [
      "Exception ignored in: <function TransformNode.set_children.<locals>.<lambda> at 0x7f9cf4946f28>\n",
      "Traceback (most recent call last):\n",
      "  File \"/opt/conda/lib/python3.7/site-packages/matplotlib/transforms.py\", line 178, in <lambda>\n",
      "    ref = weakref.ref(self, lambda ref, sid=id(self),\n",
      "KeyboardInterrupt\n"
     ]
    },
    {
     "name": "stdout",
     "output_type": "stream",
     "text": [
      "Error in callback <function flush_figures at 0x7f9d6fa20950> (for post_execute):\n"
     ]
    },
    {
     "ename": "KeyboardInterrupt",
     "evalue": "",
     "output_type": "error",
     "traceback": [
      "\u001b[0;31m---------------------------------------------------------------------------\u001b[0m",
      "\u001b[0;31mKeyboardInterrupt\u001b[0m                         Traceback (most recent call last)",
      "\u001b[0;32m/opt/conda/lib/python3.7/site-packages/ipykernel/pylab/backend_inline.py\u001b[0m in \u001b[0;36mflush_figures\u001b[0;34m()\u001b[0m\n\u001b[1;32m    115\u001b[0m         \u001b[0;31m# ignore the tracking, just draw and close all figures\u001b[0m\u001b[0;34m\u001b[0m\u001b[0;34m\u001b[0m\u001b[0;34m\u001b[0m\u001b[0m\n\u001b[1;32m    116\u001b[0m         \u001b[0;32mtry\u001b[0m\u001b[0;34m:\u001b[0m\u001b[0;34m\u001b[0m\u001b[0;34m\u001b[0m\u001b[0m\n\u001b[0;32m--> 117\u001b[0;31m             \u001b[0;32mreturn\u001b[0m \u001b[0mshow\u001b[0m\u001b[0;34m(\u001b[0m\u001b[0;32mTrue\u001b[0m\u001b[0;34m)\u001b[0m\u001b[0;34m\u001b[0m\u001b[0;34m\u001b[0m\u001b[0m\n\u001b[0m\u001b[1;32m    118\u001b[0m         \u001b[0;32mexcept\u001b[0m \u001b[0mException\u001b[0m \u001b[0;32mas\u001b[0m \u001b[0me\u001b[0m\u001b[0;34m:\u001b[0m\u001b[0;34m\u001b[0m\u001b[0;34m\u001b[0m\u001b[0m\n\u001b[1;32m    119\u001b[0m             \u001b[0;31m# safely show traceback if in IPython, else raise\u001b[0m\u001b[0;34m\u001b[0m\u001b[0;34m\u001b[0m\u001b[0;34m\u001b[0m\u001b[0m\n",
      "\u001b[0;32m/opt/conda/lib/python3.7/site-packages/ipykernel/pylab/backend_inline.py\u001b[0m in \u001b[0;36mshow\u001b[0;34m(close, block)\u001b[0m\n\u001b[1;32m     37\u001b[0m             display(\n\u001b[1;32m     38\u001b[0m                 \u001b[0mfigure_manager\u001b[0m\u001b[0;34m.\u001b[0m\u001b[0mcanvas\u001b[0m\u001b[0;34m.\u001b[0m\u001b[0mfigure\u001b[0m\u001b[0;34m,\u001b[0m\u001b[0;34m\u001b[0m\u001b[0;34m\u001b[0m\u001b[0m\n\u001b[0;32m---> 39\u001b[0;31m                 \u001b[0mmetadata\u001b[0m\u001b[0;34m=\u001b[0m\u001b[0m_fetch_figure_metadata\u001b[0m\u001b[0;34m(\u001b[0m\u001b[0mfigure_manager\u001b[0m\u001b[0;34m.\u001b[0m\u001b[0mcanvas\u001b[0m\u001b[0;34m.\u001b[0m\u001b[0mfigure\u001b[0m\u001b[0;34m)\u001b[0m\u001b[0;34m\u001b[0m\u001b[0;34m\u001b[0m\u001b[0m\n\u001b[0m\u001b[1;32m     40\u001b[0m             )\n\u001b[1;32m     41\u001b[0m     \u001b[0;32mfinally\u001b[0m\u001b[0;34m:\u001b[0m\u001b[0;34m\u001b[0m\u001b[0;34m\u001b[0m\u001b[0m\n",
      "\u001b[0;32m/opt/conda/lib/python3.7/site-packages/IPython/core/display.py\u001b[0m in \u001b[0;36mdisplay\u001b[0;34m(include, exclude, metadata, transient, display_id, *objs, **kwargs)\u001b[0m\n\u001b[1;32m    304\u001b[0m             \u001b[0mpublish_display_data\u001b[0m\u001b[0;34m(\u001b[0m\u001b[0mdata\u001b[0m\u001b[0;34m=\u001b[0m\u001b[0mobj\u001b[0m\u001b[0;34m,\u001b[0m \u001b[0mmetadata\u001b[0m\u001b[0;34m=\u001b[0m\u001b[0mmetadata\u001b[0m\u001b[0;34m,\u001b[0m \u001b[0;34m**\u001b[0m\u001b[0mkwargs\u001b[0m\u001b[0;34m)\u001b[0m\u001b[0;34m\u001b[0m\u001b[0;34m\u001b[0m\u001b[0m\n\u001b[1;32m    305\u001b[0m         \u001b[0;32melse\u001b[0m\u001b[0;34m:\u001b[0m\u001b[0;34m\u001b[0m\u001b[0;34m\u001b[0m\u001b[0m\n\u001b[0;32m--> 306\u001b[0;31m             \u001b[0mformat_dict\u001b[0m\u001b[0;34m,\u001b[0m \u001b[0mmd_dict\u001b[0m \u001b[0;34m=\u001b[0m \u001b[0mformat\u001b[0m\u001b[0;34m(\u001b[0m\u001b[0mobj\u001b[0m\u001b[0;34m,\u001b[0m \u001b[0minclude\u001b[0m\u001b[0;34m=\u001b[0m\u001b[0minclude\u001b[0m\u001b[0;34m,\u001b[0m \u001b[0mexclude\u001b[0m\u001b[0;34m=\u001b[0m\u001b[0mexclude\u001b[0m\u001b[0;34m)\u001b[0m\u001b[0;34m\u001b[0m\u001b[0;34m\u001b[0m\u001b[0m\n\u001b[0m\u001b[1;32m    307\u001b[0m             \u001b[0;32mif\u001b[0m \u001b[0;32mnot\u001b[0m \u001b[0mformat_dict\u001b[0m\u001b[0;34m:\u001b[0m\u001b[0;34m\u001b[0m\u001b[0;34m\u001b[0m\u001b[0m\n\u001b[1;32m    308\u001b[0m                 \u001b[0;31m# nothing to display (e.g. _ipython_display_ took over)\u001b[0m\u001b[0;34m\u001b[0m\u001b[0;34m\u001b[0m\u001b[0;34m\u001b[0m\u001b[0m\n",
      "\u001b[0;32m/opt/conda/lib/python3.7/site-packages/IPython/core/formatters.py\u001b[0m in \u001b[0;36mformat\u001b[0;34m(self, obj, include, exclude)\u001b[0m\n\u001b[1;32m    178\u001b[0m             \u001b[0mmd\u001b[0m \u001b[0;34m=\u001b[0m \u001b[0;32mNone\u001b[0m\u001b[0;34m\u001b[0m\u001b[0;34m\u001b[0m\u001b[0m\n\u001b[1;32m    179\u001b[0m             \u001b[0;32mtry\u001b[0m\u001b[0;34m:\u001b[0m\u001b[0;34m\u001b[0m\u001b[0;34m\u001b[0m\u001b[0m\n\u001b[0;32m--> 180\u001b[0;31m                 \u001b[0mdata\u001b[0m \u001b[0;34m=\u001b[0m \u001b[0mformatter\u001b[0m\u001b[0;34m(\u001b[0m\u001b[0mobj\u001b[0m\u001b[0;34m)\u001b[0m\u001b[0;34m\u001b[0m\u001b[0;34m\u001b[0m\u001b[0m\n\u001b[0m\u001b[1;32m    181\u001b[0m             \u001b[0;32mexcept\u001b[0m\u001b[0;34m:\u001b[0m\u001b[0;34m\u001b[0m\u001b[0;34m\u001b[0m\u001b[0m\n\u001b[1;32m    182\u001b[0m                 \u001b[0;31m# FIXME: log the exception\u001b[0m\u001b[0;34m\u001b[0m\u001b[0;34m\u001b[0m\u001b[0;34m\u001b[0m\u001b[0m\n",
      "\u001b[0;32m</opt/conda/lib/python3.7/site-packages/decorator.py:decorator-gen-9>\u001b[0m in \u001b[0;36m__call__\u001b[0;34m(self, obj)\u001b[0m\n",
      "\u001b[0;32m/opt/conda/lib/python3.7/site-packages/IPython/core/formatters.py\u001b[0m in \u001b[0;36mcatch_format_error\u001b[0;34m(method, self, *args, **kwargs)\u001b[0m\n\u001b[1;32m    222\u001b[0m     \u001b[0;34m\"\"\"show traceback on failed format call\"\"\"\u001b[0m\u001b[0;34m\u001b[0m\u001b[0;34m\u001b[0m\u001b[0m\n\u001b[1;32m    223\u001b[0m     \u001b[0;32mtry\u001b[0m\u001b[0;34m:\u001b[0m\u001b[0;34m\u001b[0m\u001b[0;34m\u001b[0m\u001b[0m\n\u001b[0;32m--> 224\u001b[0;31m         \u001b[0mr\u001b[0m \u001b[0;34m=\u001b[0m \u001b[0mmethod\u001b[0m\u001b[0;34m(\u001b[0m\u001b[0mself\u001b[0m\u001b[0;34m,\u001b[0m \u001b[0;34m*\u001b[0m\u001b[0margs\u001b[0m\u001b[0;34m,\u001b[0m \u001b[0;34m**\u001b[0m\u001b[0mkwargs\u001b[0m\u001b[0;34m)\u001b[0m\u001b[0;34m\u001b[0m\u001b[0;34m\u001b[0m\u001b[0m\n\u001b[0m\u001b[1;32m    225\u001b[0m     \u001b[0;32mexcept\u001b[0m \u001b[0mNotImplementedError\u001b[0m\u001b[0;34m:\u001b[0m\u001b[0;34m\u001b[0m\u001b[0;34m\u001b[0m\u001b[0m\n\u001b[1;32m    226\u001b[0m         \u001b[0;31m# don't warn on NotImplementedErrors\u001b[0m\u001b[0;34m\u001b[0m\u001b[0;34m\u001b[0m\u001b[0;34m\u001b[0m\u001b[0m\n",
      "\u001b[0;32m/opt/conda/lib/python3.7/site-packages/IPython/core/formatters.py\u001b[0m in \u001b[0;36m__call__\u001b[0;34m(self, obj)\u001b[0m\n\u001b[1;32m    339\u001b[0m                 \u001b[0;32mpass\u001b[0m\u001b[0;34m\u001b[0m\u001b[0;34m\u001b[0m\u001b[0m\n\u001b[1;32m    340\u001b[0m             \u001b[0;32melse\u001b[0m\u001b[0;34m:\u001b[0m\u001b[0;34m\u001b[0m\u001b[0;34m\u001b[0m\u001b[0m\n\u001b[0;32m--> 341\u001b[0;31m                 \u001b[0;32mreturn\u001b[0m \u001b[0mprinter\u001b[0m\u001b[0;34m(\u001b[0m\u001b[0mobj\u001b[0m\u001b[0;34m)\u001b[0m\u001b[0;34m\u001b[0m\u001b[0;34m\u001b[0m\u001b[0m\n\u001b[0m\u001b[1;32m    342\u001b[0m             \u001b[0;31m# Finally look for special method names\u001b[0m\u001b[0;34m\u001b[0m\u001b[0;34m\u001b[0m\u001b[0;34m\u001b[0m\u001b[0m\n\u001b[1;32m    343\u001b[0m             \u001b[0mmethod\u001b[0m \u001b[0;34m=\u001b[0m \u001b[0mget_real_method\u001b[0m\u001b[0;34m(\u001b[0m\u001b[0mobj\u001b[0m\u001b[0;34m,\u001b[0m \u001b[0mself\u001b[0m\u001b[0;34m.\u001b[0m\u001b[0mprint_method\u001b[0m\u001b[0;34m)\u001b[0m\u001b[0;34m\u001b[0m\u001b[0;34m\u001b[0m\u001b[0m\n",
      "\u001b[0;32m/opt/conda/lib/python3.7/site-packages/IPython/core/pylabtools.py\u001b[0m in \u001b[0;36m<lambda>\u001b[0;34m(fig)\u001b[0m\n\u001b[1;32m    242\u001b[0m \u001b[0;34m\u001b[0m\u001b[0m\n\u001b[1;32m    243\u001b[0m     \u001b[0;32mif\u001b[0m \u001b[0;34m'png'\u001b[0m \u001b[0;32min\u001b[0m \u001b[0mformats\u001b[0m\u001b[0;34m:\u001b[0m\u001b[0;34m\u001b[0m\u001b[0;34m\u001b[0m\u001b[0m\n\u001b[0;32m--> 244\u001b[0;31m         \u001b[0mpng_formatter\u001b[0m\u001b[0;34m.\u001b[0m\u001b[0mfor_type\u001b[0m\u001b[0;34m(\u001b[0m\u001b[0mFigure\u001b[0m\u001b[0;34m,\u001b[0m \u001b[0;32mlambda\u001b[0m \u001b[0mfig\u001b[0m\u001b[0;34m:\u001b[0m \u001b[0mprint_figure\u001b[0m\u001b[0;34m(\u001b[0m\u001b[0mfig\u001b[0m\u001b[0;34m,\u001b[0m \u001b[0;34m'png'\u001b[0m\u001b[0;34m,\u001b[0m \u001b[0;34m**\u001b[0m\u001b[0mkwargs\u001b[0m\u001b[0;34m)\u001b[0m\u001b[0;34m)\u001b[0m\u001b[0;34m\u001b[0m\u001b[0;34m\u001b[0m\u001b[0m\n\u001b[0m\u001b[1;32m    245\u001b[0m     \u001b[0;32mif\u001b[0m \u001b[0;34m'retina'\u001b[0m \u001b[0;32min\u001b[0m \u001b[0mformats\u001b[0m \u001b[0;32mor\u001b[0m \u001b[0;34m'png2x'\u001b[0m \u001b[0;32min\u001b[0m \u001b[0mformats\u001b[0m\u001b[0;34m:\u001b[0m\u001b[0;34m\u001b[0m\u001b[0;34m\u001b[0m\u001b[0m\n\u001b[1;32m    246\u001b[0m         \u001b[0mpng_formatter\u001b[0m\u001b[0;34m.\u001b[0m\u001b[0mfor_type\u001b[0m\u001b[0;34m(\u001b[0m\u001b[0mFigure\u001b[0m\u001b[0;34m,\u001b[0m \u001b[0;32mlambda\u001b[0m \u001b[0mfig\u001b[0m\u001b[0;34m:\u001b[0m \u001b[0mretina_figure\u001b[0m\u001b[0;34m(\u001b[0m\u001b[0mfig\u001b[0m\u001b[0;34m,\u001b[0m \u001b[0;34m**\u001b[0m\u001b[0mkwargs\u001b[0m\u001b[0;34m)\u001b[0m\u001b[0;34m)\u001b[0m\u001b[0;34m\u001b[0m\u001b[0;34m\u001b[0m\u001b[0m\n",
      "\u001b[0;32m/opt/conda/lib/python3.7/site-packages/IPython/core/pylabtools.py\u001b[0m in \u001b[0;36mprint_figure\u001b[0;34m(fig, fmt, bbox_inches, **kwargs)\u001b[0m\n\u001b[1;32m    126\u001b[0m \u001b[0;34m\u001b[0m\u001b[0m\n\u001b[1;32m    127\u001b[0m     \u001b[0mbytes_io\u001b[0m \u001b[0;34m=\u001b[0m \u001b[0mBytesIO\u001b[0m\u001b[0;34m(\u001b[0m\u001b[0;34m)\u001b[0m\u001b[0;34m\u001b[0m\u001b[0;34m\u001b[0m\u001b[0m\n\u001b[0;32m--> 128\u001b[0;31m     \u001b[0mfig\u001b[0m\u001b[0;34m.\u001b[0m\u001b[0mcanvas\u001b[0m\u001b[0;34m.\u001b[0m\u001b[0mprint_figure\u001b[0m\u001b[0;34m(\u001b[0m\u001b[0mbytes_io\u001b[0m\u001b[0;34m,\u001b[0m \u001b[0;34m**\u001b[0m\u001b[0mkw\u001b[0m\u001b[0;34m)\u001b[0m\u001b[0;34m\u001b[0m\u001b[0;34m\u001b[0m\u001b[0m\n\u001b[0m\u001b[1;32m    129\u001b[0m     \u001b[0mdata\u001b[0m \u001b[0;34m=\u001b[0m \u001b[0mbytes_io\u001b[0m\u001b[0;34m.\u001b[0m\u001b[0mgetvalue\u001b[0m\u001b[0;34m(\u001b[0m\u001b[0;34m)\u001b[0m\u001b[0;34m\u001b[0m\u001b[0;34m\u001b[0m\u001b[0m\n\u001b[1;32m    130\u001b[0m     \u001b[0;32mif\u001b[0m \u001b[0mfmt\u001b[0m \u001b[0;34m==\u001b[0m \u001b[0;34m'svg'\u001b[0m\u001b[0;34m:\u001b[0m\u001b[0;34m\u001b[0m\u001b[0;34m\u001b[0m\u001b[0m\n",
      "\u001b[0;32m/opt/conda/lib/python3.7/site-packages/matplotlib/backend_bases.py\u001b[0m in \u001b[0;36mprint_figure\u001b[0;34m(self, filename, dpi, facecolor, edgecolor, orientation, format, bbox_inches, **kwargs)\u001b[0m\n\u001b[1;32m   2080\u001b[0m                     \u001b[0morientation\u001b[0m\u001b[0;34m=\u001b[0m\u001b[0morientation\u001b[0m\u001b[0;34m,\u001b[0m\u001b[0;34m\u001b[0m\u001b[0;34m\u001b[0m\u001b[0m\n\u001b[1;32m   2081\u001b[0m                     \u001b[0mbbox_inches_restore\u001b[0m\u001b[0;34m=\u001b[0m\u001b[0m_bbox_inches_restore\u001b[0m\u001b[0;34m,\u001b[0m\u001b[0;34m\u001b[0m\u001b[0;34m\u001b[0m\u001b[0m\n\u001b[0;32m-> 2082\u001b[0;31m                     **kwargs)\n\u001b[0m\u001b[1;32m   2083\u001b[0m             \u001b[0;32mfinally\u001b[0m\u001b[0;34m:\u001b[0m\u001b[0;34m\u001b[0m\u001b[0;34m\u001b[0m\u001b[0m\n\u001b[1;32m   2084\u001b[0m                 \u001b[0;32mif\u001b[0m \u001b[0mbbox_inches\u001b[0m \u001b[0;32mand\u001b[0m \u001b[0mrestore_bbox\u001b[0m\u001b[0;34m:\u001b[0m\u001b[0;34m\u001b[0m\u001b[0;34m\u001b[0m\u001b[0m\n",
      "\u001b[0;32m/opt/conda/lib/python3.7/site-packages/matplotlib/backends/backend_agg.py\u001b[0m in \u001b[0;36mprint_png\u001b[0;34m(self, filename_or_obj, metadata, pil_kwargs, *args, **kwargs)\u001b[0m\n\u001b[1;32m    525\u001b[0m \u001b[0;34m\u001b[0m\u001b[0m\n\u001b[1;32m    526\u001b[0m         \u001b[0;32melse\u001b[0m\u001b[0;34m:\u001b[0m\u001b[0;34m\u001b[0m\u001b[0;34m\u001b[0m\u001b[0m\n\u001b[0;32m--> 527\u001b[0;31m             \u001b[0mFigureCanvasAgg\u001b[0m\u001b[0;34m.\u001b[0m\u001b[0mdraw\u001b[0m\u001b[0;34m(\u001b[0m\u001b[0mself\u001b[0m\u001b[0;34m)\u001b[0m\u001b[0;34m\u001b[0m\u001b[0;34m\u001b[0m\u001b[0m\n\u001b[0m\u001b[1;32m    528\u001b[0m             \u001b[0mrenderer\u001b[0m \u001b[0;34m=\u001b[0m \u001b[0mself\u001b[0m\u001b[0;34m.\u001b[0m\u001b[0mget_renderer\u001b[0m\u001b[0;34m(\u001b[0m\u001b[0;34m)\u001b[0m\u001b[0;34m\u001b[0m\u001b[0;34m\u001b[0m\u001b[0m\n\u001b[1;32m    529\u001b[0m             \u001b[0;32mwith\u001b[0m \u001b[0mcbook\u001b[0m\u001b[0;34m.\u001b[0m\u001b[0m_setattr_cm\u001b[0m\u001b[0;34m(\u001b[0m\u001b[0mrenderer\u001b[0m\u001b[0;34m,\u001b[0m \u001b[0mdpi\u001b[0m\u001b[0;34m=\u001b[0m\u001b[0mself\u001b[0m\u001b[0;34m.\u001b[0m\u001b[0mfigure\u001b[0m\u001b[0;34m.\u001b[0m\u001b[0mdpi\u001b[0m\u001b[0;34m)\u001b[0m\u001b[0;34m,\u001b[0m\u001b[0;31m \u001b[0m\u001b[0;31m\\\u001b[0m\u001b[0;34m\u001b[0m\u001b[0;34m\u001b[0m\u001b[0m\n",
      "\u001b[0;32m/opt/conda/lib/python3.7/site-packages/matplotlib/backends/backend_agg.py\u001b[0m in \u001b[0;36mdraw\u001b[0;34m(self)\u001b[0m\n\u001b[1;32m    386\u001b[0m         \u001b[0mself\u001b[0m\u001b[0;34m.\u001b[0m\u001b[0mrenderer\u001b[0m \u001b[0;34m=\u001b[0m \u001b[0mself\u001b[0m\u001b[0;34m.\u001b[0m\u001b[0mget_renderer\u001b[0m\u001b[0;34m(\u001b[0m\u001b[0mcleared\u001b[0m\u001b[0;34m=\u001b[0m\u001b[0;32mTrue\u001b[0m\u001b[0;34m)\u001b[0m\u001b[0;34m\u001b[0m\u001b[0;34m\u001b[0m\u001b[0m\n\u001b[1;32m    387\u001b[0m         \u001b[0;32mwith\u001b[0m \u001b[0mRendererAgg\u001b[0m\u001b[0;34m.\u001b[0m\u001b[0mlock\u001b[0m\u001b[0;34m:\u001b[0m\u001b[0;34m\u001b[0m\u001b[0;34m\u001b[0m\u001b[0m\n\u001b[0;32m--> 388\u001b[0;31m             \u001b[0mself\u001b[0m\u001b[0;34m.\u001b[0m\u001b[0mfigure\u001b[0m\u001b[0;34m.\u001b[0m\u001b[0mdraw\u001b[0m\u001b[0;34m(\u001b[0m\u001b[0mself\u001b[0m\u001b[0;34m.\u001b[0m\u001b[0mrenderer\u001b[0m\u001b[0;34m)\u001b[0m\u001b[0;34m\u001b[0m\u001b[0;34m\u001b[0m\u001b[0m\n\u001b[0m\u001b[1;32m    389\u001b[0m             \u001b[0;31m# A GUI class may be need to update a window using this draw, so\u001b[0m\u001b[0;34m\u001b[0m\u001b[0;34m\u001b[0m\u001b[0;34m\u001b[0m\u001b[0m\n\u001b[1;32m    390\u001b[0m             \u001b[0;31m# don't forget to call the superclass.\u001b[0m\u001b[0;34m\u001b[0m\u001b[0;34m\u001b[0m\u001b[0;34m\u001b[0m\u001b[0m\n",
      "\u001b[0;32m/opt/conda/lib/python3.7/site-packages/matplotlib/artist.py\u001b[0m in \u001b[0;36mdraw_wrapper\u001b[0;34m(artist, renderer, *args, **kwargs)\u001b[0m\n\u001b[1;32m     36\u001b[0m                 \u001b[0mrenderer\u001b[0m\u001b[0;34m.\u001b[0m\u001b[0mstart_filter\u001b[0m\u001b[0;34m(\u001b[0m\u001b[0;34m)\u001b[0m\u001b[0;34m\u001b[0m\u001b[0;34m\u001b[0m\u001b[0m\n\u001b[1;32m     37\u001b[0m \u001b[0;34m\u001b[0m\u001b[0m\n\u001b[0;32m---> 38\u001b[0;31m             \u001b[0;32mreturn\u001b[0m \u001b[0mdraw\u001b[0m\u001b[0;34m(\u001b[0m\u001b[0martist\u001b[0m\u001b[0;34m,\u001b[0m \u001b[0mrenderer\u001b[0m\u001b[0;34m,\u001b[0m \u001b[0;34m*\u001b[0m\u001b[0margs\u001b[0m\u001b[0;34m,\u001b[0m \u001b[0;34m**\u001b[0m\u001b[0mkwargs\u001b[0m\u001b[0;34m)\u001b[0m\u001b[0;34m\u001b[0m\u001b[0;34m\u001b[0m\u001b[0m\n\u001b[0m\u001b[1;32m     39\u001b[0m         \u001b[0;32mfinally\u001b[0m\u001b[0;34m:\u001b[0m\u001b[0;34m\u001b[0m\u001b[0;34m\u001b[0m\u001b[0m\n\u001b[1;32m     40\u001b[0m             \u001b[0;32mif\u001b[0m \u001b[0martist\u001b[0m\u001b[0;34m.\u001b[0m\u001b[0mget_agg_filter\u001b[0m\u001b[0;34m(\u001b[0m\u001b[0;34m)\u001b[0m \u001b[0;32mis\u001b[0m \u001b[0;32mnot\u001b[0m \u001b[0;32mNone\u001b[0m\u001b[0;34m:\u001b[0m\u001b[0;34m\u001b[0m\u001b[0;34m\u001b[0m\u001b[0m\n",
      "\u001b[0;32m/opt/conda/lib/python3.7/site-packages/matplotlib/figure.py\u001b[0m in \u001b[0;36mdraw\u001b[0;34m(self, renderer)\u001b[0m\n\u001b[1;32m   1707\u001b[0m             \u001b[0mself\u001b[0m\u001b[0;34m.\u001b[0m\u001b[0mpatch\u001b[0m\u001b[0;34m.\u001b[0m\u001b[0mdraw\u001b[0m\u001b[0;34m(\u001b[0m\u001b[0mrenderer\u001b[0m\u001b[0;34m)\u001b[0m\u001b[0;34m\u001b[0m\u001b[0;34m\u001b[0m\u001b[0m\n\u001b[1;32m   1708\u001b[0m             mimage._draw_list_compositing_images(\n\u001b[0;32m-> 1709\u001b[0;31m                 renderer, self, artists, self.suppressComposite)\n\u001b[0m\u001b[1;32m   1710\u001b[0m \u001b[0;34m\u001b[0m\u001b[0m\n\u001b[1;32m   1711\u001b[0m             \u001b[0mrenderer\u001b[0m\u001b[0;34m.\u001b[0m\u001b[0mclose_group\u001b[0m\u001b[0;34m(\u001b[0m\u001b[0;34m'figure'\u001b[0m\u001b[0;34m)\u001b[0m\u001b[0;34m\u001b[0m\u001b[0;34m\u001b[0m\u001b[0m\n",
      "\u001b[0;32m/opt/conda/lib/python3.7/site-packages/matplotlib/image.py\u001b[0m in \u001b[0;36m_draw_list_compositing_images\u001b[0;34m(renderer, parent, artists, suppress_composite)\u001b[0m\n\u001b[1;32m    133\u001b[0m     \u001b[0;32mif\u001b[0m \u001b[0mnot_composite\u001b[0m \u001b[0;32mor\u001b[0m \u001b[0;32mnot\u001b[0m \u001b[0mhas_images\u001b[0m\u001b[0;34m:\u001b[0m\u001b[0;34m\u001b[0m\u001b[0;34m\u001b[0m\u001b[0m\n\u001b[1;32m    134\u001b[0m         \u001b[0;32mfor\u001b[0m \u001b[0ma\u001b[0m \u001b[0;32min\u001b[0m \u001b[0martists\u001b[0m\u001b[0;34m:\u001b[0m\u001b[0;34m\u001b[0m\u001b[0;34m\u001b[0m\u001b[0m\n\u001b[0;32m--> 135\u001b[0;31m             \u001b[0ma\u001b[0m\u001b[0;34m.\u001b[0m\u001b[0mdraw\u001b[0m\u001b[0;34m(\u001b[0m\u001b[0mrenderer\u001b[0m\u001b[0;34m)\u001b[0m\u001b[0;34m\u001b[0m\u001b[0;34m\u001b[0m\u001b[0m\n\u001b[0m\u001b[1;32m    136\u001b[0m     \u001b[0;32melse\u001b[0m\u001b[0;34m:\u001b[0m\u001b[0;34m\u001b[0m\u001b[0;34m\u001b[0m\u001b[0m\n\u001b[1;32m    137\u001b[0m         \u001b[0;31m# Composite any adjacent images together\u001b[0m\u001b[0;34m\u001b[0m\u001b[0;34m\u001b[0m\u001b[0;34m\u001b[0m\u001b[0m\n",
      "\u001b[0;32m/opt/conda/lib/python3.7/site-packages/matplotlib/artist.py\u001b[0m in \u001b[0;36mdraw_wrapper\u001b[0;34m(artist, renderer, *args, **kwargs)\u001b[0m\n\u001b[1;32m     36\u001b[0m                 \u001b[0mrenderer\u001b[0m\u001b[0;34m.\u001b[0m\u001b[0mstart_filter\u001b[0m\u001b[0;34m(\u001b[0m\u001b[0;34m)\u001b[0m\u001b[0;34m\u001b[0m\u001b[0;34m\u001b[0m\u001b[0m\n\u001b[1;32m     37\u001b[0m \u001b[0;34m\u001b[0m\u001b[0m\n\u001b[0;32m---> 38\u001b[0;31m             \u001b[0;32mreturn\u001b[0m \u001b[0mdraw\u001b[0m\u001b[0;34m(\u001b[0m\u001b[0martist\u001b[0m\u001b[0;34m,\u001b[0m \u001b[0mrenderer\u001b[0m\u001b[0;34m,\u001b[0m \u001b[0;34m*\u001b[0m\u001b[0margs\u001b[0m\u001b[0;34m,\u001b[0m \u001b[0;34m**\u001b[0m\u001b[0mkwargs\u001b[0m\u001b[0;34m)\u001b[0m\u001b[0;34m\u001b[0m\u001b[0;34m\u001b[0m\u001b[0m\n\u001b[0m\u001b[1;32m     39\u001b[0m         \u001b[0;32mfinally\u001b[0m\u001b[0;34m:\u001b[0m\u001b[0;34m\u001b[0m\u001b[0;34m\u001b[0m\u001b[0m\n\u001b[1;32m     40\u001b[0m             \u001b[0;32mif\u001b[0m \u001b[0martist\u001b[0m\u001b[0;34m.\u001b[0m\u001b[0mget_agg_filter\u001b[0m\u001b[0;34m(\u001b[0m\u001b[0;34m)\u001b[0m \u001b[0;32mis\u001b[0m \u001b[0;32mnot\u001b[0m \u001b[0;32mNone\u001b[0m\u001b[0;34m:\u001b[0m\u001b[0;34m\u001b[0m\u001b[0;34m\u001b[0m\u001b[0m\n",
      "\u001b[0;32m/opt/conda/lib/python3.7/site-packages/matplotlib/axes/_base.py\u001b[0m in \u001b[0;36mdraw\u001b[0;34m(self, renderer, inframe)\u001b[0m\n\u001b[1;32m   2645\u001b[0m             \u001b[0mrenderer\u001b[0m\u001b[0;34m.\u001b[0m\u001b[0mstop_rasterizing\u001b[0m\u001b[0;34m(\u001b[0m\u001b[0;34m)\u001b[0m\u001b[0;34m\u001b[0m\u001b[0;34m\u001b[0m\u001b[0m\n\u001b[1;32m   2646\u001b[0m \u001b[0;34m\u001b[0m\u001b[0m\n\u001b[0;32m-> 2647\u001b[0;31m         \u001b[0mmimage\u001b[0m\u001b[0;34m.\u001b[0m\u001b[0m_draw_list_compositing_images\u001b[0m\u001b[0;34m(\u001b[0m\u001b[0mrenderer\u001b[0m\u001b[0;34m,\u001b[0m \u001b[0mself\u001b[0m\u001b[0;34m,\u001b[0m \u001b[0martists\u001b[0m\u001b[0;34m)\u001b[0m\u001b[0;34m\u001b[0m\u001b[0;34m\u001b[0m\u001b[0m\n\u001b[0m\u001b[1;32m   2648\u001b[0m \u001b[0;34m\u001b[0m\u001b[0m\n\u001b[1;32m   2649\u001b[0m         \u001b[0mrenderer\u001b[0m\u001b[0;34m.\u001b[0m\u001b[0mclose_group\u001b[0m\u001b[0;34m(\u001b[0m\u001b[0;34m'axes'\u001b[0m\u001b[0;34m)\u001b[0m\u001b[0;34m\u001b[0m\u001b[0;34m\u001b[0m\u001b[0m\n",
      "\u001b[0;32m/opt/conda/lib/python3.7/site-packages/matplotlib/image.py\u001b[0m in \u001b[0;36m_draw_list_compositing_images\u001b[0;34m(renderer, parent, artists, suppress_composite)\u001b[0m\n\u001b[1;32m    133\u001b[0m     \u001b[0;32mif\u001b[0m \u001b[0mnot_composite\u001b[0m \u001b[0;32mor\u001b[0m \u001b[0;32mnot\u001b[0m \u001b[0mhas_images\u001b[0m\u001b[0;34m:\u001b[0m\u001b[0;34m\u001b[0m\u001b[0;34m\u001b[0m\u001b[0m\n\u001b[1;32m    134\u001b[0m         \u001b[0;32mfor\u001b[0m \u001b[0ma\u001b[0m \u001b[0;32min\u001b[0m \u001b[0martists\u001b[0m\u001b[0;34m:\u001b[0m\u001b[0;34m\u001b[0m\u001b[0;34m\u001b[0m\u001b[0m\n\u001b[0;32m--> 135\u001b[0;31m             \u001b[0ma\u001b[0m\u001b[0;34m.\u001b[0m\u001b[0mdraw\u001b[0m\u001b[0;34m(\u001b[0m\u001b[0mrenderer\u001b[0m\u001b[0;34m)\u001b[0m\u001b[0;34m\u001b[0m\u001b[0;34m\u001b[0m\u001b[0m\n\u001b[0m\u001b[1;32m    136\u001b[0m     \u001b[0;32melse\u001b[0m\u001b[0;34m:\u001b[0m\u001b[0;34m\u001b[0m\u001b[0;34m\u001b[0m\u001b[0m\n\u001b[1;32m    137\u001b[0m         \u001b[0;31m# Composite any adjacent images together\u001b[0m\u001b[0;34m\u001b[0m\u001b[0;34m\u001b[0m\u001b[0;34m\u001b[0m\u001b[0m\n",
      "\u001b[0;32m/opt/conda/lib/python3.7/site-packages/matplotlib/artist.py\u001b[0m in \u001b[0;36mdraw_wrapper\u001b[0;34m(artist, renderer, *args, **kwargs)\u001b[0m\n\u001b[1;32m     36\u001b[0m                 \u001b[0mrenderer\u001b[0m\u001b[0;34m.\u001b[0m\u001b[0mstart_filter\u001b[0m\u001b[0;34m(\u001b[0m\u001b[0;34m)\u001b[0m\u001b[0;34m\u001b[0m\u001b[0;34m\u001b[0m\u001b[0m\n\u001b[1;32m     37\u001b[0m \u001b[0;34m\u001b[0m\u001b[0m\n\u001b[0;32m---> 38\u001b[0;31m             \u001b[0;32mreturn\u001b[0m \u001b[0mdraw\u001b[0m\u001b[0;34m(\u001b[0m\u001b[0martist\u001b[0m\u001b[0;34m,\u001b[0m \u001b[0mrenderer\u001b[0m\u001b[0;34m,\u001b[0m \u001b[0;34m*\u001b[0m\u001b[0margs\u001b[0m\u001b[0;34m,\u001b[0m \u001b[0;34m**\u001b[0m\u001b[0mkwargs\u001b[0m\u001b[0;34m)\u001b[0m\u001b[0;34m\u001b[0m\u001b[0;34m\u001b[0m\u001b[0m\n\u001b[0m\u001b[1;32m     39\u001b[0m         \u001b[0;32mfinally\u001b[0m\u001b[0;34m:\u001b[0m\u001b[0;34m\u001b[0m\u001b[0;34m\u001b[0m\u001b[0m\n\u001b[1;32m     40\u001b[0m             \u001b[0;32mif\u001b[0m \u001b[0martist\u001b[0m\u001b[0;34m.\u001b[0m\u001b[0mget_agg_filter\u001b[0m\u001b[0;34m(\u001b[0m\u001b[0;34m)\u001b[0m \u001b[0;32mis\u001b[0m \u001b[0;32mnot\u001b[0m \u001b[0;32mNone\u001b[0m\u001b[0;34m:\u001b[0m\u001b[0;34m\u001b[0m\u001b[0;34m\u001b[0m\u001b[0m\n",
      "\u001b[0;32m/opt/conda/lib/python3.7/site-packages/matplotlib/patches.py\u001b[0m in \u001b[0;36mdraw\u001b[0;34m(self, renderer)\u001b[0m\n\u001b[1;32m    578\u001b[0m                       \u001b[0;31m# do not draw the hatches if the facecolor is fully\u001b[0m\u001b[0;34m\u001b[0m\u001b[0;34m\u001b[0m\u001b[0;34m\u001b[0m\u001b[0m\n\u001b[1;32m    579\u001b[0m                       \u001b[0;31m# transparent, but do if it is None.\u001b[0m\u001b[0;34m\u001b[0m\u001b[0;34m\u001b[0m\u001b[0;34m\u001b[0m\u001b[0m\n\u001b[0;32m--> 580\u001b[0;31m                       self._facecolor if self._facecolor[3] else None)\n\u001b[0m\u001b[1;32m    581\u001b[0m \u001b[0;34m\u001b[0m\u001b[0m\n\u001b[1;32m    582\u001b[0m     \u001b[0;32mdef\u001b[0m \u001b[0mget_path\u001b[0m\u001b[0;34m(\u001b[0m\u001b[0mself\u001b[0m\u001b[0;34m)\u001b[0m\u001b[0;34m:\u001b[0m\u001b[0;34m\u001b[0m\u001b[0;34m\u001b[0m\u001b[0m\n",
      "\u001b[0;32m/opt/conda/lib/python3.7/site-packages/matplotlib/backends/backend_agg.py\u001b[0m in \u001b[0;36mdraw_path\u001b[0;34m(self, gc, path, transform, rgbFace)\u001b[0m\n\u001b[1;32m    144\u001b[0m         \u001b[0;32melse\u001b[0m\u001b[0;34m:\u001b[0m\u001b[0;34m\u001b[0m\u001b[0;34m\u001b[0m\u001b[0m\n\u001b[1;32m    145\u001b[0m             \u001b[0;32mtry\u001b[0m\u001b[0;34m:\u001b[0m\u001b[0;34m\u001b[0m\u001b[0;34m\u001b[0m\u001b[0m\n\u001b[0;32m--> 146\u001b[0;31m                 \u001b[0mself\u001b[0m\u001b[0;34m.\u001b[0m\u001b[0m_renderer\u001b[0m\u001b[0;34m.\u001b[0m\u001b[0mdraw_path\u001b[0m\u001b[0;34m(\u001b[0m\u001b[0mgc\u001b[0m\u001b[0;34m,\u001b[0m \u001b[0mpath\u001b[0m\u001b[0;34m,\u001b[0m \u001b[0mtransform\u001b[0m\u001b[0;34m,\u001b[0m \u001b[0mrgbFace\u001b[0m\u001b[0;34m)\u001b[0m\u001b[0;34m\u001b[0m\u001b[0;34m\u001b[0m\u001b[0m\n\u001b[0m\u001b[1;32m    147\u001b[0m             \u001b[0;32mexcept\u001b[0m \u001b[0mOverflowError\u001b[0m\u001b[0;34m:\u001b[0m\u001b[0;34m\u001b[0m\u001b[0;34m\u001b[0m\u001b[0m\n\u001b[1;32m    148\u001b[0m                 raise OverflowError(\"Exceeded cell block limit (set \"\n",
      "\u001b[0;32m/opt/conda/lib/python3.7/site-packages/matplotlib/transforms.py\u001b[0m in \u001b[0;36m__array__\u001b[0;34m(self, *args, **kwargs)\u001b[0m\n\u001b[1;32m    279\u001b[0m \u001b[0;34m\u001b[0m\u001b[0m\n\u001b[1;32m    280\u001b[0m     \u001b[0;32mdef\u001b[0m \u001b[0m__array__\u001b[0m\u001b[0;34m(\u001b[0m\u001b[0mself\u001b[0m\u001b[0;34m,\u001b[0m \u001b[0;34m*\u001b[0m\u001b[0margs\u001b[0m\u001b[0;34m,\u001b[0m \u001b[0;34m**\u001b[0m\u001b[0mkwargs\u001b[0m\u001b[0;34m)\u001b[0m\u001b[0;34m:\u001b[0m\u001b[0;34m\u001b[0m\u001b[0;34m\u001b[0m\u001b[0m\n\u001b[0;32m--> 281\u001b[0;31m         \u001b[0;32mreturn\u001b[0m \u001b[0mself\u001b[0m\u001b[0;34m.\u001b[0m\u001b[0mget_points\u001b[0m\u001b[0;34m(\u001b[0m\u001b[0;34m)\u001b[0m\u001b[0;34m\u001b[0m\u001b[0;34m\u001b[0m\u001b[0m\n\u001b[0m\u001b[1;32m    282\u001b[0m \u001b[0;34m\u001b[0m\u001b[0m\n\u001b[1;32m    283\u001b[0m     \u001b[0;32mdef\u001b[0m \u001b[0mis_unit\u001b[0m\u001b[0;34m(\u001b[0m\u001b[0mself\u001b[0m\u001b[0;34m)\u001b[0m\u001b[0;34m:\u001b[0m\u001b[0;34m\u001b[0m\u001b[0;34m\u001b[0m\u001b[0m\n",
      "\u001b[0;32m/opt/conda/lib/python3.7/site-packages/matplotlib/transforms.py\u001b[0m in \u001b[0;36mget_points\u001b[0;34m(self)\u001b[0m\n\u001b[1;32m   1034\u001b[0m                  \u001b[0;34m[\u001b[0m\u001b[0mp\u001b[0m\u001b[0;34m[\u001b[0m\u001b[0;36m1\u001b[0m\u001b[0;34m,\u001b[0m \u001b[0;36m0\u001b[0m\u001b[0;34m]\u001b[0m\u001b[0;34m,\u001b[0m \u001b[0mp\u001b[0m\u001b[0;34m[\u001b[0m\u001b[0;36m0\u001b[0m\u001b[0;34m,\u001b[0m \u001b[0;36m1\u001b[0m\u001b[0;34m]\u001b[0m\u001b[0;34m]\u001b[0m\u001b[0;34m,\u001b[0m\u001b[0;34m\u001b[0m\u001b[0;34m\u001b[0m\u001b[0m\n\u001b[1;32m   1035\u001b[0m                  \u001b[0;34m[\u001b[0m\u001b[0mp\u001b[0m\u001b[0;34m[\u001b[0m\u001b[0;36m0\u001b[0m\u001b[0;34m,\u001b[0m \u001b[0;36m0\u001b[0m\u001b[0;34m]\u001b[0m\u001b[0;34m,\u001b[0m \u001b[0mp\u001b[0m\u001b[0;34m[\u001b[0m\u001b[0;36m1\u001b[0m\u001b[0;34m,\u001b[0m \u001b[0;36m1\u001b[0m\u001b[0;34m]\u001b[0m\u001b[0;34m]\u001b[0m\u001b[0;34m,\u001b[0m\u001b[0;34m\u001b[0m\u001b[0;34m\u001b[0m\u001b[0m\n\u001b[0;32m-> 1036\u001b[0;31m                  [p[1, 0], p[1, 1]]])\n\u001b[0m\u001b[1;32m   1037\u001b[0m             \u001b[0mpoints\u001b[0m \u001b[0;34m=\u001b[0m \u001b[0mnp\u001b[0m\u001b[0;34m.\u001b[0m\u001b[0mma\u001b[0m\u001b[0;34m.\u001b[0m\u001b[0mfilled\u001b[0m\u001b[0;34m(\u001b[0m\u001b[0mpoints\u001b[0m\u001b[0;34m,\u001b[0m \u001b[0;36m0.0\u001b[0m\u001b[0;34m)\u001b[0m\u001b[0;34m\u001b[0m\u001b[0;34m\u001b[0m\u001b[0m\n\u001b[1;32m   1038\u001b[0m \u001b[0;34m\u001b[0m\u001b[0m\n",
      "\u001b[0;32m/opt/conda/lib/python3.7/site-packages/matplotlib/transforms.py\u001b[0m in \u001b[0;36mtransform\u001b[0;34m(self, values)\u001b[0m\n\u001b[1;32m   1392\u001b[0m \u001b[0;34m\u001b[0m\u001b[0m\n\u001b[1;32m   1393\u001b[0m         \u001b[0;31m# Transform the values\u001b[0m\u001b[0;34m\u001b[0m\u001b[0;34m\u001b[0m\u001b[0;34m\u001b[0m\u001b[0m\n\u001b[0;32m-> 1394\u001b[0;31m         \u001b[0mres\u001b[0m \u001b[0;34m=\u001b[0m \u001b[0mself\u001b[0m\u001b[0;34m.\u001b[0m\u001b[0mtransform_affine\u001b[0m\u001b[0;34m(\u001b[0m\u001b[0mself\u001b[0m\u001b[0;34m.\u001b[0m\u001b[0mtransform_non_affine\u001b[0m\u001b[0;34m(\u001b[0m\u001b[0mvalues\u001b[0m\u001b[0;34m)\u001b[0m\u001b[0;34m)\u001b[0m\u001b[0;34m\u001b[0m\u001b[0;34m\u001b[0m\u001b[0m\n\u001b[0m\u001b[1;32m   1395\u001b[0m \u001b[0;34m\u001b[0m\u001b[0m\n\u001b[1;32m   1396\u001b[0m         \u001b[0;31m# Convert the result back to the shape of the input values.\u001b[0m\u001b[0;34m\u001b[0m\u001b[0;34m\u001b[0m\u001b[0;34m\u001b[0m\u001b[0m\n",
      "\u001b[0;32m/opt/conda/lib/python3.7/site-packages/matplotlib/transforms.py\u001b[0m in \u001b[0;36mtransform_affine\u001b[0;34m(self, points)\u001b[0m\n\u001b[1;32m   2371\u001b[0m     \u001b[0;32mdef\u001b[0m \u001b[0mtransform_affine\u001b[0m\u001b[0;34m(\u001b[0m\u001b[0mself\u001b[0m\u001b[0;34m,\u001b[0m \u001b[0mpoints\u001b[0m\u001b[0;34m)\u001b[0m\u001b[0;34m:\u001b[0m\u001b[0;34m\u001b[0m\u001b[0;34m\u001b[0m\u001b[0m\n\u001b[1;32m   2372\u001b[0m         \u001b[0;31m# docstring inherited\u001b[0m\u001b[0;34m\u001b[0m\u001b[0;34m\u001b[0m\u001b[0;34m\u001b[0m\u001b[0m\n\u001b[0;32m-> 2373\u001b[0;31m         \u001b[0;32mreturn\u001b[0m \u001b[0mself\u001b[0m\u001b[0;34m.\u001b[0m\u001b[0mget_affine\u001b[0m\u001b[0;34m(\u001b[0m\u001b[0;34m)\u001b[0m\u001b[0;34m.\u001b[0m\u001b[0mtransform\u001b[0m\u001b[0;34m(\u001b[0m\u001b[0mpoints\u001b[0m\u001b[0;34m)\u001b[0m\u001b[0;34m\u001b[0m\u001b[0;34m\u001b[0m\u001b[0m\n\u001b[0m\u001b[1;32m   2374\u001b[0m \u001b[0;34m\u001b[0m\u001b[0m\n\u001b[1;32m   2375\u001b[0m     \u001b[0;32mdef\u001b[0m \u001b[0mtransform_non_affine\u001b[0m\u001b[0;34m(\u001b[0m\u001b[0mself\u001b[0m\u001b[0;34m,\u001b[0m \u001b[0mpoints\u001b[0m\u001b[0;34m)\u001b[0m\u001b[0;34m:\u001b[0m\u001b[0;34m\u001b[0m\u001b[0;34m\u001b[0m\u001b[0m\n",
      "\u001b[0;31mKeyboardInterrupt\u001b[0m: "
     ]
    }
   ],
   "source": [
    "from collections import defaultdict\n",
    "\n",
    "repetition_counter = defaultdict(lambda: 0)\n",
    "\n",
    "for meas_id in matched[conc].id:\n",
    "    spec, lib = couple_plot(meas_id, measured, library, matched, conc=conc, repetition_count=repetition_counter[meas_id])\n",
    "    #plot_spectrum_sample_prediction(measured[conc][meas_id], [], [], [], [])\n",
    "    spec.plot_against(lib, figsize=(8, 6))\n",
    "    plt.show()\n",
    "    \n",
    "    repetition_counter[meas_id] += 1"
   ]
  },
  {
   "cell_type": "markdown",
   "metadata": {},
   "source": [
    "## Observation\n",
    "There is a clear trend of very few peaks detected. Also, however, this is a sample WITHOUT dilution. Although in over 50% of compounds, the most abundat peak is matched, the rest of the peaks is by no means behaving as we thought( few highmost detected). Rather, the peaks tend to be quite small.  \n",
    "\n",
    "IMHO it is caused by many false matches (the 3 matching an 30% is prolly too relaxed setting), and the matched compounds does NOT correspond to the compounds in the measured sample. "
   ]
  },
  {
   "cell_type": "markdown",
   "metadata": {
    "tags": []
   },
   "source": [
    "## Experiment 2 - take the compounds sorted by n mathed peaks  and observe"
   ]
  },
  {
   "cell_type": "code",
   "execution_count": null,
   "metadata": {
    "tags": []
   },
   "outputs": [],
   "source": [
    "def get_order(matched, conc=conc):\n",
    "    repetition_counter = defaultdict(lambda: 0)\n",
    "    order_dict = dict()\n",
    "    for meas_id in matched[conc].id:\n",
    "        order_dict[(meas_id, repetition_counter[meas_id])] = matched[conc].n_ions[matched[conc].id == meas_id].values[repetition_counter[meas_id]]    \n",
    "        repetition_counter[meas_id] += 1\n",
    "    return order_dict\n",
    "\n",
    "ordered = get_order(matched, conc)\n",
    "for c in reversed(sorted(ordered, key=lambda x: ordered[x])):\n",
    "    spec, lib = couple_plot(c[0], measured, library, matched, conc=conc, repetition_count=c[1])\n",
    "    #plot_spectrum_sample_prediction(measured[conc][c[0]], [], [], [], [])\n",
    "    #fig, ax = plt.subplots(figsize=(12,8))\n",
    "    spec.plot_against(lib, figsize=(8, 6))\n",
    "    plt.show()"
   ]
  },
  {
   "cell_type": "markdown",
   "metadata": {
    "tags": []
   },
   "source": [
    "## Experiment 3 - take the compounds sorted by n mathed peaks, fill predicted and observe"
   ]
  },
  {
   "cell_type": "code",
   "execution_count": null,
   "metadata": {
    "scrolled": true,
    "tags": []
   },
   "outputs": [],
   "source": [
    "conc = \"0\"\n",
    "def get_order(matched, conc=conc):\n",
    "    repetition_counter = defaultdict(lambda: 0)\n",
    "    order_dict = dict()\n",
    "    for meas_id in matched[conc].id:\n",
    "        order_dict[(meas_id, repetition_counter[meas_id])] = matched[conc].n_ions[matched[conc].id == meas_id].values[repetition_counter[meas_id]]    \n",
    "        repetition_counter[meas_id] += 1\n",
    "    return order_dict\n",
    "\n",
    "ordered = get_order(matched, conc)\n",
    "for c in reversed(sorted(ordered, key=lambda x: ordered[x])):\n",
    "    spec, lib = couple_plot(c[0], measured, library, matched, conc=conc, repetition_count=c[1])\n",
    "    spec.plot_against(lib, figsize=(8, 6))\n",
    "    \n",
    "    spec_enh,lib = couple_plot(c[0], measured, library, matched, conc=conc+\"_enh\", repetition_count=c[1])\n",
    "    spec_enh.plot_against(lib, figsize=(8, 6))\n",
    "    plt.show()"
   ]
  },
  {
   "cell_type": "code",
   "execution_count": 26,
   "metadata": {},
   "outputs": [
    {
     "data": {
      "text/html": [
       "<div>\n",
       "<style scoped>\n",
       "    .dataframe tbody tr th:only-of-type {\n",
       "        vertical-align: middle;\n",
       "    }\n",
       "\n",
       "    .dataframe tbody tr th {\n",
       "        vertical-align: top;\n",
       "    }\n",
       "\n",
       "    .dataframe thead th {\n",
       "        text-align: right;\n",
       "    }\n",
       "</style>\n",
       "<table border=\"1\" class=\"dataframe\">\n",
       "  <thead>\n",
       "    <tr style=\"text-align: right;\">\n",
       "      <th></th>\n",
       "      <th>Average Rt(min)</th>\n",
       "      <th>Average RI</th>\n",
       "      <th>Metabolite name</th>\n",
       "    </tr>\n",
       "  </thead>\n",
       "  <tbody>\n",
       "    <tr>\n",
       "      <th>0</th>\n",
       "      <td>2.484</td>\n",
       "      <td>1224.68</td>\n",
       "      <td>2-Methylmalonic acid_2TMS</td>\n",
       "    </tr>\n",
       "    <tr>\n",
       "      <th>1</th>\n",
       "      <td>5.333</td>\n",
       "      <td>2071.84</td>\n",
       "      <td>Acetylgalactosamine_4TMS</td>\n",
       "    </tr>\n",
       "    <tr>\n",
       "      <th>2</th>\n",
       "      <td>5.318</td>\n",
       "      <td>2065.37</td>\n",
       "      <td>Acetylgalactosamine_5TMS isomer 1</td>\n",
       "    </tr>\n",
       "    <tr>\n",
       "      <th>3</th>\n",
       "      <td>5.386</td>\n",
       "      <td>2088.77</td>\n",
       "      <td>Acetylgalactosamine_5TMS isomer 2</td>\n",
       "    </tr>\n",
       "    <tr>\n",
       "      <th>4</th>\n",
       "      <td>5.328</td>\n",
       "      <td>2070.17</td>\n",
       "      <td>Acetylglucosamine_5TMS isomer 1</td>\n",
       "    </tr>\n",
       "    <tr>\n",
       "      <th>...</th>\n",
       "      <td>...</td>\n",
       "      <td>...</td>\n",
       "      <td>...</td>\n",
       "    </tr>\n",
       "    <tr>\n",
       "      <th>60</th>\n",
       "      <td>2.993</td>\n",
       "      <td>1377.14</td>\n",
       "      <td>Threonine_3TMS spectra 1</td>\n",
       "    </tr>\n",
       "    <tr>\n",
       "      <th>61</th>\n",
       "      <td>2.996</td>\n",
       "      <td>1378.30</td>\n",
       "      <td>Threonine_3TMS spectra 2</td>\n",
       "    </tr>\n",
       "    <tr>\n",
       "      <th>62</th>\n",
       "      <td>4.218</td>\n",
       "      <td>1732.44</td>\n",
       "      <td>trans-Aconitic acid_3TMS</td>\n",
       "    </tr>\n",
       "    <tr>\n",
       "      <th>63</th>\n",
       "      <td>5.717</td>\n",
       "      <td>2208.86</td>\n",
       "      <td>Tryptophan_3TMS</td>\n",
       "    </tr>\n",
       "    <tr>\n",
       "      <th>64</th>\n",
       "      <td>4.903</td>\n",
       "      <td>1932.06</td>\n",
       "      <td>Tyrosine_3TMS</td>\n",
       "    </tr>\n",
       "  </tbody>\n",
       "</table>\n",
       "<p>65 rows × 3 columns</p>\n",
       "</div>"
      ],
      "text/plain": [
       "    Average Rt(min)  Average RI                    Metabolite name\n",
       "0             2.484     1224.68          2-Methylmalonic acid_2TMS\n",
       "1             5.333     2071.84           Acetylgalactosamine_4TMS\n",
       "2             5.318     2065.37  Acetylgalactosamine_5TMS isomer 1\n",
       "3             5.386     2088.77  Acetylgalactosamine_5TMS isomer 2\n",
       "4             5.328     2070.17    Acetylglucosamine_5TMS isomer 1\n",
       "..              ...         ...                                ...\n",
       "60            2.993     1377.14           Threonine_3TMS spectra 1\n",
       "61            2.996     1378.30           Threonine_3TMS spectra 2\n",
       "62            4.218     1732.44           trans-Aconitic acid_3TMS\n",
       "63            5.717     2208.86                    Tryptophan_3TMS\n",
       "64            4.903     1932.06                      Tyrosine_3TMS\n",
       "\n",
       "[65 rows x 3 columns]"
      ]
     },
     "execution_count": 26,
     "metadata": {},
     "output_type": "execute_result"
    }
   ],
   "source": [
    "ref = pd.read_csv(\"../data/15_KC_Confirmed_seminalplasma.csv.csv\")\n",
    "ref"
   ]
  },
  {
   "cell_type": "code",
   "execution_count": 18,
   "metadata": {},
   "outputs": [
    {
     "data": {
      "text/html": [
       "<div>\n",
       "<style scoped>\n",
       "    .dataframe tbody tr th:only-of-type {\n",
       "        vertical-align: middle;\n",
       "    }\n",
       "\n",
       "    .dataframe tbody tr th {\n",
       "        vertical-align: top;\n",
       "    }\n",
       "\n",
       "    .dataframe thead th {\n",
       "        text-align: right;\n",
       "    }\n",
       "</style>\n",
       "<table border=\"1\" class=\"dataframe\">\n",
       "  <thead>\n",
       "    <tr style=\"text-align: right;\">\n",
       "      <th></th>\n",
       "      <th>id</th>\n",
       "      <th>name</th>\n",
       "      <th>n_ions</th>\n",
       "      <th>confidence</th>\n",
       "    </tr>\n",
       "  </thead>\n",
       "  <tbody>\n",
       "    <tr>\n",
       "      <th>1</th>\n",
       "      <td>C02</td>\n",
       "      <td>Lysine_4TMS</td>\n",
       "      <td>23</td>\n",
       "      <td>0.92281020332912</td>\n",
       "    </tr>\n",
       "    <tr>\n",
       "      <th>2</th>\n",
       "      <td>C02</td>\n",
       "      <td>Pipecolinic acid_2TMS</td>\n",
       "      <td>4</td>\n",
       "      <td>0.7553661382849925</td>\n",
       "    </tr>\n",
       "    <tr>\n",
       "      <th>3</th>\n",
       "      <td>C06</td>\n",
       "      <td>Arabitol_5TMS</td>\n",
       "      <td>9</td>\n",
       "      <td>0.796552247937575</td>\n",
       "    </tr>\n",
       "    <tr>\n",
       "      <th>4</th>\n",
       "      <td>C06</td>\n",
       "      <td>Arabitol_5TMS</td>\n",
       "      <td>9</td>\n",
       "      <td>0.7972294938455029</td>\n",
       "    </tr>\n",
       "    <tr>\n",
       "      <th>5</th>\n",
       "      <td>C06</td>\n",
       "      <td>Arabitol_5TMS</td>\n",
       "      <td>10</td>\n",
       "      <td>0.796552247937575</td>\n",
       "    </tr>\n",
       "    <tr>\n",
       "      <th>6</th>\n",
       "      <td>C06</td>\n",
       "      <td>Arabitol_5TMS</td>\n",
       "      <td>10</td>\n",
       "      <td>0.7972294938455029</td>\n",
       "    </tr>\n",
       "    <tr>\n",
       "      <th>7</th>\n",
       "      <td>C06</td>\n",
       "      <td>Fructose_5TMS isomer 1</td>\n",
       "      <td>15</td>\n",
       "      <td>0.8584115640959713</td>\n",
       "    </tr>\n",
       "    <tr>\n",
       "      <th>8</th>\n",
       "      <td>C06</td>\n",
       "      <td>Fructose_5TMS isomer 2</td>\n",
       "      <td>18</td>\n",
       "      <td>0.8766808769415186</td>\n",
       "    </tr>\n",
       "    <tr>\n",
       "      <th>9</th>\n",
       "      <td>C06</td>\n",
       "      <td>Galactitol_6TMS</td>\n",
       "      <td>7</td>\n",
       "      <td>0.7806173392109105</td>\n",
       "    </tr>\n",
       "    <tr>\n",
       "      <th>10</th>\n",
       "      <td>C06</td>\n",
       "      <td>Gluconic acid-1,4-lactone</td>\n",
       "      <td>7</td>\n",
       "      <td>0.8218563911271052</td>\n",
       "    </tr>\n",
       "    <tr>\n",
       "      <th>11</th>\n",
       "      <td>C06</td>\n",
       "      <td>Ribitol_5TMS</td>\n",
       "      <td>8</td>\n",
       "      <td>0.7140334223708281</td>\n",
       "    </tr>\n",
       "    <tr>\n",
       "      <th>12</th>\n",
       "      <td>C06</td>\n",
       "      <td>Ribose_4TMS</td>\n",
       "      <td>11</td>\n",
       "      <td>0.8566412457759247</td>\n",
       "    </tr>\n",
       "    <tr>\n",
       "      <th>13</th>\n",
       "      <td>C06</td>\n",
       "      <td>Xylose_4TMS</td>\n",
       "      <td>11</td>\n",
       "      <td>0.8140434072629077</td>\n",
       "    </tr>\n",
       "    <tr>\n",
       "      <th>14</th>\n",
       "      <td>C08</td>\n",
       "      <td>Citric acid_4TMS</td>\n",
       "      <td>13</td>\n",
       "      <td>0.8749224326835099</td>\n",
       "    </tr>\n",
       "    <tr>\n",
       "      <th>15</th>\n",
       "      <td>C10</td>\n",
       "      <td>Myo-inositol_6TMS</td>\n",
       "      <td>13</td>\n",
       "      <td>0.9155674896314296</td>\n",
       "    </tr>\n",
       "    <tr>\n",
       "      <th>16</th>\n",
       "      <td>C16</td>\n",
       "      <td>Uridine_4TMS isomer 1</td>\n",
       "      <td>12</td>\n",
       "      <td>0.6025062983867928</td>\n",
       "    </tr>\n",
       "    <tr>\n",
       "      <th>17</th>\n",
       "      <td>C17</td>\n",
       "      <td>Serine_3TMS</td>\n",
       "      <td>8</td>\n",
       "      <td>0.8255728082836913</td>\n",
       "    </tr>\n",
       "    <tr>\n",
       "      <th>18</th>\n",
       "      <td>C19</td>\n",
       "      <td>Aspartic acid_3TMS isomer</td>\n",
       "      <td>5</td>\n",
       "      <td>0.9098349214292314</td>\n",
       "    </tr>\n",
       "    <tr>\n",
       "      <th>19</th>\n",
       "      <td>C19</td>\n",
       "      <td>Aspartic acid_3TMS isomer</td>\n",
       "      <td>5</td>\n",
       "      <td>0.8539725938176345</td>\n",
       "    </tr>\n",
       "    <tr>\n",
       "      <th>20</th>\n",
       "      <td>C19</td>\n",
       "      <td>Aspartic acid_3TMS isomer</td>\n",
       "      <td>5</td>\n",
       "      <td>0.9098349214292314</td>\n",
       "    </tr>\n",
       "    <tr>\n",
       "      <th>21</th>\n",
       "      <td>C19</td>\n",
       "      <td>Aspartic acid_3TMS isomer</td>\n",
       "      <td>5</td>\n",
       "      <td>0.8539725938176345</td>\n",
       "    </tr>\n",
       "    <tr>\n",
       "      <th>22</th>\n",
       "      <td>C26</td>\n",
       "      <td>Threonine_3TMS spectra 1</td>\n",
       "      <td>8</td>\n",
       "      <td>0.7965404736026365</td>\n",
       "    </tr>\n",
       "    <tr>\n",
       "      <th>23</th>\n",
       "      <td>C39</td>\n",
       "      <td>Histidine_3TMS</td>\n",
       "      <td>4</td>\n",
       "      <td>0.8396355282325411</td>\n",
       "    </tr>\n",
       "    <tr>\n",
       "      <th>24</th>\n",
       "      <td>C47</td>\n",
       "      <td>Norvaline_2TMS</td>\n",
       "      <td>4</td>\n",
       "      <td>0.9273509946432018</td>\n",
       "    </tr>\n",
       "  </tbody>\n",
       "</table>\n",
       "</div>"
      ],
      "text/plain": [
       "     id                       name n_ions          confidence\n",
       "1   C02                Lysine_4TMS     23    0.92281020332912\n",
       "2   C02      Pipecolinic acid_2TMS      4  0.7553661382849925\n",
       "3   C06              Arabitol_5TMS      9   0.796552247937575\n",
       "4   C06              Arabitol_5TMS      9  0.7972294938455029\n",
       "5   C06              Arabitol_5TMS     10   0.796552247937575\n",
       "6   C06              Arabitol_5TMS     10  0.7972294938455029\n",
       "7   C06     Fructose_5TMS isomer 1     15  0.8584115640959713\n",
       "8   C06     Fructose_5TMS isomer 2     18  0.8766808769415186\n",
       "9   C06            Galactitol_6TMS      7  0.7806173392109105\n",
       "10  C06  Gluconic acid-1,4-lactone      7  0.8218563911271052\n",
       "11  C06               Ribitol_5TMS      8  0.7140334223708281\n",
       "12  C06                Ribose_4TMS     11  0.8566412457759247\n",
       "13  C06                Xylose_4TMS     11  0.8140434072629077\n",
       "14  C08           Citric acid_4TMS     13  0.8749224326835099\n",
       "15  C10          Myo-inositol_6TMS     13  0.9155674896314296\n",
       "16  C16      Uridine_4TMS isomer 1     12  0.6025062983867928\n",
       "17  C17                Serine_3TMS      8  0.8255728082836913\n",
       "18  C19  Aspartic acid_3TMS isomer      5  0.9098349214292314\n",
       "19  C19  Aspartic acid_3TMS isomer      5  0.8539725938176345\n",
       "20  C19  Aspartic acid_3TMS isomer      5  0.9098349214292314\n",
       "21  C19  Aspartic acid_3TMS isomer      5  0.8539725938176345\n",
       "22  C26   Threonine_3TMS spectra 1      8  0.7965404736026365\n",
       "23  C39             Histidine_3TMS      4  0.8396355282325411\n",
       "24  C47             Norvaline_2TMS      4  0.9273509946432018"
      ]
     },
     "execution_count": 18,
     "metadata": {},
     "output_type": "execute_result"
    }
   ],
   "source": [
    "matched[\"all\"]"
   ]
  },
  {
   "cell_type": "code",
   "execution_count": 27,
   "metadata": {},
   "outputs": [],
   "source": [
    "ground = set(ref[\"Metabolite name\"])\n",
    "pred = set(matched[\"all\"].name) "
   ]
  },
  {
   "cell_type": "code",
   "execution_count": 28,
   "metadata": {},
   "outputs": [
    {
     "data": {
      "text/plain": [
       "<matplotlib_venn._common.VennDiagram at 0x7f9d5dca6ba8>"
      ]
     },
     "execution_count": 28,
     "metadata": {},
     "output_type": "execute_result"
    },
    {
     "data": {
      "image/png": "[encoded data removed]",
      "text/plain": [
       "<Figure size 432x288 with 1 Axes>"
      ]
     },
     "metadata": {},
     "output_type": "display_data"
    }
   ],
   "source": [
    "from matplotlib_venn import venn2\n",
    "venn2((pred, ground))"
   ]
  },
  {
   "cell_type": "code",
   "execution_count": null,
   "metadata": {},
   "outputs": [],
   "source": []
  }
 ],
 "metadata": {
  "kernelspec": {
   "display_name": "Python 3",
   "language": "python",
   "name": "python3"
  },
  "language_info": {
   "codemirror_mode": {
    "name": "ipython",
    "version": 3
   },
   "file_extension": ".py",
   "mimetype": "text/x-python",
   "name": "python",
   "nbconvert_exporter": "python",
   "pygments_lexer": "ipython3",
   "version": "3.7.3"
  }
 },
 "nbformat": 4,
 "nbformat_minor": 5
}
