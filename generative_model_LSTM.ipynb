{
 "cells": [
  {
   "cell_type": "markdown",
   "metadata": {},
   "source": [
    "# LSTM\n"
   ]
  },
  {
   "cell_type": "markdown",
   "metadata": {},
   "source": [
    "## Settings"
   ]
  },
  {
   "cell_type": "code",
   "execution_count": 1,
   "metadata": {},
   "outputs": [],
   "source": [
    "base = \"data\"\n",
    "dataset = \"nist\"\n",
    "kind = \"in_database\"\n",
    "\n",
    "wv_path = f\"gas2vec/{kind}.model\"\n",
    "\n",
    "data_train_path =f\"{base}/{dataset}/{kind}/train.msp\"\n",
    "data_val_path =f\"{base}/{dataset}/{kind}/val.msp\"\n",
    "data_test_path =f\"{base}/{dataset}/{kind}/test.msp\"\n",
    "\n",
    "\n",
    "%load_ext autoreload\n",
    "%autoreload 2\n",
    "\n",
    "import sys; sys.path.append(\"..\")"
   ]
  },
  {
   "cell_type": "code",
   "execution_count": 2,
   "metadata": {},
   "outputs": [],
   "source": [
    "# compounds to visualize \n",
    "if kind == \"in_database\":\n",
    "    interesting =  [\"Atrazine\", \"Carbofuran\", \"Monocrotophos\", \"Mevinphos\", \"Testosterone\"]\n",
    "elif kind == \"de_novo\":\n",
    "    interesting =  [\"Metobromuron\", \"Picoxystrobin\", \"Cyphenothrin\", \"Mirex\"]"
   ]
  },
  {
   "cell_type": "code",
   "execution_count": 3,
   "metadata": {},
   "outputs": [],
   "source": [
    "from gensim.models import Word2Vec\n",
    "\n",
    "w2v = Word2Vec.load(wv_path)\n",
    "vocab = {e:i for i, e in enumerate(w2v.wv.index2entity)}\n",
    "#vocab[\"unknown\"] = -1\n"
   ]
  },
  {
   "cell_type": "markdown",
   "metadata": {},
   "source": [
    "## Data loading\n",
    "We use the Spec2Vec and MatchMS libraries to load and preprocess spectral data."
   ]
  },
  {
   "cell_type": "code",
   "execution_count": 4,
   "metadata": {},
   "outputs": [],
   "source": [
    "from matchms.importing import load_from_msp\n",
    "from spec2vec import SpectrumDocument\n",
    "from utils.data_utils import spectrum_processing\n",
    "from utils.data_utils import IntegerMzCoder, TextMzCoder, TopKDS, GenDS, gen_collate\n",
    "from torch.utils.data import Dataset, DataLoader"
   ]
  },
  {
   "cell_type": "code",
   "execution_count": 5,
   "metadata": {},
   "outputs": [],
   "source": [
    "def load_process_documents(path):\n",
    "    # Load data from MSP file and apply filters\n",
    "    spectrums = [spectrum_processing(s, min_rel_int=None) for s in load_from_msp(path)]\n",
    "    # Omit spectrums that didn't qualify for analysis\n",
    "    spectrums = [s for s in spectrums if s is not None]\n",
    "    # Create spectrum documents\n",
    "    documents = [SpectrumDocument(s, n_decimals=0) for s in spectrums]\n",
    "    return documents\n",
    "\n",
    "documents_train = load_process_documents(data_train_path)\n",
    "documents_val = load_process_documents(data_val_path)\n",
    "documents_test = load_process_documents(data_test_path)"
   ]
  },
  {
   "cell_type": "code",
   "execution_count": 6,
   "metadata": {},
   "outputs": [],
   "source": [
    "datasets = {\n",
    "    \"gen_train\": GenDS(documents_train, vocab), \n",
    "    \"gen_val\": GenDS(documents_val, vocab), \n",
    "    \"gen_test\": GenDS(documents_test, vocab), \n",
    "}\n",
    "\n",
    "train_loader = DataLoader(datasets[\"gen_train\"], batch_size=256, shuffle=False, num_workers=8, collate_fn=gen_collate)\n",
    "val_loader = DataLoader(datasets[\"gen_val\"], batch_size=256, shuffle=False, num_workers=8, collate_fn=gen_collate)\n",
    "\n",
    "\n",
    "style=\"generation\""
   ]
  },
  {
   "cell_type": "markdown",
   "metadata": {},
   "source": [
    "# Spectral Model\n",
    "\n",
    "\n",
    "Therefore we directly implement and inspect the spectral models. "
   ]
  },
  {
   "cell_type": "code",
   "execution_count": 7,
   "metadata": {},
   "outputs": [],
   "source": [
    "# DL packages\n",
    "import torch\n",
    "import torch.nn as nn\n",
    "import tqdm\n",
    "from torch.distributions.multinomial import Multinomial"
   ]
  },
  {
   "cell_type": "markdown",
   "metadata": {},
   "source": [
    "## Models definiton\n",
    "Time to get some models."
   ]
  },
  {
   "cell_type": "code",
   "execution_count": 8,
   "metadata": {},
   "outputs": [],
   "source": [
    "from collections import Counter\n",
    "class PureLSTM(nn.Module):\n",
    "    def __init__(self, size, hidden_size, add_intens=False):\n",
    "        super(PureLSTM, self).__init__()\n",
    "        self.in_features = size\n",
    "        self.add_intens = add_intens\n",
    "        if add_intens:\n",
    "            self.in_features += 1    \n",
    "        self.out_features = size\n",
    "        \n",
    "        \n",
    "        self.lstm = nn.LSTM(input_size=self.in_features, hidden_size=hidden_size, \n",
    "                            num_layers=2, batch_first=True)\n",
    "        self.linear = nn.Linear(hidden_size, self.out_features)\n",
    "        \n",
    "        self.log_softmax = nn.LogSoftmax(dim=-1)\n",
    "        \n",
    "    def forward(self, seq, return_sequence=True, init_state=None):\n",
    "        output, (h_n, c_n) = self.lstm(seq, init_state)\n",
    "        #last_y = self.linear(h_n[-1])\n",
    "        if not return_sequence:\n",
    "            last_y = self.linear(h_n[-1])\n",
    "            return self.log_softmax(last_y), (h_n, c_n)\n",
    "    \n",
    "        \n",
    "        res = [] \n",
    "        for h in output:\n",
    "            logits = self.linear(h)\n",
    "            res.append(self.log_softmax(logits))\n",
    "        \n",
    "        return torch.stack(res), (h_n, c_n)\n",
    "    \n",
    "           \n",
    "class EmbeddLSTM(nn.Module):\n",
    "    def __init__(self, size, hidden_size, wv, freeze_wv=True, add_intens=False):\n",
    "        super(EmbeddLSTM, self).__init__()\n",
    "        self.add_intens = add_intens\n",
    "        self.embedding = nn.Embedding.from_pretrained(wv, freeze=freeze_wv)\n",
    "        \n",
    "        self.in_features = self.embedding.embedding_dim\n",
    "        if add_intens:\n",
    "            self.in_features += 1\n",
    "        self.out_features = size\n",
    "        \n",
    "        \n",
    "        self.lstm = nn.LSTM(input_size=self.in_features, hidden_size=hidden_size, \n",
    "                            num_layers=2, batch_first=True)\n",
    "        self.linear = nn.Linear(hidden_size, size)\n",
    "        \n",
    "        self.log_softmax = nn.LogSoftmax(dim=-1)\n",
    "        \n",
    "    def forward(self, seq, return_sequence=True, init_state=None):\n",
    "        if self.add_intens:\n",
    "            indices, intens = seq[:,:,0], seq[:,:,1]\n",
    "            embedded_seq = self.embedding(indices.int())\n",
    "            embedded_seq =torch.cat((embedded_seq, intens.reshape(*intens.shape,1)), dim=-1).float()\n",
    "        else:\n",
    "            embedded_seq = self.embedding(seq)\n",
    "            \n",
    "        output, (h_n, c_n) = self.lstm(embedded_seq, init_state)\n",
    "        \n",
    "        if not return_sequence:\n",
    "            last_y = self.linear(h_n[-1])\n",
    "            return self.log_softmax(last_y), (h_n, c_n)\n",
    "        \n",
    "        res = [] \n",
    "        for h in output:\n",
    "            logits = self.linear(h)\n",
    "            res.append(self.log_softmax(logits))\n",
    "        return torch.stack(res), (h_n, c_n)\n",
    "    \n",
    "class MostFrequentDummy(nn.Module):\n",
    "    def __init__(self, ds, per_k=False):\n",
    "        super(MostFrequentDummy, self).__init__()\n",
    "        self.add_intens = False\n",
    "        \n",
    "        \n",
    "        self.cntr = Counter(self.get_occurence(ds))\n",
    "        \n",
    "        self.logprobs = torch.ones(len(ds.vocab))\n",
    "        \n",
    "        for d in self.cntr:\n",
    "            self.logprobs[ds.vocab[f\"peak@{d}\"]] += self.cntr[d]\n",
    "        self.logprobs = torch.log(self.logprobs/self.logprobs.sum())\n",
    "        \n",
    "        #self.most_common = self.cntr.most_common(1)[0][0]\n",
    "#             locations, counts = np.array(sorted(zip(occurences.keys(), occurences.values() ), key=lambda x: x[0])).T\n",
    "\n",
    "        self.per_k = per_k\n",
    "    \n",
    "        self.cntr_per_k = [*map(lambda all_: Counter(all_), self.get_occurence_per_k(ds))]\n",
    "        self.logprobs_per_k = torch.ones(len(self.cntr_per_k),len(ds.vocab))\n",
    "        for k, cntr in enumerate(self.cntr_per_k):\n",
    "            for d in cntr:\n",
    "                self.logprobs_per_k[k][ds.vocab[f\"peak@{d}\"]] += cntr[d]\n",
    "        \n",
    "        self.logprobs_per_k = torch.log(self.logprobs_per_k/self.logprobs_per_k.sum(dim=1, keepdims=True))\n",
    "\n",
    "        \n",
    "    def get_occurence(self,ds):\n",
    "        all_ = []\n",
    "        for i in range(len(ds)):\n",
    "            all_ += [*map(lambda p: int(p.split(\"@\")[1]), ds.ref_docs[i].words)]\n",
    "        return all_\n",
    "    \n",
    "    def get_occurence_per_k(self, ds):\n",
    "        max_len = max(map(lambda x: len(x.words), ds.ref_docs))\n",
    "        k_all_ = [[1] for _ in range(max_len*2)]\n",
    "        for i in range(len(ds)):\n",
    "            for j, p in enumerate(ds.ref_docs[i].words):\n",
    "                if j>= max_len:\n",
    "                    print(j)\n",
    "                k_all_[j].append(int(p.split(\"@\")[1]))\n",
    "        return k_all_\n",
    "    \n",
    "    \n",
    "    def forward(self, seq, return_sequence=True, init_state=0):\n",
    "        with torch.no_grad():\n",
    "            if self.per_k:\n",
    "                if return_sequence:\n",
    "                    return torch.stack([self.logprobs_per_k[init_state: len(seq[0])] for i in range(len(seq))]), init_state + len(seq[0])\n",
    "                return torch.stack([self.logprobs_per_k[init_state + len(seq[0])-1]]*len(seq)), init_state + len(seq[0])\n",
    "\n",
    "            if return_sequence:\n",
    "                return torch.stack([self.logprobs]* len(seq) * len(seq[0])).reshape(len(seq), len(seq[0]), -1), init_state + len(seq[0])\n",
    "            return torch.stack([self.logprobs]* len(seq)), init_state + len(seq[0])"
   ]
  },
  {
   "cell_type": "markdown",
   "metadata": {},
   "source": [
    "## Training utils\n",
    "Let's define the learner class that's take care about the training with early stopping. \n",
    "\n",
    "We also split the data into train-val-test sets. \n"
   ]
  },
  {
   "cell_type": "code",
   "execution_count": 9,
   "metadata": {},
   "outputs": [],
   "source": [
    "import numpy as np\n",
    "class Learner():\n",
    "    def __init__(self,train_loader, val_loader, model, optimizer, loss_fn, device, style, model_name=\"model\"):\n",
    "        self.train_loader= train_loader\n",
    "        self.val_loader = val_loader\n",
    "        self.model = model \n",
    "        self.optimizer = optimizer\n",
    "        self.loss_fn = loss_fn\n",
    "        self.device = device\n",
    "        self.model_name=model_name\n",
    "        self.train_losses = []\n",
    "        self.val_losses = []\n",
    "        self.style = style\n",
    "        \n",
    "        \n",
    "    def evaluate(self, loader):\n",
    "        eval_loss = 0\n",
    "        self.model.eval()\n",
    "        self.model.to(self.device)\n",
    "        for b, (X, y) in enumerate(loader):\n",
    "            with torch.no_grad():\n",
    "                X, y = X.to(self.device), y.to(self.device)\n",
    "                if self.style == \"given_k\":\n",
    "                    log_pred,_ = self.model(X, return_sequence=False)\n",
    "                    loss = self.loss_fn(log_pred, y)\n",
    "                else:\n",
    "                    log_pred, _ = self.model(X)\n",
    "                    loss = self.loss_fn(log_pred.reshape(-1, log_pred.shape[2]), y.ravel())\n",
    "                \n",
    "                eval_loss += loss.item()\n",
    "            \n",
    "        eval_loss /= len(loader)\n",
    "        \n",
    "        return eval_loss\n",
    "    \n",
    "    def train(self,n_epochs, early_stopping=True, patience=3):\n",
    "        self.model.to(self.device)\n",
    "\n",
    "        if early_stopping:\n",
    "            min_val_loss = np.inf\n",
    "            no_improve = 0\n",
    "        \n",
    "        \n",
    "        e_bar = tqdm.tqdm(range(n_epochs), total=n_epochs, leave=True, desc=\"Epoch: \")\n",
    "        for e in e_bar:\n",
    "            # train\n",
    "            train_loss = 0\n",
    "            self.model.train()\n",
    "            for b, (X, y) in enumerate(self.train_loader):\n",
    "                X, y = X.to(self.device), y.to(self.device)\n",
    "                # zero the parameter gradients\n",
    "                self.optimizer.zero_grad()\n",
    "                \n",
    "                if self.style == \"given_k\":\n",
    "                    log_pred,_ = self.model(X, return_sequence=False)\n",
    "                    loss = self.loss_fn(log_pred, y)\n",
    "                else:\n",
    "                    log_pred, _ = self.model(X)\n",
    "                    loss = self.loss_fn(log_pred.reshape(-1, log_pred.shape[2]), y.ravel())\n",
    "              \n",
    "                loss.backward()\n",
    "                self.optimizer.step()\n",
    "\n",
    "            # evaluate (train, validation)\n",
    "            train_loss = self.evaluate(self.train_loader)\n",
    "            val_loss = self.evaluate(self.val_loader)\n",
    "\n",
    "            # early stopping\n",
    "            if early_stopping:\n",
    "                if val_loss < min_val_loss:\n",
    "                    min_val_loss = val_loss\n",
    "                    torch.save(self.model, f\"models/{kind}/{self.model_name}\")\n",
    "                    no_improve = 0\n",
    "                else:\n",
    "                    no_improve += 1\n",
    "            if no_improve > patience:\n",
    "                print(\"Early stopped\")\n",
    "                self.model = torch.load(f\"models/{kind}/{self.model_name}\")\n",
    "                break\n",
    "            \n",
    "            #print(f\"After {e+1} epochs: \")\n",
    "            e_bar.set_postfix({'Train loss': f\"{train_loss:.3}\",'Val loss': f\"{val_loss:.3}\" })\n",
    "            #print(f\"Train loss: {train_loss:.3}\")\n",
    "            #print(f\"Val loss: {val_loss:.3}\\n\")\n",
    "                \n",
    "            self.train_losses.append(train_loss)\n",
    "            self.val_losses.append(val_loss)\n",
    "\n",
    "            np.save(f\"losses/{kind}/{self.model_name}_train_loss.npy\", self.train_losses)\n",
    "            np.save(f\"losses/{kind}/{self.model_name}_val_loss.npy\", self.val_losses)\n",
    "\n",
    "            \n",
    "        np.save(f\"losses/{kind}/{self.model_name}_train_loss.npy\", self.train_losses)\n",
    "        np.save(f\"losses/{kind}/{self.model_name}_val_loss.npy\", self.val_losses)\n",
    "        return self.train_losses, self.val_losses\n",
    "    "
   ]
  },
  {
   "cell_type": "code",
   "execution_count": 10,
   "metadata": {},
   "outputs": [],
   "source": [
    "# discver whether to use GPU or not\n",
    "use_cuda = torch.cuda.is_available()\n",
    "device = torch.device('cuda' if use_cuda else 'cpu')\n",
    "# device = \"cpu\""
   ]
  },
  {
   "cell_type": "markdown",
   "metadata": {},
   "source": [
    "## Training mode - \"Given top k, predict [k+1th/random/all remaining]\""
   ]
  },
  {
   "cell_type": "code",
   "execution_count": 10,
   "metadata": {},
   "outputs": [],
   "source": [
    "\n",
    "\n",
    "# train_DS = TopKDS(reference_documents[:split], vocab=vocab, k=5, mode=\"one\")\n",
    "# val_DS = TopKDS(reference_documents[split:split2], vocab=vocab, k=5, mode=\"one\")\n",
    "# test_DS = TopKDS(reference_documents[split2:], vocab=vocab, k=5, mode=\"one\")\n",
    "\n",
    "# train_loader = DataLoader(train_DS, batch_size=128, shuffle=True, num_workers=8)\n",
    "# val_loader = DataLoader(val_DS, batch_size=128, shuffle=True, num_workers=8)\n",
    "\n",
    "# style=\"given_k\"\n"
   ]
  },
  {
   "cell_type": "code",
   "execution_count": 12,
   "metadata": {},
   "outputs": [],
   "source": [
    "from utils.visual_utils import plot_training\n",
    "def train(model, train_DS, val_DS, train_loader, val_loader, model_name, lr=1e-3, patience=3, max_epoch=500, \\\n",
    "          init_b=lambda n: \"bias\" in n, init_w=lambda n: \"weight\" in n and \"lstm\" in n, device=\"cpu\"):\n",
    "    \n",
    "    optim = torch.optim.Adam(model.parameters(), lr=lr)\n",
    "    loss_fn = nn.NLLLoss()\n",
    "\n",
    "    #init weights\n",
    "    for name, param in model.named_parameters():\n",
    "        if init_b(name):\n",
    "            nn.init.constant_(param, 0.0)\n",
    "        elif init_w(name):\n",
    "            nn.init.xavier_normal_(param)\n",
    "            \n",
    "    train_DS.onehot = isinstance(model, PureLSTM)\n",
    "    train_DS.add_intensity=model.add_intens\n",
    "    val_DS.onehot = isinstance(model, PureLSTM)\n",
    "    val_DS.add_intensity=model.add_intens\n",
    "    \n",
    "    learner = Learner(train_loader, val_loader, model, optim, loss_fn, device,style, model_name)\n",
    "    learner.train(max_epoch, True, patience)\n",
    "    plot_training(learner)\n",
    "    return learner"
   ]
  },
  {
   "cell_type": "markdown",
   "metadata": {},
   "source": [
    "## Models instantiation and training\n",
    "We specify and train several variants to better understand the domain."
   ]
  },
  {
   "cell_type": "code",
   "execution_count": 14,
   "metadata": {},
   "outputs": [],
   "source": [
    "# dummmy\n",
    "dummy = MostFrequentDummy(datasets[\"gen_train\"])\n",
    "dummy_per_k = MostFrequentDummy(datasets[\"gen_train\"], per_k=True)"
   ]
  },
  {
   "cell_type": "code",
   "execution_count": 16,
   "metadata": {},
   "outputs": [
    {
     "data": {
      "text/plain": [
       "0"
      ]
     },
     "execution_count": 16,
     "metadata": {},
     "output_type": "execute_result"
    }
   ],
   "source": [
    "datasets[\"gen_train\"].vocab[f\"peak@{dummy.cntr.most_common()[0][0]}\"]"
   ]
  },
  {
   "cell_type": "code",
   "execution_count": 17,
   "metadata": {},
   "outputs": [
    {
     "name": "stdout",
     "output_type": "stream",
     "text": [
      "131\n",
      "68\n",
      "121\n",
      "71\n",
      "6\n",
      "6\n",
      "0\n",
      "0\n",
      "2\n",
      "2\n"
     ]
    }
   ],
   "source": [
    "for i in range(10):\n",
    "    print(datasets[\"gen_train\"].vocab[f\"peak@{dummy_per_k.cntr_per_k[i].most_common()[0][0]}\"])"
   ]
  },
  {
   "cell_type": "code",
   "execution_count": null,
   "metadata": {},
   "outputs": [
    {
     "name": "stderr",
     "output_type": "stream",
     "text": [
      "Epoch:   3%|▎         | 13/500 [1:08:55<42:46:56, 316.26s/it, Train loss=5.21, Val loss=4.8] "
     ]
    }
   ],
   "source": [
    "# pure LSTM on onehotted peaks\n",
    "plstm = PureLSTM(size=datasets[\"gen_train\"].size(), hidden_size=200).to(device)\n",
    "plstm_learner = train(plstm, datasets[\"gen_train\"], datasets[\"gen_val\"], train_loader, val_loader, \"plstm\", device=device)\n"
   ]
  },
  {
   "cell_type": "code",
   "execution_count": null,
   "metadata": {},
   "outputs": [],
   "source": [
    "# pure LSTM on onehotted peaks with the intensity feature\n",
    "plstm_intens = PureLSTM(size=datasets[\"gen_train\"].size(), hidden_size=200, add_intens=True).to(device)\n",
    "plstm_intens_learner = train(plstm_intens, datasets[\"gen_train\"], datasets[\"gen_val\"], train_loader, val_loader, \"plstm_intens\", device=device)"
   ]
  },
  {
   "cell_type": "code",
   "execution_count": 13,
   "metadata": {},
   "outputs": [
    {
     "name": "stderr",
     "output_type": "stream",
     "text": [
      "Epoch:   8%|▊         | 41/500 [2:08:41<24:00:38, 188.32s/it, Train loss=4.71, Val loss=4.34]"
     ]
    },
    {
     "name": "stdout",
     "output_type": "stream",
     "text": [
      "Early stopped\n"
     ]
    },
    {
     "name": "stderr",
     "output_type": "stream",
     "text": [
      "\n"
     ]
    },
    {
     "data": {
      "image/png": "[encoded data removed]",
      "text/plain": [
       "<Figure size 576x576 with 1 Axes>"
      ]
     },
     "metadata": {
      "needs_background": "light"
     },
     "output_type": "display_data"
    }
   ],
   "source": [
    "# LSTM on the Spec2Vec embeddings (that are freezed - not trained)\n",
    "elstm = EmbeddLSTM(size=datasets[\"gen_train\"].size(), hidden_size=200,wv=torch.tensor(w2v.wv.vectors)).to(device)\n",
    "elstm_learner = train(elstm, datasets[\"gen_train\"], datasets[\"gen_val\"], train_loader, val_loader, \"elstm\", device=device)"
   ]
  },
  {
   "cell_type": "code",
   "execution_count": 14,
   "metadata": {},
   "outputs": [
    {
     "name": "stderr",
     "output_type": "stream",
     "text": [
      "Epoch:   8%|▊         | 39/500 [2:37:57<31:07:11, 243.02s/it, Train loss=4.7, Val loss=4.34] "
     ]
    },
    {
     "name": "stdout",
     "output_type": "stream",
     "text": [
      "Early stopped\n"
     ]
    },
    {
     "name": "stderr",
     "output_type": "stream",
     "text": [
      "\n"
     ]
    },
    {
     "data": {
      "image/png": "[encoded data removed]",
      "text/plain": [
       "<Figure size 576x576 with 1 Axes>"
      ]
     },
     "metadata": {
      "needs_background": "light"
     },
     "output_type": "display_data"
    }
   ],
   "source": [
    "# LSTM on the Spec2Vec embeddings (that are freezed - not trained) with added intensity\n",
    "elstm_intens = EmbeddLSTM(size=datasets[\"gen_train\"].size(), hidden_size=200,wv=torch.tensor(w2v.wv.vectors), add_intens=True).to(device)\n",
    "elstm_intens_learner = train(elstm_intens, datasets[\"gen_train\"], datasets[\"gen_val\"], train_loader, val_loader, \"elstm_intens\", device=device)"
   ]
  },
  {
   "cell_type": "code",
   "execution_count": null,
   "metadata": {},
   "outputs": [],
   "source": [
    "# LSTM on the Spec2Vec embeddings (that are not freezed - trained)\n",
    "elstm_unfreeze = EmbeddLSTM(size=datasets[\"gen_train\"].size(), hidden_size=200,wv=torch.tensor(w2v.wv.vectors), freeze_wv=False).to(device)\n",
    "elstm_unfreeze_learner = train(elstm_unfreeze, datasets[\"gen_train\"], datasets[\"gen_val\"], train_loader, val_loader, \"elstm_unfreeze\", device=device)"
   ]
  },
  {
   "cell_type": "code",
   "execution_count": null,
   "metadata": {},
   "outputs": [],
   "source": [
    "# LSTM on the Spec2Vec embeddings (that are not freezed - trained) with added intensity\n",
    "elstm_unfreeze_intens = EmbeddLSTM(size=datasets[\"gen_train\"].size(), hidden_size=200,wv=torch.tensor(w2v.wv.vectors), freeze_wv=False, add_intens=True).to(device)\n",
    "elstm_unfreeze_intens_learner = train(elstm_unfreeze_intens, datasets[\"gen_train\"], datasets[\"gen_val\"], train_loader, val_loader, \"elstm_unfreeze_intens\", device=device)"
   ]
  },
  {
   "cell_type": "code",
   "execution_count": null,
   "metadata": {},
   "outputs": [],
   "source": [
    "# LSTM on the random embeddings (that are not freezed - trained)\n",
    "elstm_random = EmbeddLSTM(size=datasets[\"gen_train\"].size(), hidden_size=200,wv=torch.zeros_like(torch.tensor(w2v.wv.vectors)), freeze_wv=False).to(device)\n",
    "elstm_random_learner = train(elstm_random, datasets[\"gen_train\"], datasets[\"gen_val\"], train_loader, val_loader, \"elstm_random\", device=device, init_w=lambda n: \"weight\" in n)"
   ]
  },
  {
   "cell_type": "code",
   "execution_count": 13,
   "metadata": {},
   "outputs": [
    {
     "name": "stderr",
     "output_type": "stream",
     "text": [
      "Epoch:   8%|▊         | 38/500 [2:27:55<29:58:24, 233.56s/it, Train loss=4.83, Val loss=4.45]"
     ]
    },
    {
     "name": "stdout",
     "output_type": "stream",
     "text": [
      "Early stopped\n"
     ]
    },
    {
     "name": "stderr",
     "output_type": "stream",
     "text": [
      "\n"
     ]
    },
    {
     "data": {
      "image/png": "[encoded data removed]",
      "text/plain": [
       "<Figure size 576x576 with 1 Axes>"
      ]
     },
     "metadata": {
      "needs_background": "light"
     },
     "output_type": "display_data"
    }
   ],
   "source": [
    "# LSTM on the random embeddings (that are not freezed - trained) with added intensity\n",
    "elstm_random_intens = EmbeddLSTM(size=datasets[\"gen_train\"].size(), hidden_size=200,wv=torch.zeros_like(torch.tensor(w2v.wv.vectors)), freeze_wv=False, add_intens=True).to(device)\n",
    "elstm_random_intens_learner = train(elstm_random_intens, datasets[\"gen_train\"], datasets[\"gen_val\"], train_loader, val_loader, \"elstm_random_intens\", device=device, init_w=lambda n: \"weight\" in n)"
   ]
  },
  {
   "cell_type": "code",
   "execution_count": 15,
   "metadata": {},
   "outputs": [
    {
     "name": "stderr",
     "output_type": "stream",
     "text": [
      "Epoch:   8%|▊         | 41/500 [2:52:38<32:12:47, 252.65s/it, Train loss=4.69, Val loss=4.32]"
     ]
    },
    {
     "name": "stdout",
     "output_type": "stream",
     "text": [
      "Early stopped\n"
     ]
    },
    {
     "name": "stderr",
     "output_type": "stream",
     "text": [
      "\n"
     ]
    },
    {
     "data": {
      "image/png": "[encoded data removed]",
      "text/plain": [
       "<Figure size 576x576 with 1 Axes>"
      ]
     },
     "metadata": {
      "needs_background": "light"
     },
     "output_type": "display_data"
    }
   ],
   "source": [
    "# LSTM on the Spec2Vec embeddings (that are freezed - not trained) with added intensity and large initial forget gate bias\n",
    "elstm_intens_fg = EmbeddLSTM(size=datasets[\"gen_train\"].size(), hidden_size=200,wv=torch.tensor(w2v.wv.vectors), freeze_wv=True, add_intens=True).to(device)\n",
    "\n",
    "# init large forget gate bias\n",
    "for name, param in elstm_intens_fg.named_parameters():\n",
    "    if \"bias\" in name and \"lstm\" in name:\n",
    "        bias = param\n",
    "        n = bias.size(0)\n",
    "        start, end = n//4, n//2\n",
    "        bias.data[start:end].fill_(1.)\n",
    "\n",
    "elstm_intens_fg_learner = train(elstm_intens_fg, datasets[\"gen_train\"], datasets[\"gen_val\"], train_loader, val_loader, \"elstm_intens_fg\", device=device, init_b=lambda x: False)"
   ]
  },
  {
   "cell_type": "markdown",
   "metadata": {
    "tags": []
   },
   "source": [
    "### Training results\n",
    "Here we present the development of the loss until the training was early stopped. Notice the y axis numbers!"
   ]
  },
  {
   "cell_type": "code",
   "execution_count": null,
   "metadata": {},
   "outputs": [],
   "source": [
    "# learners = [plstm_learner, plstm_intens_learner, elstm_learner, elstm_intens_learner, \n",
    "#             elstm_random_learner, elstm_random_intens_learner, elstm_unfreeze_learner,\n",
    "#            elstm_unfreeze_intens_learner, elstm_intens_fg_learner]"
   ]
  },
  {
   "cell_type": "code",
   "execution_count": null,
   "metadata": {},
   "outputs": [],
   "source": [
    "# for le in learners:\n",
    "#     min_val = min(le.val_losses)\n",
    "#     print(f\"Model {le.model_name} has val loss {min_val:.3}\")"
   ]
  },
  {
   "cell_type": "markdown",
   "metadata": {},
   "source": [
    "### Forget gate biases:"
   ]
  },
  {
   "cell_type": "code",
   "execution_count": null,
   "metadata": {},
   "outputs": [],
   "source": [
    "for init, l in zip([\"normal\", \"large\"],[elstm_intens_learner, elstm_intens_fg_learner]):\n",
    "    print(f\"Model initilized with {init}: \")\n",
    "    for name, param in l.model.named_parameters():\n",
    "        if \"bias\" in name and \"lstm\" in name:\n",
    "            bias = param\n",
    "            n = bias.size(0)\n",
    "            start, end = n//4, n//2\n",
    "            print(f\"Bias sum: {bias.data[start:end].sum()}\")\n"
   ]
  },
  {
   "cell_type": "markdown",
   "metadata": {},
   "source": [
    "## Prediction"
   ]
  },
  {
   "cell_type": "code",
   "execution_count": 45,
   "metadata": {},
   "outputs": [],
   "source": [
    "class PredictorLSTM():\n",
    "    def __init__(self, model, coder_class, max_mz=None):\n",
    "        self.model = model\n",
    "        self.coder = coder_class(model.w2v, max_mz)\n",
    "        self.add_intens = model.add_intens\n",
    "        self.onehot = not hasattr(model, \"embedding\")\n",
    "              \n",
    "    @classmethod\n",
    "    def from_file(cls, file, coder_cls, max_mz=None, device=\"cpu\", w2v=None):\n",
    "        model = torch.load(file,  map_location=torch.device(device)) \n",
    "        model.w2v = w2v\n",
    "        return cls(model, coder_class=coder_cls, max_mz=max_mz)\n",
    "    \n",
    "    \n",
    "    def __call__(self, X_ds, device=\"cpu\"):\n",
    "\n",
    "        self.model= self.model.to(device)\n",
    "        X_ds = X_ds.to(device)\n",
    "        \n",
    "        with torch.no_grad():\n",
    "            # return distribution for next peak \n",
    "            return torch.exp(self.model(X_ds, return_sequence=False)[0])\n",
    "    \n",
    "    def predict_l_next(self, X_ds, l, filtered=True, device=\"cpu\"):\n",
    "        \"\"\"\n",
    "        receives indices and intens and predicts l next peaks\n",
    "        if filtered: returns only non-repetitive indices that are not given as input\n",
    "        \"\"\"\n",
    "        raise NotImplementedError\n",
    "        \n",
    "\n",
    "    def predict_l_all(self, gen_ds, up_to_k, l, batch_size=64, filtered=True, verbose=False, device=\"cpu\"):\n",
    "        \n",
    "        self.model = self.model.to(device)\n",
    "        gen_ds.onehot = self.onehot\n",
    "        \n",
    "        # done in order to extract intensities\n",
    "        gen_ds.add_intens = True\n",
    "        \n",
    "        loader = DataLoader(gen_ds, batch_size=batch_size, shuffle=False, num_workers=8, collate_fn=gen_collate)\n",
    "  \n",
    "        X_intens = [] \n",
    "        \n",
    "        l_pred_indices_per_k = np.ones(shape=(up_to_k, len(gen_ds), l)) * (-1)\n",
    "        y_indices = []\n",
    "        for b, (X_batch_, y_batch) in enumerate(loader):\n",
    "                \n",
    "            y_indices += [y[y != -100].tolist() for y in y_batch]\n",
    "            if self.onehot:\n",
    "                X_intens += [inte[inte != 0].tolist() for inte in X_batch_[:, :, -1]]\n",
    "                if not self.add_intens:\n",
    "                    X_batch_ = X_batch_[:, :, :-1]\n",
    "            else:\n",
    "                X_intens += [inte[inte != 0].tolist() for inte in X_batch_[:, :, -1]]\n",
    "                if not self.add_intens:\n",
    "                    X_batch_ = X_batch_[:, :, 0]\n",
    "                    \n",
    "            for j in range(1, up_to_k+1):    \n",
    "                    \n",
    "                X_batch = X_batch_[:, :j].clone()\n",
    "                \n",
    "                if j > len(y_batch[0]):\n",
    "                    continue\n",
    "                \n",
    "                # drop too short spectra\n",
    "                # get mask - for each sample in batch either True (long enough) or False (too short) \n",
    "                len_mask = y_batch[:, j-1] != -100\n",
    "                #print(len_mask)\n",
    "                # no samples in batch left after cutting \n",
    "                if len_mask.sum() == 0:\n",
    "                    continue\n",
    "                \n",
    "                X_batch = X_batch[len_mask]\n",
    "                \n",
    "                X_batch = X_batch.to(device)\n",
    "\n",
    "                l_next = self.predict_l_next(X_batch, l, filtered, device=device)\n",
    "                #print(l_next.shape)\n",
    "                l_pred_indices_per_k[j-1,b*batch_size: (b+1)*(batch_size)][len_mask] = l_next\n",
    "\n",
    "            if verbose and b % 1 == 0:\n",
    "                print(f\"Done: {b}/{len(loader)}\")\n",
    "        return l_pred_indices_per_k, y_indices, X_intens \n",
    "    \n",
    "\n",
    "\n",
    "class PredictorDstLSTM(PredictorLSTM):\n",
    "    def __init__(self, model, coder_class, max_mz=None):\n",
    "        super().__init__(model, coder_class, max_mz)\n",
    "        \n",
    "    def predict_l_next(self, X_ds, l, filtered=True, device=\"cpu\"):\n",
    "        \"\"\"\n",
    "        receives indices and intens and predicts l next peaks\n",
    "        if filtered: returns only non-repetitive indices that are not given as input\n",
    "        \"\"\"\n",
    "        if not self.add_intens:\n",
    "#             X_ds = X_ds[:, :, 0].int()\n",
    "            X_input = X_ds.long()\n",
    "            if not self.onehot:\n",
    "                X_ds = X_ds.int()\n",
    "#                 X_ds = nn.functional.one_hot(X_ds, len(self.vocab))\n",
    "        else:\n",
    "            X_input = X_ds[:,:,0].long()\n",
    "            \n",
    "        # skipped case for now\n",
    "        assert not (self.add_intens and self.onehot)\n",
    "        # print(X_ds.shape)\n",
    "        \n",
    "        with torch.no_grad():\n",
    "            log_prob, _ = self.model(X_ds, return_sequence=False)\n",
    "        \n",
    "        if filtered:\n",
    "            # print(log_prob.shape)\n",
    "            # print(X_input.shape)\n",
    "            for i in range(len(log_prob)):\n",
    "                log_prob[i][X_input[i]] = -float(\"inf\")\n",
    "            args_batch = torch.argsort(log_prob, dim=-1, descending=True).int().cpu()\n",
    "         \n",
    "            return args_batch[:, :l].numpy()\n",
    "        \n",
    "        return torch.argsort(logits, dim=-1, descending=True)[:, :l].cpu().numpy()\n",
    "        \n",
    "    \n",
    "class PredictorAutoLSTM(PredictorLSTM):\n",
    "    def __init__(self, model, coder_class, max_mz=None):\n",
    "        super().__init__(model, coder_class, max_mz)\n",
    "        \n",
    "    def predict_l_next(self, X_ds, l, filtered=True, device=\"cpu\"):\n",
    "        \"\"\"\n",
    "        receives indices and intens and predicts l next peaks\n",
    "        if filtered: returns only non-repetitive indices that are not given as input\n",
    "        \"\"\"\n",
    "        if not self.add_intens:\n",
    "#             X_ds = X_ds[:, :, 0].int()\n",
    "            X_input = X_ds.long()\n",
    "            if not self.onehot:\n",
    "                X_ds = X_ds.int()\n",
    "#                 X_ds = nn.functional.one_hot(X_ds, len(self.vocab))\n",
    "        else:\n",
    "            X_input = X_ds[:,:,0].long()\n",
    "            last_intens = X_ds[:, -1, 1]\n",
    "        # skipped case for now\n",
    "        assert not (self.add_intens and self.onehot)\n",
    "        assert not self.onehot\n",
    "        \n",
    "        predicted = torch.ones((len(X_ds), l), dtype=int) * (-1)\n",
    "        state = None\n",
    "        auto_X = X_ds\n",
    "        for j in range(l):\n",
    "            with torch.no_grad():\n",
    "                log_prob, state = self.model(auto_X, return_sequence=False, init_state=state)\n",
    "                \n",
    "            if filtered:\n",
    "                for i in range(len(log_prob)):\n",
    "                    log_prob[i][X_input[i]] = -float(\"inf\")\n",
    "                    log_prob[i][predicted[i][:j]] = -float(\"inf\")\n",
    "                    \n",
    "            \n",
    "            y_pred = torch.argmax(log_prob, axis=-1)\n",
    "            \n",
    "            predicted[:,j] = y_pred\n",
    "            \n",
    "            if self.add_intens:\n",
    "                last_intens = last_intens*.9\n",
    "                auto_X = torch.cat((y_pred, last_intens), dim=0).reshape(-1,1,2)\n",
    "            else:\n",
    "                auto_X = y_pred.reshape(-1,1)\n",
    "                    \n",
    "        return predicted.cpu().numpy()\n",
    "        \n",
    "\n",
    "    "
   ]
  },
  {
   "cell_type": "markdown",
   "metadata": {},
   "source": [
    "## Visualisation"
   ]
  },
  {
   "cell_type": "code",
   "execution_count": 12,
   "metadata": {},
   "outputs": [],
   "source": [
    "from utils.visual_utils import plot_spectrum_predictions\n",
    "\n",
    "\n",
    "predictor = PredictorDstLSTM.from_file(f\"models/{kind}/plstm\", TextMzCoder, max_mz=None, w2v=w2v)\n",
    "predictor.model.cpu()\n",
    "i = 789\n",
    "k = 3"
   ]
  },
  {
   "cell_type": "code",
   "execution_count": 13,
   "metadata": {},
   "outputs": [
    {
     "data": {
      "image/png": "[encoded data removed]",
      "text/plain": [
       "<Figure size 1800x900 with 2 Axes>"
      ]
     },
     "metadata": {},
     "output_type": "display_data"
    }
   ],
   "source": [
    "plot_ds = TopKDS(documents_val, vocab, k, onehot=predictor.onehot, add_intensity=predictor.add_intens)\n",
    "# plot_ds[i][0].reshape(1, *plot_ds[i][0].shape).shape\n",
    "prob = predictor(plot_ds[i][0].reshape(1, *plot_ds[i][0].shape))[0,:].cpu().numpy()\n",
    "plot_spectrum_predictions(plot_ds.ref_docs[i], k, prob, predictor.coder, plot_full=False)\n"
   ]
  },
  {
   "cell_type": "markdown",
   "metadata": {},
   "source": [
    "## Model Selection\n",
    "done on the val set"
   ]
  },
  {
   "cell_type": "code",
   "execution_count": 46,
   "metadata": {},
   "outputs": [],
   "source": [
    "import os\n",
    "from utils.metrics import metrics_klj, metrics_intlj\n",
    "predictors = { \n",
    "                \"plstm_dst\": PredictorDstLSTM.from_file(f\"models/{kind}/plstm\", TextMzCoder, max_mz=None, device=device, w2v=w2v),\n",
    "                # \"plstm_intens_dst\": PredictorDstLSTM.from_file(f\"models/{kind}/plstm_intens\", TextMzCoder, max_mz=None, device=device, w2v=w2v),\n",
    "                \"elstm_dst\": PredictorDstLSTM.from_file(f\"models/{kind}/elstm\", TextMzCoder, max_mz=None, device=device, w2v=w2v),\n",
    "                \"elstm_intens_dst\": PredictorDstLSTM.from_file(f\"models/{kind}/elstm_intens\", TextMzCoder, max_mz=None, device=device, w2v=w2v),\n",
    "                \"elstm_intens_fg_dst\": PredictorDstLSTM.from_file(f\"models/{kind}/elstm_intens_fg\", TextMzCoder, max_mz=None, device=device, w2v=w2v),\n",
    "                \"elstm_random_dst\": PredictorDstLSTM.from_file(f\"models/{kind}/elstm_random\", TextMzCoder, max_mz=None, device=device, w2v=w2v),\n",
    "                \"elstm_random_intens_dst\": PredictorDstLSTM.from_file(f\"models/{kind}/elstm_random_intens\", TextMzCoder, max_mz=None, device=device, w2v=w2v),\n",
    "                \"elstm_unfreeze_dst\": PredictorDstLSTM.from_file(f\"models/{kind}/elstm_unfreeze\", TextMzCoder, max_mz=None, device=device, w2v=w2v),\n",
    "                \"elstm_unfreeze_intens_dst\": PredictorDstLSTM.from_file(f\"models/{kind}/elstm_unfreeze_intens\", TextMzCoder, max_mz=None, device=device, w2v=w2v),      \n",
    "                #\n",
    "                \"elstm_auto\": PredictorAutoLSTM.from_file(f\"models/{kind}/elstm\", TextMzCoder, max_mz=None, device=device, w2v=w2v),\n",
    "                \"elstm_intens_auto\": PredictorAutoLSTM.from_file(f\"models/{kind}/elstm_intens\", TextMzCoder, max_mz=None, device=device, w2v=w2v),\n",
    "                \"elstm_intens_fg_auto\": PredictorAutoLSTM.from_file(f\"models/{kind}/elstm_intens_fg\", TextMzCoder, max_mz=None, device=device, w2v=w2v),\n",
    "                \"elstm_random_auto\": PredictorAutoLSTM.from_file(f\"models/{kind}/elstm_random\", TextMzCoder, max_mz=None, device=device, w2v=w2v),\n",
    "                \"elstm_random_intens_auto\": PredictorAutoLSTM.from_file(f\"models/{kind}/elstm_random_intens\", TextMzCoder, max_mz=None, device=device, w2v=w2v),\n",
    "                \"elstm_unfreeze_auto\": PredictorAutoLSTM.from_file(f\"models/{kind}/elstm_unfreeze\", TextMzCoder, max_mz=None, device=device, w2v=w2v),\n",
    "                \"elstm_unfreeze_intens_auto\": PredictorAutoLSTM.from_file(f\"models/{kind}/elstm_unfreeze_intens\", TextMzCoder, max_mz=None, device=device, w2v=w2v),      \n",
    " }\n",
    "\n",
    "P_FOLDER = f\"predictions/{kind}\"\n",
    "up_to_k = 30\n",
    "l = 20"
   ]
  },
  {
   "cell_type": "code",
   "execution_count": 36,
   "metadata": {},
   "outputs": [],
   "source": [
    "from utils.model_evaluation import calc_predictions, load_predictions, model_selection\n",
    "from utils.visual_utils import plot_scores"
   ]
  },
  {
   "cell_type": "code",
   "execution_count": null,
   "metadata": {},
   "outputs": [],
   "source": [
    "%%time\n",
    "calc_predictions(up_to_k, l, predictors, datasets, \"gen_val\", P_FOLDER, batch_size=256, device=device, verbose=False)"
   ]
  },
  {
   "cell_type": "code",
   "execution_count": 26,
   "metadata": {},
   "outputs": [
    {
     "name": "stdout",
     "output_type": "stream",
     "text": [
      "elstm_random_intens_auto\n",
      "Possible k up to 30, predict up to 20 peaks\n",
      "Selected up to k=20, l=4, j=6\n",
      "[22921 22921 22921 22921 22884 22854 22818 22771 22714 22640 22575 22507\n",
      " 22415 22305 22206 22070 21926 21777 21630 21453]\n",
      "[22921 22921 22921 22921 22884 22854 22818 22771 22714 22640 22575 22507\n",
      " 22415 22305 22206 22070 21926 21777 21630 21453]\n",
      "Selected up to k=20, l=None, to_rel_inten=0.2\n",
      "[21445 22703 22884 22914 22920 22919 22917 22919 22919 22884 22850 22817\n",
      " 22770 22711 22639 22572 22507 22412 22301 22206]\n",
      "[21445 22703 22884 22914 22920 22919 22917 22919 22919 22884 22850 22817\n",
      " 22770 22711 22639 22572 22507 22412 22301 22206]\n",
      "elstm_unfreeze_intens_dst\n",
      "Possible k up to 30, predict up to 20 peaks\n",
      "Selected up to k=20, l=4, j=6\n",
      "[22921 22921 22921 22921 22884 22854 22818 22771 22714 22640 22575 22507\n",
      " 22415 22305 22206 22070 21926 21777 21630 21453]\n",
      "[22921 22921 22921 22921 22884 22854 22818 22771 22714 22640 22575 22507\n",
      " 22415 22305 22206 22070 21926 21777 21630 21453]\n",
      "Selected up to k=20, l=None, to_rel_inten=0.2\n",
      "[21445 22703 22884 22914 22920 22919 22917 22919 22919 22884 22850 22817\n",
      " 22770 22711 22639 22572 22507 22412 22301 22206]\n",
      "[21445 22703 22884 22914 22920 22919 22917 22919 22919 22884 22850 22817\n",
      " 22770 22711 22639 22572 22507 22412 22301 22206]\n",
      "elstm_unfreeze_intens_auto\n",
      "Possible k up to 30, predict up to 20 peaks\n",
      "Selected up to k=20, l=4, j=6\n",
      "[22921 22921 22921 22921 22884 22854 22818 22771 22714 22640 22575 22507\n",
      " 22415 22305 22206 22070 21926 21777 21630 21453]\n",
      "[22921 22921 22921 22921 22884 22854 22818 22771 22714 22640 22575 22507\n",
      " 22415 22305 22206 22070 21926 21777 21630 21453]\n",
      "Selected up to k=20, l=None, to_rel_inten=0.2\n",
      "[21445 22703 22884 22914 22920 22919 22917 22919 22919 22884 22850 22817\n",
      " 22770 22711 22639 22572 22507 22412 22301 22206]\n",
      "[21445 22703 22884 22914 22920 22919 22917 22919 22919 22884 22850 22817\n",
      " 22770 22711 22639 22572 22507 22412 22301 22206]\n",
      "elstm_intens_fg_auto\n",
      "Possible k up to 30, predict up to 20 peaks\n",
      "Selected up to k=20, l=4, j=6\n",
      "[22921 22921 22921 22921 22884 22854 22818 22771 22714 22640 22575 22507\n",
      " 22415 22305 22206 22070 21926 21777 21630 21453]\n",
      "[22921 22921 22921 22921 22884 22854 22818 22771 22714 22640 22575 22507\n",
      " 22415 22305 22206 22070 21926 21777 21630 21453]\n",
      "Selected up to k=20, l=None, to_rel_inten=0.2\n",
      "[21445 22703 22884 22914 22920 22919 22917 22919 22919 22884 22850 22817\n",
      " 22770 22711 22639 22572 22507 22412 22301 22206]\n",
      "[21445 22703 22884 22914 22920 22919 22917 22919 22919 22884 22850 22817\n",
      " 22770 22711 22639 22572 22507 22412 22301 22206]\n",
      "elstm_unfreeze_dst\n",
      "Possible k up to 30, predict up to 20 peaks\n",
      "Selected up to k=20, l=4, j=6\n",
      "[22921 22921 22921 22921 22884 22854 22818 22771 22714 22640 22575 22507\n",
      " 22415 22305 22206 22070 21926 21777 21630 21453]\n",
      "[22921 22921 22921 22921 22884 22854 22818 22771 22714 22640 22575 22507\n",
      " 22415 22305 22206 22070 21926 21777 21630 21453]\n",
      "Selected up to k=20, l=None, to_rel_inten=0.2\n",
      "[21445 22703 22884 22914 22920 22919 22917 22919 22919 22884 22850 22817\n",
      " 22770 22711 22639 22572 22507 22412 22301 22206]\n",
      "[21445 22703 22884 22914 22920 22919 22917 22919 22919 22884 22850 22817\n",
      " 22770 22711 22639 22572 22507 22412 22301 22206]\n",
      "elstm_auto\n",
      "Possible k up to 30, predict up to 20 peaks\n",
      "Selected up to k=20, l=4, j=6\n",
      "[22921 22921 22921 22921 22884 22854 22818 22771 22714 22640 22575 22507\n",
      " 22415 22305 22206 22070 21926 21777 21630 21453]\n",
      "[22921 22921 22921 22921 22884 22854 22818 22771 22714 22640 22575 22507\n",
      " 22415 22305 22206 22070 21926 21777 21630 21453]\n",
      "Selected up to k=20, l=None, to_rel_inten=0.2\n",
      "[21445 22703 22884 22914 22920 22919 22917 22919 22919 22884 22850 22817\n",
      " 22770 22711 22639 22572 22507 22412 22301 22206]\n",
      "[21445 22703 22884 22914 22920 22919 22917 22919 22919 22884 22850 22817\n",
      " 22770 22711 22639 22572 22507 22412 22301 22206]\n",
      "elstm_random_intens_dst\n",
      "Possible k up to 30, predict up to 20 peaks\n",
      "Selected up to k=20, l=4, j=6\n",
      "[22921 22921 22921 22921 22884 22854 22818 22771 22714 22640 22575 22507\n",
      " 22415 22305 22206 22070 21926 21777 21630 21453]\n",
      "[22921 22921 22921 22921 22884 22854 22818 22771 22714 22640 22575 22507\n",
      " 22415 22305 22206 22070 21926 21777 21630 21453]\n",
      "Selected up to k=20, l=None, to_rel_inten=0.2\n",
      "[21445 22703 22884 22914 22920 22919 22917 22919 22919 22884 22850 22817\n",
      " 22770 22711 22639 22572 22507 22412 22301 22206]\n",
      "[21445 22703 22884 22914 22920 22919 22917 22919 22919 22884 22850 22817\n",
      " 22770 22711 22639 22572 22507 22412 22301 22206]\n",
      "elstm_unfreeze_auto\n",
      "Possible k up to 30, predict up to 20 peaks\n",
      "Selected up to k=20, l=4, j=6\n",
      "[22921 22921 22921 22921 22884 22854 22818 22771 22714 22640 22575 22507\n",
      " 22415 22305 22206 22070 21926 21777 21630 21453]\n",
      "[22921 22921 22921 22921 22884 22854 22818 22771 22714 22640 22575 22507\n",
      " 22415 22305 22206 22070 21926 21777 21630 21453]\n",
      "Selected up to k=20, l=None, to_rel_inten=0.2\n",
      "[21445 22703 22884 22914 22920 22919 22917 22919 22919 22884 22850 22817\n",
      " 22770 22711 22639 22572 22507 22412 22301 22206]\n",
      "[21445 22703 22884 22914 22920 22919 22917 22919 22919 22884 22850 22817\n",
      " 22770 22711 22639 22572 22507 22412 22301 22206]\n",
      "elstm_dst\n",
      "Possible k up to 30, predict up to 20 peaks\n",
      "Selected up to k=20, l=4, j=6\n",
      "[22921 22921 22921 22921 22884 22854 22818 22771 22714 22640 22575 22507\n",
      " 22415 22305 22206 22070 21926 21777 21630 21453]\n",
      "[22921 22921 22921 22921 22884 22854 22818 22771 22714 22640 22575 22507\n",
      " 22415 22305 22206 22070 21926 21777 21630 21453]\n",
      "Selected up to k=20, l=None, to_rel_inten=0.2\n",
      "[21445 22703 22884 22914 22920 22919 22917 22919 22919 22884 22850 22817\n",
      " 22770 22711 22639 22572 22507 22412 22301 22206]\n",
      "[21445 22703 22884 22914 22920 22919 22917 22919 22919 22884 22850 22817\n",
      " 22770 22711 22639 22572 22507 22412 22301 22206]\n",
      "elstm_intens_dst\n",
      "Possible k up to 30, predict up to 20 peaks\n",
      "Selected up to k=20, l=4, j=6\n",
      "[22921 22921 22921 22921 22884 22854 22818 22771 22714 22640 22575 22507\n",
      " 22415 22305 22206 22070 21926 21777 21630 21453]\n",
      "[22921 22921 22921 22921 22884 22854 22818 22771 22714 22640 22575 22507\n",
      " 22415 22305 22206 22070 21926 21777 21630 21453]\n",
      "Selected up to k=20, l=None, to_rel_inten=0.2\n",
      "[21445 22703 22884 22914 22920 22919 22917 22919 22919 22884 22850 22817\n",
      " 22770 22711 22639 22572 22507 22412 22301 22206]\n",
      "[21445 22703 22884 22914 22920 22919 22917 22919 22919 22884 22850 22817\n",
      " 22770 22711 22639 22572 22507 22412 22301 22206]\n",
      "elstm_random_dst\n",
      "Possible k up to 30, predict up to 20 peaks\n",
      "Selected up to k=20, l=4, j=6\n",
      "[22921 22921 22921 22921 22884 22854 22818 22771 22714 22640 22575 22507\n",
      " 22415 22305 22206 22070 21926 21777 21630 21453]\n",
      "[22921 22921 22921 22921 22884 22854 22818 22771 22714 22640 22575 22507\n",
      " 22415 22305 22206 22070 21926 21777 21630 21453]\n",
      "Selected up to k=20, l=None, to_rel_inten=0.2\n",
      "[21445 22703 22884 22914 22920 22919 22917 22919 22919 22884 22850 22817\n",
      " 22770 22711 22639 22572 22507 22412 22301 22206]\n",
      "[21445 22703 22884 22914 22920 22919 22917 22919 22919 22884 22850 22817\n",
      " 22770 22711 22639 22572 22507 22412 22301 22206]\n",
      "elstm_random_auto\n",
      "Possible k up to 30, predict up to 20 peaks\n",
      "Selected up to k=20, l=4, j=6\n",
      "[22921 22921 22921 22921 22884 22854 22818 22771 22714 22640 22575 22507\n",
      " 22415 22305 22206 22070 21926 21777 21630 21453]\n",
      "[22921 22921 22921 22921 22884 22854 22818 22771 22714 22640 22575 22507\n",
      " 22415 22305 22206 22070 21926 21777 21630 21453]\n",
      "Selected up to k=20, l=None, to_rel_inten=0.2\n",
      "[21445 22703 22884 22914 22920 22919 22917 22919 22919 22884 22850 22817\n",
      " 22770 22711 22639 22572 22507 22412 22301 22206]\n",
      "[21445 22703 22884 22914 22920 22919 22917 22919 22919 22884 22850 22817\n",
      " 22770 22711 22639 22572 22507 22412 22301 22206]\n",
      "elstm_intens_auto\n",
      "Possible k up to 30, predict up to 20 peaks\n",
      "Selected up to k=20, l=4, j=6\n",
      "[22921 22921 22921 22921 22884 22854 22818 22771 22714 22640 22575 22507\n",
      " 22415 22305 22206 22070 21926 21777 21630 21453]\n",
      "[22921 22921 22921 22921 22884 22854 22818 22771 22714 22640 22575 22507\n",
      " 22415 22305 22206 22070 21926 21777 21630 21453]\n",
      "Selected up to k=20, l=None, to_rel_inten=0.2\n",
      "[21445 22703 22884 22914 22920 22919 22917 22919 22919 22884 22850 22817\n",
      " 22770 22711 22639 22572 22507 22412 22301 22206]\n",
      "[21445 22703 22884 22914 22920 22919 22917 22919 22919 22884 22850 22817\n",
      " 22770 22711 22639 22572 22507 22412 22301 22206]\n",
      "plstm_dst\n",
      "Possible k up to 30, predict up to 20 peaks\n",
      "Selected up to k=20, l=4, j=6\n",
      "[22921 22921 22921 22921 22884 22854 22818 22771 22714 22640 22575 22507\n",
      " 22415 22305 22206 22070 21926 21777 21630 21453]\n",
      "[22921 22921 22921 22921 22884 22854 22818 22771 22714 22640 22575 22507\n",
      " 22415 22305 22206 22070 21926 21777 21630 21453]\n",
      "Selected up to k=20, l=None, to_rel_inten=0.2\n",
      "[21445 22703 22884 22914 22920 22919 22917 22919 22919 22884 22850 22817\n",
      " 22770 22711 22639 22572 22507 22412 22301 22206]\n",
      "[21445 22703 22884 22914 22920 22919 22917 22919 22919 22884 22850 22817\n",
      " 22770 22711 22639 22572 22507 22412 22301 22206]\n",
      "elstm_intens_fg_dst\n",
      "Possible k up to 30, predict up to 20 peaks\n",
      "Selected up to k=20, l=4, j=6\n",
      "[22921 22921 22921 22921 22884 22854 22818 22771 22714 22640 22575 22507\n",
      " 22415 22305 22206 22070 21926 21777 21630 21453]\n",
      "[22921 22921 22921 22921 22884 22854 22818 22771 22714 22640 22575 22507\n",
      " 22415 22305 22206 22070 21926 21777 21630 21453]\n",
      "Selected up to k=20, l=None, to_rel_inten=0.2\n",
      "[21445 22703 22884 22914 22920 22919 22917 22919 22919 22884 22850 22817\n",
      " 22770 22711 22639 22572 22507 22412 22301 22206]\n",
      "[21445 22703 22884 22914 22920 22919 22917 22919 22919 22884 22850 22817\n",
      " 22770 22711 22639 22572 22507 22412 22301 22206]\n"
     ]
    }
   ],
   "source": [
    "best_p_name, scores = model_selection(P_FOLDER, \"gen_val\", predictors=predictors, up_to_k=20, \\\n",
    "                                      l=4, j=6, to_rel_inten=.2, l_rel=None)\n",
    "#plot_scores(scores, metrics=\"mpi\")"
   ]
  },
  {
   "cell_type": "code",
   "execution_count": 57,
   "metadata": {},
   "outputs": [
    {
     "data": {
      "image/png": "[encoded data removed]",
      "text/plain": [
       "<Figure size 700x400 with 1 Axes>"
      ]
     },
     "metadata": {},
     "output_type": "display_data"
    }
   ],
   "source": [
    "hue_f = lambda x: [\"random\",\"unfreeze\",\"intens\",\"lin\", \"quad\"].index(x.split(\"_\")[1]) \\\n",
    "if len(x.split(\"_\")) > 2 else -1\n",
    "\n",
    "orderer_f = lambda x: str(hue_f(x)) + x\n",
    "\n",
    "plot_scores(scores, metrics=\"mpi\", grouper_f=lambda x: x.split(\"_\")[-1],\n",
    "            orderer_f=orderer_f,hue_f=hue_f,\n",
    "            title= \"De novo\" if kind==\"de_novo\" else \"In database\",\n",
    "            xlabel= \"k\", ylabel=\"meanPrecision\",\n",
    "            save_to_path=f\"figures/{kind}/selection/lstm_val_prec.pdf\")"
   ]
  },
  {
   "cell_type": "code",
   "execution_count": 38,
   "metadata": {},
   "outputs": [
    {
     "data": {
      "text/plain": [
       "'elstm_unfreeze_intens_dst'"
      ]
     },
     "execution_count": 38,
     "metadata": {},
     "output_type": "execute_result"
    }
   ],
   "source": [
    "best_p_name"
   ]
  },
  {
   "cell_type": "markdown",
   "metadata": {},
   "source": [
    "## Visualisation of the best predictor"
   ]
  },
  {
   "cell_type": "code",
   "execution_count": 33,
   "metadata": {},
   "outputs": [
    {
     "data": {
      "image/png": "[encoded data removed]",
      "text/plain": [
       "<Figure size 1800x900 with 2 Axes>"
      ]
     },
     "metadata": {},
     "output_type": "display_data"
    }
   ],
   "source": [
    "k = 5\n",
    "i = 14047\n",
    "plot_ds = TopKDS(documents_test, vocab, k, onehot=predictors[best_p_name].onehot, add_intensity=predictors[best_p_name].add_intens)\n",
    "prob = predictors[best_p_name](plot_ds[i][0].reshape(1, *plot_ds[i][0].shape))[0,:].cpu().numpy()\n",
    "plot_spectrum_predictions(plot_ds.ref_docs[i], k, prob, \\\n",
    "                         predictors[best_p_name].coder,\\\n",
    "                         plot_full=False, \\\n",
    "                         save_to_path=f\"figures/{kind}/visual/lstm_test_topk.pdf\")"
   ]
  },
  {
   "cell_type": "code",
   "execution_count": null,
   "metadata": {},
   "outputs": [],
   "source": [
    "for i in range(len(documents_test)):\n",
    "    if documents_test[i].metadata[\"name\"] not in interesting:\n",
    "        continue\n",
    "    print(documents_test[i].metadata[\"name\"])\n",
    "    for k in [3,4,5,6,7,8]:\n",
    "        plot_ds = TopKDS(documents_test, vocab, k, onehot=predictors[best_p_name].onehot, add_intensity=predictors[best_p_name].add_intens)\n",
    "        prob = predictors[best_p_name](plot_ds[i][0].reshape(1, *plot_ds[i][0].shape))[0,:].cpu().numpy()\n",
    "        plot_spectrum_predictions(plot_ds.ref_docs[i], k, prob, \\\n",
    "                                 predictors[best_p_name].coder,\\\n",
    "                                 plot_full=False, \\\n",
    "                                 save_to_path=f\"figures/{kind}/visual/lstm_test_{i}_top{k}.pdf\")"
   ]
  },
  {
   "cell_type": "markdown",
   "metadata": {},
   "source": [
    "## Detailed evaluation of the best predictor \n",
    "done on the test set"
   ]
  },
  {
   "cell_type": "code",
   "execution_count": 48,
   "metadata": {},
   "outputs": [
    {
     "name": "stdout",
     "output_type": "stream",
     "text": [
      "elstm_unfreeze_intens_dst\n"
     ]
    },
    {
     "name": "stderr",
     "output_type": "stream",
     "text": [
      "/opt/conda/lib/python3.8/site-packages/numpy/core/_asarray.py:136: VisibleDeprecationWarning: Creating an ndarray from ragged nested sequences (which is a list-or-tuple of lists-or-tuples-or ndarrays with different lengths or shapes) is deprecated. If you meant to do this, you must specify 'dtype=object' when creating the ndarray\n",
      "  return array(a, dtype, copy=False, order=order, subok=True)\n"
     ]
    }
   ],
   "source": [
    "up_to_k = 30\n",
    "l = 20\n",
    "calc_predictions(up_to_k, l,  {best_p_name: predictors[best_p_name]}, datasets, \\\n",
    "                 \"gen_test\", P_FOLDER, batch_size=256, \\\n",
    "                 device=device, verbose=False)"
   ]
  },
  {
   "cell_type": "code",
   "execution_count": 50,
   "metadata": {},
   "outputs": [],
   "source": [
    "l_pred_indices_per_k_best, y_indices, X_intens = load_predictions(best_p_name, \"gen_test\", P_FOLDER)\n",
    "l_pred_indices_per_k_base, y_indices_base, X_intens_base = load_predictions(\"specknn_1\", \"spec_test\", P_FOLDER)"
   ]
  },
  {
   "cell_type": "code",
   "execution_count": 51,
   "metadata": {},
   "outputs": [
    {
     "data": {
      "image/png": "[encoded data removed]",
      "text/plain": [
       "<Figure size 2000x1000 with 1 Axes>"
      ]
     },
     "metadata": {},
     "output_type": "display_data"
    }
   ],
   "source": [
    "from utils.metrics import accuracy_at_k\n",
    "from utils.visual_utils import plot_stats\n",
    "\n",
    "def get_to_len(xs, len_):\n",
    "    return [xs[i] if i<len(xs) else 0 for i in range(len_)]\n",
    "\n",
    "accs_at_k = accuracy_at_k(l_pred_indices_per_k_best, y_indices, up_to_k=None)\n",
    "accs_at_k_base = get_to_len(accuracy_at_k(l_pred_indices_per_k_base, y_indices_base, up_to_k=None), len(accs_at_k))\n",
    "\n",
    "\n",
    "\n",
    "plot_stats(accs_at_k, baseline1D=accs_at_k_base, title=\"Accuracy@k\", color=\"red\", ylabel='accuracy', xlabel='k')"
   ]
  },
  {
   "cell_type": "code",
   "execution_count": 52,
   "metadata": {},
   "outputs": [
    {
     "name": "stderr",
     "output_type": "stream",
     "text": [
      "/mnt/storage-brno6/home/xstary1/raims/metrics.py:264: RuntimeWarning: invalid value encountered in true_divide\n",
      "  return corr_at_int / tot_at_int\n"
     ]
    }
   ],
   "source": [
    "from utils.metrics import accuracy_at_int\n",
    "\n",
    "accs_at_int = accuracy_at_int(l_pred_indices_per_k_best, y_indices, X_intens)\n",
    "accs_at_int_base = get_to_len(accuracy_at_int(l_pred_indices_per_k_base, y_indices_base, X_intens_base), len(accs_at_int))"
   ]
  },
  {
   "cell_type": "code",
   "execution_count": 53,
   "metadata": {},
   "outputs": [
    {
     "data": {
      "image/png": "[encoded data removed]",
      "text/plain": [
       "<Figure size 2000x1000 with 1 Axes>"
      ]
     },
     "metadata": {},
     "output_type": "display_data"
    }
   ],
   "source": [
    "plot_stats(accs_at_int, baseline1D=accs_at_int_base, title=\"Accuracy@int\", color=\"red\", decreasing=True,  ylabel='accuracy', xlabel='intensity level', x_factor=.01)"
   ]
  },
  {
   "cell_type": "code",
   "execution_count": 54,
   "metadata": {},
   "outputs": [
    {
     "name": "stdout",
     "output_type": "stream",
     "text": [
      "elstm_unfreeze_intens_dst\n",
      "Possible k up to 30, predict up to 20 peaks\n",
      "Selected up to k=30, l=4, j=6\n",
      "[22564 22564 22564 22564 22532 22501 22452 22410 22357 22280 22206 22125\n",
      " 22020 21920 21801 21657 21522 21385 21218 21040 20846 20639 20440 20266\n",
      " 20045 19857 19653 19446 19253 19029]\n",
      "[22564 22564 22564 22564 22532 22501 22452 22410 22357 22280 22206 22125\n",
      " 22020 21920 21801 21657 21522 21385 21218 21040 20846 20639 20440 20266\n",
      " 20045 19857 19653 19446 19253 19029]\n",
      "Selected up to k=30, l=None, to_rel_inten=0.2\n",
      "[21122 22328 22520 22555 22561 22559 22562 22562 22563 22530 22501 22451\n",
      " 22407 22354 22277 22205 22122 22016 21919 21799 21656 21519 21381 21214\n",
      " 21040 20846 20638 20437 20264 20044]\n",
      "[21122 22328 22520 22555 22561 22559 22562 22562 22563 22530 22501 22451\n",
      " 22407 22354 22277 22205 22122 22016 21919 21799 21656 21519 21381 21214\n",
      " 21040 20846 20638 20437 20264 20044]\n"
     ]
    }
   ],
   "source": [
    "best_p_name, scores_test = model_selection(P_FOLDER, \"gen_test\", \\\n",
    "                                           predictors={best_p_name: predictors[best_p_name]}, up_to_k=30, \\\n",
    "                                           l=4, j=6, to_rel_inten=.2, l_rel=None)\n"
   ]
  },
  {
   "cell_type": "code",
   "execution_count": 55,
   "metadata": {},
   "outputs": [
    {
     "data": {
      "image/png": "[encoded data removed]",
      "text/plain": [
       "<Figure size 700x400 with 1 Axes>"
      ]
     },
     "metadata": {},
     "output_type": "display_data"
    }
   ],
   "source": [
    "plot_scores(scores_test, metrics=\"mpi\", grouper_f=lambda x: x.split(\"_\")[-1],\n",
    "            orderer_f=orderer_f,hue_f=hue_f,\n",
    "            title= \"De novo\" if kind==\"de_novo\" else \"In database\",\n",
    "            xlabel= \"k\", ylabel=\"meanPrecision\",\n",
    "            save_to_path=f\"figures/{kind}/selection/lstm_test_prec.pdf\")"
   ]
  },
  {
   "cell_type": "code",
   "execution_count": null,
   "metadata": {},
   "outputs": [],
   "source": []
  },
  {
   "cell_type": "code",
   "execution_count": null,
   "metadata": {},
   "outputs": [],
   "source": []
  },
  {
   "cell_type": "code",
   "execution_count": null,
   "metadata": {},
   "outputs": [],
   "source": []
  },
  {
   "cell_type": "code",
   "execution_count": null,
   "metadata": {},
   "outputs": [],
   "source": []
  },
  {
   "cell_type": "code",
   "execution_count": null,
   "metadata": {},
   "outputs": [],
   "source": []
  },
  {
   "cell_type": "code",
   "execution_count": null,
   "metadata": {},
   "outputs": [],
   "source": []
  },
  {
   "cell_type": "code",
   "execution_count": null,
   "metadata": {},
   "outputs": [],
   "source": []
  },
  {
   "cell_type": "code",
   "execution_count": null,
   "metadata": {},
   "outputs": [],
   "source": []
  },
  {
   "cell_type": "code",
   "execution_count": null,
   "metadata": {},
   "outputs": [],
   "source": []
  },
  {
   "cell_type": "markdown",
   "metadata": {},
   "source": [
    "## Prediction\n",
    "- Teacher forcing generation\n",
    "    - generate sequence of predefined lenght using teacherforcing\n",
    "    - teacher forcing == feed model reference peaks\n",
    "    - can be used as well as given k, predict k+1th\n",
    "- Autoregressive generation \n",
    "    - generate sequence of predefined lenght using teacherforcing\n",
    "    - feed model a k starter peaks using teacher forcing, then feed the model its own last prediciton \n",
    "    - TODO - implement temperature\n",
    "    - TODO - allow batching to speed up computation \n",
    "- Usage of predicted distribution after k starter peaks\n",
    "    - feed model a k starter peaks using teacher forcing, then get the distribution predicted\n",
    "    - take the top n predicted peaks in distribution"
   ]
  },
  {
   "cell_type": "code",
   "execution_count": null,
   "metadata": {},
   "outputs": [],
   "source": [
    "def predict_next(model, X, device, init_state=None):\n",
    "    model.eval()\n",
    "    model.to(device)\n",
    "    with torch.no_grad():\n",
    "        X = X.to(device)\n",
    "        log_pred, state = model(X, return_sequence=False, init_state=init_state)\n",
    " \n",
    "    return log_pred, state\n",
    "\n",
    "def predict_sequence(model, X, device, golden_indices):\n",
    "    \"\"\"\n",
    "        predicts sequence of same length as each input sequence\n",
    "        \n",
    "        Peaks on golden_indeces indeces are fed into the model first, \n",
    "        then autoregressive self-feeding is used\n",
    "    \"\"\"\n",
    "    \n",
    "    # currently only works for batch_size = 1\n",
    "    if X.shape[0] != 1:\n",
    "        print(X.shape)\n",
    "        raise ValueError\n",
    "  \n",
    "    model.eval()\n",
    "    model.to(device)\n",
    "    \n",
    "    with torch.no_grad():\n",
    "        # encode the golden \n",
    "        X = X.to(device)\n",
    "        \n",
    "        log_pred, state = model(X[:, golden_indices[-1]], return_sequence=True) \n",
    "        \n",
    "        y_logprob_seq = log_pred[0]\n",
    "        y_pred_seq = torch.argmax(log_pred, axis=-1)[0]\n",
    "        y_pred = y_pred_seq[-1]\n",
    "    \n",
    "    if model.add_intens:\n",
    "        last_intens = X[0,-1,-1]\n",
    "        \n",
    "    # predict the rest     \n",
    "    for i in range(len(y_pred_seq), len(X[0])):\n",
    "        auto_X = y_pred.reshape(1,-1)\n",
    "        \n",
    "        if model.add_intens:\n",
    "            last_intens = last_intens**.9\n",
    "            auto_X = torch.tensor((y_pred, last_intens)).reshape(1,-1,2)\n",
    "\n",
    "        log_pred, state = predict_next(model, auto_X, device, init_state=state)\n",
    "        y_pred = torch.argmax(log_pred, axis=-1)\n",
    "\n",
    "        y_logprob_seq = torch.cat((y_logprob_seq, log_pred))\n",
    "        y_pred_seq = torch.cat((y_pred_seq, y_pred))\n",
    "    \n",
    "    if model.add_intens:\n",
    "        X,_ = X[:,:,0].int(), X[:,:,1]\n",
    "    return y_pred_seq.reshape(1, *y_pred_seq.shape),  y_logprob_seq.reshape(1, *y_logprob_seq.shape), X[:, golden_indices[-1]]\n",
    "\n",
    "\n",
    "def predictDS_one(model, k_DS, device, return_cpu=True):\n",
    "    loader = DataLoader(k_DS, batch_size=128, shuffle=False, num_workers=8)\n",
    "    all_pred = []\n",
    "    all_y = []\n",
    "    \n",
    "    for b ,(X, y) in enumerate(loader):\n",
    "        log_pred, _ = predict_next(model, X, device)\n",
    "        y_pred = torch.argmax(log_pred, axis=-1)\n",
    "        if return_cpu:\n",
    "            y_pred, y = y_pred.to(\"cpu\"), y.to(\"cpu\")\n",
    "          \n",
    "        all_pred.append(y_pred)\n",
    "        all_y.append(y)\n",
    "    return np.array(all_pred).ravel(), np.array(all_y).ravel()\n",
    "\n",
    "def predictDS_sequence_tf(model, gen_DS, device, return_cpu=True):\n",
    "    gen_DS.onehot = isinstance(model, PureLSTM)\n",
    "    gen_DS.add_intensity=model.add_intens\n",
    "    \n",
    "    loader = DataLoader(gen_DS, batch_size=32, shuffle=False, num_workers=8, collate_fn=gen_collate)\n",
    "    \n",
    "    all_logprob = []\n",
    "    all_pred = []\n",
    "    all_y = []\n",
    "    \n",
    "    model.eval()\n",
    "    model.to(device)\n",
    "    \n",
    "    for b ,(X, y) in enumerate(loader): \n",
    "        with torch.no_grad():\n",
    "            X, y = X.to(device), y.to(device)\n",
    "            log_pred, _ = model(X, return_sequence=True)\n",
    "        y_logprob_seq = log_pred\n",
    "        y_pred_seq = torch.argmax(log_pred, axis=-1)\n",
    "        \n",
    "        #all_pred.append(y_pred_seq)\n",
    "        #all_y.append(y)\n",
    "        \n",
    "        # create a list of sequences (regardless batch size)\n",
    "        for y_pred, y_logprob, y_ in zip(y_pred_seq, y_logprob_seq, y):\n",
    "            if return_cpu:\n",
    "                y_pred, y_logprob, y_ = y_pred.to(\"cpu\"), y_logprob.to(\"cpu\"), y_.to(\"cpu\")\n",
    "          \n",
    "            padding_mask = y_ != -100\n",
    "            all_pred.append(y_pred[padding_mask[:len(y_pred)]])\n",
    "            all_y.append(y_[padding_mask])\n",
    "            all_logprob.append(y_logprob[padding_mask[:len(y_pred)]])    \n",
    "    return all_pred, all_logprob, all_y \n",
    "\n",
    "def predictDS_sequence(model, gen_DS, device, k=5, mode=\"top\", y_fixed=True, return_cpu=True):\n",
    "    gen_DS.onehot = isinstance(model, PureLSTM)\n",
    "    gen_DS.add_intensity=model.add_intens\n",
    "    \n",
    "    loader = DataLoader(gen_DS, batch_size=1, shuffle=False, num_workers=8, collate_fn=gen_collate)\n",
    "    all_logprob = []\n",
    "    all_pred = []\n",
    "    all_y = []\n",
    "    all_used_X = []\n",
    "    \n",
    "    \n",
    "    for b ,(X, y) in enumerate(loader):\n",
    "        \n",
    "        # check if shortest sequence in batch is longer than k, else skip \n",
    "        if min(map(len, X)) < k:\n",
    "            continue\n",
    "        \n",
    "        \n",
    "        if mode==\"top\":\n",
    "            golden_indices = np.repeat(np.arange(k).reshape(1,-1), len(X),axis=0)\n",
    "        \n",
    "        y_pred_seq, y_logprob_seq, used_X_batch = predict_sequence(model, X, device, golden_indices)\n",
    "        \n",
    "        # create a list of sequences (regardless batch size)\n",
    "        for y_pred, y_logprob, y_, used_X in zip(y_pred_seq, y_logprob_seq, y, used_X_batch):\n",
    "            if return_cpu:\n",
    "                y_pred, y_logprob, y_, used_X = y_pred.to(\"cpu\"), y_logprob.to(\"cpu\"), y_.to(\"cpu\"), used_X.to(\"cpu\")\n",
    "            \n",
    "            all_used_X.append(used_X)\n",
    "            # fix first k labels in labels and predictions to 0\n",
    "            if y_fixed:\n",
    "                all_y.append(torch.cat((torch.zeros(k-1, dtype=int),y_[k-1:])))\n",
    "                probs_fix = torch.zeros_like(y_logprob[:k-1])\n",
    "                probs_fix[:, 0] += 1\n",
    "                all_logprob.append(torch.cat((torch.log(probs_fix),y_logprob[k-1:])))\n",
    "                all_pred.append(torch.cat((torch.zeros(k-1, dtype=int),y_pred[k-1:])))\n",
    "            \n",
    "            else:\n",
    "                all_y.append(y_)\n",
    "                all_logprob.append(y_logprob)\n",
    "                all_pred.append(y_pred)\n",
    "            \n",
    "    return all_pred, all_logprob, all_y, all_used_X"
   ]
  },
  {
   "cell_type": "markdown",
   "metadata": {},
   "source": [
    "## Evaluation\n",
    "Proper quantitative evaluation of the trained spectral models  \n",
    "\n",
    "* TODO -MAP weighted by intensity\n",
    "* TODO - KL divergence (=categorical cross entrophy) metric between the rest peaks and predicted distribution (especially for \"given top_k, predict all the rest\" task) \n",
    "* Accuracy of predicting the k+1th peak (especially for \"given top_k, predict k+1th\" task)\n",
    "* Set stats - Precision, Leftover_ratio, Harmonic Mean, Jaccard"
   ]
  },
  {
   "cell_type": "code",
   "execution_count": null,
   "metadata": {},
   "outputs": [],
   "source": [
    "# get predictions\n",
    "\n",
    "\n",
    "# all_y_tf are all peaks \n",
    "# teacher forcing (given k,predict 1, all k)\n",
    "all_pred_tf, all_logprob_tf, all_y_tf = predictDS_sequence_tf(best_model, test_DS, device)\n",
    "\n",
    "\n",
    "# get dummy predictions\n",
    "all_pred_dummy, all_logprob_dummy, _ = predictDS_sequence_tf(dummy, test_DS, device)\n",
    "\n",
    "all_pred_dummy_pk, all_logprob_dummy_pk, _ = predictDS_sequence_tf(dummy_per_k, test_DS, device)\n",
    "\n",
    "\n",
    "# extract intensities\n",
    "all_intensities = []\n",
    "test_DS.add_intensity = True\n",
    "for i in range(len(test_DS)):\n",
    "    seq, y = test_DS[i]\n",
    "    # safety check that intensities are well aligned\n",
    "    if any(y != all_y_tf[i].to(\"cpu\")):\n",
    "        raise ValueError\n",
    "            \n",
    "    intensities = seq[:,-1]\n",
    "    all_intensities.append(intensities)\n",
    "test_DS.add_intensity=best_model.add_intens\n",
    "\n",
    "\n",
    "# get autoreg and distrib predictions with k starters\n",
    "def get_k_preds(best_model, test_DS, device, base_model=None, k=5, mode=\"top\", y_fixed=True):\n",
    "\n",
    "    # all_y_ are trimmed peaks starting at kth one \n",
    "    # auregressive generation given k (given k, predict rest)\n",
    "    all_pred , all_logprob, all_y, all_used_X = predictDS_sequence(best_model, test_DS, device, k=k, mode=\"top\", y_fixed=y_fixed)\n",
    "        \n",
    "    # distribution given k (given k, predict dst for k+1h, extract rest n_peaks)\n",
    "    # remove [:len(y)] cut to allow longer predictions\n",
    "    all_pred_dst = [torch.cat((torch.zeros(k-1, dtype=int),torch.argsort(logprob[k-1], descending=True)))[:len(y)] for logprob, y in zip(all_logprob, all_y)]\n",
    "    \n",
    "    # show also base model predictions\n",
    "    if base_model is not None:\n",
    "        all_pred_base, all_logprob_base, _, _ = predictDS_sequence(base_model, test_DS, device, k=k, mode=\"top\", y_fixed=y_fixed)\n",
    "        return all_pred , all_logprob, all_y, all_pred_dst, all_used_X, all_pred_base, all_logprob_base\n",
    "    \n",
    "    return all_pred , all_logprob, all_y, all_pred_dst, all_used_X\n",
    "\n",
    "\n",
    "\n",
    "k=5\n",
    "\n",
    "%time all_pred , all_logprob, all_y, all_pred_dst, all_used_X = get_k_preds(best_model, test_DS, device, base_model=None, k=k, mode=\"top\")\n"
   ]
  },
  {
   "cell_type": "code",
   "execution_count": null,
   "metadata": {},
   "outputs": [],
   "source": [
    "print(len(all_pred_tf[0]))\n",
    "print(len(all_pred_dummy[0]))\n",
    "print(len(all_pred[0]))\n",
    "print(len(all_pred_dst[0]))"
   ]
  },
  {
   "cell_type": "code",
   "execution_count": null,
   "metadata": {},
   "outputs": [],
   "source": [
    "print(all_pred_dst[0][3],all_pred_dst[0][4])\n",
    "print(all_pred[0][3],all_pred[0][4])\n",
    "\n",
    "\n",
    "print(all_pred_dst[0][3],all_pred_dst[0][5])\n",
    "print(all_pred[0][3],all_pred[0][5])\n",
    "\n",
    "\n",
    "print(all_used_X[0])\n"
   ]
  },
  {
   "cell_type": "markdown",
   "metadata": {},
   "source": [
    "##### Correctness tests:"
   ]
  },
  {
   "cell_type": "code",
   "execution_count": null,
   "metadata": {},
   "outputs": [],
   "source": [
    "# test that tf and autoreg are the same in starters\n",
    "seq_test = []\n",
    "for i in range(len(all_pred)):\n",
    "    seq_test.append(all((all_pred_tf[i][:k] == all_pred[i][:k])))\n",
    "all(seq_test) # should be false now"
   ]
  },
  {
   "cell_type": "code",
   "execution_count": null,
   "metadata": {},
   "outputs": [],
   "source": [
    "# test that tf and autoreg are not the same all the time\n",
    "seq_test = []\n",
    "for i in range(len(all_pred)):\n",
    "    seq_test.append(any((all_pred_tf[i] != all_pred[i])))   \n",
    "any(seq_test) "
   ]
  },
  {
   "cell_type": "code",
   "execution_count": null,
   "metadata": {},
   "outputs": [],
   "source": [
    "# test that tf and autoreg probs are the same in starters\n",
    "seq_test = []\n",
    "for i in range(len(all_logprob)):\n",
    "    seq_test.append(all(((all_logprob_tf[i][:k] - all_logprob[i][:k]).abs() < 1e-5).ravel()))\n",
    "all(seq_test) # should be false now"
   ]
  },
  {
   "cell_type": "code",
   "execution_count": null,
   "metadata": {},
   "outputs": [],
   "source": [
    "# test that y tf and y autoreg are the same begining at k\n",
    "seq_test = []\n",
    "for i in range(len(all_y)):\n",
    "    seq_test.append(all((all_y[i][k:] == all_y_tf[i][k:])))\n",
    "all(seq_test) # should be true now"
   ]
  },
  {
   "cell_type": "code",
   "execution_count": null,
   "metadata": {},
   "outputs": [],
   "source": [
    "len(all_pred), len(all_y)"
   ]
  },
  {
   "cell_type": "code",
   "execution_count": null,
   "metadata": {},
   "outputs": [],
   "source": [
    "len(all_pred[0]), len(all_y[0])"
   ]
  },
  {
   "cell_type": "code",
   "execution_count": null,
   "metadata": {},
   "outputs": [],
   "source": [
    "sns.set_theme()\n",
    "\n",
    "def plot_stats(data1D, baseline1D=None, max_len=None, title=None, log_y=False, color=\"blue\", decreasing=False, ylim=None, ylabel=None, xlabel=None, x_factor=1):\n",
    "    plt.figure(figsize=(20,10))\n",
    "    if title:\n",
    "        plt.title(title)\n",
    "    if max_len is None:\n",
    "        max_len = len(data1D)\n",
    "        \n",
    "    x = np.arange(max_len)*x_factor\n",
    "    \n",
    "    \n",
    "    if baseline1D is not None:\n",
    "        ax = sns.scatterplot(y=baseline1D[:max_len], x=x, color=\"darkgrey\")  \n",
    "        ax = sns.scatterplot(y=data1D[:max_len], x=x, color=color, ax=ax)\n",
    "    else:\n",
    "        ax = sns.scatterplot(y=data1D[:max_len], x=x, color=color)\n",
    "    \n",
    "    \n",
    "    if decreasing:\n",
    "        plt.gca().invert_xaxis()\n",
    "    if log_y:\n",
    "        ax.set(yscale=\"log\")\n",
    "        \n",
    "    if ylim is not None:\n",
    "        ax.set_ylim(ylim)\n",
    "        \n",
    "    ax.set(ylabel=ylabel, xlabel=xlabel)\n",
    "    plt.xticks(ticks=np.arange(0,max_len,10)*x_factor,fontsize=8, rotation=45)\n",
    "    plt.show()\n",
    "    \n",
    "def plot_stats8(datas_3D, base_data=None, max_len=None, titles=None, color=[\"blue\", \"blue\", \"blue\", \"blue\"]):\n",
    "    fig, axes = plt.subplots(4, 2, figsize=(20,13), sharey=\"row\")\n",
    "    \n",
    "    \n",
    "    #(ax1, ax4, ax3), (ax4, ax5, a6)  = axes \n",
    "    for i in range(len(axes)):\n",
    "        for j in range(len(axes[i])):\n",
    "            if max_len is None:\n",
    "                max_len = len(datas_3D[j][i])\n",
    "            \n",
    "            x = np.arange(max_len)\n",
    "    \n",
    "            if base_data is not None:\n",
    "                axes[i][j] = sns.scatterplot(y=base_data[i][:max_len], x=x, color=\"darkgrey\", ax=axes[i][j])  \n",
    "                axes[i][j] = sns.scatterplot(y=datas_3D[j][i][:max_len], x=x, color=color[i], ax=axes[i][j])\n",
    "\n",
    "            axes[i][j] = sns.scatterplot(y=datas_3D[j][i][:max_len], x=x, color=color[i], ax=axes[i][j])\n",
    "\n",
    "            \n",
    "               # ax = sns.scatterplot(y=data1D[:max_len], x=x, color=color)\n",
    "\n",
    "            \n",
    "            plt.sca(axes[i][j])    \n",
    "            plt.xticks(ticks=np.arange(0,max_len,10),fontsize=8, rotation=45)\n",
    "\n",
    "            if titles:\n",
    "                plt.title(titles[j][i])\n",
    " \n",
    "    plt.tight_layout(pad=0.3, w_pad=0.4, h_pad=0.5)\n",
    "    \n",
    "    \n",
    "    plt.show()\n",
    "    "
   ]
  },
  {
   "cell_type": "markdown",
   "metadata": {},
   "source": [
    "### Total@k, Int@k\n",
    "- Total@k: Statistics to get better insight into the total number of peaks on k-position in all spectra\n",
    "- Int@k: Statistics to get better insight into the mean intensity of peaks on k-position in all spectra"
   ]
  },
  {
   "cell_type": "code",
   "execution_count": null,
   "metadata": {},
   "outputs": [],
   "source": [
    "def int_at_k(all_intensities):\n",
    "    max_len = max(map( len, all_intensities))\n",
    "    sum_ = np.zeros(max_len)\n",
    "    counts = np.zeros(max_len)\n",
    "    for intensities in all_intensities:\n",
    "        for j, inten in enumerate(intensities):\n",
    "            sum_[j] += inten\n",
    "            counts[j] += 1\n",
    "    mean_inten_at_k = sum_/counts\n",
    "    return mean_inten_at_k\n",
    "mean_int_at_k = int_at_k(all_intensities)\n",
    "mean_int_at_k[:10], mean_int_at_k[-10:]"
   ]
  },
  {
   "cell_type": "markdown",
   "metadata": {},
   "source": [
    "### Accuracy@k\n",
    "- accuracy of predicting k+1th peak given k most intense "
   ]
  },
  {
   "cell_type": "code",
   "execution_count": null,
   "metadata": {},
   "outputs": [],
   "source": [
    "def accuracy_at_k(all_pred, all_y):\n",
    "    max_len = max(map( len, all_y))\n",
    "    correct = np.zeros(max_len)\n",
    "    total = np.zeros(max_len)\n",
    "    for p, y in zip(all_pred, all_y):\n",
    "        for i in range(len(p)):\n",
    "            total[i] +=1\n",
    "            if p[i] == y[i]:\n",
    "                correct[i] +=1\n",
    "    acc = correct/total \n",
    "    return acc, total , correct\n",
    "accs_at_k, total_at_k, correct_at_k = accuracy_at_k(all_pred_tf, all_y_tf)\n",
    "accs_at_k_dummy, _, _ = accuracy_at_k(all_pred_dummy, all_y_tf)\n",
    "accs_at_k[:10], accs_at_k[-10:], total_at_k[:10], total_at_k[-10:]"
   ]
  },
  {
   "cell_type": "code",
   "execution_count": null,
   "metadata": {},
   "outputs": [],
   "source": [
    "def loss_at_k(all_logprob, all_y):\n",
    "    max_len = max(map( len, all_y))\n",
    "    loss_sum = np.zeros(max_len)\n",
    "    total = np.zeros(max_len)\n",
    "    for p, y in zip(all_logprob, all_y):\n",
    "        p = p.cpu()\n",
    "        y =y.cpu()\n",
    "        for i in range(len(p)):\n",
    "            total[i] +=1\n",
    "            loss_sum[i] += torch.nn.functional.nll_loss(p[i].reshape(1,-1), y[i].reshape(1))\n",
    "    loss = loss_sum/total \n",
    "    return loss, np.exp(-loss)\n",
    "nlll_at_k, likelihood_at_k = loss_at_k(all_logprob_tf, all_y_tf)\n",
    "nlll_at_k_dummy, likelihood_at_k_dummy = loss_at_k(all_logprob_dummy, all_y_tf)\n",
    "\n",
    "nlll_at_k[:10], nlll_at_k[-10:], likelihood_at_k[:10], likelihood_at_k[-10:]"
   ]
  },
  {
   "cell_type": "markdown",
   "metadata": {},
   "source": [
    "### Accuracy@int\n",
    "- accuracy of predicting correct next peak when the correct peak shall be on given intesity level "
   ]
  },
  {
   "cell_type": "code",
   "execution_count": null,
   "metadata": {},
   "outputs": [],
   "source": [
    "def accuracy_at_int(all_pred, all_y, granularity, skip_k=0):\n",
    "    max_len = int(1/granularity)\n",
    "    correct = np.zeros(max_len+1)\n",
    "    total = np.zeros(max_len+1)\n",
    "    for p, y, inten in zip(all_pred, all_y, all_intensities):\n",
    "        for i in range(skip_k, len(p)):\n",
    "            #print(inten[i])\n",
    "            total[int(inten[i]*max_len)] +=1\n",
    "            if p[i] == y[i]:\n",
    "                correct[int(inten[i]*max_len)] +=1\n",
    "    acc = correct/total \n",
    "    return acc, total, correct\n",
    "\n",
    "accs_at_int, total_at_int, correct_at_int = accuracy_at_int(all_pred_tf, all_y_tf, .01, skip_k=0)\n",
    "accs_at_int_dummy, _, _ = accuracy_at_int(all_pred_dummy, all_y_tf, .01, skip_k=0)\n",
    "\n",
    "accs_at_int[:10], accs_at_int[-10:], total_at_int[:10], total_at_int[-10:]"
   ]
  },
  {
   "cell_type": "markdown",
   "metadata": {},
   "source": [
    "\n",
    "## <center> SECTION 1: Predict one </center>\n",
    "**....All the graphs showing scenario given k, predict one next peak; visualize over all k.**"
   ]
  },
  {
   "cell_type": "code",
   "execution_count": null,
   "metadata": {},
   "outputs": [],
   "source": [
    "plot_stats(accs_at_k, baseline1D=accs_at_k_dummy, title=\"Accuracy@k\", color=\"red\", ylabel='accuracy', xlabel='k')"
   ]
  },
  {
   "cell_type": "code",
   "execution_count": null,
   "metadata": {},
   "outputs": [],
   "source": [
    "plot_stats(accs_at_k, baseline1D=accs_at_k_dummy, title=\"Accuracy@k - focused\", max_len=300, color=\"red\",  ylabel='accuracy', xlabel='k')"
   ]
  },
  {
   "cell_type": "code",
   "execution_count": null,
   "metadata": {},
   "outputs": [],
   "source": [
    "plot_stats(nlll_at_k, baseline1D=nlll_at_k_dummy, title=\"Loss@k\", color=\"orange\",  ylabel='loss', xlabel='k')"
   ]
  },
  {
   "cell_type": "code",
   "execution_count": null,
   "metadata": {},
   "outputs": [],
   "source": [
    "plot_stats(likelihood_at_k, baseline1D=likelihood_at_k_dummy, title=\"Likelihood@k\", color=\"orange\",  ylabel='likelihood', xlabel='k')"
   ]
  },
  {
   "cell_type": "code",
   "execution_count": null,
   "metadata": {},
   "outputs": [],
   "source": [
    "plot_stats(accs_at_int, baseline1D=accs_at_int_dummy, title=\"Accuracy@int\", color=\"red\", decreasing=True,  ylabel='accuracy', xlabel='intensity level', x_factor=.01)"
   ]
  },
  {
   "cell_type": "markdown",
   "metadata": {},
   "source": [
    "----------\n",
    "# <span style=\"color:red\"> --------------------------------------------- BIG RED LINE --------------------------------------------</span>\n",
    "----------------\n",
    "## <center> SECTION 2: Predict many </center>\n",
    "**....From now on, all the graphs showing scenario given k, predict many rest peaks.**"
   ]
  },
  {
   "cell_type": "markdown",
   "metadata": {},
   "source": [
    "### Autoregressive (given 5) accuracy, loss "
   ]
  },
  {
   "cell_type": "code",
   "execution_count": null,
   "metadata": {},
   "outputs": [],
   "source": [
    "accs_at_k_gen, total_at_k_gen, correct_at_k_gen = accuracy_at_k(all_pred, all_y)\n",
    "nlll_at_k_gen, likelihood_at_k_gen = loss_at_k(all_logprob, all_y)\n",
    "accs_at_int_gen, _, correct_at_int_gen = accuracy_at_int(all_pred, all_y, .01, skip_k=5)"
   ]
  },
  {
   "cell_type": "code",
   "execution_count": null,
   "metadata": {},
   "outputs": [],
   "source": [
    "plot_stats(accs_at_k_gen, baseline1D=accs_at_k_dummy,  title=\"Accuracy@k of autoregressive model [DO NOT CHECK k<5]\", color=\"red\", ylabel='accuracy', xlabel='k')"
   ]
  },
  {
   "cell_type": "code",
   "execution_count": null,
   "metadata": {},
   "outputs": [],
   "source": [
    "plot_stats(nlll_at_k_gen, baseline1D=nlll_at_k_dummy, title=\"Loss@k of autoregressive model [DO NOT CHECK k<5]\", color=\"orange\",  ylabel='loss', xlabel='k')"
   ]
  },
  {
   "cell_type": "code",
   "execution_count": null,
   "metadata": {},
   "outputs": [],
   "source": [
    "plot_stats(accs_at_int_gen, baseline1D=accs_at_int_dummy, title=\"Accuracy@int of autoregressive model\", color=\"red\", decreasing=True, ylim=(-0.05,1.05),  ylabel='accuracy', xlabel='intensity level', x_factor=.01)"
   ]
  },
  {
   "cell_type": "markdown",
   "metadata": {},
   "source": [
    "### Distribution (given 5) accuracy "
   ]
  },
  {
   "cell_type": "code",
   "execution_count": null,
   "metadata": {},
   "outputs": [],
   "source": [
    "accs_at_k_dst, total_at_k_dst, correct_at_k_dst = accuracy_at_k(all_pred_dst, all_y)\n",
    "#nlll_at_k_gen, likelihood_at_k_gen = loss_at_k(all_logprob_dst, all_y_dst)\n",
    "accs_at_int_dst, _, correct_at_int_dst = accuracy_at_int(all_pred_dst, all_y, .01, skip_k=5)"
   ]
  },
  {
   "cell_type": "code",
   "execution_count": null,
   "metadata": {},
   "outputs": [],
   "source": [
    "plot_stats(accs_at_k_dst, baseline1D=accs_at_k_dummy, title=\"Accuracy@k of distribution model [DO NOT CHECK k<5]\", color=\"red\", ylabel='accuracy', xlabel='k')"
   ]
  },
  {
   "cell_type": "code",
   "execution_count": null,
   "metadata": {},
   "outputs": [],
   "source": [
    "plot_stats(accs_at_int_dst, baseline1D=accs_at_int_dummy,  title=\"Accuracy@int of distribution model\", color=\"red\", decreasing=True, ylim=(-0.05,1.05),  ylabel='accuracy', xlabel='intensity at k', x_factor=.01)"
   ]
  },
  {
   "cell_type": "markdown",
   "metadata": {},
   "source": [
    "### Precison, leftover ratio, Harmonic mean, Jaccard\n",
    "\n",
    "Measure model prediction regradless its current position\n",
    "- Predict (generate / obtain) the same amount of peaks as is in the reference spectrum \n",
    "- Observe the similarity of these two sets - reference peaks set and predicted peaks set\n",
    "\n",
    "TODO - If generating -> take in account repetetivy generated peaks\n",
    "\n",
    "\n",
    "- TP: Predicted peak is in the reference set\n",
    "- FP: Predicted peak is not in the reference set\n",
    "- [NOT USED]FN: Peak in the reference set which was not predicted\n",
    "- [NOT USED]TN: Rest\n",
    "\n",
    "Metrics:\n",
    "- Precision: Portion of predicted, filtered peaks that are in reference set\n",
    "- Leftover_ratio: Portion of original predicted peaks that was kept after filtering\n",
    "- Jaccard score: \n",
    "\n",
    "TODO - take in account the closeness (weight by gaussian centred in the reference peak position?)\n",
    "\n",
    "TODO - take in account the total sequence len"
   ]
  },
  {
   "cell_type": "code",
   "execution_count": null,
   "metadata": {},
   "outputs": [],
   "source": [
    "def get_set_stats(all_pred, all_y, all_used_X):\n",
    "    all_precisions = np.zeros(len(all_pred))\n",
    "    all_leftovers_ratio = np.zeros(len(all_pred))\n",
    "    all_jaccards = np.zeros(len(all_pred))\n",
    "    for i, (y_pred, y, used_X) in enumerate(zip(all_pred, all_y, all_used_X)):\n",
    "        y_pred_set = set(y_pred.tolist()).difference(set(used_X))\n",
    "        y_set = set(y.tolist())\n",
    "        \n",
    "        TP = len(y_set.intersection(y_pred_set))\n",
    "        FP = len(y_pred_set) - TP\n",
    "        \n",
    "        set_precision = TP/ (TP + FP) if TP+FP != 0 else np.NaN\n",
    "        \n",
    "        set_leftover_ratio = len(y_pred_set)/len(y_pred)\n",
    "        \n",
    "        jaccard = TP/ len(y_set.union(y_pred_set))\n",
    "        \n",
    "        all_precisions[i] = set_precision\n",
    "        all_leftovers_ratio[i] = set_leftover_ratio\n",
    "        all_jaccards[i] = jaccard\n",
    "    return all_precisions, all_leftovers_ratio, all_jaccards"
   ]
  },
  {
   "cell_type": "markdown",
   "metadata": {},
   "source": [
    "### Set stats given k\n",
    "- given k top peaks, predict to_predict peaks, exclude those found in the topk, measure set stats of such prediction compared to the corresponding to_match reference peaks   \n",
    "- measured by:\n",
    "    - PrecisionGivenk \n",
    "    - LeftoverRatioGivenk\n",
    "    - JaccardGivenK"
   ]
  },
  {
   "cell_type": "code",
   "execution_count": null,
   "metadata": {},
   "outputs": [],
   "source": [
    "def set_stats_given_k(k_all_pred, k_all_y, k_all_used_X, to_predict=None, to_match=None):\n",
    "    all_precisions_given_k = []\n",
    "    all_leftovers_ratio_given_k = []\n",
    "    all_jaccards_given_k = []\n",
    "    \n",
    "    for k, (all_pred, all_y, all_used_X) in enumerate(zip(k_all_pred, k_all_y, k_all_used_X)):\n",
    "        trimmed_all_pred = []\n",
    "        rest_all_y = []\n",
    "        for p, y in zip(all_pred, all_y):\n",
    "            rest = y[k:]\n",
    "            p = p[k:]\n",
    "            if to_predict is not None:\n",
    "                p = p[:to_predict]\n",
    "                \n",
    "                # be fair in case that to_predict is larger than predictions and skip this\n",
    "                if len(p) < to_predict:\n",
    "                    continue\n",
    "                    \n",
    "                    \n",
    "            if to_match is not None:\n",
    "                rest = rest[:to_match]\n",
    "                \n",
    "                # be fair in case that to_match is larger than ref spectrum and skip this\n",
    "                if len(rest) < to_match:\n",
    "                    continue\n",
    "                \n",
    "            trimmed_all_pred.append(p)\n",
    "            rest_all_y.append(rest)\n",
    "            \n",
    "        pr, rec, jac = get_set_stats(trimmed_all_pred, rest_all_y, all_used_X)\n",
    "        all_precisions_given_k.append(pr)\n",
    "        all_leftovers_ratio_given_k.append(rec)\n",
    "        all_jaccards_given_k.append(jac)\n",
    "    return all_precisions_given_k, all_leftovers_ratio_given_k, all_jaccards_given_k\n",
    "\n",
    "\n",
    "\n",
    "def get_mean_nan(data2D):\n",
    "    means = np.zeros(len(data2D))\n",
    "    for i, row in enumerate(data2D):\n",
    "        mean_ = row[~np.isnan(row)].mean()\n",
    "        means[i] = mean_\n",
    "    return means"
   ]
  },
  {
   "cell_type": "markdown",
   "metadata": {},
   "source": [
    "### TODO - Exploit distributional model uncertainty - Given k, predict many\n",
    "- get the n largest predicted peaks that together account for XX% of probability mass (n is random variable now), exclude peaks already fed into the model (top k ones)"
   ]
  },
  {
   "cell_type": "code",
   "execution_count": null,
   "metadata": {},
   "outputs": [],
   "source": []
  },
  {
   "cell_type": "markdown",
   "metadata": {},
   "source": [
    "### REAL USECASE SCENARIO #1\n",
    "Our peak model detection model working on RT axis (deconvolution) has identified k peaks that are highly probably sure peaks. Now we want to idetify the rest of the peaks that lays in the gray zone. We will feed those peaks according to their intensity descendingly to the model. Model shall predict the rest of the relevant peaks. We are willing to prespecify the number of peaks that we need, but if the model would decide on his own, it would be even better.\n",
    "\n",
    "**Solution 1: (Autoregressive)**\n",
    "\n",
    "Assumption: prespecified number of peaks to generate - $n$\n",
    "\n",
    "Run the model for another $n$ steps, extract $n$ predictions. Output those. \n",
    "\n",
    "**Solution 2: (Distribution)**\n",
    "\n",
    "Variant a)\n",
    "\n",
    "Assumption: prespecified number of peaks to generate - $n$\n",
    "\n",
    "Extract the probabilities model has predicted, take top $n$. Output those. \n",
    "\n",
    "TODO - Variant b)\n",
    "\n",
    "Assumption: Required prob mass $m$ hyperparameter specified $m \\in [0-1]$\n",
    "\n",
    "Extract the largest l peaks for which the sum of individaul probabilities is still lower than $m$\n",
    "\n",
    "\n",
    "**Metrics:**\n",
    "\n",
    "For each k:\n",
    "\n",
    " - If I requested n peaks from model, how much of returned ones really is in the reference set? --> PrecisionGivenk(k, n)\n",
    " - I don't really care if model returns peaks I have already fed into it. --> exlude the peaks that are in top_k set from returned before calculating the stats.\n",
    "     - TODO - But that can hurt recall a lot, right? --> Predict 10*n peaks, exclude those in top_k, return first n of the rest \n",
    " - What if model returns the same peak more times? -> Ignore it \n",
    " - But those filtering above can cause a high precision of useless model that returns only much less relevant peaks than requested -> introduce leftover_ratio\n",
    "     - ratio of peaks that were left after filtering\n",
    " - But I want the model to both return mostly correct peaks and have high leftover ratio! -> consider something as harmonic mean (aka F1) between precision and leftover ratio\n",
    " - Jaccard\n",
    " \n",
    " - TODO But returning relevant but extremely little intense peaks in a place where the most intense (low k) should be returned is also not so good.\n",
    "     --> TODO - use some weighting of the position (k) where relevant peak was predicted (gausse curve centered at the reference position (k), DCGN = Discounted cumulative gain)?\n",
    " - TODO All these are nice, but how good is my neural model than, can you give it a score? --> Weighted sum of F1 scores under chosen objective (next n), weighted by total peaks at such k (maybe slighly smoothed to consider less frequent k == bigger ones too)"
   ]
  },
  {
   "cell_type": "markdown",
   "metadata": {},
   "source": [
    "#### Variable k \n",
    "currently takes extremely long due to not implemented batches in autoregressive prediction "
   ]
  },
  {
   "cell_type": "code",
   "execution_count": null,
   "metadata": {},
   "outputs": [],
   "source": [
    "k_all_pred, k_all_logprob, k_all_y, k_all_pred_dst, k_all_y_dst, k_all_used_X = [],[],[],[],[],[]\n",
    "k_all_pred_dummy_pk, k_all_logprob_dummy_pk = [], []"
   ]
  },
  {
   "cell_type": "code",
   "execution_count": null,
   "metadata": {},
   "outputs": [],
   "source": [
    "%%time\n",
    "#device=\"cpu\"\n",
    "for k in range(len(k_all_pred)+1,15):\n",
    "    print(f\"processing k={k} prefix\")    \n",
    "    all_pred, all_logprob, all_y, all_pred_dst, all_used_X, all_pred_dummy_pk, all_logprob_dummy_pk = get_k_preds(best_model, test_DS, device, base_model=dummy_per_k, k=k, mode=\"top\", y_fixed=True)\n",
    "    \n",
    "    #all_pred_dummy_pk = all_pred_dummy_pk#torch.cat((torch.zeros(k-1, dtype=int),y_pred[k-1:]))\n",
    "    #all_logprob_dummy_pk = \n",
    "\n",
    "    print(f\"Found {len(all_pred)} spectra with len at least {k}\")    \n",
    "    print(\"-\"*50)\n",
    "    \n",
    "    k_all_pred.append(all_pred)\n",
    "    #k_all_logprob.append(all_logprob)\n",
    "    k_all_y.append(all_y)\n",
    "    k_all_pred_dst.append(all_pred_dst)\n",
    "    k_all_used_X.append(all_used_X)\n",
    "    k_all_pred_dummy_pk.append(all_pred_dummy_pk)\n",
    "    #k_all_logprob_dummy_pk.append(all_logprob_dummy_pk)\n",
    "    \n",
    "    "
   ]
  },
  {
   "cell_type": "code",
   "execution_count": null,
   "metadata": {},
   "outputs": [],
   "source": [
    "def compute_stats(k_all_pred, k_all_y, k_all_used_X,to_predict=None, to_match=None):\n",
    "    all_precisions_given_k, all_ratios_given_k, all_jaccards_given_k = set_stats_given_k(k_all_pred, k_all_y, k_all_used_X, to_predict=to_predict, to_match=to_predict)\n",
    "    mean_precision_given_k, mean_ratio_given_k, mean_jaccard_given_k = get_mean_nan(all_precisions_given_k), get_mean_nan(all_ratios_given_k), get_mean_nan(all_jaccards_given_k)\n",
    "    f1_given_k = 2 * mean_precision_given_k * mean_ratio_given_k /(mean_precision_given_k + mean_ratio_given_k)\n",
    "    return [mean_precision_given_k, mean_ratio_given_k, f1_given_k, mean_jaccard_given_k]\n",
    "\n",
    "def compute_plot_stats(k_all_pred_left, k_all_pred_right, k_all_y, k_all_used_X, k_all_pred_dummy=None ,names=[\"left\", \"right\"], to_predict=None, to_match=None):\n",
    "    data = []\n",
    "    titles = []\n",
    "    for name, k_all_pred in zip(names, [k_all_pred_left, k_all_pred_right]):\n",
    "        titles_col = [f\"{met} ({name}; predict {to_predict}, match {to_match})\" for met in [\"PrecisionGivenk\", \"RatioGivenk\", \"HarmonicMean\", \"Jaccard\"]]\n",
    "        data.append(compute_stats(k_all_pred, k_all_y, k_all_used_X,to_predict=to_predict, to_match=to_match))\n",
    "        titles.append(titles_col)\n",
    "    if k_all_pred_dummy is not None:\n",
    "        dummy_data  = compute_stats(k_all_pred_dummy, k_all_y, k_all_used_X, to_predict=to_predict, to_match=to_match)\n",
    "    else:\n",
    "        dummy_data = None\n",
    "    plot_stats8(data, base_data=dummy_data, titles=titles, color=[\"black\", \"olive\", \"purple\", \"royalblue\"])"
   ]
  },
  {
   "cell_type": "markdown",
   "metadata": {},
   "source": [
    "#### Test statistics computation by feeding the same set twice - NOT USEFUL!"
   ]
  },
  {
   "cell_type": "code",
   "execution_count": null,
   "metadata": {},
   "outputs": [],
   "source": [
    "compute_plot_stats(k_all_y, k_all_pred_dst, k_all_y, k_all_used_X, k_all_pred_dummy=k_all_pred_dummy_pk, names=[\"autoregressive\", \"distribution\"], to_predict=None, to_match=None)"
   ]
  },
  {
   "cell_type": "markdown",
   "metadata": {},
   "source": [
    "### Tests \n",
    "    - calculate set stats compared to full spectrum (not a good idea)\n",
    "    - calculate set stats to n corresponding (k, k+n) reference peaks\n",
    "    - calculate set stats to chosen l reference peaks (k, k+l)"
   ]
  },
  {
   "cell_type": "markdown",
   "metadata": {},
   "source": [
    "#### Test 1 - Start by given top k, predict the rest of the sequence"
   ]
  },
  {
   "cell_type": "code",
   "execution_count": null,
   "metadata": {},
   "outputs": [],
   "source": [
    "compute_plot_stats(k_all_pred, k_all_pred_dst, k_all_y, k_all_used_X, k_all_pred_dummy=k_all_pred_dummy_pk, names=[\"autoregressive\", \"distribution\"], to_predict=None, to_match=None)"
   ]
  },
  {
   "cell_type": "markdown",
   "metadata": {},
   "source": [
    "#### Test 2- Start by given top k, predict the next 5, match with 5 "
   ]
  },
  {
   "cell_type": "code",
   "execution_count": null,
   "metadata": {},
   "outputs": [],
   "source": [
    "compute_plot_stats(k_all_pred, k_all_pred_dst, k_all_y, k_all_used_X, k_all_pred_dummy=k_all_pred_dummy_pk, names=[\"autoregressive\", \"distribution\"], to_predict=5, to_match=5)"
   ]
  },
  {
   "cell_type": "markdown",
   "metadata": {},
   "source": [
    "#### Test 3 - Start by given top k, predict the next n=10, match with 10"
   ]
  },
  {
   "cell_type": "code",
   "execution_count": null,
   "metadata": {},
   "outputs": [],
   "source": [
    "compute_plot_stats(k_all_pred, k_all_pred_dst, k_all_y, k_all_used_X, k_all_pred_dummy=k_all_pred_dummy_pk, names=[\"autoregressive\", \"distribution\"], to_predict=10, to_match=10)"
   ]
  },
  {
   "cell_type": "markdown",
   "metadata": {},
   "source": [
    "#### Test 4 - Given top k, predict next n=10 peaks, match with the reference rest"
   ]
  },
  {
   "cell_type": "code",
   "execution_count": null,
   "metadata": {},
   "outputs": [],
   "source": [
    "compute_plot_stats(k_all_pred, k_all_pred_dst, k_all_y, k_all_used_X, k_all_pred_dummy=k_all_pred_dummy_pk, names=[\"autoregressive\", \"distribution\"], to_predict=10, to_match=None)"
   ]
  },
  {
   "cell_type": "markdown",
   "metadata": {},
   "source": [
    "#### Test 5 - Given top k, predict next n=5 peaks (autoregressive, dst), match with the 10 reference "
   ]
  },
  {
   "cell_type": "code",
   "execution_count": null,
   "metadata": {},
   "outputs": [],
   "source": [
    "compute_plot_stats(k_all_pred, k_all_pred_dst, k_all_y, k_all_used_X, k_all_pred_dummy=k_all_pred_dummy_pk, names=[\"autoregressive\", \"distribution\"], to_predict=5, to_match=10)"
   ]
  },
  {
   "cell_type": "markdown",
   "metadata": {},
   "source": [
    "#### Test 6 - Given top k, predict next n=3 peaks (autoregressive, dst), match with the 6 reference "
   ]
  },
  {
   "cell_type": "code",
   "execution_count": null,
   "metadata": {},
   "outputs": [],
   "source": [
    "compute_plot_stats(k_all_pred, k_all_pred_dst, k_all_y, k_all_used_X, k_all_pred_dummy=k_all_pred_dummy_pk, names=[\"autoregressive\", \"distribution\"], to_predict=3, to_match=6)"
   ]
  },
  {
   "cell_type": "markdown",
   "metadata": {},
   "source": [
    "TODO - plot prediction stats with respect to molecule exact mass"
   ]
  },
  {
   "cell_type": "markdown",
   "metadata": {},
   "source": [
    "#### TODO Test 10 - Given top k, predict next n peaks, aggregate"
   ]
  },
  {
   "cell_type": "code",
   "execution_count": null,
   "metadata": {},
   "outputs": [],
   "source": []
  },
  {
   "cell_type": "code",
   "execution_count": null,
   "metadata": {},
   "outputs": [],
   "source": []
  },
  {
   "cell_type": "code",
   "execution_count": null,
   "metadata": {},
   "outputs": [],
   "source": []
  },
  {
   "cell_type": "markdown",
   "metadata": {},
   "source": [
    "## TODO Performance score\n",
    "- select particular $n$ of n weighting\n",
    "- for each k get f1/AUC of the selected (n weighting)\n",
    "- aggregate "
   ]
  },
  {
   "cell_type": "code",
   "execution_count": null,
   "metadata": {},
   "outputs": [],
   "source": []
  },
  {
   "cell_type": "code",
   "execution_count": null,
   "metadata": {},
   "outputs": [],
   "source": []
  },
  {
   "cell_type": "code",
   "execution_count": null,
   "metadata": {},
   "outputs": [],
   "source": []
  },
  {
   "cell_type": "code",
   "execution_count": null,
   "metadata": {},
   "outputs": [],
   "source": []
  },
  {
   "cell_type": "code",
   "execution_count": null,
   "metadata": {},
   "outputs": [],
   "source": []
  },
  {
   "cell_type": "code",
   "execution_count": null,
   "metadata": {},
   "outputs": [],
   "source": []
  },
  {
   "cell_type": "code",
   "execution_count": null,
   "metadata": {},
   "outputs": [],
   "source": []
  },
  {
   "cell_type": "code",
   "execution_count": null,
   "metadata": {},
   "outputs": [],
   "source": []
  },
  {
   "cell_type": "code",
   "execution_count": null,
   "metadata": {},
   "outputs": [],
   "source": []
  },
  {
   "cell_type": "code",
   "execution_count": null,
   "metadata": {},
   "outputs": [],
   "source": []
  },
  {
   "cell_type": "code",
   "execution_count": null,
   "metadata": {},
   "outputs": [],
   "source": []
  },
  {
   "cell_type": "code",
   "execution_count": null,
   "metadata": {},
   "outputs": [],
   "source": []
  },
  {
   "cell_type": "code",
   "execution_count": null,
   "metadata": {},
   "outputs": [],
   "source": []
  },
  {
   "cell_type": "code",
   "execution_count": null,
   "metadata": {},
   "outputs": [],
   "source": []
  },
  {
   "cell_type": "code",
   "execution_count": null,
   "metadata": {},
   "outputs": [],
   "source": []
  },
  {
   "cell_type": "code",
   "execution_count": null,
   "metadata": {},
   "outputs": [],
   "source": []
  },
  {
   "cell_type": "code",
   "execution_count": null,
   "metadata": {},
   "outputs": [],
   "source": []
  },
  {
   "cell_type": "code",
   "execution_count": null,
   "metadata": {},
   "outputs": [],
   "source": []
  },
  {
   "cell_type": "code",
   "execution_count": null,
   "metadata": {},
   "outputs": [],
   "source": []
  }
 ],
 "metadata": {
  "kernelspec": {
   "display_name": "Python 3",
   "language": "python",
   "name": "python3"
  },
  "language_info": {
   "codemirror_mode": {
    "name": "ipython",
    "version": 3
   },
   "file_extension": ".py",
   "mimetype": "text/x-python",
   "name": "python",
   "nbconvert_exporter": "python",
   "pygments_lexer": "ipython3",
   "version": "3.8.10"
  }
 },
 "nbformat": 4,
 "nbformat_minor": 4
}
