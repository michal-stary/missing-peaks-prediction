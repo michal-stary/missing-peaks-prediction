{
 "cells": [
  {
   "cell_type": "code",
   "execution_count": 2,
   "metadata": {},
   "outputs": [],
   "source": [
    "# Compare two matchms tables"
   ]
  },
  {
   "cell_type": "code",
   "execution_count": 3,
   "metadata": {},
   "outputs": [],
   "source": [
    "from prediction_utils import get_galaxy_filename\n",
    "import numpy as np\n",
    "import pandas as pd\n",
    "from matplotlib_venn import venn2\n",
    "import matplotlib.pyplot as plt"
   ]
  },
  {
   "cell_type": "code",
   "execution_count": 4,
   "metadata": {},
   "outputs": [],
   "source": [
    "from prediction_utils import get_galaxy_filename\n",
    "\n",
    "fres1 = get_galaxy_filename('4_matchms output formatter', '../data', None)\n",
    "fres2 = get_galaxy_filename('2_matchms output formatter', '../data', None)\n",
    "\n",
    "fref = get_galaxy_filename('KC_Confirmed', '../data', None)\n",
    "\n",
    "\n",
    "# reference_lib = \"../data/1_rcx_gc-orbitrap_metabolites_20210817.msp.msp\"\n",
    "# concs = [\"all\"]\n",
    "# # if the predictions were generated in this galaxy session set to True\n",
    "# is_fresh = False\n",
    "# suffix = \"\" if is_fresh else \".txt\"\n",
    "\n",
    "\n",
    "%load_ext autoreload\n",
    "%autoreload 2"
   ]
  },
  {
   "cell_type": "code",
   "execution_count": 5,
   "metadata": {},
   "outputs": [
    {
     "data": {
      "text/plain": [
       "'../data/4_matchms output formatter _get-thresholded-data_ on data 122 and data 121.tsv'"
      ]
     },
     "execution_count": 5,
     "metadata": {},
     "output_type": "execute_result"
    }
   ],
   "source": [
    "fres1"
   ]
  },
  {
   "cell_type": "code",
   "execution_count": 6,
   "metadata": {},
   "outputs": [],
   "source": [
    "ref = pd.read_csv(fref)\n",
    "res1 = pd.read_csv(fres1, sep=\"\\t\", index_col=0)\n",
    "res2 = pd.read_csv(fres2, sep=\"\\t\", index_col=0)\n"
   ]
  },
  {
   "cell_type": "code",
   "execution_count": 7,
   "metadata": {},
   "outputs": [],
   "source": [
    "ground = set(ref[\"Metabolite name\"])\n",
    "# orig = set(res1.reference) \n",
    "# new = set(res2.reference) "
   ]
  },
  {
   "cell_type": "code",
   "execution_count": 8,
   "metadata": {},
   "outputs": [
    {
     "data": {
      "text/plain": [
       "{'2-Methylmalonic acid_2TMS',\n",
       " 'Acetylgalactosamine_4TMS',\n",
       " 'Acetylgalactosamine_5TMS isomer 1',\n",
       " 'Acetylgalactosamine_5TMS isomer 2',\n",
       " 'Acetylglucosamine_5TMS isomer 1',\n",
       " 'Allose_5TMS isomer 1',\n",
       " 'Allose_5TMS isomer 2',\n",
       " 'Arabitol_5TMS',\n",
       " 'Arginine_3TMS',\n",
       " 'Asparagine_2TMS',\n",
       " 'Asparagine_3TMS',\n",
       " 'Asparagine_4TMS isomer 1',\n",
       " 'Asparagine_4TMS isomer 2',\n",
       " 'Aspartic acid_3TMS isomer',\n",
       " 'Citric acid_4TMS',\n",
       " 'Creatinine_3TMS',\n",
       " 'D27-Myristic acid_TMS spectra 1',\n",
       " 'D4-Succinic acid_2TMS spectra 1',\n",
       " 'Fructose_5TMS isomer 1',\n",
       " 'Fructose_5TMS isomer 2',\n",
       " 'Fumaric acid_2TMS',\n",
       " 'Glucose_5TMS isomer 1',\n",
       " 'Glucuro-3,6-lactone_3TMS isomer 2',\n",
       " 'Glutamic acid_3TMS spectra 2',\n",
       " 'Glycine_3TMS',\n",
       " 'Guanine_3TMS',\n",
       " 'Histidine_3TMS',\n",
       " 'Histidine_4TMS',\n",
       " 'Hypoxanthine_2TMS',\n",
       " 'Isoleucine_2TMS',\n",
       " 'Itaconic acid_2TMS',\n",
       " 'Leucine_2TMS',\n",
       " 'Lysine_3TMS',\n",
       " 'Lysine_4TMS',\n",
       " 'Malic acid_3TMS',\n",
       " 'Maltotriose_11TMS isomer 1',\n",
       " 'Maltotriose_11TMS isomer 2',\n",
       " 'Mannitol_6TMS',\n",
       " 'Mannose_5TMS isomer 1',\n",
       " 'Mannose_5TMS isomer 2',\n",
       " 'Methionine_2TMS',\n",
       " 'Myo-inositol_6TMS',\n",
       " 'Orotic acid_3TMS',\n",
       " 'Palmitic acid_1TMS',\n",
       " 'Phenylalanine_2TMS',\n",
       " 'Proline_2TMS',\n",
       " 'Pyroglutamic acid_2TMS',\n",
       " 'Ribitol_5TMS',\n",
       " 'Ribose_4TMS',\n",
       " 'Serine_3TMS',\n",
       " 'Serine_4TMS',\n",
       " 'Sorbitol_6TMS',\n",
       " 'Spermidine_5TMS',\n",
       " 'Spermine_6TMS',\n",
       " 'Stearic acid_1TMS',\n",
       " 'Taurine_3TMS',\n",
       " 'Threonic acid_4TMS',\n",
       " 'Threonine_3TMS spectra 1',\n",
       " 'Threonine_3TMS spectra 2',\n",
       " 'Tryptophan_3TMS',\n",
       " 'Tyrosine_3TMS',\n",
       " 'gamma-Aminobutyric acid_3TMS',\n",
       " 'trans-Aconitic acid_3TMS'}"
      ]
     },
     "execution_count": 8,
     "metadata": {},
     "output_type": "execute_result"
    }
   ],
   "source": [
    "ground"
   ]
  },
  {
   "cell_type": "code",
   "execution_count": null,
   "metadata": {},
   "outputs": [],
   "source": []
  },
  {
   "cell_type": "code",
   "execution_count": 32,
   "metadata": {},
   "outputs": [],
   "source": [
    "th_m = 2\n",
    "th_s = 0.1"
   ]
  },
  {
   "cell_type": "code",
   "execution_count": 33,
   "metadata": {},
   "outputs": [
    {
     "data": {
      "text/plain": [
       "query\n",
       "C02    2-Methoxybenzoic acid_1TMS\n",
       "C02      6-Aminocaproic acid_3TMS\n",
       "C02             Acetyllysine_3TMS\n",
       "C02             Acetyllysine_4TMS\n",
       "C02                 Dopamine_4TMS\n",
       "                  ...            \n",
       "C59          beta-Sitosterol_1TMS\n",
       "C63            Phenylalanine_2TMS\n",
       "C64                Allantoin_4TMS\n",
       "C64            Gluconic acid_6TMS\n",
       "C68            Palmitic acid_1TMS\n",
       "Name: reference, Length: 210, dtype: object"
      ]
     },
     "execution_count": 33,
     "metadata": {},
     "output_type": "execute_result"
    },
    {
     "data": {
      "image/png": "[encoded data removed]",
      "text/plain": [
       "<Figure size 432x288 with 1 Axes>"
      ]
     },
     "metadata": {},
     "output_type": "display_data"
    }
   ],
   "source": [
    "orig = res1[((res1.matches > th_m) & (res1.score > th_s))].reference\n",
    "venn2((set(orig), ground))\n",
    "orig"
   ]
  },
  {
   "cell_type": "code",
   "execution_count": 34,
   "metadata": {},
   "outputs": [
    {
     "data": {
      "text/plain": [
       "query\n",
       "C001                     Citric acid_4TMS\n",
       "C001                  Isocitric acid_4TMS\n",
       "C002             Acetylaspartic acid_3TMS\n",
       "C010             Acetylgalactosamine_4TMS\n",
       "C010    Acetylgalactosamine_5TMS isomer 1\n",
       "                      ...                \n",
       "C378            7-Dehydrocholesterol_1TMS\n",
       "C378                   Ergocalciferol_TMS\n",
       "C378                      Ergosterol_1TMS\n",
       "C378                    Pregnenolone_1TMS\n",
       "C378                    Stigmasterol_1TMS\n",
       "Name: reference, Length: 80, dtype: object"
      ]
     },
     "execution_count": 34,
     "metadata": {},
     "output_type": "execute_result"
    },
    {
     "data": {
      "image/png": "[encoded data removed]",
      "text/plain": [
       "<Figure size 432x288 with 1 Axes>"
      ]
     },
     "metadata": {},
     "output_type": "display_data"
    }
   ],
   "source": [
    "new = res2[((res2.matches > th_m) & (res2.score > th_s))].reference\n",
    "venn2((set(new), ground))\n",
    "new"
   ]
  },
  {
   "cell_type": "code",
   "execution_count": 28,
   "metadata": {},
   "outputs": [],
   "source": [
    "orig = np.zeros(shape=(20, 10))\n",
    "new = orig.copy()\n",
    "for i, n_m in enumerate(range(1,21)):\n",
    "    for j, n_s in enumerate(np.arange(0,1,0.1)):\n",
    "        for res, grid in zip([res1, res2], [orig, new]):\n",
    "            p = set(res[((res.matches > n_m) & (res.score > n_s))].reference)\n",
    "            \n",
    "            TP = len(p.intersection(ground))\n",
    "            FP = len(p.difference(ground))\n",
    "            FN = len(ground.difference(p))\n",
    "\n",
    "\n",
    "            grid[i,j] = TP/(TP + 0.5*(FN+FP)) if (TP + 0.5*(FN+FP)) != 0 else 0\n",
    "        "
   ]
  },
  {
   "cell_type": "code",
   "execution_count": 29,
   "metadata": {},
   "outputs": [
    {
     "data": {
      "text/plain": [
       "<matplotlib.colorbar.Colorbar at 0x7fcbc82d0d30>"
      ]
     },
     "execution_count": 29,
     "metadata": {},
     "output_type": "execute_result"
    },
    {
     "data": {
      "image/png": "[encoded data removed]",
      "text/plain": [
       "<Figure size 432x288 with 2 Axes>"
      ]
     },
     "metadata": {
      "needs_background": "light"
     },
     "output_type": "display_data"
    }
   ],
   "source": [
    "c = plt.contour(new, cmap='RdGy')\n",
    "plt.clabel(c, inline=True, fontsize=8)\n",
    "\n",
    "plt.colorbar()"
   ]
  },
  {
   "cell_type": "code",
   "execution_count": 30,
   "metadata": {},
   "outputs": [
    {
     "data": {
      "text/plain": [
       "<matplotlib.colorbar.Colorbar at 0x7fcbc8220898>"
      ]
     },
     "execution_count": 30,
     "metadata": {},
     "output_type": "execute_result"
    },
    {
     "data": {
      "image/png": "[encoded data removed]",
      "text/plain": [
       "<Figure size 432x288 with 2 Axes>"
      ]
     },
     "metadata": {
      "needs_background": "light"
     },
     "output_type": "display_data"
    }
   ],
   "source": [
    "c = plt.contour(orig, cmap='RdGy')\n",
    "plt.clabel(c, inline=True, fontsize=8)\n",
    "\n",
    "plt.colorbar()\n"
   ]
  },
  {
   "cell_type": "code",
   "execution_count": 31,
   "metadata": {},
   "outputs": [
    {
     "data": {
      "text/plain": [
       "8.539975428716255"
      ]
     },
     "execution_count": 31,
     "metadata": {},
     "output_type": "execute_result"
    }
   ],
   "source": [
    "new.sum()"
   ]
  },
  {
   "cell_type": "code",
   "execution_count": 16,
   "metadata": {},
   "outputs": [
    {
     "data": {
      "text/plain": [
       "37.630986297918795"
      ]
     },
     "execution_count": 16,
     "metadata": {},
     "output_type": "execute_result"
    }
   ],
   "source": [
    "orig.sum()"
   ]
  },
  {
   "cell_type": "code",
   "execution_count": 17,
   "metadata": {},
   "outputs": [],
   "source": [
    "th_m, th_s = 0, 0\n",
    "orig = res1[((res1.matches > th_m) & (res1.score > th_s))].reference\n",
    "new = res2[((res2.matches > th_m) & (res2.score > th_s))].reference\n"
   ]
  },
  {
   "cell_type": "code",
   "execution_count": 18,
   "metadata": {},
   "outputs": [
    {
     "data": {
      "text/plain": [
       "set()"
      ]
     },
     "execution_count": 18,
     "metadata": {},
     "output_type": "execute_result"
    }
   ],
   "source": [
    "set(orig) -set(new)"
   ]
  },
  {
   "cell_type": "code",
   "execution_count": 19,
   "metadata": {},
   "outputs": [
    {
     "data": {
      "text/plain": [
       "{'Orotic acid_3TMS', 'Thymine_2TMS'}"
      ]
     },
     "execution_count": 19,
     "metadata": {},
     "output_type": "execute_result"
    }
   ],
   "source": [
    "set(new) -set(orig)"
   ]
  },
  {
   "cell_type": "code",
   "execution_count": 20,
   "metadata": {},
   "outputs": [
    {
     "data": {
      "text/plain": [
       "{'1-Octadecanol_1TMS',\n",
       " '2,3-Dihydroxybenzoic acid_3TMS',\n",
       " '2-Deoxyglucose_4TMS',\n",
       " '2-Methoxybenzoic acid_1TMS',\n",
       " '2-Oxoadipic acid_2TMS isomer 1',\n",
       " '2-Oxoadipic acid_2TMS isomer 2',\n",
       " '3,4-Dihydroxybenzeneacetic acid_3TMS',\n",
       " '3-Chlorotyrosine_3TMS',\n",
       " '3-Indolepropionic acid',\n",
       " '3-Indolepropionic acid_1TMS',\n",
       " '3-Methylglutaric acid_2TMS',\n",
       " '4-Hydroxy-3methoxyphenylacetic acid_2TMS',\n",
       " '4-Methoxymandelic acid_2TMS',\n",
       " '5-Hydroxyindole-3-acetic acid_3TMS',\n",
       " '5-Methylcytidine_4TMS isomer 1',\n",
       " '5-Methylcytidine_4TMS isomer 2',\n",
       " '6-Aminocaproic acid_2TMS',\n",
       " '6-Aminocaproic acid_3TMS',\n",
       " '7-Dehydrocholesterol_1TMS',\n",
       " 'Acetylalanine_1TMS',\n",
       " 'Acetylalanine_2TMS',\n",
       " 'Acetylaspartic acid_2TMS',\n",
       " 'Acetylaspartic acid_3TMS',\n",
       " 'Acetylglucosamine_5TMS isomer 2',\n",
       " 'Acetylglutamic acid_2TMS',\n",
       " 'Acetylglutamic acid_3TMS',\n",
       " 'Acetylglutamine_2TMS',\n",
       " 'Acetylglutamine_3TMS',\n",
       " 'Acetylglutamine_4TMS',\n",
       " 'Acetylleucine_1TMS',\n",
       " 'Acetylleucine_2TMS',\n",
       " 'Acetyllysine_3TMS',\n",
       " 'Acetyllysine_4TMS',\n",
       " 'Acetylmethionine_1TMS',\n",
       " 'Acetylmethionine_2TMS',\n",
       " 'Acetylphenylalanine_1TMS',\n",
       " 'Acetylproline_1TMS',\n",
       " 'Acetylserine_2TMS',\n",
       " 'Acetylserotonin_2TMS isomer 1',\n",
       " 'Acetylserotonin_2TMS isomer 2',\n",
       " 'Acetylserotonin_3TMS',\n",
       " 'Acetylserotonin_TMS derivative',\n",
       " 'Acetyltryptophan_2TMS isomer 1',\n",
       " 'Acetyltryptophan_2TMS isomer 2',\n",
       " 'Acetyltryptophan_3TMS',\n",
       " 'Acetyltyrosine_2TMS',\n",
       " 'Acetyltyrosine_3TMS',\n",
       " 'Adenine_2TMS',\n",
       " 'Adenine_3TMS',\n",
       " 'Adenosine_4TMS',\n",
       " 'Adenosine_5TMS',\n",
       " 'Alanine_2TMS',\n",
       " 'Alanine_3TMS',\n",
       " 'Allantoin_3TMS',\n",
       " 'Allantoin_4TMS',\n",
       " 'Allantoin_5TMS',\n",
       " 'Ascorbic acid_4TMS',\n",
       " 'Aspartic acid_2TMS',\n",
       " 'Aspartic acid_4TMS',\n",
       " 'Azelaic acid_2TMS',\n",
       " 'Caffeine',\n",
       " 'Cholestanol_1TMS',\n",
       " 'Cholestatrienol_1TMS',\n",
       " 'Cholestenone',\n",
       " 'Citraconic acid_2TMS',\n",
       " 'Cotinine',\n",
       " 'Cysteine_3TMS',\n",
       " 'Cysteine_4TMS',\n",
       " 'Cystine_4TMS',\n",
       " 'Cytidine_4TMS',\n",
       " 'Cytidine_5TMS',\n",
       " 'Cytosine_2TMS',\n",
       " 'Cytosine_3TMS',\n",
       " 'Dehydrocholesterol_1TMS',\n",
       " 'Dehydroergosterol_1TMS',\n",
       " 'Dehydroestradiol_2TMS',\n",
       " 'Deoxycholic acid_3TMS',\n",
       " 'Dopamine_3TMS',\n",
       " 'Dopamine_4TMS',\n",
       " 'Epinepherine_4TMS',\n",
       " 'Ergocalciferol_TMS',\n",
       " 'Ergosterol_1TMS',\n",
       " 'Estradiol_2TMS',\n",
       " 'Estrone_1TMS',\n",
       " 'Ferulic acid_2TMS',\n",
       " 'Galactitol_6TMS',\n",
       " 'Galactose_5TMS isomer 1',\n",
       " 'Galactose_5TMS isomer 2',\n",
       " 'Gallic acid_4TMS',\n",
       " 'Gluconic acid-1,4-lactone',\n",
       " 'Gluconic acid-1,5-lactone',\n",
       " 'Gluconic acid_6TMS',\n",
       " 'Gluconolactone',\n",
       " 'Glucose-6-phosphate_6TMS isomer 1',\n",
       " 'Glucose-6-phosphate_6TMS isomer 2',\n",
       " 'Glucose_5TMS isomer 2',\n",
       " 'Glucuro-3,6-lactone_3TMS isomer 1',\n",
       " 'Glutamic acid_2TMS',\n",
       " 'Glutamic acid_3TMS spectra 1',\n",
       " 'Glutaric acid_2TMS',\n",
       " 'Glycylleucine_3TMS',\n",
       " 'Glycylleucine_4TMS',\n",
       " 'Glycylvaline_4TMS',\n",
       " 'Guanine_4TMS',\n",
       " 'Guanosine_5TMS',\n",
       " 'Hippuric acid_1TMS',\n",
       " 'Hippuric acid_2TMS',\n",
       " 'Homocitrulline_4TMS',\n",
       " 'Homocysteine_3TMS',\n",
       " 'Homocysteine_4TMS',\n",
       " 'Homogentisic acid_3TMS',\n",
       " 'Homoserine_3TMS',\n",
       " 'Homoserine_4TMS',\n",
       " 'Homoveratric_acid_1TMS',\n",
       " 'Hydroxyproline_3TMS',\n",
       " 'Hypotaurine_3TMS',\n",
       " 'Indole-2-carboxylic acid_1TMS',\n",
       " 'Indole-3-acetamide_2TMS',\n",
       " 'Indole-3-acetamide_3TMS',\n",
       " 'Indole-3-acetic acid_1TMS',\n",
       " 'Indole-3-acetic acid_2TMS',\n",
       " 'Indole-3-carboxylic acid_2TMS',\n",
       " 'Inosine_4TMS',\n",
       " 'Isocitric acid_4TMS',\n",
       " 'Kynurenic acid_2TMS',\n",
       " 'Kynurenine_2TMS',\n",
       " 'Kynurenine_3TMS',\n",
       " 'Kynurenine_4TMS',\n",
       " 'Levodopa_4TMS',\n",
       " 'Lithocholic acid_2TMS',\n",
       " 'Maleamic acid_2TMS isomer 1',\n",
       " 'Maleamic acid_2TMS isomer 2',\n",
       " 'Maleamic acid_3TMS',\n",
       " 'Maleic acid_2TMS',\n",
       " 'Maltose_8TMS isomer 1',\n",
       " 'Maltose_8TMS isomer 2',\n",
       " 'Melatonin_1TMS',\n",
       " 'Melatonin_2TMS',\n",
       " 'Methionine sulfoxide_3TMS',\n",
       " 'Methyl palmitate',\n",
       " 'Methyl stearate',\n",
       " 'Methyl-3-indolylacetate_1TMS',\n",
       " 'Methylnicotinamide',\n",
       " 'Methylnicotinamide_1TMS',\n",
       " 'Myristic acid_1TMS',\n",
       " 'Nicotinic acid_1TMS',\n",
       " 'Norleucine_2TMS',\n",
       " 'Norvaline_2TMS',\n",
       " 'Norvaline_3TMS',\n",
       " 'Palmitoleic acid_1TMS',\n",
       " 'Phosphoserine_4TMS',\n",
       " 'Pipecolinic acid_1TMS',\n",
       " 'Pipecolinic acid_2TMS',\n",
       " 'Pregnenolone_1TMS',\n",
       " 'Progesterone',\n",
       " 'Quinolinic aicd_2TMS',\n",
       " 'Salicylic acid_2TMS',\n",
       " 'Sarcosine_2TMS',\n",
       " 'Sebacid acid_2TMS',\n",
       " 'Serotonin_3TMS',\n",
       " 'Serotonin_4TMS',\n",
       " 'Shikimic acid_4TMS',\n",
       " 'Spermidine_4TMS',\n",
       " 'Spermine_derivative',\n",
       " 'Stigmasterol_1TMS',\n",
       " 'Suberic acid_2TMS',\n",
       " 'Succinic acid_1TMS',\n",
       " 'Sucrose_8TMS',\n",
       " 'Syringic acid_2TMS',\n",
       " 'Tetradecanedioic acid_2TMS',\n",
       " 'Theanine_2TMS',\n",
       " 'Theanine_3TMS',\n",
       " 'Theobromine_1TMS',\n",
       " 'Thymine_2TMS',\n",
       " 'Thymol_1TMS',\n",
       " 'Tryptamine_2TMS',\n",
       " 'Tryptamine_3TMS',\n",
       " 'Tryptamine_derivative',\n",
       " 'Tryptophan_2TMS',\n",
       " 'Tryptophan_derivative',\n",
       " 'Tryptophol_1TMS',\n",
       " 'Tryptophol_2TMS',\n",
       " 'Uracil_2TMS',\n",
       " 'Urea_2TMS',\n",
       " 'Urea_3TMS',\n",
       " 'Uric acid_4TMS',\n",
       " 'Uridine_4TMS isomer 1',\n",
       " 'Uridine_4TMS isomer 2',\n",
       " 'Valine_2TMS',\n",
       " 'Vanillic acid_2TMS',\n",
       " 'Xanthine_3TMS',\n",
       " 'Xylose_4TMS',\n",
       " 'alpha-Methylcinammic acid_1TMS',\n",
       " 'alpha-Tocopherol_1TMS',\n",
       " 'beta-Alanine_3TMS',\n",
       " 'beta-Sitosterol_1TMS',\n",
       " 'cis-Caffeic acid_3TMS',\n",
       " 'gamma-Aminobutyric acid_2TMS',\n",
       " 'trans-Caffeic acid_3TMS'}"
      ]
     },
     "execution_count": 20,
     "metadata": {},
     "output_type": "execute_result"
    }
   ],
   "source": [
    "set(new) - ground"
   ]
  },
  {
   "cell_type": "code",
   "execution_count": 21,
   "metadata": {},
   "outputs": [
    {
     "data": {
      "text/plain": [
       "{'1-Octadecanol_1TMS',\n",
       " '2,3-Dihydroxybenzoic acid_3TMS',\n",
       " '2-Deoxyglucose_4TMS',\n",
       " '2-Methoxybenzoic acid_1TMS',\n",
       " '2-Oxoadipic acid_2TMS isomer 1',\n",
       " '2-Oxoadipic acid_2TMS isomer 2',\n",
       " '3,4-Dihydroxybenzeneacetic acid_3TMS',\n",
       " '3-Chlorotyrosine_3TMS',\n",
       " '3-Indolepropionic acid',\n",
       " '3-Indolepropionic acid_1TMS',\n",
       " '3-Methylglutaric acid_2TMS',\n",
       " '4-Hydroxy-3methoxyphenylacetic acid_2TMS',\n",
       " '4-Methoxymandelic acid_2TMS',\n",
       " '5-Hydroxyindole-3-acetic acid_3TMS',\n",
       " '5-Methylcytidine_4TMS isomer 1',\n",
       " '5-Methylcytidine_4TMS isomer 2',\n",
       " '6-Aminocaproic acid_2TMS',\n",
       " '6-Aminocaproic acid_3TMS',\n",
       " '7-Dehydrocholesterol_1TMS',\n",
       " 'Acetylalanine_1TMS',\n",
       " 'Acetylalanine_2TMS',\n",
       " 'Acetylaspartic acid_2TMS',\n",
       " 'Acetylaspartic acid_3TMS',\n",
       " 'Acetylglucosamine_5TMS isomer 2',\n",
       " 'Acetylglutamic acid_2TMS',\n",
       " 'Acetylglutamic acid_3TMS',\n",
       " 'Acetylglutamine_2TMS',\n",
       " 'Acetylglutamine_3TMS',\n",
       " 'Acetylglutamine_4TMS',\n",
       " 'Acetylleucine_1TMS',\n",
       " 'Acetylleucine_2TMS',\n",
       " 'Acetyllysine_3TMS',\n",
       " 'Acetyllysine_4TMS',\n",
       " 'Acetylmethionine_1TMS',\n",
       " 'Acetylmethionine_2TMS',\n",
       " 'Acetylphenylalanine_1TMS',\n",
       " 'Acetylproline_1TMS',\n",
       " 'Acetylserine_2TMS',\n",
       " 'Acetylserotonin_2TMS isomer 1',\n",
       " 'Acetylserotonin_2TMS isomer 2',\n",
       " 'Acetylserotonin_3TMS',\n",
       " 'Acetylserotonin_TMS derivative',\n",
       " 'Acetyltryptophan_2TMS isomer 1',\n",
       " 'Acetyltryptophan_2TMS isomer 2',\n",
       " 'Acetyltryptophan_3TMS',\n",
       " 'Acetyltyrosine_2TMS',\n",
       " 'Acetyltyrosine_3TMS',\n",
       " 'Adenine_2TMS',\n",
       " 'Adenine_3TMS',\n",
       " 'Adenosine_4TMS',\n",
       " 'Adenosine_5TMS',\n",
       " 'Alanine_2TMS',\n",
       " 'Alanine_3TMS',\n",
       " 'Allantoin_3TMS',\n",
       " 'Allantoin_4TMS',\n",
       " 'Allantoin_5TMS',\n",
       " 'Ascorbic acid_4TMS',\n",
       " 'Aspartic acid_2TMS',\n",
       " 'Aspartic acid_4TMS',\n",
       " 'Azelaic acid_2TMS',\n",
       " 'Caffeine',\n",
       " 'Cholestanol_1TMS',\n",
       " 'Cholestatrienol_1TMS',\n",
       " 'Cholestenone',\n",
       " 'Citraconic acid_2TMS',\n",
       " 'Cotinine',\n",
       " 'Cysteine_3TMS',\n",
       " 'Cysteine_4TMS',\n",
       " 'Cystine_4TMS',\n",
       " 'Cytidine_4TMS',\n",
       " 'Cytidine_5TMS',\n",
       " 'Cytosine_2TMS',\n",
       " 'Cytosine_3TMS',\n",
       " 'Dehydrocholesterol_1TMS',\n",
       " 'Dehydroergosterol_1TMS',\n",
       " 'Dehydroestradiol_2TMS',\n",
       " 'Deoxycholic acid_3TMS',\n",
       " 'Dopamine_3TMS',\n",
       " 'Dopamine_4TMS',\n",
       " 'Epinepherine_4TMS',\n",
       " 'Ergocalciferol_TMS',\n",
       " 'Ergosterol_1TMS',\n",
       " 'Estradiol_2TMS',\n",
       " 'Estrone_1TMS',\n",
       " 'Ferulic acid_2TMS',\n",
       " 'Galactitol_6TMS',\n",
       " 'Galactose_5TMS isomer 1',\n",
       " 'Galactose_5TMS isomer 2',\n",
       " 'Gallic acid_4TMS',\n",
       " 'Gluconic acid-1,4-lactone',\n",
       " 'Gluconic acid-1,5-lactone',\n",
       " 'Gluconic acid_6TMS',\n",
       " 'Gluconolactone',\n",
       " 'Glucose-6-phosphate_6TMS isomer 1',\n",
       " 'Glucose-6-phosphate_6TMS isomer 2',\n",
       " 'Glucose_5TMS isomer 2',\n",
       " 'Glucuro-3,6-lactone_3TMS isomer 1',\n",
       " 'Glutamic acid_2TMS',\n",
       " 'Glutamic acid_3TMS spectra 1',\n",
       " 'Glutaric acid_2TMS',\n",
       " 'Glycylleucine_3TMS',\n",
       " 'Glycylleucine_4TMS',\n",
       " 'Glycylvaline_4TMS',\n",
       " 'Guanine_4TMS',\n",
       " 'Guanosine_5TMS',\n",
       " 'Hippuric acid_1TMS',\n",
       " 'Hippuric acid_2TMS',\n",
       " 'Homocitrulline_4TMS',\n",
       " 'Homocysteine_3TMS',\n",
       " 'Homocysteine_4TMS',\n",
       " 'Homogentisic acid_3TMS',\n",
       " 'Homoserine_3TMS',\n",
       " 'Homoserine_4TMS',\n",
       " 'Homoveratric_acid_1TMS',\n",
       " 'Hydroxyproline_3TMS',\n",
       " 'Hypotaurine_3TMS',\n",
       " 'Indole-2-carboxylic acid_1TMS',\n",
       " 'Indole-3-acetamide_2TMS',\n",
       " 'Indole-3-acetamide_3TMS',\n",
       " 'Indole-3-acetic acid_1TMS',\n",
       " 'Indole-3-acetic acid_2TMS',\n",
       " 'Indole-3-carboxylic acid_2TMS',\n",
       " 'Inosine_4TMS',\n",
       " 'Isocitric acid_4TMS',\n",
       " 'Kynurenic acid_2TMS',\n",
       " 'Kynurenine_2TMS',\n",
       " 'Kynurenine_3TMS',\n",
       " 'Kynurenine_4TMS',\n",
       " 'Levodopa_4TMS',\n",
       " 'Lithocholic acid_2TMS',\n",
       " 'Maleamic acid_2TMS isomer 1',\n",
       " 'Maleamic acid_2TMS isomer 2',\n",
       " 'Maleamic acid_3TMS',\n",
       " 'Maleic acid_2TMS',\n",
       " 'Maltose_8TMS isomer 1',\n",
       " 'Maltose_8TMS isomer 2',\n",
       " 'Melatonin_1TMS',\n",
       " 'Melatonin_2TMS',\n",
       " 'Methionine sulfoxide_3TMS',\n",
       " 'Methyl palmitate',\n",
       " 'Methyl stearate',\n",
       " 'Methyl-3-indolylacetate_1TMS',\n",
       " 'Methylnicotinamide',\n",
       " 'Methylnicotinamide_1TMS',\n",
       " 'Myristic acid_1TMS',\n",
       " 'Nicotinic acid_1TMS',\n",
       " 'Norleucine_2TMS',\n",
       " 'Norvaline_2TMS',\n",
       " 'Norvaline_3TMS',\n",
       " 'Palmitoleic acid_1TMS',\n",
       " 'Phosphoserine_4TMS',\n",
       " 'Pipecolinic acid_1TMS',\n",
       " 'Pipecolinic acid_2TMS',\n",
       " 'Pregnenolone_1TMS',\n",
       " 'Progesterone',\n",
       " 'Quinolinic aicd_2TMS',\n",
       " 'Salicylic acid_2TMS',\n",
       " 'Sarcosine_2TMS',\n",
       " 'Sebacid acid_2TMS',\n",
       " 'Serotonin_3TMS',\n",
       " 'Serotonin_4TMS',\n",
       " 'Shikimic acid_4TMS',\n",
       " 'Spermidine_4TMS',\n",
       " 'Spermine_derivative',\n",
       " 'Stigmasterol_1TMS',\n",
       " 'Suberic acid_2TMS',\n",
       " 'Succinic acid_1TMS',\n",
       " 'Sucrose_8TMS',\n",
       " 'Syringic acid_2TMS',\n",
       " 'Tetradecanedioic acid_2TMS',\n",
       " 'Theanine_2TMS',\n",
       " 'Theanine_3TMS',\n",
       " 'Theobromine_1TMS',\n",
       " 'Thymol_1TMS',\n",
       " 'Tryptamine_2TMS',\n",
       " 'Tryptamine_3TMS',\n",
       " 'Tryptamine_derivative',\n",
       " 'Tryptophan_2TMS',\n",
       " 'Tryptophan_derivative',\n",
       " 'Tryptophol_1TMS',\n",
       " 'Tryptophol_2TMS',\n",
       " 'Uracil_2TMS',\n",
       " 'Urea_2TMS',\n",
       " 'Urea_3TMS',\n",
       " 'Uric acid_4TMS',\n",
       " 'Uridine_4TMS isomer 1',\n",
       " 'Uridine_4TMS isomer 2',\n",
       " 'Valine_2TMS',\n",
       " 'Vanillic acid_2TMS',\n",
       " 'Xanthine_3TMS',\n",
       " 'Xylose_4TMS',\n",
       " 'alpha-Methylcinammic acid_1TMS',\n",
       " 'alpha-Tocopherol_1TMS',\n",
       " 'beta-Alanine_3TMS',\n",
       " 'beta-Sitosterol_1TMS',\n",
       " 'cis-Caffeic acid_3TMS',\n",
       " 'gamma-Aminobutyric acid_2TMS',\n",
       " 'trans-Caffeic acid_3TMS'}"
      ]
     },
     "execution_count": 21,
     "metadata": {},
     "output_type": "execute_result"
    }
   ],
   "source": [
    "set(orig) - ground"
   ]
  },
  {
   "cell_type": "code",
   "execution_count": null,
   "metadata": {},
   "outputs": [],
   "source": []
  },
  {
   "cell_type": "code",
   "execution_count": null,
   "metadata": {},
   "outputs": [],
   "source": []
  }
 ],
 "metadata": {
  "kernelspec": {
   "display_name": "Python 3",
   "language": "python",
   "name": "python3"
  },
  "language_info": {
   "codemirror_mode": {
    "name": "ipython",
    "version": 3
   },
   "file_extension": ".py",
   "mimetype": "text/x-python",
   "name": "python",
   "nbconvert_exporter": "python",
   "pygments_lexer": "ipython3",
   "version": "3.7.3"
  }
 },
 "nbformat": 4,
 "nbformat_minor": 4
}
