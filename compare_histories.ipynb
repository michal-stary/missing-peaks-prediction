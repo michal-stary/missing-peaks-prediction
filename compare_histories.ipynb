{
 "cells": [
  {
   "cell_type": "code",
   "execution_count": 1183,
   "metadata": {},
   "outputs": [],
   "source": [
    "# Compare two matchms tables"
   ]
  },
  {
   "cell_type": "code",
   "execution_count": 1184,
   "metadata": {},
   "outputs": [],
   "source": [
    "from prediction_utils import get_galaxy_filename\n",
    "import numpy as np\n",
    "import pandas as pd\n",
    "from matplotlib_venn import venn2 as venn2_\n",
    "import matplotlib.pyplot as plt\n",
    "\n",
    "\n",
    "def venn2(*args,):\n",
    "    v = venn2_(*args, set_labels = ('Predicted', 'Ground'))\n",
    "    v.get_patch_by_id('100').set_color('red')\n",
    "    v.get_patch_by_id('010').set_color('orange')\n",
    "    v.get_patch_by_id('110').set_color('green')"
   ]
  },
  {
   "cell_type": "code",
   "execution_count": 1185,
   "metadata": {},
   "outputs": [
    {
     "name": "stdout",
     "output_type": "stream",
     "text": [
      "The autoreload extension is already loaded. To reload it, use:\n",
      "  %reload_ext autoreload\n"
     ]
    }
   ],
   "source": [
    "from prediction_utils import get_galaxy_filename\n",
    "\n",
    "fres1 = get_galaxy_filename('3_matchms output formatter _get-thresholded-data_ on data 122', '../data', None)\n",
    "fres2 = get_galaxy_filename('4_matchms output formatter _get-thresholded-data_ on data 164', 'tmp', None)\n",
    "\n",
    "fref = get_galaxy_filename('KC_Confirmed', '../data', None)\n",
    "\n",
    "\n",
    "# reference_lib = \"../data/1_rcx_gc-orbitrap_metabolites_20210817.msp.msp\"\n",
    "# concs = [\"all\"]\n",
    "# # if the predictions were generated in this galaxy session set to True\n",
    "# is_fresh = False\n",
    "# suffix = \"\" if is_fresh else \".txt\"\n",
    "\n",
    "\n",
    "%load_ext autoreload\n",
    "%autoreload 2"
   ]
  },
  {
   "cell_type": "code",
   "execution_count": 1186,
   "metadata": {},
   "outputs": [
    {
     "data": {
      "text/plain": [
       "'../data/3_matchms output formatter _get-thresholded-data_ on data 122 and data 121.tsv'"
      ]
     },
     "execution_count": 1186,
     "metadata": {},
     "output_type": "execute_result"
    }
   ],
   "source": [
    "fres1"
   ]
  },
  {
   "cell_type": "code",
   "execution_count": 1187,
   "metadata": {},
   "outputs": [],
   "source": [
    "ref = pd.read_csv(fref)\n",
    "res1 = pd.read_csv(fres1, sep=\"\\t\", index_col=0)\n",
    "res2 = pd.read_csv(fres2, sep=\"\\t\", index_col=0)"
   ]
  },
  {
   "cell_type": "code",
   "execution_count": 1188,
   "metadata": {},
   "outputs": [
    {
     "data": {
      "text/plain": [
       "67"
      ]
     },
     "execution_count": 1188,
     "metadata": {},
     "output_type": "execute_result"
    }
   ],
   "source": [
    "len(res1.groupby(\"query\").mean())"
   ]
  },
  {
   "cell_type": "code",
   "execution_count": 1189,
   "metadata": {},
   "outputs": [
    {
     "data": {
      "text/plain": [
       "(2431, 2402)"
      ]
     },
     "execution_count": 1189,
     "metadata": {},
     "output_type": "execute_result"
    }
   ],
   "source": [
    "len(res1), len(res2)"
   ]
  },
  {
   "cell_type": "code",
   "execution_count": 1190,
   "metadata": {},
   "outputs": [],
   "source": [
    "ground = set(ref[\"Metabolite name\"])\n",
    "# orig = set(res1.reference) \n",
    "# new = set(res2.reference) "
   ]
  },
  {
   "cell_type": "raw",
   "metadata": {},
   "source": [
    "ground"
   ]
  },
  {
   "cell_type": "code",
   "execution_count": 1202,
   "metadata": {},
   "outputs": [],
   "source": [
    "# only set \n",
    "orig = res1[((res1.matches > th_m) & (res1.score > th_s))].reference\n",
    "\n",
    "\n",
    "# the top compound according to prespecified \"best\" criterion\n",
    "\n",
    "# add helper collumn\n",
    "res1[\"total\"] = res1[\"score\"]#* res1[\"matches\"]\n",
    "res2[\"total\"] =res2[\"score\"] #* res2[\"matches\"]\n",
    "\n",
    "x  = res1[((res1.matches > th_m) & (res1.score > th_s))]\n",
    "x = x.reset_index()\n",
    "\n",
    "x = x.loc[x.groupby('query')['total'].idxmax(), ['query', 'reference', 'total']]\n",
    "orig = x.reference\n",
    "\n",
    "\n",
    "# different perspective - how much of recovered spectra were sucesfully matched?\n",
    "# i sucessful mathcing is if the correct compound is matched in top 3(5) compounds sorted by score now\n",
    "# the linking of detected spectra to annotations is via RT"
   ]
  },
  {
   "cell_type": "code",
   "execution_count": null,
   "metadata": {},
   "outputs": [],
   "source": [
    "    "
   ]
  },
  {
   "cell_type": "code",
   "execution_count": 1244,
   "metadata": {},
   "outputs": [],
   "source": [
    "th_m = 5\n",
    "th_s = 0.3"
   ]
  },
  {
   "cell_type": "code",
   "execution_count": 1245,
   "metadata": {},
   "outputs": [
    {
     "data": {
      "text/html": [
       "<div>\n",
       "<style scoped>\n",
       "    .dataframe tbody tr th:only-of-type {\n",
       "        vertical-align: middle;\n",
       "    }\n",
       "\n",
       "    .dataframe tbody tr th {\n",
       "        vertical-align: top;\n",
       "    }\n",
       "\n",
       "    .dataframe thead th {\n",
       "        text-align: right;\n",
       "    }\n",
       "</style>\n",
       "<table border=\"1\" class=\"dataframe\">\n",
       "  <thead>\n",
       "    <tr style=\"text-align: right;\">\n",
       "      <th></th>\n",
       "      <th>query</th>\n",
       "      <th>reference</th>\n",
       "      <th>total</th>\n",
       "    </tr>\n",
       "  </thead>\n",
       "  <tbody>\n",
       "    <tr>\n",
       "      <th>2</th>\n",
       "      <td>C02</td>\n",
       "      <td>Lysine_4TMS</td>\n",
       "      <td>0.922810</td>\n",
       "    </tr>\n",
       "    <tr>\n",
       "      <th>11</th>\n",
       "      <td>C06</td>\n",
       "      <td>Fructose_5TMS isomer 2</td>\n",
       "      <td>0.876681</td>\n",
       "    </tr>\n",
       "    <tr>\n",
       "      <th>24</th>\n",
       "      <td>C08</td>\n",
       "      <td>Citric acid_4TMS</td>\n",
       "      <td>0.874922</td>\n",
       "    </tr>\n",
       "    <tr>\n",
       "      <th>31</th>\n",
       "      <td>C10</td>\n",
       "      <td>Myo-inositol_6TMS</td>\n",
       "      <td>0.915567</td>\n",
       "    </tr>\n",
       "    <tr>\n",
       "      <th>34</th>\n",
       "      <td>C16</td>\n",
       "      <td>Uridine_4TMS isomer 1</td>\n",
       "      <td>0.602506</td>\n",
       "    </tr>\n",
       "    <tr>\n",
       "      <th>36</th>\n",
       "      <td>C17</td>\n",
       "      <td>Serine_3TMS</td>\n",
       "      <td>0.825573</td>\n",
       "    </tr>\n",
       "    <tr>\n",
       "      <th>37</th>\n",
       "      <td>C26</td>\n",
       "      <td>Threonine_3TMS spectra 1</td>\n",
       "      <td>0.796540</td>\n",
       "    </tr>\n",
       "    <tr>\n",
       "      <th>39</th>\n",
       "      <td>C30</td>\n",
       "      <td>Asparagine_3TMS</td>\n",
       "      <td>0.420921</td>\n",
       "    </tr>\n",
       "    <tr>\n",
       "      <th>40</th>\n",
       "      <td>C40</td>\n",
       "      <td>Stearic acid_1TMS</td>\n",
       "      <td>0.417295</td>\n",
       "    </tr>\n",
       "  </tbody>\n",
       "</table>\n",
       "</div>"
      ],
      "text/plain": [
       "   query                 reference     total\n",
       "2    C02               Lysine_4TMS  0.922810\n",
       "11   C06    Fructose_5TMS isomer 2  0.876681\n",
       "24   C08          Citric acid_4TMS  0.874922\n",
       "31   C10         Myo-inositol_6TMS  0.915567\n",
       "34   C16     Uridine_4TMS isomer 1  0.602506\n",
       "36   C17               Serine_3TMS  0.825573\n",
       "37   C26  Threonine_3TMS spectra 1  0.796540\n",
       "39   C30           Asparagine_3TMS  0.420921\n",
       "40   C40         Stearic acid_1TMS  0.417295"
      ]
     },
     "execution_count": 1245,
     "metadata": {},
     "output_type": "execute_result"
    },
    {
     "data": {
      "image/png": "[encoded data removed]",
      "text/plain": [
       "<Figure size 432x288 with 1 Axes>"
      ]
     },
     "metadata": {},
     "output_type": "display_data"
    }
   ],
   "source": [
    "orig = res1[((res1.matches > th_m) & (res1.score > th_s))].reference\n",
    "# venn2((set(orig), ground))\n",
    "# orig\n",
    "#res1[((res1.matches > th_m) & (res1.score > th_s))].groupby([\"query\", \"reference\"])[\"total\"].max()\n",
    "\n",
    "\n",
    "x  = res1[((res1.matches > th_m) & (res1.score > th_s))]\n",
    "x = x.reset_index()\n",
    "\n",
    "x = x.loc[x.groupby('query')['total'].idxmax(), ['query', 'reference', 'total']]\n",
    "orig = x.reference\n",
    "\n",
    "\n",
    "venn2((set(orig), ground))\n",
    "orig\n",
    "x\n"
   ]
  },
  {
   "cell_type": "code",
   "execution_count": 1246,
   "metadata": {},
   "outputs": [
    {
     "data": {
      "text/plain": [
       "{'Asparagine_3TMS',\n",
       " 'Citric acid_4TMS',\n",
       " 'Fructose_5TMS isomer 2',\n",
       " 'Lysine_4TMS',\n",
       " 'Myo-inositol_6TMS',\n",
       " 'Serine_3TMS',\n",
       " 'Stearic acid_1TMS',\n",
       " 'Threonine_3TMS spectra 1'}"
      ]
     },
     "execution_count": 1246,
     "metadata": {},
     "output_type": "execute_result"
    }
   ],
   "source": [
    "set(orig).intersection(ground)"
   ]
  },
  {
   "cell_type": "code",
   "execution_count": null,
   "metadata": {},
   "outputs": [],
   "source": [
    "\n"
   ]
  },
  {
   "cell_type": "code",
   "execution_count": null,
   "metadata": {},
   "outputs": [],
   "source": []
  },
  {
   "cell_type": "code",
   "execution_count": 1247,
   "metadata": {},
   "outputs": [
    {
     "data": {
      "text/html": [
       "<div>\n",
       "<style scoped>\n",
       "    .dataframe tbody tr th:only-of-type {\n",
       "        vertical-align: middle;\n",
       "    }\n",
       "\n",
       "    .dataframe tbody tr th {\n",
       "        vertical-align: top;\n",
       "    }\n",
       "\n",
       "    .dataframe thead th {\n",
       "        text-align: right;\n",
       "    }\n",
       "</style>\n",
       "<table border=\"1\" class=\"dataframe\">\n",
       "  <thead>\n",
       "    <tr style=\"text-align: right;\">\n",
       "      <th></th>\n",
       "      <th>query</th>\n",
       "      <th>reference</th>\n",
       "      <th>total</th>\n",
       "    </tr>\n",
       "  </thead>\n",
       "  <tbody>\n",
       "    <tr>\n",
       "      <th>3</th>\n",
       "      <td>C01</td>\n",
       "      <td>Lysine_4TMS</td>\n",
       "      <td>0.922265</td>\n",
       "    </tr>\n",
       "    <tr>\n",
       "      <th>12</th>\n",
       "      <td>C05</td>\n",
       "      <td>Fructose_5TMS isomer 2</td>\n",
       "      <td>0.876674</td>\n",
       "    </tr>\n",
       "    <tr>\n",
       "      <th>30</th>\n",
       "      <td>C09</td>\n",
       "      <td>Myo-inositol_6TMS</td>\n",
       "      <td>0.920697</td>\n",
       "    </tr>\n",
       "    <tr>\n",
       "      <th>33</th>\n",
       "      <td>C11</td>\n",
       "      <td>Citric acid_4TMS</td>\n",
       "      <td>0.874217</td>\n",
       "    </tr>\n",
       "    <tr>\n",
       "      <th>35</th>\n",
       "      <td>C18</td>\n",
       "      <td>Uridine_4TMS isomer 1</td>\n",
       "      <td>0.602503</td>\n",
       "    </tr>\n",
       "    <tr>\n",
       "      <th>37</th>\n",
       "      <td>C19</td>\n",
       "      <td>Serine_3TMS</td>\n",
       "      <td>0.825573</td>\n",
       "    </tr>\n",
       "    <tr>\n",
       "      <th>38</th>\n",
       "      <td>C21</td>\n",
       "      <td>Palmitic acid_1TMS</td>\n",
       "      <td>0.524568</td>\n",
       "    </tr>\n",
       "    <tr>\n",
       "      <th>40</th>\n",
       "      <td>C22</td>\n",
       "      <td>Acetylgalactosamine_5TMS isomer 1</td>\n",
       "      <td>0.452095</td>\n",
       "    </tr>\n",
       "    <tr>\n",
       "      <th>44</th>\n",
       "      <td>C27</td>\n",
       "      <td>Threonine_3TMS spectra 1</td>\n",
       "      <td>0.796540</td>\n",
       "    </tr>\n",
       "    <tr>\n",
       "      <th>46</th>\n",
       "      <td>C32</td>\n",
       "      <td>Asparagine_3TMS</td>\n",
       "      <td>0.420921</td>\n",
       "    </tr>\n",
       "    <tr>\n",
       "      <th>47</th>\n",
       "      <td>C41</td>\n",
       "      <td>Stearic acid_1TMS</td>\n",
       "      <td>0.417137</td>\n",
       "    </tr>\n",
       "  </tbody>\n",
       "</table>\n",
       "</div>"
      ],
      "text/plain": [
       "   query                          reference     total\n",
       "3    C01                        Lysine_4TMS  0.922265\n",
       "12   C05             Fructose_5TMS isomer 2  0.876674\n",
       "30   C09                  Myo-inositol_6TMS  0.920697\n",
       "33   C11                   Citric acid_4TMS  0.874217\n",
       "35   C18              Uridine_4TMS isomer 1  0.602503\n",
       "37   C19                        Serine_3TMS  0.825573\n",
       "38   C21                 Palmitic acid_1TMS  0.524568\n",
       "40   C22  Acetylgalactosamine_5TMS isomer 1  0.452095\n",
       "44   C27           Threonine_3TMS spectra 1  0.796540\n",
       "46   C32                    Asparagine_3TMS  0.420921\n",
       "47   C41                  Stearic acid_1TMS  0.417137"
      ]
     },
     "execution_count": 1247,
     "metadata": {},
     "output_type": "execute_result"
    },
    {
     "data": {
      "image/png": "[encoded data removed]",
      "text/plain": [
       "<Figure size 432x288 with 1 Axes>"
      ]
     },
     "metadata": {},
     "output_type": "display_data"
    }
   ],
   "source": [
    "new = res2[((res2.matches > th_m) & (res2.score > th_s))].reference\n",
    "x  = res2[((res2.matches > th_m) & (res2.score > th_s))]\n",
    "x = x.reset_index()\n",
    "\n",
    "x = x.loc[x.groupby('query')['total'].idxmax(), ['query', 'reference', 'total']]\n",
    "new = x.reference\n",
    "\n",
    "\n",
    "venn2((set(new), ground))\n",
    "x"
   ]
  },
  {
   "cell_type": "code",
   "execution_count": 1248,
   "metadata": {},
   "outputs": [
    {
     "data": {
      "text/plain": [
       "{'Acetylgalactosamine_5TMS isomer 1', 'Palmitic acid_1TMS'}"
      ]
     },
     "execution_count": 1248,
     "metadata": {},
     "output_type": "execute_result"
    }
   ],
   "source": [
    "set(new).difference(orig).intersection(ground)"
   ]
  },
  {
   "cell_type": "code",
   "execution_count": 1249,
   "metadata": {},
   "outputs": [
    {
     "data": {
      "text/plain": [
       "{'Acetylgalactosamine_5TMS isomer 1',\n",
       " 'Asparagine_3TMS',\n",
       " 'Citric acid_4TMS',\n",
       " 'Fructose_5TMS isomer 2',\n",
       " 'Lysine_4TMS',\n",
       " 'Myo-inositol_6TMS',\n",
       " 'Palmitic acid_1TMS',\n",
       " 'Serine_3TMS',\n",
       " 'Stearic acid_1TMS',\n",
       " 'Threonine_3TMS spectra 1'}"
      ]
     },
     "execution_count": 1249,
     "metadata": {},
     "output_type": "execute_result"
    }
   ],
   "source": [
    "set(new).intersection(ground)"
   ]
  },
  {
   "cell_type": "code",
   "execution_count": 1250,
   "metadata": {},
   "outputs": [],
   "source": [
    "orig = np.zeros(shape=(20, 20))\n",
    "new = orig.copy()\n",
    "\n",
    "stat_orig = np.ones(63) * (100)\n",
    "stat_new = stat_orig.copy()\n",
    "for i, n_m in enumerate(range(1,21)):\n",
    "    for j, n_s in enumerate(np.arange(0,1,0.05)):\n",
    "        for res, grid, stat in zip([res1, res2], [orig, new], [stat_orig, stat_new]):\n",
    "            p = set(res[((res.matches > n_m) & (res.score > n_s))].reference)\n",
    "            \n",
    "            x  = res[((res.matches > n_m) & (res.score > n_s))]\n",
    "            x = x.reset_index()\n",
    "\n",
    "            x = x.loc[x.groupby('query')['total'].idxmax(), ['query', 'reference', 'total']]\n",
    "            p = set(x.reference)\n",
    "            \n",
    "            TP = len(p.intersection(ground))\n",
    "            FP = len(p.difference(ground))\n",
    "            FN = len(ground.difference(p))\n",
    "            stat[TP] = min(FP, stat[TP])\n",
    "            grid[i,j] = TP/(TP + 0.5*(FN+FP)) if (TP + 0.5*(FN+FP)) != 0 else 0\n",
    "stat_orig[stat_orig == 100] = np.nan\n",
    "stat_new[stat_new == 100] = np.nan"
   ]
  },
  {
   "cell_type": "code",
   "execution_count": 1251,
   "metadata": {},
   "outputs": [
    {
     "data": {
      "text/plain": [
       "<matplotlib.collections.PathCollection at 0x7f7b42387860>"
      ]
     },
     "execution_count": 1251,
     "metadata": {},
     "output_type": "execute_result"
    },
    {
     "data": {
      "image/png": "[encoded data removed]",
      "text/plain": [
       "<Figure size 432x288 with 1 Axes>"
      ]
     },
     "metadata": {
      "needs_background": "light"
     },
     "output_type": "display_data"
    }
   ],
   "source": [
    "plt.scatter(x=np.arange(63), y=stat_orig, color=\"blue\")\n",
    "plt.scatter(x=np.arange(63), y=stat_new, color = \"red\")"
   ]
  },
  {
   "cell_type": "code",
   "execution_count": 1252,
   "metadata": {},
   "outputs": [
    {
     "data": {
      "text/plain": [
       "<matplotlib.collections.PathCollection at 0x7f7b42400b00>"
      ]
     },
     "execution_count": 1252,
     "metadata": {},
     "output_type": "execute_result"
    },
    {
     "data": {
      "image/png": "[encoded data removed]",
      "text/plain": [
       "<Figure size 432x288 with 1 Axes>"
      ]
     },
     "metadata": {
      "needs_background": "light"
     },
     "output_type": "display_data"
    }
   ],
   "source": [
    "plt.scatter(x=np.arange(63), y=stat_orig, color=\"blue\")\n",
    "plt.scatter(x=np.arange(63), y=stat_new, color = \"red\")"
   ]
  },
  {
   "cell_type": "code",
   "execution_count": 1243,
   "metadata": {},
   "outputs": [
    {
     "data": {
      "text/plain": [
       "array([  0.,   0.,   0.,   0.,   0.,   0.,   0.,   0.,   1.,   0.,   1.,\n",
       "         0.,   1.,  -1.,   0.,   1.,   5.,   2., -10., -10.,  nan,  nan,\n",
       "        nan,  nan,  nan,  nan,  nan,  nan,  nan,  nan,  nan,  nan,  nan,\n",
       "        nan,  nan,  nan,  nan,  nan,  nan,  nan,  nan,  nan,  nan,  nan,\n",
       "        nan,  nan,  nan,  nan,  nan,  nan,  nan,  nan,  nan,  nan,  nan,\n",
       "        nan,  nan,  nan,  nan,  nan,  nan,  nan,  nan])"
      ]
     },
     "execution_count": 1243,
     "metadata": {},
     "output_type": "execute_result"
    }
   ],
   "source": [
    "stat_orig - stat_new"
   ]
  },
  {
   "cell_type": "code",
   "execution_count": 1055,
   "metadata": {},
   "outputs": [
    {
     "data": {
      "text/plain": [
       "<matplotlib.colorbar.Colorbar at 0x7f7b42cc39b0>"
      ]
     },
     "execution_count": 1055,
     "metadata": {},
     "output_type": "execute_result"
    },
    {
     "data": {
      "image/png": "[encoded data removed]",
      "text/plain": [
       "<Figure size 432x288 with 2 Axes>"
      ]
     },
     "metadata": {
      "needs_background": "light"
     },
     "output_type": "display_data"
    }
   ],
   "source": [
    "c = plt.contour(new, cmap='RdGy')\n",
    "plt.clabel(c, inline=True, fontsize=8)\n",
    "\n",
    "plt.colorbar()"
   ]
  },
  {
   "cell_type": "code",
   "execution_count": 1056,
   "metadata": {},
   "outputs": [
    {
     "data": {
      "text/plain": [
       "<matplotlib.colorbar.Colorbar at 0x7f7b433bbe48>"
      ]
     },
     "execution_count": 1056,
     "metadata": {},
     "output_type": "execute_result"
    },
    {
     "data": {
      "image/png": "[encoded data removed]",
      "text/plain": [
       "<Figure size 432x288 with 2 Axes>"
      ]
     },
     "metadata": {
      "needs_background": "light"
     },
     "output_type": "display_data"
    }
   ],
   "source": [
    "c = plt.contour(orig, cmap='RdGy')\n",
    "plt.clabel(c, inline=True, fontsize=8)\n",
    "\n",
    "plt.colorbar()\n"
   ]
  },
  {
   "cell_type": "code",
   "execution_count": 1057,
   "metadata": {},
   "outputs": [
    {
     "data": {
      "text/plain": [
       "37.22375979862147"
      ]
     },
     "execution_count": 1057,
     "metadata": {},
     "output_type": "execute_result"
    }
   ],
   "source": [
    "new.sum()"
   ]
  },
  {
   "cell_type": "code",
   "execution_count": 1058,
   "metadata": {},
   "outputs": [
    {
     "data": {
      "text/plain": [
       "50.495491242887"
      ]
     },
     "execution_count": 1058,
     "metadata": {},
     "output_type": "execute_result"
    }
   ],
   "source": [
    "orig.sum()"
   ]
  },
  {
   "cell_type": "code",
   "execution_count": 1031,
   "metadata": {},
   "outputs": [],
   "source": [
    "th_m, th_s = 5, 0.4\n",
    "orig = res1[((res1.matches > th_m) & (res1.score > th_s))].reference\n",
    "new = res2[((res2.matches > th_m) & (res2.score > th_s))].reference\n"
   ]
  },
  {
   "cell_type": "code",
   "execution_count": 1032,
   "metadata": {},
   "outputs": [
    {
     "data": {
      "text/plain": [
       "{'Asparagine_3TMS',\n",
       " 'Serine_3TMS',\n",
       " 'Stearic acid_1TMS',\n",
       " 'Threonine_3TMS spectra 1',\n",
       " 'Threonine_3TMS spectra 2'}"
      ]
     },
     "execution_count": 1032,
     "metadata": {},
     "output_type": "execute_result"
    }
   ],
   "source": [
    "set(orig) -set(new)"
   ]
  },
  {
   "cell_type": "code",
   "execution_count": 1033,
   "metadata": {},
   "outputs": [
    {
     "data": {
      "text/plain": [
       "{'Glycylvaline_4TMS'}"
      ]
     },
     "execution_count": 1033,
     "metadata": {},
     "output_type": "execute_result"
    }
   ],
   "source": [
    "set(new) -set(orig)"
   ]
  },
  {
   "cell_type": "code",
   "execution_count": 1034,
   "metadata": {},
   "outputs": [
    {
     "data": {
      "text/plain": [
       "{'2-Deoxyglucose_4TMS',\n",
       " 'Acetyllysine_4TMS',\n",
       " 'Galactitol_6TMS',\n",
       " 'Gluconic acid-1,4-lactone',\n",
       " 'Glucuro-3,6-lactone_3TMS isomer 1',\n",
       " 'Glycylvaline_4TMS',\n",
       " 'Isocitric acid_4TMS',\n",
       " 'Spermine_derivative',\n",
       " 'Uridine_4TMS isomer 1',\n",
       " 'Uridine_4TMS isomer 2',\n",
       " 'Xylose_4TMS'}"
      ]
     },
     "execution_count": 1034,
     "metadata": {},
     "output_type": "execute_result"
    }
   ],
   "source": [
    "set(new) - ground"
   ]
  },
  {
   "cell_type": "code",
   "execution_count": 1035,
   "metadata": {},
   "outputs": [
    {
     "data": {
      "text/plain": [
       "{'2-Deoxyglucose_4TMS',\n",
       " 'Acetyllysine_4TMS',\n",
       " 'Galactitol_6TMS',\n",
       " 'Gluconic acid-1,4-lactone',\n",
       " 'Glucuro-3,6-lactone_3TMS isomer 1',\n",
       " 'Isocitric acid_4TMS',\n",
       " 'Spermine_derivative',\n",
       " 'Uridine_4TMS isomer 1',\n",
       " 'Uridine_4TMS isomer 2',\n",
       " 'Xylose_4TMS'}"
      ]
     },
     "execution_count": 1035,
     "metadata": {},
     "output_type": "execute_result"
    }
   ],
   "source": [
    "set(orig) - ground"
   ]
  },
  {
   "cell_type": "code",
   "execution_count": null,
   "metadata": {},
   "outputs": [],
   "source": []
  },
  {
   "cell_type": "code",
   "execution_count": null,
   "metadata": {},
   "outputs": [],
   "source": []
  }
 ],
 "metadata": {
  "kernelspec": {
   "display_name": "Python 3",
   "language": "python",
   "name": "python3"
  },
  "language_info": {
   "codemirror_mode": {
    "name": "ipython",
    "version": 3
   },
   "file_extension": ".py",
   "mimetype": "text/x-python",
   "name": "python",
   "nbconvert_exporter": "python",
   "pygments_lexer": "ipython3",
   "version": "3.7.3"
  }
 },
 "nbformat": 4,
 "nbformat_minor": 4
}
