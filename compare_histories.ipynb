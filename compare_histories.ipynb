{
 "cells": [
  {
   "cell_type": "code",
   "execution_count": 1,
   "metadata": {},
   "outputs": [],
   "source": [
    "# Compare two matchms tables"
   ]
  },
  {
   "cell_type": "code",
   "execution_count": 727,
   "metadata": {},
   "outputs": [],
   "source": [
    "from prediction_utils import get_galaxy_filename\n",
    "import numpy as np\n",
    "import pandas as pd\n",
    "from matplotlib_venn import venn2 as venn2_\n",
    "import matplotlib.pyplot as plt\n",
    "\n",
    "\n",
    "def venn2(*args,):\n",
    "    v = venn2_(*args, set_labels = ('Predicted', 'Ground'))\n",
    "    v.get_patch_by_id('100').set_color('red')\n",
    "    v.get_patch_by_id('010').set_color('orange')\n",
    "    v.get_patch_by_id('110').set_color('green')"
   ]
  },
  {
   "cell_type": "code",
   "execution_count": 790,
   "metadata": {},
   "outputs": [
    {
     "name": "stdout",
     "output_type": "stream",
     "text": [
      "The autoreload extension is already loaded. To reload it, use:\n",
      "  %reload_ext autoreload\n"
     ]
    }
   ],
   "source": [
    "from prediction_utils import get_galaxy_filename\n",
    "\n",
    "fres1 = get_galaxy_filename('3_matchms output formatter', '../data', None)\n",
    "fres2 = get_galaxy_filename('4_matchms output formatter _get-thresholded-data_ on data 142 and data 141', 'tmp', None)\n",
    "\n",
    "fref = get_galaxy_filename('KC_Confirmed', '../data', None)\n",
    "\n",
    "\n",
    "# reference_lib = \"../data/1_rcx_gc-orbitrap_metabolites_20210817.msp.msp\"\n",
    "# concs = [\"all\"]\n",
    "# # if the predictions were generated in this galaxy session set to True\n",
    "# is_fresh = False\n",
    "# suffix = \"\" if is_fresh else \".txt\"\n",
    "\n",
    "\n",
    "%load_ext autoreload\n",
    "%autoreload 2"
   ]
  },
  {
   "cell_type": "code",
   "execution_count": 791,
   "metadata": {},
   "outputs": [
    {
     "data": {
      "text/plain": [
       "'../data/3_matchms output formatter _get-thresholded-data_ on data 122 and data 121.tsv'"
      ]
     },
     "execution_count": 791,
     "metadata": {},
     "output_type": "execute_result"
    }
   ],
   "source": [
    "fres1"
   ]
  },
  {
   "cell_type": "code",
   "execution_count": 792,
   "metadata": {},
   "outputs": [],
   "source": [
    "ref = pd.read_csv(fref)\n",
    "res1 = pd.read_csv(fres1, sep=\"\\t\", index_col=0)\n",
    "res2 = pd.read_csv(fres2, sep=\"\\t\", index_col=0)"
   ]
  },
  {
   "cell_type": "code",
   "execution_count": 909,
   "metadata": {},
   "outputs": [
    {
     "data": {
      "text/plain": [
       "66"
      ]
     },
     "execution_count": 909,
     "metadata": {},
     "output_type": "execute_result"
    }
   ],
   "source": [
    "len(res2.groupby(\"query\").mean())"
   ]
  },
  {
   "cell_type": "code",
   "execution_count": 888,
   "metadata": {},
   "outputs": [],
   "source": []
  },
  {
   "cell_type": "code",
   "execution_count": 889,
   "metadata": {},
   "outputs": [],
   "source": [
    "ground = set(ref[\"Metabolite name\"])\n",
    "# orig = set(res1.reference) \n",
    "# new = set(res2.reference) "
   ]
  },
  {
   "cell_type": "code",
   "execution_count": 890,
   "metadata": {},
   "outputs": [
    {
     "data": {
      "text/plain": [
       "{'2-Methylmalonic acid_2TMS',\n",
       " 'Acetylgalactosamine_4TMS',\n",
       " 'Acetylgalactosamine_5TMS isomer 1',\n",
       " 'Acetylgalactosamine_5TMS isomer 2',\n",
       " 'Acetylglucosamine_5TMS isomer 1',\n",
       " 'Allose_5TMS isomer 1',\n",
       " 'Allose_5TMS isomer 2',\n",
       " 'Arabitol_5TMS',\n",
       " 'Arginine_3TMS',\n",
       " 'Asparagine_2TMS',\n",
       " 'Asparagine_3TMS',\n",
       " 'Asparagine_4TMS isomer 1',\n",
       " 'Asparagine_4TMS isomer 2',\n",
       " 'Aspartic acid_3TMS isomer',\n",
       " 'Citric acid_4TMS',\n",
       " 'Creatinine_3TMS',\n",
       " 'D27-Myristic acid_TMS spectra 1',\n",
       " 'D4-Succinic acid_2TMS spectra 1',\n",
       " 'Fructose_5TMS isomer 1',\n",
       " 'Fructose_5TMS isomer 2',\n",
       " 'Fumaric acid_2TMS',\n",
       " 'Glucose_5TMS isomer 1',\n",
       " 'Glucuro-3,6-lactone_3TMS isomer 2',\n",
       " 'Glutamic acid_3TMS spectra 2',\n",
       " 'Glycine_3TMS',\n",
       " 'Guanine_3TMS',\n",
       " 'Histidine_3TMS',\n",
       " 'Histidine_4TMS',\n",
       " 'Hypoxanthine_2TMS',\n",
       " 'Isoleucine_2TMS',\n",
       " 'Itaconic acid_2TMS',\n",
       " 'Leucine_2TMS',\n",
       " 'Lysine_3TMS',\n",
       " 'Lysine_4TMS',\n",
       " 'Malic acid_3TMS',\n",
       " 'Maltotriose_11TMS isomer 1',\n",
       " 'Maltotriose_11TMS isomer 2',\n",
       " 'Mannitol_6TMS',\n",
       " 'Mannose_5TMS isomer 1',\n",
       " 'Mannose_5TMS isomer 2',\n",
       " 'Methionine_2TMS',\n",
       " 'Myo-inositol_6TMS',\n",
       " 'Orotic acid_3TMS',\n",
       " 'Palmitic acid_1TMS',\n",
       " 'Phenylalanine_2TMS',\n",
       " 'Proline_2TMS',\n",
       " 'Pyroglutamic acid_2TMS',\n",
       " 'Ribitol_5TMS',\n",
       " 'Ribose_4TMS',\n",
       " 'Serine_3TMS',\n",
       " 'Serine_4TMS',\n",
       " 'Sorbitol_6TMS',\n",
       " 'Spermidine_5TMS',\n",
       " 'Spermine_6TMS',\n",
       " 'Stearic acid_1TMS',\n",
       " 'Taurine_3TMS',\n",
       " 'Threonic acid_4TMS',\n",
       " 'Threonine_3TMS spectra 1',\n",
       " 'Threonine_3TMS spectra 2',\n",
       " 'Tryptophan_3TMS',\n",
       " 'Tyrosine_3TMS',\n",
       " 'gamma-Aminobutyric acid_3TMS',\n",
       " 'trans-Aconitic acid_3TMS'}"
      ]
     },
     "execution_count": 890,
     "metadata": {},
     "output_type": "execute_result"
    }
   ],
   "source": [
    "ground"
   ]
  },
  {
   "cell_type": "code",
   "execution_count": null,
   "metadata": {},
   "outputs": [],
   "source": [
    "# only set \n",
    "orig = res1[((res1.matches > th_m) & (res1.score > th_s))].reference\n",
    "\n",
    "\n",
    "# the top compound according to prespecified \"best\" criterion\n",
    "\n",
    "# add helper collumn\n",
    "res1[\"total\"] = res1[\"score\"]# * res1[\"matches\"]\n",
    "res2[\"total\"] =res2[\"score\"] #* res2[\"matches\"]\n",
    "\n",
    "x  = res1[((res1.matches > th_m) & (res1.score > th_s))]\n",
    "x = x.reset_index()\n",
    "\n",
    "x = x.loc[x.groupby('query')['total'].idxmax(), ['query', 'reference', 'total']]\n",
    "orig = x.reference\n",
    "\n",
    "\n",
    "# different perspective - how much of recovered spectra were sucesfully matched?\n",
    "# i sucessful mathcing is if the correct compound is matched in top 3(5) compounds sorted by score now\n",
    "# the linking of detected spectra to annotations is via RT"
   ]
  },
  {
   "cell_type": "code",
   "execution_count": null,
   "metadata": {},
   "outputs": [],
   "source": [
    "    "
   ]
  },
  {
   "cell_type": "code",
   "execution_count": 913,
   "metadata": {},
   "outputs": [],
   "source": [
    "th_m = 2\n",
    "th_s = 0.1"
   ]
  },
  {
   "cell_type": "code",
   "execution_count": 914,
   "metadata": {},
   "outputs": [
    {
     "data": {
      "text/html": [
       "<div>\n",
       "<style scoped>\n",
       "    .dataframe tbody tr th:only-of-type {\n",
       "        vertical-align: middle;\n",
       "    }\n",
       "\n",
       "    .dataframe tbody tr th {\n",
       "        vertical-align: top;\n",
       "    }\n",
       "\n",
       "    .dataframe thead th {\n",
       "        text-align: right;\n",
       "    }\n",
       "</style>\n",
       "<table border=\"1\" class=\"dataframe\">\n",
       "  <thead>\n",
       "    <tr style=\"text-align: right;\">\n",
       "      <th></th>\n",
       "      <th>query</th>\n",
       "      <th>reference</th>\n",
       "      <th>matches</th>\n",
       "      <th>score</th>\n",
       "      <th>total</th>\n",
       "    </tr>\n",
       "  </thead>\n",
       "  <tbody>\n",
       "    <tr>\n",
       "      <th>0</th>\n",
       "      <td>C02</td>\n",
       "      <td>2-Methoxybenzoic acid_1TMS</td>\n",
       "      <td>8</td>\n",
       "      <td>0.270451</td>\n",
       "      <td>0.270451</td>\n",
       "    </tr>\n",
       "    <tr>\n",
       "      <th>1</th>\n",
       "      <td>C02</td>\n",
       "      <td>6-Aminocaproic acid_3TMS</td>\n",
       "      <td>4</td>\n",
       "      <td>0.539939</td>\n",
       "      <td>0.539939</td>\n",
       "    </tr>\n",
       "    <tr>\n",
       "      <th>2</th>\n",
       "      <td>C02</td>\n",
       "      <td>Acetyllysine_3TMS</td>\n",
       "      <td>5</td>\n",
       "      <td>0.578562</td>\n",
       "      <td>0.578562</td>\n",
       "    </tr>\n",
       "    <tr>\n",
       "      <th>3</th>\n",
       "      <td>C02</td>\n",
       "      <td>Acetyllysine_4TMS</td>\n",
       "      <td>12</td>\n",
       "      <td>0.543259</td>\n",
       "      <td>0.543259</td>\n",
       "    </tr>\n",
       "    <tr>\n",
       "      <th>4</th>\n",
       "      <td>C02</td>\n",
       "      <td>Dopamine_4TMS</td>\n",
       "      <td>4</td>\n",
       "      <td>0.544977</td>\n",
       "      <td>0.544977</td>\n",
       "    </tr>\n",
       "    <tr>\n",
       "      <th>...</th>\n",
       "      <td>...</td>\n",
       "      <td>...</td>\n",
       "      <td>...</td>\n",
       "      <td>...</td>\n",
       "      <td>...</td>\n",
       "    </tr>\n",
       "    <tr>\n",
       "      <th>205</th>\n",
       "      <td>C59</td>\n",
       "      <td>beta-Sitosterol_1TMS</td>\n",
       "      <td>3</td>\n",
       "      <td>0.136352</td>\n",
       "      <td>0.136352</td>\n",
       "    </tr>\n",
       "    <tr>\n",
       "      <th>206</th>\n",
       "      <td>C63</td>\n",
       "      <td>Phenylalanine_2TMS</td>\n",
       "      <td>4</td>\n",
       "      <td>0.491230</td>\n",
       "      <td>0.491230</td>\n",
       "    </tr>\n",
       "    <tr>\n",
       "      <th>207</th>\n",
       "      <td>C64</td>\n",
       "      <td>Allantoin_4TMS</td>\n",
       "      <td>3</td>\n",
       "      <td>0.102441</td>\n",
       "      <td>0.102441</td>\n",
       "    </tr>\n",
       "    <tr>\n",
       "      <th>208</th>\n",
       "      <td>C64</td>\n",
       "      <td>Gluconic acid_6TMS</td>\n",
       "      <td>3</td>\n",
       "      <td>0.164708</td>\n",
       "      <td>0.164708</td>\n",
       "    </tr>\n",
       "    <tr>\n",
       "      <th>209</th>\n",
       "      <td>C68</td>\n",
       "      <td>Palmitic acid_1TMS</td>\n",
       "      <td>3</td>\n",
       "      <td>0.471064</td>\n",
       "      <td>0.471064</td>\n",
       "    </tr>\n",
       "  </tbody>\n",
       "</table>\n",
       "<p>210 rows × 5 columns</p>\n",
       "</div>"
      ],
      "text/plain": [
       "    query                   reference  matches     score     total\n",
       "0     C02  2-Methoxybenzoic acid_1TMS        8  0.270451  0.270451\n",
       "1     C02    6-Aminocaproic acid_3TMS        4  0.539939  0.539939\n",
       "2     C02           Acetyllysine_3TMS        5  0.578562  0.578562\n",
       "3     C02           Acetyllysine_4TMS       12  0.543259  0.543259\n",
       "4     C02               Dopamine_4TMS        4  0.544977  0.544977\n",
       "..    ...                         ...      ...       ...       ...\n",
       "205   C59        beta-Sitosterol_1TMS        3  0.136352  0.136352\n",
       "206   C63          Phenylalanine_2TMS        4  0.491230  0.491230\n",
       "207   C64              Allantoin_4TMS        3  0.102441  0.102441\n",
       "208   C64          Gluconic acid_6TMS        3  0.164708  0.164708\n",
       "209   C68          Palmitic acid_1TMS        3  0.471064  0.471064\n",
       "\n",
       "[210 rows x 5 columns]"
      ]
     },
     "execution_count": 914,
     "metadata": {},
     "output_type": "execute_result"
    },
    {
     "data": {
      "image/png": "[encoded data removed]",
      "text/plain": [
       "<Figure size 432x288 with 1 Axes>"
      ]
     },
     "metadata": {},
     "output_type": "display_data"
    }
   ],
   "source": [
    "orig = res1[((res1.matches > th_m) & (res1.score > th_s))].reference\n",
    "# venn2((set(orig), ground))\n",
    "# orig\n",
    "#res1[((res1.matches > th_m) & (res1.score > th_s))].groupby([\"query\", \"reference\"])[\"total\"].max()\n",
    "\n",
    "\n",
    "x  = res1[((res1.matches > th_m) & (res1.score > th_s))]\n",
    "x = x.reset_index()\n",
    "\n",
    "# x = x.loc[x.groupby('query')['total'].idxmax(), ['query', 'reference', 'total']]\n",
    "# orig = x.reference\n",
    "\n",
    "\n",
    "venn2((set(orig), ground))\n",
    "orig\n",
    "x\n"
   ]
  },
  {
   "cell_type": "code",
   "execution_count": 915,
   "metadata": {},
   "outputs": [
    {
     "data": {
      "text/plain": [
       "{'Acetylgalactosamine_4TMS',\n",
       " 'Acetylgalactosamine_5TMS isomer 1',\n",
       " 'Acetylgalactosamine_5TMS isomer 2',\n",
       " 'Acetylglucosamine_5TMS isomer 1',\n",
       " 'Allose_5TMS isomer 1',\n",
       " 'Allose_5TMS isomer 2',\n",
       " 'Arabitol_5TMS',\n",
       " 'Arginine_3TMS',\n",
       " 'Asparagine_3TMS',\n",
       " 'Asparagine_4TMS isomer 2',\n",
       " 'Aspartic acid_3TMS isomer',\n",
       " 'Citric acid_4TMS',\n",
       " 'Creatinine_3TMS',\n",
       " 'Fructose_5TMS isomer 1',\n",
       " 'Fructose_5TMS isomer 2',\n",
       " 'Glucose_5TMS isomer 1',\n",
       " 'Glucuro-3,6-lactone_3TMS isomer 2',\n",
       " 'Glutamic acid_3TMS spectra 2',\n",
       " 'Glycine_3TMS',\n",
       " 'Histidine_3TMS',\n",
       " 'Lysine_3TMS',\n",
       " 'Lysine_4TMS',\n",
       " 'Maltotriose_11TMS isomer 1',\n",
       " 'Maltotriose_11TMS isomer 2',\n",
       " 'Mannitol_6TMS',\n",
       " 'Mannose_5TMS isomer 1',\n",
       " 'Mannose_5TMS isomer 2',\n",
       " 'Myo-inositol_6TMS',\n",
       " 'Palmitic acid_1TMS',\n",
       " 'Phenylalanine_2TMS',\n",
       " 'Ribitol_5TMS',\n",
       " 'Ribose_4TMS',\n",
       " 'Serine_3TMS',\n",
       " 'Sorbitol_6TMS',\n",
       " 'Spermidine_5TMS',\n",
       " 'Spermine_6TMS',\n",
       " 'Stearic acid_1TMS',\n",
       " 'Threonic acid_4TMS',\n",
       " 'Threonine_3TMS spectra 1',\n",
       " 'Threonine_3TMS spectra 2',\n",
       " 'Tyrosine_3TMS',\n",
       " 'gamma-Aminobutyric acid_3TMS',\n",
       " 'trans-Aconitic acid_3TMS'}"
      ]
     },
     "execution_count": 915,
     "metadata": {},
     "output_type": "execute_result"
    }
   ],
   "source": [
    "set(orig).intersection(ground)"
   ]
  },
  {
   "cell_type": "code",
   "execution_count": 894,
   "metadata": {},
   "outputs": [
    {
     "data": {
      "text/plain": [
       "{'Norvaline_2TMS', 'Uridine_4TMS isomer 1'}"
      ]
     },
     "execution_count": 894,
     "metadata": {},
     "output_type": "execute_result"
    }
   ],
   "source": [
    "set(orig).difference(ground)"
   ]
  },
  {
   "cell_type": "code",
   "execution_count": 912,
   "metadata": {},
   "outputs": [
    {
     "data": {
      "text/html": [
       "<div>\n",
       "<style scoped>\n",
       "    .dataframe tbody tr th:only-of-type {\n",
       "        vertical-align: middle;\n",
       "    }\n",
       "\n",
       "    .dataframe tbody tr th {\n",
       "        vertical-align: top;\n",
       "    }\n",
       "\n",
       "    .dataframe thead th {\n",
       "        text-align: right;\n",
       "    }\n",
       "</style>\n",
       "<table border=\"1\" class=\"dataframe\">\n",
       "  <thead>\n",
       "    <tr style=\"text-align: right;\">\n",
       "      <th></th>\n",
       "      <th>query</th>\n",
       "      <th>reference</th>\n",
       "      <th>matches</th>\n",
       "      <th>score</th>\n",
       "      <th>total</th>\n",
       "    </tr>\n",
       "  </thead>\n",
       "  <tbody>\n",
       "    <tr>\n",
       "      <th>0</th>\n",
       "      <td>C01</td>\n",
       "      <td>6-Aminocaproic acid_3TMS</td>\n",
       "      <td>4</td>\n",
       "      <td>0.539212</td>\n",
       "      <td>0.539212</td>\n",
       "    </tr>\n",
       "    <tr>\n",
       "      <th>1</th>\n",
       "      <td>C01</td>\n",
       "      <td>Acetyllysine_3TMS</td>\n",
       "      <td>5</td>\n",
       "      <td>0.577784</td>\n",
       "      <td>0.577784</td>\n",
       "    </tr>\n",
       "    <tr>\n",
       "      <th>2</th>\n",
       "      <td>C01</td>\n",
       "      <td>Acetyllysine_4TMS</td>\n",
       "      <td>12</td>\n",
       "      <td>0.542551</td>\n",
       "      <td>0.542551</td>\n",
       "    </tr>\n",
       "    <tr>\n",
       "      <th>3</th>\n",
       "      <td>C01</td>\n",
       "      <td>Dopamine_4TMS</td>\n",
       "      <td>4</td>\n",
       "      <td>0.544244</td>\n",
       "      <td>0.544244</td>\n",
       "    </tr>\n",
       "    <tr>\n",
       "      <th>4</th>\n",
       "      <td>C01</td>\n",
       "      <td>Glutamic acid_2TMS</td>\n",
       "      <td>5</td>\n",
       "      <td>0.537401</td>\n",
       "      <td>0.537401</td>\n",
       "    </tr>\n",
       "    <tr>\n",
       "      <th>...</th>\n",
       "      <td>...</td>\n",
       "      <td>...</td>\n",
       "      <td>...</td>\n",
       "      <td>...</td>\n",
       "      <td>...</td>\n",
       "    </tr>\n",
       "    <tr>\n",
       "      <th>70</th>\n",
       "      <td>C46</td>\n",
       "      <td>Isoleucine_2TMS</td>\n",
       "      <td>4</td>\n",
       "      <td>0.913326</td>\n",
       "      <td>0.913326</td>\n",
       "    </tr>\n",
       "    <tr>\n",
       "      <th>71</th>\n",
       "      <td>C46</td>\n",
       "      <td>Leucine_2TMS</td>\n",
       "      <td>4</td>\n",
       "      <td>0.958918</td>\n",
       "      <td>0.958918</td>\n",
       "    </tr>\n",
       "    <tr>\n",
       "      <th>72</th>\n",
       "      <td>C46</td>\n",
       "      <td>Norleucine_2TMS</td>\n",
       "      <td>4</td>\n",
       "      <td>0.938633</td>\n",
       "      <td>0.938633</td>\n",
       "    </tr>\n",
       "    <tr>\n",
       "      <th>73</th>\n",
       "      <td>C56</td>\n",
       "      <td>Norvaline_2TMS</td>\n",
       "      <td>4</td>\n",
       "      <td>0.927351</td>\n",
       "      <td>0.927351</td>\n",
       "    </tr>\n",
       "    <tr>\n",
       "      <th>74</th>\n",
       "      <td>C61</td>\n",
       "      <td>Phenylalanine_2TMS</td>\n",
       "      <td>4</td>\n",
       "      <td>0.491202</td>\n",
       "      <td>0.491202</td>\n",
       "    </tr>\n",
       "  </tbody>\n",
       "</table>\n",
       "<p>75 rows × 5 columns</p>\n",
       "</div>"
      ],
      "text/plain": [
       "   query                 reference  matches     score     total\n",
       "0    C01  6-Aminocaproic acid_3TMS        4  0.539212  0.539212\n",
       "1    C01         Acetyllysine_3TMS        5  0.577784  0.577784\n",
       "2    C01         Acetyllysine_4TMS       12  0.542551  0.542551\n",
       "3    C01             Dopamine_4TMS        4  0.544244  0.544244\n",
       "4    C01        Glutamic acid_2TMS        5  0.537401  0.537401\n",
       "..   ...                       ...      ...       ...       ...\n",
       "70   C46           Isoleucine_2TMS        4  0.913326  0.913326\n",
       "71   C46              Leucine_2TMS        4  0.958918  0.958918\n",
       "72   C46           Norleucine_2TMS        4  0.938633  0.938633\n",
       "73   C56            Norvaline_2TMS        4  0.927351  0.927351\n",
       "74   C61        Phenylalanine_2TMS        4  0.491202  0.491202\n",
       "\n",
       "[75 rows x 5 columns]"
      ]
     },
     "execution_count": 912,
     "metadata": {},
     "output_type": "execute_result"
    },
    {
     "data": {
      "image/png": "[encoded data removed]",
      "text/plain": [
       "<Figure size 432x288 with 1 Axes>"
      ]
     },
     "metadata": {},
     "output_type": "display_data"
    }
   ],
   "source": [
    "new = res2[((res2.matches > th_m) & (res2.score > th_s))].reference\n",
    "x  = res2[((res2.matches > th_m) & (res2.score > th_s))]\n",
    "x = x.reset_index()\n",
    "\n",
    "# x = x.loc[x.groupby('query')['total'].idxmax(), ['query', 'reference', 'total']]\n",
    "# new = x.reference\n",
    "\n",
    "\n",
    "venn2((set(new), ground))\n",
    "x"
   ]
  },
  {
   "cell_type": "code",
   "execution_count": 896,
   "metadata": {},
   "outputs": [
    {
     "data": {
      "text/plain": [
       "{'Acetylgalactosamine_5TMS isomer 1',\n",
       " 'Asparagine_3TMS',\n",
       " 'Aspartic acid_3TMS isomer',\n",
       " 'Citric acid_4TMS',\n",
       " 'Fructose_5TMS isomer 2',\n",
       " 'Glutamic acid_3TMS spectra 2',\n",
       " 'Histidine_3TMS',\n",
       " 'Leucine_2TMS',\n",
       " 'Lysine_4TMS',\n",
       " 'Myo-inositol_6TMS',\n",
       " 'Palmitic acid_1TMS',\n",
       " 'Phenylalanine_2TMS',\n",
       " 'Serine_3TMS',\n",
       " 'Stearic acid_1TMS',\n",
       " 'Threonine_3TMS spectra 1'}"
      ]
     },
     "execution_count": 896,
     "metadata": {},
     "output_type": "execute_result"
    }
   ],
   "source": [
    "set(new).intersection(ground)"
   ]
  },
  {
   "cell_type": "code",
   "execution_count": 897,
   "metadata": {},
   "outputs": [],
   "source": [
    "orig = np.zeros(shape=(20, 20))\n",
    "new = orig.copy()\n",
    "\n",
    "stat_orig = np.ones(63) * (100)\n",
    "stat_new = stat_orig.copy()\n",
    "for i, n_m in enumerate(range(1,21)):\n",
    "    for j, n_s in enumerate(np.arange(0,1,0.05)):\n",
    "        for res, grid, stat in zip([res1, res2], [orig, new], [stat_orig, stat_new]):\n",
    "            p = set(res[((res.matches > n_m) & (res.score > n_s))].reference)\n",
    "            \n",
    "            x  = res[((res.matches > n_m) & (res.score > n_s))]\n",
    "            x = x.reset_index()\n",
    "\n",
    "            x = x.loc[x.groupby('query')['total'].idxmax(), ['query', 'reference', 'total']]\n",
    "            p = set(x.reference)\n",
    "            \n",
    "            TP = len(p.intersection(ground))\n",
    "            FP = len(p.difference(ground))\n",
    "            FN = len(ground.difference(p))\n",
    "            stat[TP] = min(FP, stat[TP])\n",
    "            grid[i,j] = TP/(TP + 0.5*(FN+FP)) if (TP + 0.5*(FN+FP)) != 0 else 0\n",
    "stat_orig[stat_orig == 100] = np.nan\n",
    "stat_new[stat_new == 100] = np.nan"
   ]
  },
  {
   "cell_type": "code",
   "execution_count": 901,
   "metadata": {},
   "outputs": [
    {
     "data": {
      "text/plain": [
       "<matplotlib.collections.PathCollection at 0x7f7b439a3860>"
      ]
     },
     "execution_count": 901,
     "metadata": {},
     "output_type": "execute_result"
    },
    {
     "data": {
      "image/png": "[encoded data removed]",
      "text/plain": [
       "<Figure size 432x288 with 1 Axes>"
      ]
     },
     "metadata": {
      "needs_background": "light"
     },
     "output_type": "display_data"
    }
   ],
   "source": [
    "plt.scatter(x=np.arange(63), y=stat_orig, color=\"blue\")\n",
    "plt.scatter(x=np.arange(63), y=stat_new, color = \"red\")"
   ]
  },
  {
   "cell_type": "code",
   "execution_count": 902,
   "metadata": {},
   "outputs": [
    {
     "data": {
      "text/plain": [
       "<matplotlib.collections.PathCollection at 0x7f7b43904da0>"
      ]
     },
     "execution_count": 902,
     "metadata": {},
     "output_type": "execute_result"
    },
    {
     "data": {
      "image/png": "[encoded data removed]",
      "text/plain": [
       "<Figure size 432x288 with 1 Axes>"
      ]
     },
     "metadata": {
      "needs_background": "light"
     },
     "output_type": "display_data"
    }
   ],
   "source": [
    "plt.scatter(x=np.arange(63), y=stat_orig, color=\"blue\")\n",
    "plt.scatter(x=np.arange(63), y=stat_new, color = \"red\")"
   ]
  },
  {
   "cell_type": "code",
   "execution_count": 903,
   "metadata": {},
   "outputs": [
    {
     "data": {
      "text/plain": [
       "array([ 0.,  0.,  0.,  0.,  0.,  0.,  0.,  0.,  1.,  0.,  1.,  0.,  1.,\n",
       "        1.,  0.,  2.,  5.,  2.,  3.,  7., 16., nan, nan, nan, nan, nan,\n",
       "       nan, nan, nan, nan, nan, nan, nan, nan, nan, nan, nan, nan, nan,\n",
       "       nan, nan, nan, nan, nan, nan, nan, nan, nan, nan, nan, nan, nan,\n",
       "       nan, nan, nan, nan, nan, nan, nan, nan, nan, nan, nan])"
      ]
     },
     "execution_count": 903,
     "metadata": {},
     "output_type": "execute_result"
    }
   ],
   "source": [
    "stat_orig - stat_new"
   ]
  },
  {
   "cell_type": "code",
   "execution_count": 904,
   "metadata": {},
   "outputs": [
    {
     "data": {
      "text/plain": [
       "<matplotlib.colorbar.Colorbar at 0x7f7b4383def0>"
      ]
     },
     "execution_count": 904,
     "metadata": {},
     "output_type": "execute_result"
    },
    {
     "data": {
      "image/png": "[encoded data removed]",
      "text/plain": [
       "<Figure size 432x288 with 2 Axes>"
      ]
     },
     "metadata": {
      "needs_background": "light"
     },
     "output_type": "display_data"
    }
   ],
   "source": [
    "c = plt.contour(new, cmap='RdGy')\n",
    "plt.clabel(c, inline=True, fontsize=8)\n",
    "\n",
    "plt.colorbar()"
   ]
  },
  {
   "cell_type": "code",
   "execution_count": 905,
   "metadata": {},
   "outputs": [
    {
     "data": {
      "text/plain": [
       "<matplotlib.colorbar.Colorbar at 0x7f7b4379d320>"
      ]
     },
     "execution_count": 905,
     "metadata": {},
     "output_type": "execute_result"
    },
    {
     "data": {
      "image/png": "[encoded data removed]",
      "text/plain": [
       "<Figure size 432x288 with 2 Axes>"
      ]
     },
     "metadata": {
      "needs_background": "light"
     },
     "output_type": "display_data"
    }
   ],
   "source": [
    "c = plt.contour(orig, cmap='RdGy')\n",
    "plt.clabel(c, inline=True, fontsize=8)\n",
    "\n",
    "plt.colorbar()\n"
   ]
  },
  {
   "cell_type": "code",
   "execution_count": 830,
   "metadata": {},
   "outputs": [
    {
     "data": {
      "text/plain": [
       "55.77760834190282"
      ]
     },
     "execution_count": 830,
     "metadata": {},
     "output_type": "execute_result"
    }
   ],
   "source": [
    "new.sum()"
   ]
  },
  {
   "cell_type": "code",
   "execution_count": 831,
   "metadata": {},
   "outputs": [
    {
     "data": {
      "text/plain": [
       "50.495491242887"
      ]
     },
     "execution_count": 831,
     "metadata": {},
     "output_type": "execute_result"
    }
   ],
   "source": [
    "orig.sum()"
   ]
  },
  {
   "cell_type": "code",
   "execution_count": 751,
   "metadata": {},
   "outputs": [],
   "source": [
    "th_m, th_s = 5, 0.4\n",
    "orig = res1[((res1.matches > th_m) & (res1.score > th_s))].reference\n",
    "new = res2[((res2.matches > th_m) & (res2.score > th_s))].reference\n"
   ]
  },
  {
   "cell_type": "code",
   "execution_count": 752,
   "metadata": {},
   "outputs": [
    {
     "data": {
      "text/plain": [
       "set()"
      ]
     },
     "execution_count": 752,
     "metadata": {},
     "output_type": "execute_result"
    }
   ],
   "source": [
    "set(orig) -set(new)"
   ]
  },
  {
   "cell_type": "code",
   "execution_count": 753,
   "metadata": {},
   "outputs": [
    {
     "data": {
      "text/plain": [
       "{'Acetylgalactosamine_4TMS',\n",
       " 'Acetylgalactosamine_5TMS isomer 1',\n",
       " 'Aspartic acid_3TMS isomer',\n",
       " 'Glutamic acid_3TMS spectra 1',\n",
       " 'Glutamic acid_3TMS spectra 2',\n",
       " 'Glycylvaline_4TMS',\n",
       " 'Palmitic acid_1TMS'}"
      ]
     },
     "execution_count": 753,
     "metadata": {},
     "output_type": "execute_result"
    }
   ],
   "source": [
    "set(new) -set(orig)"
   ]
  },
  {
   "cell_type": "code",
   "execution_count": 754,
   "metadata": {},
   "outputs": [
    {
     "data": {
      "text/plain": [
       "{'2-Deoxyglucose_4TMS',\n",
       " 'Acetyllysine_4TMS',\n",
       " 'Galactitol_6TMS',\n",
       " 'Gluconic acid-1,4-lactone',\n",
       " 'Glucuro-3,6-lactone_3TMS isomer 1',\n",
       " 'Glutamic acid_3TMS spectra 1',\n",
       " 'Glycylvaline_4TMS',\n",
       " 'Isocitric acid_4TMS',\n",
       " 'Spermine_derivative',\n",
       " 'Uridine_4TMS isomer 1',\n",
       " 'Uridine_4TMS isomer 2',\n",
       " 'Xylose_4TMS'}"
      ]
     },
     "execution_count": 754,
     "metadata": {},
     "output_type": "execute_result"
    }
   ],
   "source": [
    "set(new) - ground"
   ]
  },
  {
   "cell_type": "code",
   "execution_count": 755,
   "metadata": {},
   "outputs": [
    {
     "data": {
      "text/plain": [
       "{'2-Deoxyglucose_4TMS',\n",
       " 'Acetyllysine_4TMS',\n",
       " 'Galactitol_6TMS',\n",
       " 'Gluconic acid-1,4-lactone',\n",
       " 'Glucuro-3,6-lactone_3TMS isomer 1',\n",
       " 'Isocitric acid_4TMS',\n",
       " 'Spermine_derivative',\n",
       " 'Uridine_4TMS isomer 1',\n",
       " 'Uridine_4TMS isomer 2',\n",
       " 'Xylose_4TMS'}"
      ]
     },
     "execution_count": 755,
     "metadata": {},
     "output_type": "execute_result"
    }
   ],
   "source": [
    "set(orig) - ground"
   ]
  },
  {
   "cell_type": "code",
   "execution_count": null,
   "metadata": {},
   "outputs": [],
   "source": []
  },
  {
   "cell_type": "code",
   "execution_count": null,
   "metadata": {},
   "outputs": [],
   "source": []
  }
 ],
 "metadata": {
  "kernelspec": {
   "display_name": "Python 3",
   "language": "python",
   "name": "python3"
  },
  "language_info": {
   "codemirror_mode": {
    "name": "ipython",
    "version": 3
   },
   "file_extension": ".py",
   "mimetype": "text/x-python",
   "name": "python",
   "nbconvert_exporter": "python",
   "pygments_lexer": "ipython3",
   "version": "3.7.3"
  }
 },
 "nbformat": 4,
 "nbformat_minor": 4
}
