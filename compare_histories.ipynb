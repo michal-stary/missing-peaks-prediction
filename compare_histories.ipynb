{
 "cells": [
  {
   "cell_type": "code",
   "execution_count": 2,
   "metadata": {},
   "outputs": [],
   "source": [
    "# Compare two matchms tables"
   ]
  },
  {
   "cell_type": "code",
   "execution_count": 6,
   "metadata": {},
   "outputs": [],
   "source": [
    "from prediction_utils import get_galaxy_filename\n",
    "import numpy as np\n",
    "import pandas as pd\n",
    "from matplotlib_venn import venn2\n",
    "import matplotlib.pyplot as plt"
   ]
  },
  {
   "cell_type": "code",
   "execution_count": 7,
   "metadata": {},
   "outputs": [
    {
     "name": "stdout",
     "output_type": "stream",
     "text": [
      "The autoreload extension is already loaded. To reload it, use:\n",
      "  %reload_ext autoreload\n"
     ]
    }
   ],
   "source": [
    "from prediction_utils import get_galaxy_filename\n",
    "\n",
    "fres1 = get_galaxy_filename('3_matchms output formatter', '../data', None)\n",
    "fres2 = get_galaxy_filename('4_matchms output formatter', '../data', None)\n",
    "\n",
    "fref = get_galaxy_filename('KC_Confirmed', '../data', None)\n",
    "\n",
    "\n",
    "# reference_lib = \"../data/1_rcx_gc-orbitrap_metabolites_20210817.msp.msp\"\n",
    "# concs = [\"all\"]\n",
    "# # if the predictions were generated in this galaxy session set to True\n",
    "# is_fresh = False\n",
    "# suffix = \"\" if is_fresh else \".txt\"\n",
    "\n",
    "\n",
    "%load_ext autoreload\n",
    "%autoreload 2"
   ]
  },
  {
   "cell_type": "code",
   "execution_count": 8,
   "metadata": {},
   "outputs": [
    {
     "data": {
      "text/plain": [
       "'../data/3_matchms output formatter _get-thresholded-data_ on data 122 and data 121.tsv'"
      ]
     },
     "execution_count": 8,
     "metadata": {},
     "output_type": "execute_result"
    }
   ],
   "source": [
    "fres1"
   ]
  },
  {
   "cell_type": "code",
   "execution_count": 9,
   "metadata": {},
   "outputs": [],
   "source": [
    "ref = pd.read_csv(fref)\n",
    "res1 = pd.read_csv(fres1, sep=\"\\t\", index_col=0)\n",
    "res2 = pd.read_csv(fres2, sep=\"\\t\", index_col=0)\n"
   ]
  },
  {
   "cell_type": "code",
   "execution_count": 10,
   "metadata": {},
   "outputs": [],
   "source": [
    "ground = set(ref[\"Metabolite name\"])\n",
    "# orig = set(res1.reference) \n",
    "# new = set(res2.reference) "
   ]
  },
  {
   "cell_type": "code",
   "execution_count": 11,
   "metadata": {},
   "outputs": [
    {
     "data": {
      "text/plain": [
       "{'2-Methylmalonic acid_2TMS',\n",
       " 'Acetylgalactosamine_4TMS',\n",
       " 'Acetylgalactosamine_5TMS isomer 1',\n",
       " 'Acetylgalactosamine_5TMS isomer 2',\n",
       " 'Acetylglucosamine_5TMS isomer 1',\n",
       " 'Allose_5TMS isomer 1',\n",
       " 'Allose_5TMS isomer 2',\n",
       " 'Arabitol_5TMS',\n",
       " 'Arginine_3TMS',\n",
       " 'Asparagine_2TMS',\n",
       " 'Asparagine_3TMS',\n",
       " 'Asparagine_4TMS isomer 1',\n",
       " 'Asparagine_4TMS isomer 2',\n",
       " 'Aspartic acid_3TMS isomer',\n",
       " 'Citric acid_4TMS',\n",
       " 'Creatinine_3TMS',\n",
       " 'D27-Myristic acid_TMS spectra 1',\n",
       " 'D4-Succinic acid_2TMS spectra 1',\n",
       " 'Fructose_5TMS isomer 1',\n",
       " 'Fructose_5TMS isomer 2',\n",
       " 'Fumaric acid_2TMS',\n",
       " 'Glucose_5TMS isomer 1',\n",
       " 'Glucuro-3,6-lactone_3TMS isomer 2',\n",
       " 'Glutamic acid_3TMS spectra 2',\n",
       " 'Glycine_3TMS',\n",
       " 'Guanine_3TMS',\n",
       " 'Histidine_3TMS',\n",
       " 'Histidine_4TMS',\n",
       " 'Hypoxanthine_2TMS',\n",
       " 'Isoleucine_2TMS',\n",
       " 'Itaconic acid_2TMS',\n",
       " 'Leucine_2TMS',\n",
       " 'Lysine_3TMS',\n",
       " 'Lysine_4TMS',\n",
       " 'Malic acid_3TMS',\n",
       " 'Maltotriose_11TMS isomer 1',\n",
       " 'Maltotriose_11TMS isomer 2',\n",
       " 'Mannitol_6TMS',\n",
       " 'Mannose_5TMS isomer 1',\n",
       " 'Mannose_5TMS isomer 2',\n",
       " 'Methionine_2TMS',\n",
       " 'Myo-inositol_6TMS',\n",
       " 'Orotic acid_3TMS',\n",
       " 'Palmitic acid_1TMS',\n",
       " 'Phenylalanine_2TMS',\n",
       " 'Proline_2TMS',\n",
       " 'Pyroglutamic acid_2TMS',\n",
       " 'Ribitol_5TMS',\n",
       " 'Ribose_4TMS',\n",
       " 'Serine_3TMS',\n",
       " 'Serine_4TMS',\n",
       " 'Sorbitol_6TMS',\n",
       " 'Spermidine_5TMS',\n",
       " 'Spermine_6TMS',\n",
       " 'Stearic acid_1TMS',\n",
       " 'Taurine_3TMS',\n",
       " 'Threonic acid_4TMS',\n",
       " 'Threonine_3TMS spectra 1',\n",
       " 'Threonine_3TMS spectra 2',\n",
       " 'Tryptophan_3TMS',\n",
       " 'Tyrosine_3TMS',\n",
       " 'gamma-Aminobutyric acid_3TMS',\n",
       " 'trans-Aconitic acid_3TMS'}"
      ]
     },
     "execution_count": 11,
     "metadata": {},
     "output_type": "execute_result"
    }
   ],
   "source": [
    "ground"
   ]
  },
  {
   "cell_type": "code",
   "execution_count": null,
   "metadata": {},
   "outputs": [],
   "source": []
  },
  {
   "cell_type": "code",
   "execution_count": 94,
   "metadata": {},
   "outputs": [],
   "source": [
    "th_m = 4\n",
    "th_s = 0.5"
   ]
  },
  {
   "cell_type": "code",
   "execution_count": 95,
   "metadata": {},
   "outputs": [
    {
     "data": {
      "text/plain": [
       "query\n",
       "C02            Acetyllysine_3TMS\n",
       "C02            Acetyllysine_4TMS\n",
       "C02           Glutamic acid_2TMS\n",
       "C02           Glycylleucine_4TMS\n",
       "C02                  Lysine_4TMS\n",
       "C02              Tryptamine_3TMS\n",
       "C02              Tryptamine_3TMS\n",
       "C06                Arabitol_5TMS\n",
       "C06                Arabitol_5TMS\n",
       "C06                Arabitol_5TMS\n",
       "C06                Arabitol_5TMS\n",
       "C06       Fructose_5TMS isomer 1\n",
       "C06       Fructose_5TMS isomer 2\n",
       "C06              Galactitol_6TMS\n",
       "C06    Gluconic acid-1,4-lactone\n",
       "C06                 Ribitol_5TMS\n",
       "C06                  Ribose_4TMS\n",
       "C06        Uridine_4TMS isomer 1\n",
       "C06        Uridine_4TMS isomer 2\n",
       "C06                  Xylose_4TMS\n",
       "C08             Citric acid_4TMS\n",
       "C10    Gluconic acid-1,4-lactone\n",
       "C10            Myo-inositol_6TMS\n",
       "C16        Uridine_4TMS isomer 1\n",
       "C16        Uridine_4TMS isomer 2\n",
       "C17                  Serine_3TMS\n",
       "C19    Aspartic acid_3TMS isomer\n",
       "C19    Aspartic acid_3TMS isomer\n",
       "C19    Aspartic acid_3TMS isomer\n",
       "C19    Aspartic acid_3TMS isomer\n",
       "C26     Threonine_3TMS spectra 1\n",
       "C26     Threonine_3TMS spectra 2\n",
       "Name: reference, dtype: object"
      ]
     },
     "execution_count": 95,
     "metadata": {},
     "output_type": "execute_result"
    },
    {
     "data": {
      "image/png": "[encoded data removed]",
      "text/plain": [
       "<Figure size 432x288 with 1 Axes>"
      ]
     },
     "metadata": {},
     "output_type": "display_data"
    }
   ],
   "source": [
    "orig = res1[((res1.matches > th_m) & (res1.score > th_s))].reference\n",
    "venn2((set(orig), ground))\n",
    "orig"
   ]
  },
  {
   "cell_type": "code",
   "execution_count": 96,
   "metadata": {},
   "outputs": [
    {
     "data": {
      "text/plain": [
       "query\n",
       "C01            Acetyllysine_3TMS\n",
       "C01                  Lysine_4TMS\n",
       "C04                Arabitol_5TMS\n",
       "C04                Arabitol_5TMS\n",
       "C04                Arabitol_5TMS\n",
       "C04                Arabitol_5TMS\n",
       "C04       Fructose_5TMS isomer 1\n",
       "C04       Fructose_5TMS isomer 2\n",
       "C04              Galactitol_6TMS\n",
       "C04    Gluconic acid-1,4-lactone\n",
       "C04                 Ribitol_5TMS\n",
       "C04                  Ribose_4TMS\n",
       "C04        Uridine_4TMS isomer 1\n",
       "C04        Uridine_4TMS isomer 2\n",
       "C04                  Xylose_4TMS\n",
       "C07             Citric acid_4TMS\n",
       "C12    Gluconic acid-1,4-lactone\n",
       "C12            Myo-inositol_6TMS\n",
       "C18                  Serine_3TMS\n",
       "C19        Uridine_4TMS isomer 1\n",
       "C19        Uridine_4TMS isomer 2\n",
       "C21    Aspartic acid_3TMS isomer\n",
       "C21    Aspartic acid_3TMS isomer\n",
       "C21    Aspartic acid_3TMS isomer\n",
       "C21    Aspartic acid_3TMS isomer\n",
       "C23           Palmitic acid_1TMS\n",
       "C31     Threonine_3TMS spectra 1\n",
       "C31     Threonine_3TMS spectra 2\n",
       "Name: reference, dtype: object"
      ]
     },
     "execution_count": 96,
     "metadata": {},
     "output_type": "execute_result"
    },
    {
     "data": {
      "image/png": "[encoded data removed]",
      "text/plain": [
       "<Figure size 432x288 with 1 Axes>"
      ]
     },
     "metadata": {},
     "output_type": "display_data"
    }
   ],
   "source": [
    "new = res2[((res2.matches > th_m) & (res2.score > th_s))].reference\n",
    "venn2((set(new), ground))\n",
    "new"
   ]
  },
  {
   "cell_type": "code",
   "execution_count": 93,
   "metadata": {},
   "outputs": [],
   "source": [
    "orig = np.zeros(shape=(20, 10))\n",
    "new = orig.copy()\n",
    "for i, n_m in enumerate(range(1,21)):\n",
    "    for j, n_s in enumerate(np.arange(0,1,0.1)):\n",
    "        for res, grid in zip([res1, res2], [orig, new]):\n",
    "            p = set(res[((res.matches > n_m) & (res.score > n_s))].reference)\n",
    "            \n",
    "            TP = len(p.intersection(ground))\n",
    "            FP = len(p.difference(ground))\n",
    "            FN = len(ground.difference(p))\n",
    "\n",
    "\n",
    "            grid[i,j] = TP/(TP + 0.5*(FN+FP)) if (TP + 0.5*(FN+FP)) != 0 else 0\n",
    "        "
   ]
  },
  {
   "cell_type": "code",
   "execution_count": 80,
   "metadata": {},
   "outputs": [
    {
     "data": {
      "text/plain": [
       "<matplotlib.colorbar.Colorbar at 0x7f0847a66a58>"
      ]
     },
     "execution_count": 80,
     "metadata": {},
     "output_type": "execute_result"
    },
    {
     "data": {
      "image/png": "[encoded data removed]",
      "text/plain": [
       "<Figure size 432x288 with 2 Axes>"
      ]
     },
     "metadata": {
      "needs_background": "light"
     },
     "output_type": "display_data"
    }
   ],
   "source": [
    "c = plt.contour(new, cmap='RdGy')\n",
    "plt.clabel(c, inline=True, fontsize=8)\n",
    "\n",
    "plt.colorbar()"
   ]
  },
  {
   "cell_type": "code",
   "execution_count": 81,
   "metadata": {},
   "outputs": [
    {
     "data": {
      "text/plain": [
       "<matplotlib.colorbar.Colorbar at 0x7f08479aaf28>"
      ]
     },
     "execution_count": 81,
     "metadata": {},
     "output_type": "execute_result"
    },
    {
     "data": {
      "image/png": "[encoded data removed]",
      "text/plain": [
       "<Figure size 432x288 with 2 Axes>"
      ]
     },
     "metadata": {
      "needs_background": "light"
     },
     "output_type": "display_data"
    }
   ],
   "source": [
    "c = plt.contour(orig, cmap='RdGy')\n",
    "plt.clabel(c, inline=True, fontsize=8)\n",
    "\n",
    "plt.colorbar()\n"
   ]
  },
  {
   "cell_type": "code",
   "execution_count": 82,
   "metadata": {},
   "outputs": [
    {
     "data": {
      "text/plain": [
       "37.894234389057154"
      ]
     },
     "execution_count": 82,
     "metadata": {},
     "output_type": "execute_result"
    }
   ],
   "source": [
    "new.sum()"
   ]
  },
  {
   "cell_type": "code",
   "execution_count": 83,
   "metadata": {},
   "outputs": [
    {
     "data": {
      "text/plain": [
       "37.630986297918795"
      ]
     },
     "execution_count": 83,
     "metadata": {},
     "output_type": "execute_result"
    }
   ],
   "source": [
    "orig.sum()"
   ]
  },
  {
   "cell_type": "code",
   "execution_count": 85,
   "metadata": {},
   "outputs": [],
   "source": [
    "th_m, th_s = 4, 0.5\n",
    "orig = res1[((res1.matches > th_m) & (res1.score > th_s))].reference\n",
    "new = res2[((res2.matches > th_m) & (res2.score > th_s))].reference\n"
   ]
  },
  {
   "cell_type": "code",
   "execution_count": 86,
   "metadata": {},
   "outputs": [
    {
     "data": {
      "text/plain": [
       "{'Acetyllysine_4TMS',\n",
       " 'Glutamic acid_2TMS',\n",
       " 'Glycylleucine_4TMS',\n",
       " 'Tryptamine_3TMS'}"
      ]
     },
     "execution_count": 86,
     "metadata": {},
     "output_type": "execute_result"
    }
   ],
   "source": [
    "set(orig) -set(new)"
   ]
  },
  {
   "cell_type": "code",
   "execution_count": 87,
   "metadata": {},
   "outputs": [
    {
     "data": {
      "text/plain": [
       "{'Palmitic acid_1TMS'}"
      ]
     },
     "execution_count": 87,
     "metadata": {},
     "output_type": "execute_result"
    }
   ],
   "source": [
    "set(new) -set(orig)"
   ]
  },
  {
   "cell_type": "code",
   "execution_count": 88,
   "metadata": {},
   "outputs": [
    {
     "data": {
      "text/plain": [
       "{'Acetyllysine_3TMS',\n",
       " 'Galactitol_6TMS',\n",
       " 'Gluconic acid-1,4-lactone',\n",
       " 'Uridine_4TMS isomer 1',\n",
       " 'Uridine_4TMS isomer 2',\n",
       " 'Xylose_4TMS'}"
      ]
     },
     "execution_count": 88,
     "metadata": {},
     "output_type": "execute_result"
    }
   ],
   "source": [
    "set(new) - ground"
   ]
  },
  {
   "cell_type": "code",
   "execution_count": 89,
   "metadata": {},
   "outputs": [
    {
     "data": {
      "text/plain": [
       "{'Acetyllysine_3TMS',\n",
       " 'Acetyllysine_4TMS',\n",
       " 'Galactitol_6TMS',\n",
       " 'Gluconic acid-1,4-lactone',\n",
       " 'Glutamic acid_2TMS',\n",
       " 'Glycylleucine_4TMS',\n",
       " 'Tryptamine_3TMS',\n",
       " 'Uridine_4TMS isomer 1',\n",
       " 'Uridine_4TMS isomer 2',\n",
       " 'Xylose_4TMS'}"
      ]
     },
     "execution_count": 89,
     "metadata": {},
     "output_type": "execute_result"
    }
   ],
   "source": [
    "set(orig) - ground"
   ]
  },
  {
   "cell_type": "code",
   "execution_count": null,
   "metadata": {},
   "outputs": [],
   "source": []
  },
  {
   "cell_type": "code",
   "execution_count": null,
   "metadata": {},
   "outputs": [],
   "source": []
  }
 ],
 "metadata": {
  "kernelspec": {
   "display_name": "Python 3",
   "language": "python",
   "name": "python3"
  },
  "language_info": {
   "codemirror_mode": {
    "name": "ipython",
    "version": 3
   },
   "file_extension": ".py",
   "mimetype": "text/x-python",
   "name": "python",
   "nbconvert_exporter": "python",
   "pygments_lexer": "ipython3",
   "version": "3.7.3"
  }
 },
 "nbformat": 4,
 "nbformat_minor": 4
}
