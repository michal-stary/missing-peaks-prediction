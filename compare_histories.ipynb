{
 "cells": [
  {
   "cell_type": "code",
   "execution_count": 1,
   "metadata": {},
   "outputs": [],
   "source": [
    "# Compare two matchms tables"
   ]
  },
  {
   "cell_type": "code",
   "execution_count": 108,
   "metadata": {},
   "outputs": [],
   "source": [
    "from prediction_utils import get_galaxy_filename\n",
    "import numpy as np\n",
    "import pandas as pd\n",
    "from matplotlib_venn import venn2 as venn2_\n",
    "import matplotlib.pyplot as plt\n",
    "\n",
    "\n",
    "def venn2(*args,):\n",
    "    v = venn2_(*args, set_labels = ('Predicted', 'Ground'))\n",
    "    v.get_patch_by_id('100').set_color('red')\n",
    "    v.get_patch_by_id('010').set_color('orange')\n",
    "    v.get_patch_by_id('110').set_color('green')"
   ]
  },
  {
   "cell_type": "code",
   "execution_count": 109,
   "metadata": {},
   "outputs": [
    {
     "name": "stdout",
     "output_type": "stream",
     "text": [
      "The autoreload extension is already loaded. To reload it, use:\n",
      "  %reload_ext autoreload\n"
     ]
    }
   ],
   "source": [
    "from prediction_utils import get_galaxy_filename\n",
    "\n",
    "fres1 = get_galaxy_filename('3_matchms output formatter', '../data', None)\n",
    "fres2 = get_galaxy_filename('4_matchms output formatter', '../data', None)\n",
    "\n",
    "fref = get_galaxy_filename('KC_Confirmed', '../data', None)\n",
    "\n",
    "\n",
    "# reference_lib = \"../data/1_rcx_gc-orbitrap_metabolites_20210817.msp.msp\"\n",
    "# concs = [\"all\"]\n",
    "# # if the predictions were generated in this galaxy session set to True\n",
    "# is_fresh = False\n",
    "# suffix = \"\" if is_fresh else \".txt\"\n",
    "\n",
    "\n",
    "%load_ext autoreload\n",
    "%autoreload 2"
   ]
  },
  {
   "cell_type": "code",
   "execution_count": 110,
   "metadata": {},
   "outputs": [
    {
     "data": {
      "text/plain": [
       "'../data/3_matchms output formatter _get-thresholded-data_ on data 122 and data 121.tsv'"
      ]
     },
     "execution_count": 110,
     "metadata": {},
     "output_type": "execute_result"
    }
   ],
   "source": [
    "fres1"
   ]
  },
  {
   "cell_type": "code",
   "execution_count": 111,
   "metadata": {},
   "outputs": [],
   "source": [
    "ref = pd.read_csv(fref)\n",
    "res1 = pd.read_csv(fres1, sep=\"\\t\", index_col=0)\n",
    "res2 = pd.read_csv(fres2, sep=\"\\t\", index_col=0)"
   ]
  },
  {
   "cell_type": "code",
   "execution_count": 218,
   "metadata": {},
   "outputs": [
    {
     "data": {
      "text/html": [
       "<div>\n",
       "<style scoped>\n",
       "    .dataframe tbody tr th:only-of-type {\n",
       "        vertical-align: middle;\n",
       "    }\n",
       "\n",
       "    .dataframe tbody tr th {\n",
       "        vertical-align: top;\n",
       "    }\n",
       "\n",
       "    .dataframe thead th {\n",
       "        text-align: right;\n",
       "    }\n",
       "</style>\n",
       "<table border=\"1\" class=\"dataframe\">\n",
       "  <thead>\n",
       "    <tr style=\"text-align: right;\">\n",
       "      <th></th>\n",
       "      <th>reference</th>\n",
       "      <th>matches</th>\n",
       "      <th>score</th>\n",
       "    </tr>\n",
       "    <tr>\n",
       "      <th>query</th>\n",
       "      <th></th>\n",
       "      <th></th>\n",
       "      <th></th>\n",
       "    </tr>\n",
       "  </thead>\n",
       "  <tbody>\n",
       "    <tr>\n",
       "      <th>C01</th>\n",
       "      <td>2-Oxoadipic acid_2TMS isomer 1</td>\n",
       "      <td>1</td>\n",
       "      <td>0.005920</td>\n",
       "    </tr>\n",
       "    <tr>\n",
       "      <th>C01</th>\n",
       "      <td>Acetylglucosamine_5TMS isomer 2</td>\n",
       "      <td>1</td>\n",
       "      <td>0.003294</td>\n",
       "    </tr>\n",
       "    <tr>\n",
       "      <th>C01</th>\n",
       "      <td>Acetylglutamine_4TMS</td>\n",
       "      <td>1</td>\n",
       "      <td>0.003462</td>\n",
       "    </tr>\n",
       "    <tr>\n",
       "      <th>C01</th>\n",
       "      <td>Acetylphenylalanine_1TMS</td>\n",
       "      <td>1</td>\n",
       "      <td>0.003676</td>\n",
       "    </tr>\n",
       "    <tr>\n",
       "      <th>C01</th>\n",
       "      <td>Acetylserotonin_2TMS isomer 2</td>\n",
       "      <td>1</td>\n",
       "      <td>0.009266</td>\n",
       "    </tr>\n",
       "    <tr>\n",
       "      <th>...</th>\n",
       "      <td>...</td>\n",
       "      <td>...</td>\n",
       "      <td>...</td>\n",
       "    </tr>\n",
       "    <tr>\n",
       "      <th>C68</th>\n",
       "      <td>Myristic acid_1TMS</td>\n",
       "      <td>1</td>\n",
       "      <td>0.013924</td>\n",
       "    </tr>\n",
       "    <tr>\n",
       "      <th>C68</th>\n",
       "      <td>Nicotinic acid_1TMS</td>\n",
       "      <td>1</td>\n",
       "      <td>0.006197</td>\n",
       "    </tr>\n",
       "    <tr>\n",
       "      <th>C68</th>\n",
       "      <td>Palmitic acid_1TMS</td>\n",
       "      <td>3</td>\n",
       "      <td>0.471064</td>\n",
       "    </tr>\n",
       "    <tr>\n",
       "      <th>C68</th>\n",
       "      <td>Progesterone</td>\n",
       "      <td>1</td>\n",
       "      <td>0.020604</td>\n",
       "    </tr>\n",
       "    <tr>\n",
       "      <th>C68</th>\n",
       "      <td>Theanine_3TMS</td>\n",
       "      <td>1</td>\n",
       "      <td>0.018591</td>\n",
       "    </tr>\n",
       "  </tbody>\n",
       "</table>\n",
       "<p>2431 rows × 3 columns</p>\n",
       "</div>"
      ],
      "text/plain": [
       "                             reference  matches     score\n",
       "query                                                    \n",
       "C01     2-Oxoadipic acid_2TMS isomer 1        1  0.005920\n",
       "C01    Acetylglucosamine_5TMS isomer 2        1  0.003294\n",
       "C01               Acetylglutamine_4TMS        1  0.003462\n",
       "C01           Acetylphenylalanine_1TMS        1  0.003676\n",
       "C01      Acetylserotonin_2TMS isomer 2        1  0.009266\n",
       "...                                ...      ...       ...\n",
       "C68                 Myristic acid_1TMS        1  0.013924\n",
       "C68                Nicotinic acid_1TMS        1  0.006197\n",
       "C68                 Palmitic acid_1TMS        3  0.471064\n",
       "C68                       Progesterone        1  0.020604\n",
       "C68                      Theanine_3TMS        1  0.018591\n",
       "\n",
       "[2431 rows x 3 columns]"
      ]
     },
     "execution_count": 218,
     "metadata": {},
     "output_type": "execute_result"
    }
   ],
   "source": [
    "res1"
   ]
  },
  {
   "cell_type": "code",
   "execution_count": 220,
   "metadata": {},
   "outputs": [],
   "source": [
    "# add helper collumn\n",
    "res1[\"total\"] =res1[\"matches\"]* res1[\"score\"]\n",
    "res2[\"total\"] =res2[\"matches\"]* res2[\"score\"]"
   ]
  },
  {
   "cell_type": "code",
   "execution_count": 112,
   "metadata": {},
   "outputs": [],
   "source": [
    "ground = set(ref[\"Metabolite name\"])\n",
    "# orig = set(res1.reference) \n",
    "# new = set(res2.reference) "
   ]
  },
  {
   "cell_type": "code",
   "execution_count": 113,
   "metadata": {},
   "outputs": [
    {
     "data": {
      "text/plain": [
       "{'2-Methylmalonic acid_2TMS',\n",
       " 'Acetylgalactosamine_4TMS',\n",
       " 'Acetylgalactosamine_5TMS isomer 1',\n",
       " 'Acetylgalactosamine_5TMS isomer 2',\n",
       " 'Acetylglucosamine_5TMS isomer 1',\n",
       " 'Allose_5TMS isomer 1',\n",
       " 'Allose_5TMS isomer 2',\n",
       " 'Arabitol_5TMS',\n",
       " 'Arginine_3TMS',\n",
       " 'Asparagine_2TMS',\n",
       " 'Asparagine_3TMS',\n",
       " 'Asparagine_4TMS isomer 1',\n",
       " 'Asparagine_4TMS isomer 2',\n",
       " 'Aspartic acid_3TMS isomer',\n",
       " 'Citric acid_4TMS',\n",
       " 'Creatinine_3TMS',\n",
       " 'D27-Myristic acid_TMS spectra 1',\n",
       " 'D4-Succinic acid_2TMS spectra 1',\n",
       " 'Fructose_5TMS isomer 1',\n",
       " 'Fructose_5TMS isomer 2',\n",
       " 'Fumaric acid_2TMS',\n",
       " 'Glucose_5TMS isomer 1',\n",
       " 'Glucuro-3,6-lactone_3TMS isomer 2',\n",
       " 'Glutamic acid_3TMS spectra 2',\n",
       " 'Glycine_3TMS',\n",
       " 'Guanine_3TMS',\n",
       " 'Histidine_3TMS',\n",
       " 'Histidine_4TMS',\n",
       " 'Hypoxanthine_2TMS',\n",
       " 'Isoleucine_2TMS',\n",
       " 'Itaconic acid_2TMS',\n",
       " 'Leucine_2TMS',\n",
       " 'Lysine_3TMS',\n",
       " 'Lysine_4TMS',\n",
       " 'Malic acid_3TMS',\n",
       " 'Maltotriose_11TMS isomer 1',\n",
       " 'Maltotriose_11TMS isomer 2',\n",
       " 'Mannitol_6TMS',\n",
       " 'Mannose_5TMS isomer 1',\n",
       " 'Mannose_5TMS isomer 2',\n",
       " 'Methionine_2TMS',\n",
       " 'Myo-inositol_6TMS',\n",
       " 'Orotic acid_3TMS',\n",
       " 'Palmitic acid_1TMS',\n",
       " 'Phenylalanine_2TMS',\n",
       " 'Proline_2TMS',\n",
       " 'Pyroglutamic acid_2TMS',\n",
       " 'Ribitol_5TMS',\n",
       " 'Ribose_4TMS',\n",
       " 'Serine_3TMS',\n",
       " 'Serine_4TMS',\n",
       " 'Sorbitol_6TMS',\n",
       " 'Spermidine_5TMS',\n",
       " 'Spermine_6TMS',\n",
       " 'Stearic acid_1TMS',\n",
       " 'Taurine_3TMS',\n",
       " 'Threonic acid_4TMS',\n",
       " 'Threonine_3TMS spectra 1',\n",
       " 'Threonine_3TMS spectra 2',\n",
       " 'Tryptophan_3TMS',\n",
       " 'Tyrosine_3TMS',\n",
       " 'gamma-Aminobutyric acid_3TMS',\n",
       " 'trans-Aconitic acid_3TMS'}"
      ]
     },
     "execution_count": 113,
     "metadata": {},
     "output_type": "execute_result"
    }
   ],
   "source": [
    "ground"
   ]
  },
  {
   "cell_type": "code",
   "execution_count": null,
   "metadata": {},
   "outputs": [],
   "source": []
  },
  {
   "cell_type": "code",
   "execution_count": 445,
   "metadata": {},
   "outputs": [],
   "source": [
    "th_m = 5\n",
    "th_s = 0.4"
   ]
  },
  {
   "cell_type": "code",
   "execution_count": 446,
   "metadata": {},
   "outputs": [
    {
     "data": {
      "text/plain": [
       "1                  Lysine_4TMS\n",
       "10      Fructose_5TMS isomer 2\n",
       "21            Citric acid_4TMS\n",
       "27           Myo-inositol_6TMS\n",
       "29       Uridine_4TMS isomer 1\n",
       "31                 Serine_3TMS\n",
       "32    Threonine_3TMS spectra 1\n",
       "34             Asparagine_3TMS\n",
       "35           Stearic acid_1TMS\n",
       "Name: reference, dtype: object"
      ]
     },
     "execution_count": 446,
     "metadata": {},
     "output_type": "execute_result"
    },
    {
     "data": {
      "image/png": "[encoded data removed]",
      "text/plain": [
       "<Figure size 432x288 with 1 Axes>"
      ]
     },
     "metadata": {},
     "output_type": "display_data"
    }
   ],
   "source": [
    "orig = res1[((res1.matches > th_m) & (res1.score > th_s))].reference\n",
    "# venn2((set(orig), ground))\n",
    "# orig\n",
    "#res1[((res1.matches > th_m) & (res1.score > th_s))].groupby([\"query\", \"reference\"])[\"total\"].max()\n",
    "x  = res1[((res1.matches > th_m) & (res1.score > th_s))]\n",
    "x = x.reset_index()\n",
    "\n",
    "x = x.loc[x.groupby('query')['total'].idxmax(), ['query', 'reference', 'total']]\n",
    "orig = x.reference\n",
    "venn2((set(orig), ground))\n",
    "orig\n"
   ]
  },
  {
   "cell_type": "code",
   "execution_count": 438,
   "metadata": {},
   "outputs": [
    {
     "data": {
      "text/plain": [
       "{'Asparagine_3TMS',\n",
       " 'Citric acid_4TMS',\n",
       " 'Fructose_5TMS isomer 2',\n",
       " 'Lysine_4TMS',\n",
       " 'Myo-inositol_6TMS',\n",
       " 'Serine_3TMS',\n",
       " 'Stearic acid_1TMS',\n",
       " 'Threonine_3TMS spectra 1'}"
      ]
     },
     "execution_count": 438,
     "metadata": {},
     "output_type": "execute_result"
    }
   ],
   "source": [
    "set(orig).intersection(ground)"
   ]
  },
  {
   "cell_type": "code",
   "execution_count": 439,
   "metadata": {},
   "outputs": [
    {
     "data": {
      "text/plain": [
       "{'Uridine_4TMS isomer 1'}"
      ]
     },
     "execution_count": 439,
     "metadata": {},
     "output_type": "execute_result"
    }
   ],
   "source": [
    "set(orig).difference(ground)"
   ]
  },
  {
   "cell_type": "code",
   "execution_count": 447,
   "metadata": {},
   "outputs": [
    {
     "data": {
      "text/html": [
       "<div>\n",
       "<style scoped>\n",
       "    .dataframe tbody tr th:only-of-type {\n",
       "        vertical-align: middle;\n",
       "    }\n",
       "\n",
       "    .dataframe tbody tr th {\n",
       "        vertical-align: top;\n",
       "    }\n",
       "\n",
       "    .dataframe thead th {\n",
       "        text-align: right;\n",
       "    }\n",
       "</style>\n",
       "<table border=\"1\" class=\"dataframe\">\n",
       "  <thead>\n",
       "    <tr style=\"text-align: right;\">\n",
       "      <th></th>\n",
       "      <th>query</th>\n",
       "      <th>reference</th>\n",
       "      <th>total</th>\n",
       "    </tr>\n",
       "  </thead>\n",
       "  <tbody>\n",
       "    <tr>\n",
       "      <th>2</th>\n",
       "      <td>C01</td>\n",
       "      <td>Lysine_4TMS</td>\n",
       "      <td>21.207676</td>\n",
       "    </tr>\n",
       "    <tr>\n",
       "      <th>11</th>\n",
       "      <td>C03</td>\n",
       "      <td>Fructose_5TMS isomer 2</td>\n",
       "      <td>15.780100</td>\n",
       "    </tr>\n",
       "    <tr>\n",
       "      <th>22</th>\n",
       "      <td>C07</td>\n",
       "      <td>Citric acid_4TMS</td>\n",
       "      <td>9.617874</td>\n",
       "    </tr>\n",
       "    <tr>\n",
       "      <th>28</th>\n",
       "      <td>C11</td>\n",
       "      <td>Myo-inositol_6TMS</td>\n",
       "      <td>11.902377</td>\n",
       "    </tr>\n",
       "    <tr>\n",
       "      <th>31</th>\n",
       "      <td>C17</td>\n",
       "      <td>Glutamic acid_3TMS spectra 2</td>\n",
       "      <td>6.519331</td>\n",
       "    </tr>\n",
       "    <tr>\n",
       "      <th>32</th>\n",
       "      <td>C19</td>\n",
       "      <td>Aspartic acid_3TMS isomer</td>\n",
       "      <td>5.459957</td>\n",
       "    </tr>\n",
       "    <tr>\n",
       "      <th>36</th>\n",
       "      <td>C21</td>\n",
       "      <td>Uridine_4TMS isomer 1</td>\n",
       "      <td>7.230031</td>\n",
       "    </tr>\n",
       "    <tr>\n",
       "      <th>38</th>\n",
       "      <td>C23</td>\n",
       "      <td>Serine_3TMS</td>\n",
       "      <td>6.604582</td>\n",
       "    </tr>\n",
       "    <tr>\n",
       "      <th>39</th>\n",
       "      <td>C25</td>\n",
       "      <td>Palmitic acid_1TMS</td>\n",
       "      <td>4.618372</td>\n",
       "    </tr>\n",
       "    <tr>\n",
       "      <th>41</th>\n",
       "      <td>C26</td>\n",
       "      <td>Acetylgalactosamine_5TMS isomer 1</td>\n",
       "      <td>3.616759</td>\n",
       "    </tr>\n",
       "    <tr>\n",
       "      <th>42</th>\n",
       "      <td>C29</td>\n",
       "      <td>Threonine_3TMS spectra 1</td>\n",
       "      <td>6.372324</td>\n",
       "    </tr>\n",
       "    <tr>\n",
       "      <th>44</th>\n",
       "      <td>C33</td>\n",
       "      <td>Asparagine_3TMS</td>\n",
       "      <td>2.946448</td>\n",
       "    </tr>\n",
       "    <tr>\n",
       "      <th>45</th>\n",
       "      <td>C39</td>\n",
       "      <td>Stearic acid_1TMS</td>\n",
       "      <td>2.502819</td>\n",
       "    </tr>\n",
       "  </tbody>\n",
       "</table>\n",
       "</div>"
      ],
      "text/plain": [
       "   query                          reference      total\n",
       "2    C01                        Lysine_4TMS  21.207676\n",
       "11   C03             Fructose_5TMS isomer 2  15.780100\n",
       "22   C07                   Citric acid_4TMS   9.617874\n",
       "28   C11                  Myo-inositol_6TMS  11.902377\n",
       "31   C17       Glutamic acid_3TMS spectra 2   6.519331\n",
       "32   C19          Aspartic acid_3TMS isomer   5.459957\n",
       "36   C21              Uridine_4TMS isomer 1   7.230031\n",
       "38   C23                        Serine_3TMS   6.604582\n",
       "39   C25                 Palmitic acid_1TMS   4.618372\n",
       "41   C26  Acetylgalactosamine_5TMS isomer 1   3.616759\n",
       "42   C29           Threonine_3TMS spectra 1   6.372324\n",
       "44   C33                    Asparagine_3TMS   2.946448\n",
       "45   C39                  Stearic acid_1TMS   2.502819"
      ]
     },
     "execution_count": 447,
     "metadata": {},
     "output_type": "execute_result"
    },
    {
     "data": {
      "image/png": "[encoded data removed]",
      "text/plain": [
       "<Figure size 432x288 with 1 Axes>"
      ]
     },
     "metadata": {},
     "output_type": "display_data"
    }
   ],
   "source": [
    "new = res2[((res2.matches > th_m) & (res2.score > th_s))].reference\n",
    "x  = res2[((res2.matches > th_m) & (res2.score > th_s))]\n",
    "x = x.reset_index()\n",
    "\n",
    "x = x.loc[x.groupby('query')['total'].idxmax(), ['query', 'reference', 'total']]\n",
    "new = x.reference\n",
    "\n",
    "\n",
    "venn2((set(new), ground))\n",
    "x"
   ]
  },
  {
   "cell_type": "code",
   "execution_count": 427,
   "metadata": {},
   "outputs": [
    {
     "data": {
      "text/plain": [
       "{'Acetylglucosamine_5TMS isomer 1',\n",
       " 'Asparagine_3TMS',\n",
       " 'Aspartic acid_3TMS isomer',\n",
       " 'Citric acid_4TMS',\n",
       " 'Creatinine_3TMS',\n",
       " 'Fructose_5TMS isomer 2',\n",
       " 'Glucuro-3,6-lactone_3TMS isomer 2',\n",
       " 'Glutamic acid_3TMS spectra 2',\n",
       " 'Histidine_3TMS',\n",
       " 'Leucine_2TMS',\n",
       " 'Lysine_4TMS',\n",
       " 'Myo-inositol_6TMS',\n",
       " 'Palmitic acid_1TMS',\n",
       " 'Phenylalanine_2TMS',\n",
       " 'Proline_2TMS',\n",
       " 'Serine_3TMS',\n",
       " 'Spermine_6TMS',\n",
       " 'Stearic acid_1TMS',\n",
       " 'Threonine_3TMS spectra 1',\n",
       " 'Tyrosine_3TMS',\n",
       " 'trans-Aconitic acid_3TMS'}"
      ]
     },
     "execution_count": 427,
     "metadata": {},
     "output_type": "execute_result"
    }
   ],
   "source": [
    "set(new).intersection(ground)"
   ]
  },
  {
   "cell_type": "code",
   "execution_count": 428,
   "metadata": {},
   "outputs": [],
   "source": [
    "orig = np.zeros(shape=(20, 10))\n",
    "new = orig.copy()\n",
    "for i, n_m in enumerate(range(1,21)):\n",
    "    for j, n_s in enumerate(np.arange(0,1,0.1)):\n",
    "        for res, grid in zip([res1, res2], [orig, new]):\n",
    "            p = set(res[((res.matches > n_m) & (res.score > n_s))].reference)\n",
    "            \n",
    "            TP = len(p.intersection(ground))\n",
    "            FP = len(p.difference(ground))\n",
    "            FN = len(ground.difference(p))\n",
    "\n",
    "\n",
    "            grid[i,j] = TP/(TP + 0.5*(FN+FP)) if (TP + 0.5*(FN+FP)) != 0 else 0\n",
    "        "
   ]
  },
  {
   "cell_type": "code",
   "execution_count": 429,
   "metadata": {},
   "outputs": [
    {
     "data": {
      "text/plain": [
       "<matplotlib.colorbar.Colorbar at 0x7f7b452e5e48>"
      ]
     },
     "execution_count": 429,
     "metadata": {},
     "output_type": "execute_result"
    },
    {
     "data": {
      "image/png": "[encoded data removed]",
      "text/plain": [
       "<Figure size 432x288 with 2 Axes>"
      ]
     },
     "metadata": {
      "needs_background": "light"
     },
     "output_type": "display_data"
    }
   ],
   "source": [
    "c = plt.contour(new, cmap='RdGy')\n",
    "plt.clabel(c, inline=True, fontsize=8)\n",
    "\n",
    "plt.colorbar()"
   ]
  },
  {
   "cell_type": "code",
   "execution_count": 430,
   "metadata": {},
   "outputs": [
    {
     "data": {
      "text/plain": [
       "<matplotlib.colorbar.Colorbar at 0x7f7b4512c320>"
      ]
     },
     "execution_count": 430,
     "metadata": {},
     "output_type": "execute_result"
    },
    {
     "data": {
      "image/png": "[encoded data removed]",
      "text/plain": [
       "<Figure size 432x288 with 2 Axes>"
      ]
     },
     "metadata": {
      "needs_background": "light"
     },
     "output_type": "display_data"
    }
   ],
   "source": [
    "c = plt.contour(orig, cmap='RdGy')\n",
    "plt.clabel(c, inline=True, fontsize=8)\n",
    "\n",
    "plt.colorbar()\n"
   ]
  },
  {
   "cell_type": "code",
   "execution_count": 205,
   "metadata": {},
   "outputs": [
    {
     "data": {
      "text/plain": [
       "40.85455359750591"
      ]
     },
     "execution_count": 205,
     "metadata": {},
     "output_type": "execute_result"
    }
   ],
   "source": [
    "new.sum()"
   ]
  },
  {
   "cell_type": "code",
   "execution_count": 206,
   "metadata": {},
   "outputs": [
    {
     "data": {
      "text/plain": [
       "37.630986297918795"
      ]
     },
     "execution_count": 206,
     "metadata": {},
     "output_type": "execute_result"
    }
   ],
   "source": [
    "orig.sum()"
   ]
  },
  {
   "cell_type": "code",
   "execution_count": 210,
   "metadata": {},
   "outputs": [],
   "source": [
    "th_m, th_s = 5, 0.4\n",
    "orig = res1[((res1.matches > th_m) & (res1.score > th_s))].reference\n",
    "new = res2[((res2.matches > th_m) & (res2.score > th_s))].reference\n"
   ]
  },
  {
   "cell_type": "code",
   "execution_count": 211,
   "metadata": {},
   "outputs": [
    {
     "data": {
      "text/plain": [
       "set()"
      ]
     },
     "execution_count": 211,
     "metadata": {},
     "output_type": "execute_result"
    }
   ],
   "source": [
    "set(orig) -set(new)"
   ]
  },
  {
   "cell_type": "code",
   "execution_count": 212,
   "metadata": {},
   "outputs": [
    {
     "data": {
      "text/plain": [
       "{'Acetylgalactosamine_4TMS',\n",
       " 'Acetylgalactosamine_5TMS isomer 1',\n",
       " 'Aspartic acid_3TMS isomer',\n",
       " 'Glutamic acid_3TMS spectra 1',\n",
       " 'Glutamic acid_3TMS spectra 2',\n",
       " 'Glycylvaline_4TMS',\n",
       " 'Palmitic acid_1TMS'}"
      ]
     },
     "execution_count": 212,
     "metadata": {},
     "output_type": "execute_result"
    }
   ],
   "source": [
    "set(new) -set(orig)"
   ]
  },
  {
   "cell_type": "code",
   "execution_count": 213,
   "metadata": {},
   "outputs": [
    {
     "data": {
      "text/plain": [
       "{'2-Deoxyglucose_4TMS',\n",
       " 'Acetyllysine_4TMS',\n",
       " 'Galactitol_6TMS',\n",
       " 'Gluconic acid-1,4-lactone',\n",
       " 'Glucuro-3,6-lactone_3TMS isomer 1',\n",
       " 'Glutamic acid_3TMS spectra 1',\n",
       " 'Glycylvaline_4TMS',\n",
       " 'Isocitric acid_4TMS',\n",
       " 'Spermine_derivative',\n",
       " 'Uridine_4TMS isomer 1',\n",
       " 'Uridine_4TMS isomer 2',\n",
       " 'Xylose_4TMS'}"
      ]
     },
     "execution_count": 213,
     "metadata": {},
     "output_type": "execute_result"
    }
   ],
   "source": [
    "set(new) - ground"
   ]
  },
  {
   "cell_type": "code",
   "execution_count": 19,
   "metadata": {},
   "outputs": [
    {
     "data": {
      "text/plain": [
       "{'Acetyllysine_3TMS',\n",
       " 'Acetyllysine_4TMS',\n",
       " 'Galactitol_6TMS',\n",
       " 'Gluconic acid-1,4-lactone',\n",
       " 'Glutamic acid_2TMS',\n",
       " 'Glycylleucine_4TMS',\n",
       " 'Tryptamine_3TMS',\n",
       " 'Uridine_4TMS isomer 1',\n",
       " 'Uridine_4TMS isomer 2',\n",
       " 'Xylose_4TMS'}"
      ]
     },
     "execution_count": 19,
     "metadata": {},
     "output_type": "execute_result"
    }
   ],
   "source": [
    "set(orig) - ground"
   ]
  },
  {
   "cell_type": "code",
   "execution_count": null,
   "metadata": {},
   "outputs": [],
   "source": []
  },
  {
   "cell_type": "code",
   "execution_count": null,
   "metadata": {},
   "outputs": [],
   "source": []
  }
 ],
 "metadata": {
  "kernelspec": {
   "display_name": "Python 3",
   "language": "python",
   "name": "python3"
  },
  "language_info": {
   "codemirror_mode": {
    "name": "ipython",
    "version": 3
   },
   "file_extension": ".py",
   "mimetype": "text/x-python",
   "name": "python",
   "nbconvert_exporter": "python",
   "pygments_lexer": "ipython3",
   "version": "3.7.3"
  }
 },
 "nbformat": 4,
 "nbformat_minor": 4
}
