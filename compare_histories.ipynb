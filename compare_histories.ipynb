{
 "cells": [
  {
   "cell_type": "code",
   "execution_count": 1,
   "metadata": {},
   "outputs": [],
   "source": [
    "# Compare two matchms tables"
   ]
  },
  {
   "cell_type": "code",
   "execution_count": 916,
   "metadata": {},
   "outputs": [],
   "source": [
    "from prediction_utils import get_galaxy_filename\n",
    "import numpy as np\n",
    "import pandas as pd\n",
    "from matplotlib_venn import venn2 as venn2_\n",
    "import matplotlib.pyplot as plt\n",
    "\n",
    "\n",
    "def venn2(*args,):\n",
    "    v = venn2_(*args, set_labels = ('Predicted', 'Ground'))\n",
    "    v.get_patch_by_id('100').set_color('red')\n",
    "    v.get_patch_by_id('010').set_color('orange')\n",
    "    v.get_patch_by_id('110').set_color('green')"
   ]
  },
  {
   "cell_type": "code",
   "execution_count": 917,
   "metadata": {},
   "outputs": [
    {
     "name": "stdout",
     "output_type": "stream",
     "text": [
      "The autoreload extension is already loaded. To reload it, use:\n",
      "  %reload_ext autoreload\n"
     ]
    }
   ],
   "source": [
    "from prediction_utils import get_galaxy_filename\n",
    "\n",
    "fres1 = get_galaxy_filename('3_matchms output formatter', '../data', None)\n",
    "fres2 = get_galaxy_filename('4_matchms output formatter _get-thresholded-data_ on data 142 and data 141', 'tmp', None)\n",
    "\n",
    "fref = get_galaxy_filename('KC_Confirmed', '../data', None)\n",
    "\n",
    "\n",
    "# reference_lib = \"../data/1_rcx_gc-orbitrap_metabolites_20210817.msp.msp\"\n",
    "# concs = [\"all\"]\n",
    "# # if the predictions were generated in this galaxy session set to True\n",
    "# is_fresh = False\n",
    "# suffix = \"\" if is_fresh else \".txt\"\n",
    "\n",
    "\n",
    "%load_ext autoreload\n",
    "%autoreload 2"
   ]
  },
  {
   "cell_type": "code",
   "execution_count": 918,
   "metadata": {},
   "outputs": [
    {
     "data": {
      "text/plain": [
       "'../data/3_matchms output formatter _get-thresholded-data_ on data 122 and data 121.tsv'"
      ]
     },
     "execution_count": 918,
     "metadata": {},
     "output_type": "execute_result"
    }
   ],
   "source": [
    "fres1"
   ]
  },
  {
   "cell_type": "code",
   "execution_count": 919,
   "metadata": {},
   "outputs": [],
   "source": [
    "ref = pd.read_csv(fref)\n",
    "res1 = pd.read_csv(fres1, sep=\"\\t\", index_col=0)\n",
    "res2 = pd.read_csv(fres2, sep=\"\\t\", index_col=0)"
   ]
  },
  {
   "cell_type": "code",
   "execution_count": 920,
   "metadata": {},
   "outputs": [
    {
     "data": {
      "text/plain": [
       "66"
      ]
     },
     "execution_count": 920,
     "metadata": {},
     "output_type": "execute_result"
    }
   ],
   "source": [
    "len(res2.groupby(\"query\").mean())"
   ]
  },
  {
   "cell_type": "code",
   "execution_count": null,
   "metadata": {},
   "outputs": [],
   "source": []
  },
  {
   "cell_type": "code",
   "execution_count": 921,
   "metadata": {},
   "outputs": [],
   "source": [
    "ground = set(ref[\"Metabolite name\"])\n",
    "# orig = set(res1.reference) \n",
    "# new = set(res2.reference) "
   ]
  },
  {
   "cell_type": "code",
   "execution_count": 922,
   "metadata": {},
   "outputs": [
    {
     "data": {
      "text/plain": [
       "{'2-Methylmalonic acid_2TMS',\n",
       " 'Acetylgalactosamine_4TMS',\n",
       " 'Acetylgalactosamine_5TMS isomer 1',\n",
       " 'Acetylgalactosamine_5TMS isomer 2',\n",
       " 'Acetylglucosamine_5TMS isomer 1',\n",
       " 'Allose_5TMS isomer 1',\n",
       " 'Allose_5TMS isomer 2',\n",
       " 'Arabitol_5TMS',\n",
       " 'Arginine_3TMS',\n",
       " 'Asparagine_2TMS',\n",
       " 'Asparagine_3TMS',\n",
       " 'Asparagine_4TMS isomer 1',\n",
       " 'Asparagine_4TMS isomer 2',\n",
       " 'Aspartic acid_3TMS isomer',\n",
       " 'Citric acid_4TMS',\n",
       " 'Creatinine_3TMS',\n",
       " 'D27-Myristic acid_TMS spectra 1',\n",
       " 'D4-Succinic acid_2TMS spectra 1',\n",
       " 'Fructose_5TMS isomer 1',\n",
       " 'Fructose_5TMS isomer 2',\n",
       " 'Fumaric acid_2TMS',\n",
       " 'Glucose_5TMS isomer 1',\n",
       " 'Glucuro-3,6-lactone_3TMS isomer 2',\n",
       " 'Glutamic acid_3TMS spectra 2',\n",
       " 'Glycine_3TMS',\n",
       " 'Guanine_3TMS',\n",
       " 'Histidine_3TMS',\n",
       " 'Histidine_4TMS',\n",
       " 'Hypoxanthine_2TMS',\n",
       " 'Isoleucine_2TMS',\n",
       " 'Itaconic acid_2TMS',\n",
       " 'Leucine_2TMS',\n",
       " 'Lysine_3TMS',\n",
       " 'Lysine_4TMS',\n",
       " 'Malic acid_3TMS',\n",
       " 'Maltotriose_11TMS isomer 1',\n",
       " 'Maltotriose_11TMS isomer 2',\n",
       " 'Mannitol_6TMS',\n",
       " 'Mannose_5TMS isomer 1',\n",
       " 'Mannose_5TMS isomer 2',\n",
       " 'Methionine_2TMS',\n",
       " 'Myo-inositol_6TMS',\n",
       " 'Orotic acid_3TMS',\n",
       " 'Palmitic acid_1TMS',\n",
       " 'Phenylalanine_2TMS',\n",
       " 'Proline_2TMS',\n",
       " 'Pyroglutamic acid_2TMS',\n",
       " 'Ribitol_5TMS',\n",
       " 'Ribose_4TMS',\n",
       " 'Serine_3TMS',\n",
       " 'Serine_4TMS',\n",
       " 'Sorbitol_6TMS',\n",
       " 'Spermidine_5TMS',\n",
       " 'Spermine_6TMS',\n",
       " 'Stearic acid_1TMS',\n",
       " 'Taurine_3TMS',\n",
       " 'Threonic acid_4TMS',\n",
       " 'Threonine_3TMS spectra 1',\n",
       " 'Threonine_3TMS spectra 2',\n",
       " 'Tryptophan_3TMS',\n",
       " 'Tyrosine_3TMS',\n",
       " 'gamma-Aminobutyric acid_3TMS',\n",
       " 'trans-Aconitic acid_3TMS'}"
      ]
     },
     "execution_count": 922,
     "metadata": {},
     "output_type": "execute_result"
    }
   ],
   "source": [
    "ground"
   ]
  },
  {
   "cell_type": "code",
   "execution_count": 923,
   "metadata": {},
   "outputs": [],
   "source": [
    "# only set \n",
    "orig = res1[((res1.matches > th_m) & (res1.score > th_s))].reference\n",
    "\n",
    "\n",
    "# the top compound according to prespecified \"best\" criterion\n",
    "\n",
    "# add helper collumn\n",
    "res1[\"total\"] = res1[\"score\"]# * res1[\"matches\"]\n",
    "res2[\"total\"] =res2[\"score\"] #* res2[\"matches\"]\n",
    "\n",
    "x  = res1[((res1.matches > th_m) & (res1.score > th_s))]\n",
    "x = x.reset_index()\n",
    "\n",
    "x = x.loc[x.groupby('query')['total'].idxmax(), ['query', 'reference', 'total']]\n",
    "orig = x.reference\n",
    "\n",
    "\n",
    "# different perspective - how much of recovered spectra were sucesfully matched?\n",
    "# i sucessful mathcing is if the correct compound is matched in top 3(5) compounds sorted by score now\n",
    "# the linking of detected spectra to annotations is via RT"
   ]
  },
  {
   "cell_type": "code",
   "execution_count": null,
   "metadata": {},
   "outputs": [],
   "source": [
    "    "
   ]
  },
  {
   "cell_type": "code",
   "execution_count": 978,
   "metadata": {},
   "outputs": [],
   "source": [
    "th_m = 4\n",
    "th_s = 0.4"
   ]
  },
  {
   "cell_type": "code",
   "execution_count": 979,
   "metadata": {},
   "outputs": [
    {
     "data": {
      "text/html": [
       "<div>\n",
       "<style scoped>\n",
       "    .dataframe tbody tr th:only-of-type {\n",
       "        vertical-align: middle;\n",
       "    }\n",
       "\n",
       "    .dataframe tbody tr th {\n",
       "        vertical-align: top;\n",
       "    }\n",
       "\n",
       "    .dataframe thead th {\n",
       "        text-align: right;\n",
       "    }\n",
       "</style>\n",
       "<table border=\"1\" class=\"dataframe\">\n",
       "  <thead>\n",
       "    <tr style=\"text-align: right;\">\n",
       "      <th></th>\n",
       "      <th>query</th>\n",
       "      <th>reference</th>\n",
       "      <th>total</th>\n",
       "    </tr>\n",
       "  </thead>\n",
       "  <tbody>\n",
       "    <tr>\n",
       "      <th>5</th>\n",
       "      <td>C02</td>\n",
       "      <td>Lysine_4TMS</td>\n",
       "      <td>0.922810</td>\n",
       "    </tr>\n",
       "    <tr>\n",
       "      <th>16</th>\n",
       "      <td>C06</td>\n",
       "      <td>Fructose_5TMS isomer 2</td>\n",
       "      <td>0.876681</td>\n",
       "    </tr>\n",
       "    <tr>\n",
       "      <th>27</th>\n",
       "      <td>C08</td>\n",
       "      <td>Citric acid_4TMS</td>\n",
       "      <td>0.874922</td>\n",
       "    </tr>\n",
       "    <tr>\n",
       "      <th>33</th>\n",
       "      <td>C10</td>\n",
       "      <td>Myo-inositol_6TMS</td>\n",
       "      <td>0.915567</td>\n",
       "    </tr>\n",
       "    <tr>\n",
       "      <th>35</th>\n",
       "      <td>C16</td>\n",
       "      <td>Uridine_4TMS isomer 1</td>\n",
       "      <td>0.602506</td>\n",
       "    </tr>\n",
       "    <tr>\n",
       "      <th>37</th>\n",
       "      <td>C17</td>\n",
       "      <td>Serine_3TMS</td>\n",
       "      <td>0.825573</td>\n",
       "    </tr>\n",
       "    <tr>\n",
       "      <th>38</th>\n",
       "      <td>C19</td>\n",
       "      <td>Aspartic acid_3TMS isomer</td>\n",
       "      <td>0.909835</td>\n",
       "    </tr>\n",
       "    <tr>\n",
       "      <th>42</th>\n",
       "      <td>C26</td>\n",
       "      <td>Threonine_3TMS spectra 1</td>\n",
       "      <td>0.796540</td>\n",
       "    </tr>\n",
       "    <tr>\n",
       "      <th>44</th>\n",
       "      <td>C30</td>\n",
       "      <td>Asparagine_3TMS</td>\n",
       "      <td>0.420921</td>\n",
       "    </tr>\n",
       "    <tr>\n",
       "      <th>45</th>\n",
       "      <td>C40</td>\n",
       "      <td>Stearic acid_1TMS</td>\n",
       "      <td>0.417295</td>\n",
       "    </tr>\n",
       "  </tbody>\n",
       "</table>\n",
       "</div>"
      ],
      "text/plain": [
       "   query                  reference     total\n",
       "5    C02                Lysine_4TMS  0.922810\n",
       "16   C06     Fructose_5TMS isomer 2  0.876681\n",
       "27   C08           Citric acid_4TMS  0.874922\n",
       "33   C10          Myo-inositol_6TMS  0.915567\n",
       "35   C16      Uridine_4TMS isomer 1  0.602506\n",
       "37   C17                Serine_3TMS  0.825573\n",
       "38   C19  Aspartic acid_3TMS isomer  0.909835\n",
       "42   C26   Threonine_3TMS spectra 1  0.796540\n",
       "44   C30            Asparagine_3TMS  0.420921\n",
       "45   C40          Stearic acid_1TMS  0.417295"
      ]
     },
     "execution_count": 979,
     "metadata": {},
     "output_type": "execute_result"
    },
    {
     "data": {
      "image/png": "[encoded data removed]",
      "text/plain": [
       "<Figure size 432x288 with 1 Axes>"
      ]
     },
     "metadata": {},
     "output_type": "display_data"
    }
   ],
   "source": [
    "orig = res1[((res1.matches > th_m) & (res1.score > th_s))].reference\n",
    "# venn2((set(orig), ground))\n",
    "# orig\n",
    "#res1[((res1.matches > th_m) & (res1.score > th_s))].groupby([\"query\", \"reference\"])[\"total\"].max()\n",
    "\n",
    "\n",
    "x  = res1[((res1.matches > th_m) & (res1.score > th_s))]\n",
    "x = x.reset_index()\n",
    "\n",
    "x = x.loc[x.groupby('query')['total'].idxmax(), ['query', 'reference', 'total']]\n",
    "orig = x.reference\n",
    "\n",
    "\n",
    "venn2((set(orig), ground))\n",
    "orig\n",
    "x\n"
   ]
  },
  {
   "cell_type": "code",
   "execution_count": 980,
   "metadata": {},
   "outputs": [
    {
     "data": {
      "text/plain": [
       "{'Asparagine_3TMS',\n",
       " 'Aspartic acid_3TMS isomer',\n",
       " 'Citric acid_4TMS',\n",
       " 'Fructose_5TMS isomer 2',\n",
       " 'Lysine_4TMS',\n",
       " 'Myo-inositol_6TMS',\n",
       " 'Serine_3TMS',\n",
       " 'Stearic acid_1TMS',\n",
       " 'Threonine_3TMS spectra 1'}"
      ]
     },
     "execution_count": 980,
     "metadata": {},
     "output_type": "execute_result"
    }
   ],
   "source": [
    "set(orig).intersection(ground)"
   ]
  },
  {
   "cell_type": "code",
   "execution_count": null,
   "metadata": {},
   "outputs": [],
   "source": [
    "\n"
   ]
  },
  {
   "cell_type": "code",
   "execution_count": null,
   "metadata": {},
   "outputs": [],
   "source": []
  },
  {
   "cell_type": "code",
   "execution_count": 981,
   "metadata": {},
   "outputs": [
    {
     "data": {
      "text/html": [
       "<div>\n",
       "<style scoped>\n",
       "    .dataframe tbody tr th:only-of-type {\n",
       "        vertical-align: middle;\n",
       "    }\n",
       "\n",
       "    .dataframe tbody tr th {\n",
       "        vertical-align: top;\n",
       "    }\n",
       "\n",
       "    .dataframe thead th {\n",
       "        text-align: right;\n",
       "    }\n",
       "</style>\n",
       "<table border=\"1\" class=\"dataframe\">\n",
       "  <thead>\n",
       "    <tr style=\"text-align: right;\">\n",
       "      <th></th>\n",
       "      <th>query</th>\n",
       "      <th>reference</th>\n",
       "      <th>total</th>\n",
       "    </tr>\n",
       "  </thead>\n",
       "  <tbody>\n",
       "    <tr>\n",
       "      <th>5</th>\n",
       "      <td>C01</td>\n",
       "      <td>Lysine_4TMS</td>\n",
       "      <td>0.922073</td>\n",
       "    </tr>\n",
       "    <tr>\n",
       "      <th>16</th>\n",
       "      <td>C03</td>\n",
       "      <td>Fructose_5TMS isomer 2</td>\n",
       "      <td>0.876672</td>\n",
       "    </tr>\n",
       "    <tr>\n",
       "      <th>27</th>\n",
       "      <td>C07</td>\n",
       "      <td>Citric acid_4TMS</td>\n",
       "      <td>0.874352</td>\n",
       "    </tr>\n",
       "    <tr>\n",
       "      <th>33</th>\n",
       "      <td>C11</td>\n",
       "      <td>Myo-inositol_6TMS</td>\n",
       "      <td>0.915567</td>\n",
       "    </tr>\n",
       "    <tr>\n",
       "      <th>36</th>\n",
       "      <td>C17</td>\n",
       "      <td>Glutamic acid_3TMS spectra 2</td>\n",
       "      <td>0.931333</td>\n",
       "    </tr>\n",
       "    <tr>\n",
       "      <th>37</th>\n",
       "      <td>C19</td>\n",
       "      <td>Aspartic acid_3TMS isomer</td>\n",
       "      <td>0.909993</td>\n",
       "    </tr>\n",
       "    <tr>\n",
       "      <th>41</th>\n",
       "      <td>C21</td>\n",
       "      <td>Uridine_4TMS isomer 1</td>\n",
       "      <td>0.602503</td>\n",
       "    </tr>\n",
       "    <tr>\n",
       "      <th>43</th>\n",
       "      <td>C23</td>\n",
       "      <td>Serine_3TMS</td>\n",
       "      <td>0.825573</td>\n",
       "    </tr>\n",
       "    <tr>\n",
       "      <th>44</th>\n",
       "      <td>C25</td>\n",
       "      <td>Palmitic acid_1TMS</td>\n",
       "      <td>0.513152</td>\n",
       "    </tr>\n",
       "    <tr>\n",
       "      <th>46</th>\n",
       "      <td>C26</td>\n",
       "      <td>Acetylgalactosamine_5TMS isomer 1</td>\n",
       "      <td>0.452095</td>\n",
       "    </tr>\n",
       "    <tr>\n",
       "      <th>47</th>\n",
       "      <td>C29</td>\n",
       "      <td>Threonine_3TMS spectra 1</td>\n",
       "      <td>0.796540</td>\n",
       "    </tr>\n",
       "    <tr>\n",
       "      <th>49</th>\n",
       "      <td>C33</td>\n",
       "      <td>Asparagine_3TMS</td>\n",
       "      <td>0.420921</td>\n",
       "    </tr>\n",
       "    <tr>\n",
       "      <th>50</th>\n",
       "      <td>C39</td>\n",
       "      <td>Stearic acid_1TMS</td>\n",
       "      <td>0.417137</td>\n",
       "    </tr>\n",
       "  </tbody>\n",
       "</table>\n",
       "</div>"
      ],
      "text/plain": [
       "   query                          reference     total\n",
       "5    C01                        Lysine_4TMS  0.922073\n",
       "16   C03             Fructose_5TMS isomer 2  0.876672\n",
       "27   C07                   Citric acid_4TMS  0.874352\n",
       "33   C11                  Myo-inositol_6TMS  0.915567\n",
       "36   C17       Glutamic acid_3TMS spectra 2  0.931333\n",
       "37   C19          Aspartic acid_3TMS isomer  0.909993\n",
       "41   C21              Uridine_4TMS isomer 1  0.602503\n",
       "43   C23                        Serine_3TMS  0.825573\n",
       "44   C25                 Palmitic acid_1TMS  0.513152\n",
       "46   C26  Acetylgalactosamine_5TMS isomer 1  0.452095\n",
       "47   C29           Threonine_3TMS spectra 1  0.796540\n",
       "49   C33                    Asparagine_3TMS  0.420921\n",
       "50   C39                  Stearic acid_1TMS  0.417137"
      ]
     },
     "execution_count": 981,
     "metadata": {},
     "output_type": "execute_result"
    },
    {
     "data": {
      "image/png": "[encoded data removed]",
      "text/plain": [
       "<Figure size 432x288 with 1 Axes>"
      ]
     },
     "metadata": {},
     "output_type": "display_data"
    }
   ],
   "source": [
    "new = res2[((res2.matches > th_m) & (res2.score > th_s))].reference\n",
    "x  = res2[((res2.matches > th_m) & (res2.score > th_s))]\n",
    "x = x.reset_index()\n",
    "\n",
    "x = x.loc[x.groupby('query')['total'].idxmax(), ['query', 'reference', 'total']]\n",
    "new = x.reference\n",
    "\n",
    "\n",
    "venn2((set(new), ground))\n",
    "x"
   ]
  },
  {
   "cell_type": "code",
   "execution_count": 982,
   "metadata": {},
   "outputs": [
    {
     "data": {
      "text/plain": [
       "{'Acetylgalactosamine_5TMS isomer 1',\n",
       " 'Glutamic acid_3TMS spectra 2',\n",
       " 'Palmitic acid_1TMS'}"
      ]
     },
     "execution_count": 982,
     "metadata": {},
     "output_type": "execute_result"
    }
   ],
   "source": [
    "set(new).difference(orig).intersection(ground)"
   ]
  },
  {
   "cell_type": "code",
   "execution_count": 983,
   "metadata": {},
   "outputs": [
    {
     "data": {
      "text/plain": [
       "{'Acetylgalactosamine_5TMS isomer 1',\n",
       " 'Asparagine_3TMS',\n",
       " 'Aspartic acid_3TMS isomer',\n",
       " 'Citric acid_4TMS',\n",
       " 'Fructose_5TMS isomer 2',\n",
       " 'Glutamic acid_3TMS spectra 2',\n",
       " 'Lysine_4TMS',\n",
       " 'Myo-inositol_6TMS',\n",
       " 'Palmitic acid_1TMS',\n",
       " 'Serine_3TMS',\n",
       " 'Stearic acid_1TMS',\n",
       " 'Threonine_3TMS spectra 1'}"
      ]
     },
     "execution_count": 983,
     "metadata": {},
     "output_type": "execute_result"
    }
   ],
   "source": [
    "set(new).intersection(ground)"
   ]
  },
  {
   "cell_type": "code",
   "execution_count": 956,
   "metadata": {},
   "outputs": [],
   "source": [
    "orig = np.zeros(shape=(20, 20))\n",
    "new = orig.copy()\n",
    "\n",
    "stat_orig = np.ones(63) * (100)\n",
    "stat_new = stat_orig.copy()\n",
    "for i, n_m in enumerate(range(1,21)):\n",
    "    for j, n_s in enumerate(np.arange(0,1,0.05)):\n",
    "        for res, grid, stat in zip([res1, res2], [orig, new], [stat_orig, stat_new]):\n",
    "            p = set(res[((res.matches > n_m) & (res.score > n_s))].reference)\n",
    "            \n",
    "            x  = res[((res.matches > n_m) & (res.score > n_s))]\n",
    "            x = x.reset_index()\n",
    "\n",
    "            x = x.loc[x.groupby('query')['total'].idxmax(), ['query', 'reference', 'total']]\n",
    "            p = set(x.reference)\n",
    "            \n",
    "            TP = len(p.intersection(ground))\n",
    "            FP = len(p.difference(ground))\n",
    "            FN = len(ground.difference(p))\n",
    "            stat[TP] = min(FP, stat[TP])\n",
    "            grid[i,j] = TP/(TP + 0.5*(FN+FP)) if (TP + 0.5*(FN+FP)) != 0 else 0\n",
    "stat_orig[stat_orig == 100] = np.nan\n",
    "stat_new[stat_new == 100] = np.nan"
   ]
  },
  {
   "cell_type": "code",
   "execution_count": 901,
   "metadata": {},
   "outputs": [
    {
     "data": {
      "text/plain": [
       "<matplotlib.collections.PathCollection at 0x7f7b439a3860>"
      ]
     },
     "execution_count": 901,
     "metadata": {},
     "output_type": "execute_result"
    },
    {
     "data": {
      "image/png": "[encoded data removed]",
      "text/plain": [
       "<Figure size 432x288 with 1 Axes>"
      ]
     },
     "metadata": {
      "needs_background": "light"
     },
     "output_type": "display_data"
    }
   ],
   "source": [
    "plt.scatter(x=np.arange(63), y=stat_orig, color=\"blue\")\n",
    "plt.scatter(x=np.arange(63), y=stat_new, color = \"red\")"
   ]
  },
  {
   "cell_type": "code",
   "execution_count": 902,
   "metadata": {},
   "outputs": [
    {
     "data": {
      "text/plain": [
       "<matplotlib.collections.PathCollection at 0x7f7b43904da0>"
      ]
     },
     "execution_count": 902,
     "metadata": {},
     "output_type": "execute_result"
    },
    {
     "data": {
      "image/png": "[encoded data removed]",
      "text/plain": [
       "<Figure size 432x288 with 1 Axes>"
      ]
     },
     "metadata": {
      "needs_background": "light"
     },
     "output_type": "display_data"
    }
   ],
   "source": [
    "plt.scatter(x=np.arange(63), y=stat_orig, color=\"blue\")\n",
    "plt.scatter(x=np.arange(63), y=stat_new, color = \"red\")"
   ]
  },
  {
   "cell_type": "code",
   "execution_count": 903,
   "metadata": {},
   "outputs": [
    {
     "data": {
      "text/plain": [
       "array([ 0.,  0.,  0.,  0.,  0.,  0.,  0.,  0.,  1.,  0.,  1.,  0.,  1.,\n",
       "        1.,  0.,  2.,  5.,  2.,  3.,  7., 16., nan, nan, nan, nan, nan,\n",
       "       nan, nan, nan, nan, nan, nan, nan, nan, nan, nan, nan, nan, nan,\n",
       "       nan, nan, nan, nan, nan, nan, nan, nan, nan, nan, nan, nan, nan,\n",
       "       nan, nan, nan, nan, nan, nan, nan, nan, nan, nan, nan])"
      ]
     },
     "execution_count": 903,
     "metadata": {},
     "output_type": "execute_result"
    }
   ],
   "source": [
    "stat_orig - stat_new"
   ]
  },
  {
   "cell_type": "code",
   "execution_count": 904,
   "metadata": {},
   "outputs": [
    {
     "data": {
      "text/plain": [
       "<matplotlib.colorbar.Colorbar at 0x7f7b4383def0>"
      ]
     },
     "execution_count": 904,
     "metadata": {},
     "output_type": "execute_result"
    },
    {
     "data": {
      "image/png": "[encoded data removed]",
      "text/plain": [
       "<Figure size 432x288 with 2 Axes>"
      ]
     },
     "metadata": {
      "needs_background": "light"
     },
     "output_type": "display_data"
    }
   ],
   "source": [
    "c = plt.contour(new, cmap='RdGy')\n",
    "plt.clabel(c, inline=True, fontsize=8)\n",
    "\n",
    "plt.colorbar()"
   ]
  },
  {
   "cell_type": "code",
   "execution_count": 905,
   "metadata": {},
   "outputs": [
    {
     "data": {
      "text/plain": [
       "<matplotlib.colorbar.Colorbar at 0x7f7b4379d320>"
      ]
     },
     "execution_count": 905,
     "metadata": {},
     "output_type": "execute_result"
    },
    {
     "data": {
      "image/png": "[encoded data removed]",
      "text/plain": [
       "<Figure size 432x288 with 2 Axes>"
      ]
     },
     "metadata": {
      "needs_background": "light"
     },
     "output_type": "display_data"
    }
   ],
   "source": [
    "c = plt.contour(orig, cmap='RdGy')\n",
    "plt.clabel(c, inline=True, fontsize=8)\n",
    "\n",
    "plt.colorbar()\n"
   ]
  },
  {
   "cell_type": "code",
   "execution_count": 830,
   "metadata": {},
   "outputs": [
    {
     "data": {
      "text/plain": [
       "55.77760834190282"
      ]
     },
     "execution_count": 830,
     "metadata": {},
     "output_type": "execute_result"
    }
   ],
   "source": [
    "new.sum()"
   ]
  },
  {
   "cell_type": "code",
   "execution_count": 831,
   "metadata": {},
   "outputs": [
    {
     "data": {
      "text/plain": [
       "50.495491242887"
      ]
     },
     "execution_count": 831,
     "metadata": {},
     "output_type": "execute_result"
    }
   ],
   "source": [
    "orig.sum()"
   ]
  },
  {
   "cell_type": "code",
   "execution_count": 751,
   "metadata": {},
   "outputs": [],
   "source": [
    "th_m, th_s = 5, 0.4\n",
    "orig = res1[((res1.matches > th_m) & (res1.score > th_s))].reference\n",
    "new = res2[((res2.matches > th_m) & (res2.score > th_s))].reference\n"
   ]
  },
  {
   "cell_type": "code",
   "execution_count": 752,
   "metadata": {},
   "outputs": [
    {
     "data": {
      "text/plain": [
       "set()"
      ]
     },
     "execution_count": 752,
     "metadata": {},
     "output_type": "execute_result"
    }
   ],
   "source": [
    "set(orig) -set(new)"
   ]
  },
  {
   "cell_type": "code",
   "execution_count": 753,
   "metadata": {},
   "outputs": [
    {
     "data": {
      "text/plain": [
       "{'Acetylgalactosamine_4TMS',\n",
       " 'Acetylgalactosamine_5TMS isomer 1',\n",
       " 'Aspartic acid_3TMS isomer',\n",
       " 'Glutamic acid_3TMS spectra 1',\n",
       " 'Glutamic acid_3TMS spectra 2',\n",
       " 'Glycylvaline_4TMS',\n",
       " 'Palmitic acid_1TMS'}"
      ]
     },
     "execution_count": 753,
     "metadata": {},
     "output_type": "execute_result"
    }
   ],
   "source": [
    "set(new) -set(orig)"
   ]
  },
  {
   "cell_type": "code",
   "execution_count": 754,
   "metadata": {},
   "outputs": [
    {
     "data": {
      "text/plain": [
       "{'2-Deoxyglucose_4TMS',\n",
       " 'Acetyllysine_4TMS',\n",
       " 'Galactitol_6TMS',\n",
       " 'Gluconic acid-1,4-lactone',\n",
       " 'Glucuro-3,6-lactone_3TMS isomer 1',\n",
       " 'Glutamic acid_3TMS spectra 1',\n",
       " 'Glycylvaline_4TMS',\n",
       " 'Isocitric acid_4TMS',\n",
       " 'Spermine_derivative',\n",
       " 'Uridine_4TMS isomer 1',\n",
       " 'Uridine_4TMS isomer 2',\n",
       " 'Xylose_4TMS'}"
      ]
     },
     "execution_count": 754,
     "metadata": {},
     "output_type": "execute_result"
    }
   ],
   "source": [
    "set(new) - ground"
   ]
  },
  {
   "cell_type": "code",
   "execution_count": 755,
   "metadata": {},
   "outputs": [
    {
     "data": {
      "text/plain": [
       "{'2-Deoxyglucose_4TMS',\n",
       " 'Acetyllysine_4TMS',\n",
       " 'Galactitol_6TMS',\n",
       " 'Gluconic acid-1,4-lactone',\n",
       " 'Glucuro-3,6-lactone_3TMS isomer 1',\n",
       " 'Isocitric acid_4TMS',\n",
       " 'Spermine_derivative',\n",
       " 'Uridine_4TMS isomer 1',\n",
       " 'Uridine_4TMS isomer 2',\n",
       " 'Xylose_4TMS'}"
      ]
     },
     "execution_count": 755,
     "metadata": {},
     "output_type": "execute_result"
    }
   ],
   "source": [
    "set(orig) - ground"
   ]
  },
  {
   "cell_type": "code",
   "execution_count": null,
   "metadata": {},
   "outputs": [],
   "source": []
  },
  {
   "cell_type": "code",
   "execution_count": null,
   "metadata": {},
   "outputs": [],
   "source": []
  }
 ],
 "metadata": {
  "kernelspec": {
   "display_name": "Python 3",
   "language": "python",
   "name": "python3"
  },
  "language_info": {
   "codemirror_mode": {
    "name": "ipython",
    "version": 3
   },
   "file_extension": ".py",
   "mimetype": "text/x-python",
   "name": "python",
   "nbconvert_exporter": "python",
   "pygments_lexer": "ipython3",
   "version": "3.7.3"
  }
 },
 "nbformat": 4,
 "nbformat_minor": 4
}
