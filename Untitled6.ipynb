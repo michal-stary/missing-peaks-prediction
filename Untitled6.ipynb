{
 "cells": [
  {
   "cell_type": "code",
   "execution_count": null,
   "id": "0fa05cf9-d217-4fa6-9340-9b682dd6df9e",
   "metadata": {},
   "outputs": [],
   "source": []
  },
  {
   "cell_type": "code",
   "execution_count": null,
   "id": "71417e52-665c-4c5a-9f9c-4652da78a2c7",
   "metadata": {},
   "outputs": [],
   "source": []
  },
  {
   "cell_type": "code",
   "execution_count": 18,
   "id": "25f8591a-9819-4d2d-9b7e-cdd31505cfac",
   "metadata": {},
   "outputs": [
    {
     "name": "stdout",
     "output_type": "stream",
     "text": [
      "The autoreload extension is already loaded. To reload it, use:\n",
      "  %reload_ext autoreload\n"
     ]
    }
   ],
   "source": [
    "base = \"data\"\n",
    "dataset = \"nist\"\n",
    "kind = \"de_novo\"\n",
    "\n",
    "data_train_path =f\"{base}/{dataset}/{kind}/train.msp\"\n",
    "data_val_path =f\"{base}/{dataset}/{kind}/val.msp\"\n",
    "data_test_path =f\"{base}/{dataset}/{kind}/test.msp\"\n",
    "\n",
    "\n",
    "%load_ext autoreload\n",
    "%autoreload 2"
   ]
  },
  {
   "cell_type": "code",
   "execution_count": 19,
   "id": "f0099c7e-afd6-4cde-a566-002648601d0a",
   "metadata": {},
   "outputs": [],
   "source": [
    "# compounds to visualize \n",
    "if kind == \"in_database\":\n",
    "    interesting =  [\"Atrazine\", \"Carbofuran\", \"Monocrotophos\", \"Mevinphos\", \"Testosterone\"]\n",
    "elif kind == \"de_novo\":\n",
    "    interesting =  [\"Metobromuron\", \"Picoxystrobin\", \"Cyphenothrin\", \"Mirex\"]"
   ]
  },
  {
   "cell_type": "markdown",
   "id": "bfad6568-93d8-4755-a73c-2effc21e98c6",
   "metadata": {},
   "source": [
    "## Data loading"
   ]
  },
  {
   "cell_type": "code",
   "execution_count": 20,
   "id": "df08dea5-f795-45c8-a11b-84c123c59c9c",
   "metadata": {},
   "outputs": [],
   "source": [
    "# from matchms.importing import load_from_msp\n",
    "\n",
    "from matchms.importing import load_from_msp\n",
    "from helpers import get_mz_vector, get_his_size\n",
    "from data_utils import spectrum_processing\n",
    "from data_utils import FixedSizeDS\n",
    "from torch.utils.data import Dataset, DataLoader\n",
    "import numpy as np\n",
    "\n",
    "import torch\n",
    "import torch.nn as nn\n",
    "import tqdm\n",
    "import torch.nn.functional as F\n",
    "\n",
    "# only for visual \n",
    "from spec2vec import SpectrumDocument\n",
    "from data_utils import BasicCoder\n"
   ]
  },
  {
   "cell_type": "code",
   "execution_count": 21,
   "id": "6038f80f-77e0-43f5-875e-70a174a20e1d",
   "metadata": {},
   "outputs": [],
   "source": [
    "def get_spectra(path):\n",
    "    # Load data from MSP file and apply filters\n",
    "    spectrums = [spectrum_processing(s, min_rel_int=None) for s in load_from_msp(path)]\n",
    "    # Omit spectrums that didn't qualify for analysis\n",
    "    spectrums = [s for s in spectrums if s is not None]\n",
    "    # Create spectrum documents\n",
    "    return spectrums\n",
    "\n",
    "spectrums_train = get_spectra(data_train_path)\n",
    "spectrums_val = get_spectra(data_val_path)\n",
    "spectrums_test = get_spectra(data_test_path)"
   ]
  },
  {
   "cell_type": "code",
   "execution_count": 22,
   "id": "f80c66dd-d62f-4a90-a6a3-0d8b55d08be0",
   "metadata": {},
   "outputs": [
    {
     "data": {
      "text/plain": [
       "225077"
      ]
     },
     "execution_count": 22,
     "metadata": {},
     "output_type": "execute_result"
    }
   ],
   "source": [
    "len(spectrums_train)"
   ]
  },
  {
   "cell_type": "code",
   "execution_count": 23,
   "id": "677a9ebe-b4ce-41f2-bb0a-468ff2877648",
   "metadata": {},
   "outputs": [
    {
     "data": {
      "text/plain": [
       "28034"
      ]
     },
     "execution_count": 23,
     "metadata": {},
     "output_type": "execute_result"
    }
   ],
   "source": [
    "len(spectrums_val)"
   ]
  },
  {
   "cell_type": "code",
   "execution_count": 24,
   "id": "80b50ffa-a65e-4bed-9ec3-d1a678c59bcb",
   "metadata": {},
   "outputs": [
    {
     "data": {
      "text/plain": [
       "27908"
      ]
     },
     "execution_count": 24,
     "metadata": {},
     "output_type": "execute_result"
    }
   ],
   "source": [
    "len(spectrums_test)"
   ]
  },
  {
   "cell_type": "code",
   "execution_count": 25,
   "id": "0f9f197b-6447-46c9-b0b7-de18b4fd9409",
   "metadata": {},
   "outputs": [],
   "source": [
    "all_ = [*load_from_msp(\"data/20210925_NIST_EI_MS_cleaned.msp\")]"
   ]
  },
  {
   "cell_type": "code",
   "execution_count": 11,
   "id": "a25194b1-60bc-4a39-888a-bb0c1d8b3230",
   "metadata": {},
   "outputs": [
    {
     "data": {
      "text/plain": [
       "350618"
      ]
     },
     "execution_count": 11,
     "metadata": {},
     "output_type": "execute_result"
    }
   ],
   "source": [
    "len(all_)"
   ]
  },
  {
   "cell_type": "code",
   "execution_count": 15,
   "id": "bc74dc46-2f75-43fb-a6fc-27bb24062e21",
   "metadata": {},
   "outputs": [],
   "source": [
    "annotated = [x for x in all_ if \"inchikey\" in x.metadata]"
   ]
  },
  {
   "cell_type": "code",
   "execution_count": 14,
   "id": "b2ec5c4e-bb4c-43fd-8b6d-7ff88cd9a930",
   "metadata": {},
   "outputs": [
    {
     "data": {
      "text/plain": [
       "{'name': 'Hydrogen',\n",
       " 'formula': 'H2',\n",
       " 'mw': '2',\n",
       " 'casno': '1333-74-0',\n",
       " 'id': '1',\n",
       " 'comment': 'NIST MS# 245692, Seq# M1',\n",
       " 'inchi': 'InChI=1S/H2/h1H',\n",
       " 'inchikey': 'UFHFLCQGNIYNRP-UHFFFAOYSA-N',\n",
       " 'iupac_name': 'molecular hydrogen',\n",
       " 'smiles': '[HH]',\n",
       " 'num peaks': '2'}"
      ]
     },
     "execution_count": 14,
     "metadata": {},
     "output_type": "execute_result"
    }
   ],
   "source": [
    "all_[0].metadata"
   ]
  },
  {
   "cell_type": "code",
   "execution_count": 16,
   "id": "accf1a69-45f6-4b7d-8d9b-e4de145b0ac0",
   "metadata": {},
   "outputs": [
    {
     "data": {
      "text/plain": [
       "290455"
      ]
     },
     "execution_count": 16,
     "metadata": {},
     "output_type": "execute_result"
    }
   ],
   "source": [
    "len(annotated)"
   ]
  },
  {
   "cell_type": "code",
   "execution_count": 17,
   "id": "40abbc0a-25a2-4d79-a337-2464dafa3ef0",
   "metadata": {},
   "outputs": [
    {
     "data": {
      "text/plain": [
       "243413"
      ]
     },
     "execution_count": 17,
     "metadata": {},
     "output_type": "execute_result"
    }
   ],
   "source": [
    "len(set([x.metadata[\"inchikey\"].split(\"-\")[0] for x in annotated]))"
   ]
  },
  {
   "cell_type": "code",
   "execution_count": null,
   "id": "69570122-7b9c-491f-8b77-635a178023f7",
   "metadata": {},
   "outputs": [],
   "source": []
  }
 ],
 "metadata": {
  "kernelspec": {
   "display_name": "Python 3",
   "language": "python",
   "name": "python3"
  },
  "language_info": {
   "codemirror_mode": {
    "name": "ipython",
    "version": 3
   },
   "file_extension": ".py",
   "mimetype": "text/x-python",
   "name": "python",
   "nbconvert_exporter": "python",
   "pygments_lexer": "ipython3",
   "version": "3.8.5"
  }
 },
 "nbformat": 4,
 "nbformat_minor": 5
}
