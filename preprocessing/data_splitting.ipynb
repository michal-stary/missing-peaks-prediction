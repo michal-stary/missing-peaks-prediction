{
 "cells": [
  {
   "cell_type": "markdown",
   "id": "vital-utility",
   "metadata": {},
   "source": [
    "# Train-test split\n",
    "Author: Michal Stary\n",
    "\n",
    "\n",
    "In this notebook we perform train-test split of our original datasets' files. \n",
    "Since we need to cope with multiple records of most of the compounds, such a split needs to be done carefuly. "
   ]
  },
  {
   "cell_type": "code",
   "execution_count": 10,
   "id": "rural-scholar",
   "metadata": {},
   "outputs": [],
   "source": [
    "# path to datasets\n",
    "mona_path = \"/storage/brno1-cerit/projects/msml/data/src/MoNA-export-GC-MS_Spectra.msp\"\n",
    "nist_path = \"/storage/brno1-cerit/projects/msml/data/src/20210925_NIST_EI_MS_cleaned.msp\""
   ]
  },
  {
   "cell_type": "code",
   "execution_count": 11,
   "id": "applicable-arabic",
   "metadata": {},
   "outputs": [],
   "source": [
    "import numpy as np\n",
    "\n",
    "from matchms.importing import load_from_msp\n",
    "from matchms.exporting import save_as_msp as save_as_msp_orig\n",
    "\n",
    "# REDEFINE save_as_msp function to avoid problems with nested comments\n",
    "def save_as_msp(ds, path):\n",
    "    for rec in ds:\n",
    "        if \"comments\" in rec.metadata:\n",
    "            rec.set(\"comment\", rec.get(\"comments\"))\n",
    "            rec._metadata.pop(\"comments\")\n",
    "    save_as_msp_orig(ds, path)"
   ]
  },
  {
   "cell_type": "code",
   "execution_count": 12,
   "id": "verbal-trauma",
   "metadata": {},
   "outputs": [],
   "source": [
    "%%capture\n",
    "mona = [*load_from_msp(mona_path, metadata_harmonization=False)]\n",
    "nist = [*load_from_msp(nist_path, metadata_harmonization=False)]\n"
   ]
  },
  {
   "cell_type": "code",
   "execution_count": 13,
   "id": "seeing-dairy",
   "metadata": {},
   "outputs": [],
   "source": [
    "data = dict()\n",
    "data[\"mona\"] = dict()\n",
    "data[\"nist\"] = dict()"
   ]
  },
  {
   "cell_type": "code",
   "execution_count": 14,
   "id": "becoming-distance",
   "metadata": {},
   "outputs": [],
   "source": [
    "# fix seed for now\n",
    "np.random.seed(42)"
   ]
  },
  {
   "cell_type": "markdown",
   "id": "innovative-python",
   "metadata": {},
   "source": [
    "## Naive solution - Random split\n",
    "randomly assign into partitions"
   ]
  },
  {
   "cell_type": "code",
   "execution_count": 15,
   "id": "intense-contrast",
   "metadata": {},
   "outputs": [],
   "source": [
    "def random_split(size, split1=.8, split2=.9):\n",
    "    split = int(size*split1)\n",
    "    split2 = int(size*split2)\n",
    "\n",
    "    ind = np.zeros(size)\n",
    "    ind[split:split2] = 1\n",
    "    ind[split2:] = 2\n",
    "\n",
    "    \n",
    "    np.random.shuffle(ind)\n",
    "\n",
    "    train_ind = np.where(ind==0)[0]\n",
    "    val_ind = np.where(ind==1)[0]\n",
    "    test_ind = np.where(ind==2)[0]\n",
    "\n",
    "    return train_ind, val_ind, test_ind\n",
    "\n",
    "def get_sub(docs, indcs):\n",
    "    return [docs[i] for i in indcs]\n",
    "\n",
    "def do_random_split(mona, nist):\n",
    "    data[\"mona\"][\"random_split_8_9\"] = [get_sub(mona, indcs) for indcs in random_split(len(mona))]\n",
    "    data[\"nist\"][\"random_split_8_9\"] = [get_sub(nist, indcs) for indcs in random_split(len(nist))]\n",
    "\n",
    "do_random_split(mona, nist)\n"
   ]
  },
  {
   "cell_type": "markdown",
   "id": "brown-witch",
   "metadata": {},
   "source": [
    "### Notes\n",
    "Unfortunately, the simple naive solution does not take in account the repetitive records of the same compound in dataset. \n",
    "As a result, the effect of such a split is that compounds present in test set can overlap with compounds in train set. This violates the standard splitting conditions. \n",
    "\n",
    "SCENARIO: I may or may not have the compound in DB, but it was measured imperfecly in experiment. "
   ]
  },
  {
   "cell_type": "markdown",
   "id": "turkish-theorem",
   "metadata": {},
   "source": [
    "# Advanced solutions\n",
    "To simulate and assess performance without overlapping sets, we need to use records' attribute that represents what compound they represent.  \n",
    "\n",
    "Records without this attribute are skipped for now.\n"
   ]
  },
  {
   "cell_type": "code",
   "execution_count": 23,
   "id": "collective-formation",
   "metadata": {},
   "outputs": [
    {
     "name": "stdout",
     "output_type": "stream",
     "text": [
      "**MONA***\n",
      "Dropped 6 out of 18898 records due to missing unique key\n",
      "Unique keys 9858\n",
      "\n",
      "***NIST***\n",
      "Dropped 60163 out of 350618 records due to missing unique key\n",
      "Unique keys 246910\n"
     ]
    }
   ],
   "source": [
    "# get mapping and first occurences of each unique compound\n",
    "def get_map(ds, unkey=\"inchikey\", parseuk_fn=lambda x: x):\n",
    "    map_ = dict()\n",
    "    dropped = 0\n",
    "    for i, rec in enumerate(ds):\n",
    "        if unkey not in rec.metadata or rec.metadata[unkey] == \"nan\":\n",
    "            dropped +=1\n",
    "            continue\n",
    "        \n",
    "        if parseuk_fn(rec.metadata[unkey]) not in map_:\n",
    "            map_[parseuk_fn(rec.metadata[unkey])] = [rec]\n",
    "        else:\n",
    "            map_[parseuk_fn(rec.metadata[unkey])].append(rec)\n",
    "            \n",
    "    print(f\"Dropped {dropped} out of {len(ds)} records due to missing unique key\")\n",
    "    return map_\n",
    "\n",
    "print(\"**MONA***\")\n",
    "mona_map = get_map(mona, \"inchikey\")#, lambda x: x.split(\"-\")[0])\n",
    "print(f\"Unique keys {len(mona_map)}\")\n",
    "\n",
    "\n",
    "print()\n",
    "print(\"***NIST***\")\n",
    "nist_map = get_map(nist, \"inchikey\")#, lambda x: x.split(\"-\")[0])\n",
    "print(f\"Unique keys {len(nist_map)}\")\n"
   ]
  },
  {
   "cell_type": "markdown",
   "id": "serious-olive",
   "metadata": {},
   "source": [
    "## Put aside some compounds completely\n",
    "put aside few compunds for the very ultimate evaluation of working with previously unseen compounds\n",
    "\n",
    "\n",
    "We have 2 options how to do this:\n",
    "\n",
    "1. remove all records of selected compounds from datasets \n",
    "2. use dedicated extra dataset and make sure that its compounds are not in the datasets"
   ]
  },
  {
   "cell_type": "markdown",
   "id": "literary-apparatus",
   "metadata": {},
   "source": [
    "### First approach - select & remove"
   ]
  },
  {
   "cell_type": "code",
   "execution_count": 24,
   "id": "applied-carter",
   "metadata": {},
   "outputs": [],
   "source": [
    "# random selection of compounds \n",
    "def select_random(ds_map, partition=.03):\n",
    "    split = int(len(ds_map)*partition)\n",
    "    ind = np.zeros(len(ds_map))\n",
    "    ind[split:] = 1\n",
    "    np.random.shuffle(ind)\n",
    "    \n",
    "    map_kept = dict()\n",
    "    map_left = dict()\n",
    "    for i, key in zip(ind, ds_map):\n",
    "        if i != 0:\n",
    "            map_kept[key] = ds_map[key]  \n",
    "        else:\n",
    "            map_left[key] = ds_map[key] \n",
    "            \n",
    "    return map_kept, map_left\n",
    "\n",
    "def do_select_random(mona_map, nist_map):\n",
    "    mona_map, mona_map_left = select_random(mona_map)\n",
    "    data[\"mona\"][\"left\"] = [[item for sublist in mona_map_left.values() for item in sublist]]\n",
    "\n",
    "    nist_map, nist_map_left = select_random(nist_map)\n",
    "    data[\"nist\"][\"left\"] = [[item for sublist in nist_map_left.values() for item in sublist]]\n",
    "\n",
    "    return mona_map, nist_map\n",
    "\n",
    "mona_map, nist_map = do_select_random(mona_map, nist_map)"
   ]
  },
  {
   "cell_type": "markdown",
   "id": "stainless-willow",
   "metadata": {},
   "source": [
    "### Second approach - obtain, check, (remove)\n",
    "We will use small hi-res datasets from RECETOX\n",
    "\n",
    "we can either remove mutual compounds from base datasets (MONA/NIST) or from these extra datasets. "
   ]
  },
  {
   "cell_type": "code",
   "execution_count": 25,
   "id": "physical-registrar",
   "metadata": {},
   "outputs": [
    {
     "name": "stdout",
     "output_type": "stream",
     "text": [
      "Dropped 0 out of 386 records due to missing unique key\n",
      "Dropped 0 out of 265 records due to missing unique key\n"
     ]
    }
   ],
   "source": [
    "# path to extra datasets\n",
    "rcx1_path = \"/storage/brno1-cerit/projects/msml/data/src/recetox_gc-ei_ms_20201028.msp\"\n",
    "rcx2_path = \"/storage/brno1-cerit/projects/msml/data/src/rcx_gc-orbitrap_metabolites_20210817.msp\"\n",
    "\n",
    "\n",
    "rcx1 = [*load_from_msp(rcx1_path, metadata_harmonization=False)]\n",
    "rcx2 = [*load_from_msp(rcx2_path, metadata_harmonization=False)]\n",
    "\n",
    "rcx1_map = get_map(rcx1, \"inchikey\")#, lambda x: x.split(\"-\")[0])\n",
    "rcx2_map = get_map(rcx2, \"inchikey\")#, lambda x: x.split(\"-\")[0])\n",
    "\n"
   ]
  },
  {
   "cell_type": "code",
   "execution_count": 66,
   "id": "geological-aberdeen",
   "metadata": {},
   "outputs": [],
   "source": [
    "# substract from ds1 all records that have same InChiKey as any record in ds2\n",
    "def substract_by_key(ds1_map, ds2_map):\n",
    "    ds1_attr = set(ds1_map.keys())\n",
    "    ds2_attr = set(ds2_map.keys())\n",
    "    left_attr = ds1_attr.difference(ds2_attr)    \n",
    "    #print(len(ds1_attr), len(left_attr))\n",
    "    return left_attr\n",
    "\n",
    "def keep_only_by_key(ds1_map, ds2_map):\n",
    "    ds1_attr = set(ds1_map.keys())\n",
    "    ds2_attr = set(ds2_map.keys())\n",
    "    left_attr = ds1_attr.intersection(ds2_attr)    \n",
    "    #print(len(ds1_attr), len(left_attr))\n",
    "    return left_attr\n",
    "\n",
    "def get_list_by_keys(keys, map_):\n",
    "    res = []\n",
    "    for key in keys:\n",
    "        res += map_[key]\n",
    "    return res\n",
    "\n",
    "def do_small():\n",
    "    data[\"mona\"][\"rcx1_no_mona\"] = [get_list_by_keys(substract_by_key(rcx1_map, mona_map), rcx1_map)]\n",
    "    data[\"mona\"][\"rcx2_no_mona\"] = [get_list_by_keys(substract_by_key(rcx2_map, mona_map), rcx2_map)]\n",
    "    \n",
    "    data[\"nist\"][\"rcx1_no_nist\"] = [get_list_by_keys(substract_by_key(rcx1_map, nist_map), rcx1_map)]\n",
    "    data[\"nist\"][\"rcx2_no_nist\"] = [get_list_by_keys(substract_by_key(rcx2_map, nist_map), rcx2_map)]\n",
    "    \n",
    "    data[\"nist\"][\"nist_rcx1_only\"] = [get_list_by_keys(keep_only_by_key(rcx1_map, nist_map), nist_map)]\n",
    "    data[\"nist\"][\"nist_rcx2_only\"] = [get_list_by_keys(keep_only_by_key(rcx2_map, nist_map), nist_map)]\n",
    "    \n",
    "do_small()"
   ]
  },
  {
   "cell_type": "code",
   "execution_count": 67,
   "id": "96951c79-7f4b-42fe-8059-b451dd37b2e0",
   "metadata": {},
   "outputs": [
    {
     "data": {
      "text/plain": [
       "([62], 386)"
      ]
     },
     "execution_count": 67,
     "metadata": {},
     "output_type": "execute_result"
    }
   ],
   "source": [
    "[*map(len, data[\"nist\"][\"rcx1_no_nist\"])], len(rcx1)"
   ]
  },
  {
   "cell_type": "code",
   "execution_count": 68,
   "id": "3c18b871-9da1-48ec-aee3-d58ca0eab503",
   "metadata": {},
   "outputs": [
    {
     "data": {
      "text/plain": [
       "([155], 265)"
      ]
     },
     "execution_count": 68,
     "metadata": {},
     "output_type": "execute_result"
    }
   ],
   "source": [
    "[*map(len, data[\"nist\"][\"rcx2_no_nist\"])], len(rcx2)"
   ]
  },
  {
   "cell_type": "code",
   "execution_count": 96,
   "id": "f5646f21-0426-4de0-ad3e-0da05479cec6",
   "metadata": {},
   "outputs": [
    {
     "data": {
      "text/plain": [
       "{'scannumber': '-1',\n",
       " 'precursortype': '[M]+',\n",
       " 'ionmode': 'Positive',\n",
       " 'spectrumtype': 'Centroid',\n",
       " 'formula': 'C18H30N2O2Si2',\n",
       " 'inchikey': 'BITJWWNGDAOCJT-UHFFFAOYSA-N',\n",
       " 'inchi': '',\n",
       " 'smiles': 'C[Si](C)(C)Oc1cc2c(cc1)n(cc2CC\\\\N=C(/C)O)[Si](C)(C)C',\n",
       " 'authors': 'Price et al., RECETOX, Masaryk University (CZ)',\n",
       " 'instrument': 'Q Exactive GC Orbitrap GC-MS/MS',\n",
       " 'instrumenttype': 'GC-EI-Orbitrap',\n",
       " 'ionization': 'EI+',\n",
       " 'license': 'CC BY-NC',\n",
       " 'comment': '',\n",
       " 'peak_comments': {73.04681: 'Theoretical m/z 73.046806, Mass diff 0 (0.05 ppm), SMILES C[Si+](C)C, Annotation [C3H9Si]+, Rule of HR True',\n",
       "  76.01821: 'Theoretical m/z 76.018724, Mass diff 0 (0 ppm), Formula C5H2N',\n",
       "  78.03387: 'Theoretical m/z 78.034374, Mass diff 0 (0 ppm), Formula C5H4N',\n",
       "  79.04164: 'Theoretical m/z 79.042199, Mass diff 0 (0 ppm), Formula C5H5N',\n",
       "  81.06992: 'Theoretical m/z 81.069878, Mass diff 0 (0.52 ppm), SMILES C1C[C+]2CCC12, Annotation [C6H9]+, Rule of HR True',\n",
       "  89.03854: 'Theoretical m/z 89.039125, Mass diff 0 (0 ppm), Formula C7H5',\n",
       "  91.05424: 'Theoretical m/z 91.054775, Mass diff 0 (0 ppm), Formula C7H7',\n",
       "  92.06213: 'Theoretical m/z 92.0626, Mass diff 0 (0 ppm), Formula C7H8',\n",
       "  93.03666: 'Theoretical m/z 93.037181, Mass diff 0 (0 ppm), Formula C2H9O2Si',\n",
       "  103.05418: 'Theoretical m/z 103.054775, Mass diff 0 (0 ppm), Formula C8H7',\n",
       "  104.06204: 'Theoretical m/z 104.0626, Mass diff 0 (0 ppm), Formula C8H8',\n",
       "  105.06992: 'Theoretical m/z 105.070425, Mass diff 0 (0 ppm), Formula C8H9',\n",
       "  111.04412: 'Theoretical m/z 111.044604, Mass diff 0 (0 ppm), Formula C6H7O2',\n",
       "  113.03857: 'Theoretical m/z 113.039125, Mass diff 0 (0 ppm), Formula C9H5',\n",
       "  115.05422: 'Theoretical m/z 115.054775, Mass diff 0 (0 ppm), Formula C9H7',\n",
       "  120.05695: 'Theoretical m/z 120.057515, Mass diff 0 (0 ppm), Formula C8H8O',\n",
       "  129.06982: 'Theoretical m/z 129.070425, Mass diff 0 (0 ppm), Formula C10H9',\n",
       "  130.06831: 'Theoretical m/z 130.068816, Mass diff 0 (0 ppm), Formula C5H12NOSi',\n",
       "  141.06976: 'Theoretical m/z 141.070425, Mass diff 0 (0 ppm), Formula C11H9',\n",
       "  145.06465: 'Theoretical m/z 145.06534, Mass diff 0 (0 ppm), Formula C10H9O',\n",
       "  178.07762: 'Theoretical m/z 178.07825, Mass diff 0 (0 ppm), Formula C14H10',\n",
       "  183.08034: 'Theoretical m/z 183.08099, Mass diff 0 (0 ppm), Formula C13H11O',\n",
       "  194.07246: 'Theoretical m/z 194.073165, Mass diff 0 (0 ppm), Formula C14H10O',\n",
       "  204.08408: 'Theoretical m/z 204.083912, Mass diff 0 (0.83 ppm), SMILES O(C=1C=CC=2NC=CC2C1)[Si](C)(C)C, Annotation [C11H15NOSi-H]+, Rule of HR True',\n",
       "  211.06046: 'Theoretical m/z 211.061058, Mass diff 0 (0 ppm), Formula C9H15O2Si2',\n",
       "  214.10466: 'Theoretical m/z 214.104654, Mass diff 0 (0.03 ppm), SMILES C=1C=CC2=C(C1)C(=CN2[Si](C)(C)C)CC, Annotation [C13H19NSi-3H]+, Rule of HR True',\n",
       "  220.07869: 'Theoretical m/z 220.07938, Mass diff 0 (0 ppm), Formula C11H14NO2Si',\n",
       "  230.00099: 'Theoretical m/z 230.003074, Mass diff 0.002 (0 ppm), Formula C18N',\n",
       "  230.09961: 'Theoretical m/z 230.099573, Mass diff 0 (0.16 ppm), SMILES O(C=1C=CC=2NC=C(C2C1)CC)[Si](C)(C)C, Annotation [C13H19NOSi-3H]+, Rule of HR True',\n",
       "  273.14221: 'Theoretical m/z 273.141773, Mass diff 0 (1.6 ppm), SMILES OC(=NCCC1=CN(C=2C=CC=CC21)[Si](C)(C)C)C, Annotation [C15H22N2OSi-H]+, Rule of HR True',\n",
       "  288.12326: 'Theoretical m/z 288.123437, Mass diff 0 (0.62 ppm), SMILES O(C=1C=CC2=C(C1)C(=CN2[Si](C)(C)C)CC)[SiH](C)C, Annotation [C15H25NOSi2-3H]+, Rule of HR True',\n",
       "  290.13898: 'Theoretical m/z 290.139087, Mass diff 0 (0.37 ppm), SMILES O(C=1C=CC2=C(C1)C(=CN2[Si](C)(C)C)C)[Si](C)(C)C, Annotation [C15H25NOSi2-H]+, Rule of HR True',\n",
       "  293.13925: 'Theoretical m/z 293.139308, Mass diff 0 (0 ppm), Formula C15H25O2Si2',\n",
       "  302.1391: 'Theoretical m/z 302.139642, Mass diff 0 (0 ppm), Formula C16H24NOSi2',\n",
       "  306.13388: 'Theoretical m/z 306.134557, Mass diff 0 (0 ppm), Formula C15H24NO2Si2',\n",
       "  345.1445: 'Theoretical m/z 345.145456, Mass diff 0 (0 ppm), Formula C17H25N2O2Si2',\n",
       "  362.18381: 'Theoretical m/z 362.184022, Mass diff 0 (0.58 ppm), SMILES OC(=NCCC1=CN(C=2C=CC(O[Si](C)(C)C)=CC21)[Si](C)(C)C)C, Annotation [C18H30N2O2Si2]+, Rule of HR False'},\n",
       " 'num_peaks': '84',\n",
       " 'compound_name': 'Acetylserotonin_2TMS isomer 2',\n",
       " 'retention_time': '-1',\n",
       " 'retention_index': '2520.736',\n",
       " 'precursor_mz': '362.18381',\n",
       " 'collision_energy': '70'}"
      ]
     },
     "execution_count": 96,
     "metadata": {},
     "output_type": "execute_result"
    }
   ],
   "source": [
    "rcx2[0].metadata"
   ]
  },
  {
   "cell_type": "code",
   "execution_count": 84,
   "id": "a8faa5d9-3527-4b77-a119-589949cdd39e",
   "metadata": {},
   "outputs": [
    {
     "data": {
      "text/plain": [
       "288"
      ]
     },
     "execution_count": 84,
     "metadata": {},
     "output_type": "execute_result"
    }
   ],
   "source": [
    "len(data[\"nist\"][\"nist_rcx2_only\"][0])"
   ]
  },
  {
   "cell_type": "code",
   "execution_count": 38,
   "id": "32ab232c-3dba-4e74-a8ae-6f90dbd9ee0f",
   "metadata": {},
   "outputs": [
    {
     "data": {
      "text/plain": [
       "{'formula': 'C20D12',\n",
       " 'mw': '264',\n",
       " 'casno': '1520-96-3',\n",
       " 'id': '153501',\n",
       " 'comment': 'NIST MS# 118444, Seq# M269847',\n",
       " 'inchi': 'InChI=1S/C20H12/c1-5-13-6-2-11-17-18-12-4-8-14-7-3-10-16(20(14)18)15(9-1)19(13)17/h1-12H/i1D,2D,3D,4D,5D,6D,7D,8D,9D,10D,11D,12D',\n",
       " 'inchikey': 'CSHWQDPOILHKBI-AQZSQYOVSA-N',\n",
       " 'iupac_name': '1,2,3,4,5,6,7,8,9,10,11,12-dodecadeuterioperylene',\n",
       " 'smiles': 'C1=CC2=C3C(=C1)C4=CC=CC5=C4C(=CC=C5)C3=CC=C2',\n",
       " 'num_peaks': '40',\n",
       " 'compound_name': 'Perylene-D12'}"
      ]
     },
     "execution_count": 38,
     "metadata": {},
     "output_type": "execute_result"
    }
   ],
   "source": [
    "nist_map[[*rcx1_map.keys()][0]][0].metadata"
   ]
  },
  {
   "cell_type": "code",
   "execution_count": 39,
   "id": "27cc4aae-d997-46ad-9aaa-2debc06fa4b6",
   "metadata": {},
   "outputs": [
    {
     "data": {
      "text/plain": [
       "{'scannumber': '-1',\n",
       " 'precursortype': '[M]+',\n",
       " 'ionmode': 'Positive',\n",
       " 'spectrumtype': 'Centroid',\n",
       " 'formula': 'C20H12',\n",
       " 'inchikey': 'CSHWQDPOILHKBI-AQZSQYOVSA-N',\n",
       " 'inchi': '',\n",
       " 'smiles': '[2H]C1=C(C2=C3C(=C1[2H])C4=C(C(=C(C5=C4C(=C(C(=C5[2H])[2H])[2H])C3=C(C(=C2[2H])[2H])[2H])[2H])[2H])[2H])[2H]',\n",
       " 'authors': 'Price et al., RECETOX, Masaryk University (CZ)',\n",
       " 'instrument': 'Q Exactive GC Orbitrap GC-MS/MS',\n",
       " 'instrumenttype': 'GC-EI-Orbitrap',\n",
       " 'ionization': 'EI+',\n",
       " 'license': 'CC BY-NC',\n",
       " 'comment': '',\n",
       " 'num_peaks': '33',\n",
       " 'compound_name': 'Perylene_2H12',\n",
       " 'retention_time': '-1',\n",
       " 'retention_index': '2876',\n",
       " 'precursor_mz': '264.16858',\n",
       " 'collision_energy': '70eV'}"
      ]
     },
     "execution_count": 39,
     "metadata": {},
     "output_type": "execute_result"
    }
   ],
   "source": [
    "rcx1_map[[*rcx1_map.keys()][0]][0].metadata"
   ]
  },
  {
   "cell_type": "code",
   "execution_count": 41,
   "id": "b162c150-fc3e-49fd-8b8b-59e16a4659bc",
   "metadata": {},
   "outputs": [],
   "source": [
    "from matchms.plotting import plot_spectra_mirror"
   ]
  },
  {
   "cell_type": "code",
   "execution_count": 45,
   "id": "7494d899-8e88-4585-a4e1-396c1aaa9769",
   "metadata": {},
   "outputs": [
    {
     "data": {
      "text/plain": [
       "<AxesSubplot:title={'center':'Spectrum comparison'}, xlabel='m/z', ylabel='Intensity'>"
      ]
     },
     "execution_count": 45,
     "metadata": {},
     "output_type": "execute_result"
    },
    {
     "data": {
      "image/png": "[encoded data removed]",
      "text/plain": [
       "<Figure size 432x288 with 1 Axes>"
      ]
     },
     "metadata": {
      "needs_background": "light"
     },
     "output_type": "display_data"
    }
   ],
   "source": [
    "plot_spectra_mirror(nist_map[[*rcx1_map.keys()][0]][0], rcx1_map[[*rcx1_map.keys()][0]][0])"
   ]
  },
  {
   "cell_type": "code",
   "execution_count": 55,
   "id": "6afba4a6-5105-4757-915b-03c04210a9a6",
   "metadata": {},
   "outputs": [
    {
     "data": {
      "text/plain": [
       "('c1cc2cccc3c4cccc5cccc(c(c1)c23)c54',\n",
       " '[2H]c1c([2H])c2c([2H])c([2H])c([2H])c3c4c([2H])c([2H])c([2H])c5c([2H])c([2H])c([2H])c(c(c1[2H])c23)c54')"
      ]
     },
     "execution_count": 55,
     "metadata": {},
     "output_type": "execute_result"
    }
   ],
   "source": [
    "from rdkit import Chem\n",
    "\n",
    "smis = [nist_map[[*rcx1_map.keys()][0]][0].metadata[\"smiles\"],\n",
    "          rcx1_map[[*rcx1_map.keys()][0]][0].metadata[\"smiles\"]]\n",
    "\n",
    "cans = [Chem.MolToSmiles(Chem.MolFromSmiles(smi), True) for smi in smis]\n",
    "cans[0],cans[1]\n",
    "\n",
    "# Chem.MolToInchiKey"
   ]
  },
  {
   "cell_type": "code",
   "execution_count": 64,
   "id": "285c9f74-4fdd-4638-b45a-8e954aeee26a",
   "metadata": {},
   "outputs": [
    {
     "data": {
      "text/plain": [
       "{'formula': 'C12H8',\n",
       " 'mw': '152',\n",
       " 'casno': '208-96-8',\n",
       " 'id': '29521',\n",
       " 'comment': 'SemiStdNP=1455/10/22 StdNP=1426/8/14 StdPolar=2191/3/2 ; NIST MS# 228341, Seq# M177049 |RI:1460|',\n",
       " 'inchi': 'InChI=1S/C12H8/c1-3-9-4-2-6-11-8-7-10(5-1)12(9)11/h1-8H',\n",
       " 'inchikey': 'HXGDTGSAIMULJN-UHFFFAOYSA-N',\n",
       " 'iupac_name': 'acenaphthylene',\n",
       " 'smiles': 'C1=CC2=C3C(=C1)C=CC3=CC=C2',\n",
       " 'num_peaks': '58',\n",
       " 'compound_name': 'Acenaphthylene',\n",
       " 'retention_index': '1460'}"
      ]
     },
     "execution_count": 64,
     "metadata": {},
     "output_type": "execute_result"
    }
   ],
   "source": [
    "nist_map[[*rcx1_map.keys()][5]][0].metadata"
   ]
  },
  {
   "cell_type": "code",
   "execution_count": 65,
   "id": "4bd5b3af-8e0f-4903-b48c-1d270982a0ec",
   "metadata": {},
   "outputs": [
    {
     "data": {
      "text/plain": [
       "{'scannumber': '-1',\n",
       " 'precursortype': '[M]+',\n",
       " 'ionmode': 'Positive',\n",
       " 'spectrumtype': 'Centroid',\n",
       " 'formula': 'C12H8',\n",
       " 'inchikey': 'HXGDTGSAIMULJN-UHFFFAOYSA-N',\n",
       " 'inchi': '',\n",
       " 'smiles': 'C1=CC2=C3C1=CC=CC3=CC=C2',\n",
       " 'authors': 'Price et al., RECETOX, Masaryk University (CZ)',\n",
       " 'instrument': 'Q Exactive GC Orbitrap GC-MS/MS',\n",
       " 'instrumenttype': 'GC-EI-Orbitrap',\n",
       " 'ionization': 'EI+',\n",
       " 'license': 'CC BY-NC',\n",
       " 'comment': '',\n",
       " 'peak_comments': {74.01511: 'Theoretical m/z 74.01565, Mass diff 0 (0 ppm), Formula C6H2',\n",
       "  75.02295: 'Theoretical m/z 75.023475, Mass diff 0 (0 ppm), Formula C6H3',\n",
       "  76.03077: 'Theoretical m/z 76.0313, Mass diff 0 (0 ppm), Formula C6H4',\n",
       "  77.03858: 'Theoretical m/z 77.039125, Mass diff 0 (0 ppm), Formula C6H5',\n",
       "  86.01511: 'Theoretical m/z 86.01565, Mass diff 0 (0 ppm), Formula C7H2',\n",
       "  87.02298: 'Theoretical m/z 87.023475, Mass diff 0 (0 ppm), Formula C7H3',\n",
       "  91.05425: 'Theoretical m/z 91.054775, Mass diff 0 (0 ppm), Formula C7H7',\n",
       "  92.06201: 'Theoretical m/z 92.0626, Mass diff 0 (0 ppm), Formula C7H8',\n",
       "  93.06988: 'Theoretical m/z 93.070425, Mass diff 0 (0 ppm), Formula C7H9',\n",
       "  99.02294: 'Theoretical m/z 99.023475, Mass diff 0 (0 ppm), Formula C8H3',\n",
       "  149.03862: 'Theoretical m/z 149.039125, Mass diff 0 (0 ppm), Formula C12H5',\n",
       "  151.05417: 'Theoretical m/z 151.054775, Mass diff 0 (0 ppm), Formula C12H7',\n",
       "  152.06192: 'Theoretical m/z 152.062058, Mass diff 0 (0.91 ppm), SMILES C=1C=C2C=CC=C3C=CC(C1)=C23, Annotation [C12H8]+, Rule of HR False'},\n",
       " 'num_peaks': '19',\n",
       " 'compound_name': 'Acenaphthylene',\n",
       " 'retention_time': '-1',\n",
       " 'retention_index': '1501',\n",
       " 'precursor_mz': '152.06192',\n",
       " 'collision_energy': '70eV'}"
      ]
     },
     "execution_count": 65,
     "metadata": {},
     "output_type": "execute_result"
    }
   ],
   "source": [
    "rcx1_map[[*rcx1_map.keys()][5]][0].metadata"
   ]
  },
  {
   "cell_type": "code",
   "execution_count": 58,
   "id": "1f85d432-c933-4c87-8409-c7d080c0c89e",
   "metadata": {},
   "outputs": [],
   "source": [
    "from matchms.plotting import plot_spectra_mirror"
   ]
  },
  {
   "cell_type": "code",
   "execution_count": 62,
   "id": "0fb7e0f1-8ab3-4f07-a36a-6ec2b89d9b65",
   "metadata": {},
   "outputs": [
    {
     "data": {
      "text/plain": [
       "<AxesSubplot:title={'center':'Spectrum comparison'}, xlabel='m/z', ylabel='Intensity'>"
      ]
     },
     "execution_count": 62,
     "metadata": {},
     "output_type": "execute_result"
    },
    {
     "data": {
      "image/png": "[encoded data removed]",
      "text/plain": [
       "<Figure size 432x288 with 1 Axes>"
      ]
     },
     "metadata": {
      "needs_background": "light"
     },
     "output_type": "display_data"
    }
   ],
   "source": [
    "plot_spectra_mirror(nist_map[[*rcx1_map.keys()][5]][0], rcx1_map[[*rcx1_map.keys()][5]][0])"
   ]
  },
  {
   "cell_type": "code",
   "execution_count": 63,
   "id": "a34a31a6-7e5e-4717-ae09-db1574d5fdee",
   "metadata": {},
   "outputs": [
    {
     "data": {
      "text/plain": [
       "('C1=Cc2cccc3cccc1c23', 'C1=Cc2cccc3cccc1c23')"
      ]
     },
     "execution_count": 63,
     "metadata": {},
     "output_type": "execute_result"
    }
   ],
   "source": [
    "from rdkit import Chem\n",
    "\n",
    "smis = [nist_map[[*rcx1_map.keys()][5]][0].metadata[\"smiles\"],\n",
    "          rcx1_map[[*rcx1_map.keys()][5]][0].metadata[\"smiles\"]]\n",
    "\n",
    "cans = [Chem.MolToSmiles(Chem.MolFromSmiles(smi), True) for smi in smis]\n",
    "cans[0],cans[1]\n",
    "\n",
    "# Chem.MolToInchiKey"
   ]
  },
  {
   "cell_type": "markdown",
   "id": "controversial-satin",
   "metadata": {},
   "source": [
    "# Scenario 2 - dealing solely with known compounds\n",
    "Firstly, we divide our dataset into train-val-test partitions to simulate prediction of missing parts of compounds that are part of our database.\n",
    "\n",
    "We do that by leveraging the duplicity of compounds in dababases:\n",
    "        \n",
    "    All first occurences of compounds in dataset are put into train set\n",
    "    Left out records are then splitted by compounds and put into validation and test sets. "
   ]
  },
  {
   "cell_type": "code",
   "execution_count": 11,
   "id": "explicit-watson",
   "metadata": {},
   "outputs": [],
   "source": [
    "def get_sub_nested(map_, indcs):\n",
    "    keys = np.array(list(map_.keys()))[indcs]\n",
    "    return [item for sublist in [map_[i] for i in keys] for item in sublist]\n",
    "\n",
    "def get_first_others(ds_map):\n",
    "    first = []\n",
    "    others_map = dict()\n",
    "    for key in ds_map:\n",
    "        first.append(ds_map[key][0])\n",
    "        if len(ds_map[key]) > 1:\n",
    "            others_map[key] = ds_map[key][1:]\n",
    "    return first, others_map\n",
    "\n",
    "def do_first_others_split(mona_map, nist_map):\n",
    "    mona_first, mona_others_map = get_first_others(mona_map)\n",
    "    nist_first, nist_others_map = get_first_others(nist_map)\n",
    "    \n",
    "    # split by compounds\n",
    "    mona_others_ind = random_split(len(mona_others_map.keys()), 0,.5)\n",
    "    nist_others_ind = random_split(len(nist_others_map.keys()), 0,.5)\n",
    "    \n",
    "    data[\"mona\"][\"in_database\"] = [mona_first] + [get_sub_nested(mona_others_map, indcs) for indcs in mona_others_ind][1:]\n",
    "    data[\"nist\"][\"in_database\"] = [nist_first] + [get_sub_nested(nist_others_map, indcs) for indcs in nist_others_ind][1:]\n",
    "\n",
    "do_first_others_split(mona_map, nist_map)"
   ]
  },
  {
   "cell_type": "markdown",
   "id": "worthy-tobacco",
   "metadata": {},
   "source": [
    "# Scenario 3 - dealing solely with unknown compounds\n",
    "Secodly, we divide our dataset into train-val-test partitions to simulate prediction of missing parts of compounds that are not in our database.\n",
    "\n",
    "    Dataset is splitted so either only one record per compound is kept or that repetetive records of the same compound are only in one partition. "
   ]
  },
  {
   "cell_type": "markdown",
   "id": "neither-kennedy",
   "metadata": {},
   "source": [
    "## Keep unique only random split\n",
    "keeps only first occurence of each compound in ds\n",
    "\n",
    "randomly assign into partitions"
   ]
  },
  {
   "cell_type": "code",
   "execution_count": 12,
   "id": "piano-fifteen",
   "metadata": {},
   "outputs": [],
   "source": [
    "split_mona = random_split(len(mona_map))\n",
    "split_nist = random_split(len(nist_map))"
   ]
  },
  {
   "cell_type": "code",
   "execution_count": 13,
   "id": "indirect-report",
   "metadata": {},
   "outputs": [],
   "source": [
    "def get_first_occ(ds_map):\n",
    "    first = []\n",
    "    for key in ds_map:\n",
    "        first.append(ds_map[key][0])\n",
    "    return first\n",
    "\n",
    "def do_first_only_random_split(mona_map, nist_map):\n",
    "    data[\"mona\"][\"unique_inchi\"] = [get_sub(get_first_occ(mona_map), indcs) for indcs in split_mona]\n",
    "    data[\"nist\"][\"unique_inchi\"] = [get_sub(get_first_occ(nist_map), indcs) for indcs in split_nist]\n",
    "\n",
    "do_first_only_random_split(mona_map, nist_map)"
   ]
  },
  {
   "cell_type": "markdown",
   "id": "silent-insert",
   "metadata": {},
   "source": [
    "## Duplicates in set only split\n",
    "assure that duplicate records of any compounds occurs only in one partition\n",
    "\n",
    "SCENARIO: I DO NOT have the compound in DB, but it was measured imperfecly in experiment and."
   ]
  },
  {
   "cell_type": "code",
   "execution_count": 14,
   "id": "martial-milwaukee",
   "metadata": {},
   "outputs": [],
   "source": [
    "\n",
    "\n",
    "def do_duplicates_in_partition_only_split(mona_map, nist_map):\n",
    "    data[\"mona\"][\"de_novo\"] = [get_sub_nested(mona_map, indcs) for indcs in split_mona]\n",
    "    data[\"nist\"][\"de_novo\"] = [get_sub_nested(nist_map, indcs) for indcs in split_nist]\n",
    "\n",
    "do_duplicates_in_partition_only_split(mona_map, nist_map)"
   ]
  },
  {
   "cell_type": "markdown",
   "id": "alien-sheffield",
   "metadata": {},
   "source": [
    "## Inspections"
   ]
  },
  {
   "cell_type": "code",
   "execution_count": 15,
   "id": "synthetic-spelling",
   "metadata": {},
   "outputs": [
    {
     "data": {
      "text/plain": [
       "{'name': '2,4-DINITROPHENOL',\n",
       " 'synon': '$:00in-source',\n",
       " 'db#': 'JP000002',\n",
       " 'inchikey': 'UFBJCMHMOXMLKC-UHFFFAOYSA-N',\n",
       " 'spectrum_type': 'MS1',\n",
       " 'instrument_type': 'EI-B',\n",
       " 'instrument': 'VARIAN MAT-44',\n",
       " 'ion_mode': 'P',\n",
       " 'formula': 'C6H4N2O5',\n",
       " 'mw': '184',\n",
       " 'exactmass': '184.01202122799998',\n",
       " 'smiles': '[O-1][N+1](=O)c(c1)cc([N+1]([O-1])=O)c(O)c1',\n",
       " 'inchi': 'InChI=1S/C6H4N2O5/c9-6-2-1-4(7(10)11)3-5(6)8(12)13/h1-3,9H',\n",
       " 'computed smiles': 'C1=C(C=C(C(=C1)O)N(=O)=O)N(=O)=O',\n",
       " 'accession': 'JP000002',\n",
       " 'date': '2016.01.19 (Created 2008.10.21, modified 2011.05.06)',\n",
       " 'author': 'KOGA M, UNIV. OF OCCUPATIONAL AND ENVIRONMENTAL HEALTH',\n",
       " 'license': 'CC BY-NC-SA',\n",
       " 'exact mass': '184.01202',\n",
       " 'ionization energy': '70 eV',\n",
       " 'ion type': '[M]+*',\n",
       " 'splash': 'splash10-0w33-9300000000-b1719d21caddddc047cb',\n",
       " 'submitter': 'University of Tokyo Team (Faculty of Engineering, University of Tokyo)',\n",
       " 'mona rating': '3.75',\n",
       " 'num peaks': '64'}"
      ]
     },
     "execution_count": 15,
     "metadata": {},
     "output_type": "execute_result"
    }
   ],
   "source": [
    "mona[1].metadata"
   ]
  },
  {
   "cell_type": "code",
   "execution_count": 16,
   "id": "basic-relative",
   "metadata": {},
   "outputs": [
    {
     "data": {
      "text/plain": [
       "dict_keys(['random_split_8_9', 'left', 'rcx1_no_nist', 'rcx2_no_nist', 'in_database', 'unique_inchi', 'de_novo'])"
      ]
     },
     "execution_count": 16,
     "metadata": {},
     "output_type": "execute_result"
    }
   ],
   "source": [
    "data[\"nist\"].keys()"
   ]
  },
  {
   "cell_type": "code",
   "execution_count": 17,
   "id": "fewer-quick",
   "metadata": {},
   "outputs": [
    {
     "data": {
      "text/plain": [
       "[280494, 35062, 35062]"
      ]
     },
     "execution_count": 17,
     "metadata": {},
     "output_type": "execute_result"
    }
   ],
   "source": [
    "[*map(len, data[\"nist\"][\"random_split_8_9\"])]"
   ]
  },
  {
   "cell_type": "code",
   "execution_count": 18,
   "id": "cooperative-browser",
   "metadata": {},
   "outputs": [
    {
     "data": {
      "text/plain": [
       "[225611, 28108, 27980]"
      ]
     },
     "execution_count": 18,
     "metadata": {},
     "output_type": "execute_result"
    }
   ],
   "source": [
    "[*map(len,data[\"nist\"][\"de_novo\"])]"
   ]
  },
  {
   "cell_type": "code",
   "execution_count": 19,
   "id": "scientific-sending",
   "metadata": {},
   "outputs": [
    {
     "data": {
      "text/plain": [
       "[236111, 22978, 22610]"
      ]
     },
     "execution_count": 19,
     "metadata": {},
     "output_type": "execute_result"
    }
   ],
   "source": [
    "[*map(len,data[\"nist\"][\"in_database\"])]"
   ]
  },
  {
   "cell_type": "code",
   "execution_count": 20,
   "id": "nuclear-delight",
   "metadata": {},
   "outputs": [
    {
     "name": "stdout",
     "output_type": "stream",
     "text": [
      "(n, k) tuples, where n=number of duplicates and k=number of compounds with k duplicates\n"
     ]
    },
    {
     "data": {
      "text/plain": [
       "[(1, 210330),\n",
       " (2, 15066),\n",
       " (3, 5629),\n",
       " (4, 2847),\n",
       " (5, 1447),\n",
       " (6, 427),\n",
       " (7, 153),\n",
       " (9, 69),\n",
       " (8, 58),\n",
       " (10, 34),\n",
       " (11, 14),\n",
       " (12, 14),\n",
       " (13, 10),\n",
       " (14, 4),\n",
       " (19, 3),\n",
       " (15, 2),\n",
       " (17, 2),\n",
       " (24, 1),\n",
       " (16, 1)]"
      ]
     },
     "execution_count": 20,
     "metadata": {},
     "output_type": "execute_result"
    }
   ],
   "source": [
    "from collections import Counter\n",
    "\n",
    "print(\"(n, k) tuples, where n=number of duplicates and k=number of compounds with k duplicates\")\n",
    "Counter([len(nist_map[k]) for k in nist_map]).most_common()\n"
   ]
  },
  {
   "cell_type": "code",
   "execution_count": 94,
   "id": "cfcaff67-6297-4609-8703-2287f5c579fc",
   "metadata": {},
   "outputs": [
    {
     "data": {
      "text/plain": [
       "dict_keys(['rcx1_no_nist', 'rcx2_no_nist', 'nist_rcx1_only', 'nist_rcx2_only'])"
      ]
     },
     "execution_count": 94,
     "metadata": {},
     "output_type": "execute_result"
    }
   ],
   "source": [
    "data[\"nist\"].keys()\n",
    "# data[\"nist\"].pop(\"left\")"
   ]
  },
  {
   "cell_type": "markdown",
   "id": "supposed-dating",
   "metadata": {},
   "source": [
    "## Save into files"
   ]
  },
  {
   "cell_type": "code",
   "execution_count": 95,
   "id": "processed-nutrition",
   "metadata": {},
   "outputs": [],
   "source": [
    "import os\n",
    "def save(data, path):\n",
    "    for ds in data:\n",
    "        #os.makedirs(path + ds, exist_ok=True)\n",
    "        for kind in data[ds]:\n",
    "            os.makedirs(f\"{path}/{ds}/{kind}\", exist_ok=True)\n",
    "            for part, recs in zip([\"train\", \"val\", \"test\"], data[ds][kind]):\n",
    "                save_as_msp(recs, f\"{path}/{ds}/{kind}/{part}.msp\")\n",
    "\n",
    "save(data, \"/storage/brno2/home/xstary1/brno6/missing-peaks-prediction/data\")\n",
    "#save(data, \"/storage/brno1-cerit/projects/msml/data/split\")"
   ]
  },
  {
   "cell_type": "code",
   "execution_count": 85,
   "id": "automated-uruguay",
   "metadata": {},
   "outputs": [
    {
     "name": "stdout",
     "output_type": "stream",
     "text": [
      "/auto/brno2/home/xstary1/brno6/missing-peaks-prediction/preprocessing\n"
     ]
    }
   ],
   "source": [
    "!pwd"
   ]
  },
  {
   "cell_type": "code",
   "execution_count": null,
   "id": "0885bd64-ce1c-4566-b6fb-aa7e60908f89",
   "metadata": {},
   "outputs": [],
   "source": []
  }
 ],
 "metadata": {
  "kernelspec": {
   "display_name": "Python 3",
   "language": "python",
   "name": "python3"
  },
  "language_info": {
   "codemirror_mode": {
    "name": "ipython",
    "version": 3
   },
   "file_extension": ".py",
   "mimetype": "text/x-python",
   "name": "python",
   "nbconvert_exporter": "python",
   "pygments_lexer": "ipython3",
   "version": "3.8.5"
  }
 },
 "nbformat": 4,
 "nbformat_minor": 5
}
