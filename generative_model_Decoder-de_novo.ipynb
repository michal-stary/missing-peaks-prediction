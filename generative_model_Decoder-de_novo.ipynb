{
 "cells": [
  {
   "cell_type": "markdown",
   "metadata": {},
   "source": [
    "# Decoder\n",
    "currently GPT2 lightweight model\n",
    "\n",
    "variants:\n",
    "autoreg x dst -\n",
    "\n",
    "wpe as intensity order - default\n",
    "\n",
    "no wpe - TODO (easy, add positions ids all same, only use different DS, dataloader)\n",
    "\n",
    "gas2vec embed - easy if fixed - direct embeddings as input - only use different DS, daloader, harder if further trained\n",
    "\n"
   ]
  },
  {
   "cell_type": "markdown",
   "metadata": {},
   "source": [
    "## Settings"
   ]
  },
  {
   "cell_type": "code",
   "execution_count": 1,
   "metadata": {},
   "outputs": [],
   "source": [
    "base = \"data\"\n",
    "dataset = \"nist\"\n",
    "kind = \"de_novo\"\n",
    "\n",
    "\n",
    "wv_path = f\"gas2vec/{kind}.model\"\n",
    "\n",
    "data_train_path =f\"{base}/{dataset}/{kind}/train.msp\"\n",
    "data_val_path =f\"{base}/{dataset}/{kind}/val.msp\"\n",
    "data_test_path =f\"{base}/{dataset}/{kind}/test.msp\"\n",
    "\n",
    "\n",
    "%load_ext autoreload\n",
    "%autoreload 2"
   ]
  },
  {
   "cell_type": "code",
   "execution_count": null,
   "metadata": {},
   "outputs": [],
   "source": [
    "from gensim.models import Word2Vec\n",
    "\n",
    "w2v = Word2Vec.load(wv_path)\n",
    "vocab = {e:i for i, e in enumerate(w2v.wv.index2entity)}\n",
    "#vocab[\"unknown\"] = -1\n"
   ]
  },
  {
   "cell_type": "markdown",
   "metadata": {},
   "source": [
    "## Data loading"
   ]
  },
  {
   "cell_type": "code",
   "execution_count": null,
   "metadata": {},
   "outputs": [],
   "source": [
    "from matchms.importing import load_from_msp\n",
    "from spec2vec import SpectrumDocument\n",
    "from data_utils import spectrum_processing\n",
    "from data_utils import IntegerMzCoder, TextMzCoder, TopKDS, GenDS, HuggDS\n",
    "from torch.utils.data import Dataset, DataLoader\n",
    "import numpy as np\n",
    "import torch"
   ]
  },
  {
   "cell_type": "code",
   "execution_count": 4,
   "metadata": {},
   "outputs": [],
   "source": [
    "def load_process_documents(path, max_peaks=None):\n",
    "    # Load data from MSP file and apply filters\n",
    "    spectrums = [spectrum_processing(s, min_rel_int=None, max_peaks=max_peaks) for s in load_from_msp(path)]\n",
    "    # Omit spectrums that didn't qualify for analysis\n",
    "    spectrums = [s for s in spectrums if s is not None]\n",
    "    # Create spectrum documents\n",
    "    documents = [SpectrumDocument(s, n_decimals=0) for s in spectrums]\n",
    "    return documents\n",
    "\n",
    "documents_train = load_process_documents(data_train_path)\n",
    "documents_val = load_process_documents(data_val_path)\n",
    "documents_test = load_process_documents(data_test_path)"
   ]
  },
  {
   "cell_type": "code",
   "execution_count": 5,
   "metadata": {},
   "outputs": [],
   "source": [
    "datasets = {\n",
    "    \"hugg_train\": HuggDS(documents_train, vocab, max_len=256, add_intensity=False,quadratic=False), \n",
    "    \"hugg_val\": HuggDS(documents_val, vocab, max_len=256), \n",
    "    \"hugg_test\": HuggDS(documents_test, vocab, max_len=256), \n",
    "}\n",
    "\n",
    "dataloaders = {\n",
    "    \"train\": DataLoader(datasets[\"hugg_train\"], batch_size=64, shuffle=True, num_workers=8),\n",
    "    \"val\": DataLoader(datasets[\"hugg_val\"], batch_size=256, shuffle=True, num_workers=8),\n",
    "    \"test\": None\n",
    "}"
   ]
  },
  {
   "cell_type": "code",
   "execution_count": 6,
   "metadata": {},
   "outputs": [],
   "source": [
    "#datasets[\"hugg_val\"][3][\"attention_mask\"].dtype"
   ]
  },
  {
   "cell_type": "markdown",
   "metadata": {},
   "source": [
    "## Models definition"
   ]
  },
  {
   "cell_type": "code",
   "execution_count": 24,
   "metadata": {},
   "outputs": [],
   "source": [
    "import numpy as np\n",
    "import torch\n",
    "from transformers import GPT2Config, GPT2LMHeadModel\n",
    "\n",
    "# Initializing a GPT2 configuration\n",
    "configuration = GPT2Config(n_positions=256, vocab_size=len(vocab)+1, \\\n",
    "                            bos_token_id=len(vocab), eos_token_id=len(vocab))#\\\n",
    "#                               pad_token_id=len(vocab))\n",
    "\n",
    "\n",
    "configuration = GPT2Config(n_positions=256, vocab_size=len(vocab)+1, \\\n",
    "                            bos_token_id=len(vocab), eos_token_id=len(vocab), n_ctx=256)#, n_head=6, n_layer=6)\n",
    "#\\\n",
    "#                               pad_token_id=len(vocab))\n"
   ]
  },
  {
   "cell_type": "code",
   "execution_count": 25,
   "metadata": {},
   "outputs": [
    {
     "data": {
      "text/plain": [
       "GPT2Config {\n",
       "  \"activation_function\": \"gelu_new\",\n",
       "  \"attn_pdrop\": 0.1,\n",
       "  \"bos_token_id\": 998,\n",
       "  \"embd_pdrop\": 0.1,\n",
       "  \"eos_token_id\": 998,\n",
       "  \"gradient_checkpointing\": false,\n",
       "  \"initializer_range\": 0.02,\n",
       "  \"layer_norm_epsilon\": 1e-05,\n",
       "  \"model_type\": \"gpt2\",\n",
       "  \"n_ctx\": 1024,\n",
       "  \"n_embd\": 768,\n",
       "  \"n_head\": 6,\n",
       "  \"n_inner\": null,\n",
       "  \"n_layer\": 6,\n",
       "  \"n_positions\": 256,\n",
       "  \"resid_pdrop\": 0.1,\n",
       "  \"summary_activation\": null,\n",
       "  \"summary_first_dropout\": 0.1,\n",
       "  \"summary_proj_to_labels\": true,\n",
       "  \"summary_type\": \"cls_index\",\n",
       "  \"summary_use_proj\": true,\n",
       "  \"transformers_version\": \"4.4.2\",\n",
       "  \"use_cache\": true,\n",
       "  \"vocab_size\": 999\n",
       "}"
      ]
     },
     "execution_count": 25,
     "metadata": {},
     "output_type": "execute_result"
    }
   ],
   "source": [
    "# Initializing a model from the configuration\n",
    "gpt2 = GPT2LMHeadModel(configuration)\n",
    "\n",
    "# Accessing the model configuration\n",
    "configuration = gpt2.config\n",
    "\n",
    "configuration"
   ]
  },
  {
   "cell_type": "code",
   "execution_count": 26,
   "metadata": {},
   "outputs": [],
   "source": [
    "gpt2.w2v = w2v"
   ]
  },
  {
   "cell_type": "code",
   "execution_count": 27,
   "metadata": {},
   "outputs": [],
   "source": [
    "# my dataset returns dict of padded tensors to len of context and attention mask \n",
    "# TO SOLVE - should tokenizer add EOS? - prolly not\n",
    "\n",
    "# my dataloader natively batches it\n",
    "\n",
    "# my trainer simply moves dict vals to device and calls model(dict)"
   ]
  },
  {
   "cell_type": "markdown",
   "metadata": {},
   "source": [
    "## Training\n"
   ]
  },
  {
   "cell_type": "code",
   "execution_count": 28,
   "metadata": {},
   "outputs": [],
   "source": [
    "import tqdm\n",
    "\n",
    "class Learner():\n",
    "    def __init__(self, train_loader, val_loader, model, optimizer, loss_fn, \\\n",
    "                 lr_scheduler, device, style, model_name=\"model\"):\n",
    "        self.train_loader= train_loader\n",
    "        self.val_loader = val_loader\n",
    "        self.model = model \n",
    "        self.optimizer = optimizer\n",
    "        self.loss_fn = loss_fn\n",
    "        self.lr_scheduler = lr_scheduler\n",
    "        self.device = device\n",
    "        self.model_name=model_name\n",
    "        self.train_losses = []\n",
    "        self.val_losses = []\n",
    "        self.style = style\n",
    "        \n",
    "        \n",
    "    def evaluate(self, loader):\n",
    "        eval_loss = 0\n",
    "        self.model.eval()\n",
    "        self.model.to(self.device)\n",
    "        for b, batch in enumerate(loader):\n",
    "            with torch.no_grad():\n",
    "                batch = {k: v.to(device) for k, v in batch.items()}\n",
    "                \n",
    "                if self.style == \"simple\":\n",
    "                    outputs = self.model(**batch, labels=batch[\"input_ids\"])\n",
    "                    loss = outputs.loss\n",
    "\n",
    "                \n",
    "#                 if self.style == \"given_k\":\n",
    "#                     log_pred,_ = self.model(X, return_sequence=False)\n",
    "#                     loss = self.loss_fn(log_pred, y)\n",
    "#                 else:\n",
    "#                     log_pred, _ = self.model(X)\n",
    "#                     loss = self.loss_fn(log_pred.reshape(-1, log_pred.shape[2]), y.ravel())\n",
    "                \n",
    "                eval_loss += loss.item()\n",
    "            \n",
    "        eval_loss /= len(loader)\n",
    "        \n",
    "        return eval_loss\n",
    "    \n",
    "    def train(self,n_epochs, early_stopping=True, patience=3, verbose=False):\n",
    "        self.model.to(self.device)\n",
    "\n",
    "        if early_stopping:\n",
    "            min_val_loss = np.inf\n",
    "            no_improve = 0\n",
    "        \n",
    "        \n",
    "        e_bar = tqdm.tqdm(range(n_epochs), total=n_epochs, leave=True, desc=\"Epoch: \")\n",
    "        for e in e_bar:\n",
    "            # train\n",
    "            train_loss = 0\n",
    "            self.model.train()\n",
    "            for b, batch in enumerate(self.train_loader):\n",
    "                \n",
    "                batch = {k: v.to(device) for k, v in batch.items()}\n",
    "                \n",
    "                # zero the parameter gradients\n",
    "                self.optimizer.zero_grad()\n",
    "                if self.style == \"simple\":\n",
    "                    outputs = self.model(**batch, labels=batch[\"input_ids\"])\n",
    "                    loss = outputs.loss\n",
    "                loss.backward()\n",
    "\n",
    "                self.optimizer.step()\n",
    "                if self.lr_scheduler is not None:\n",
    "                    self.lr_scheduler.step()\n",
    "                \n",
    "#                 if self.style == \"given_k\":\n",
    "#                     log_pred,_ = self.model(X, return_sequence=False)\n",
    "#                     loss = self.loss_fn(log_pred, y)\n",
    "#                 else:\n",
    "#                     log_pred, _ = self.model(X)\n",
    "#                     loss = self.loss_fn(log_pred.reshape(-1, log_pred.shape[2]), y.ravel())\n",
    "              \n",
    "#                 loss.backward()\n",
    "#                 self.optimizer.step()\n",
    "                if verbose and b % (len(self.train_loader)//100) == 0:\n",
    "                    print(f\"Done: {b}/{len(self.train_loader)}\")\n",
    "            \n",
    "            # evaluate (train, validation)\n",
    "            train_loss = self.evaluate(self.train_loader)\n",
    "            val_loss = self.evaluate(self.val_loader)\n",
    "\n",
    "            # early stopping\n",
    "            if early_stopping:\n",
    "                if val_loss < min_val_loss:\n",
    "                    min_val_loss = val_loss\n",
    "                    torch.save(self.model, f\"models/{kind}/{self.model_name}\")\n",
    "                    no_improve = 0\n",
    "                else:\n",
    "                    no_improve += 1\n",
    "            if no_improve > patience:\n",
    "                print(\"Early stopped\")\n",
    "                self.model = torch.load(f\"models/{kind}/{self.model_name}\")\n",
    "                break\n",
    "            \n",
    "            #print(f\"After {e+1} epochs: \")\n",
    "            e_bar.set_postfix({'Train loss': f\"{train_loss:.3}\",'Val loss': f\"{val_loss:.3}\" })\n",
    "            #print(f\"Train loss: {train_loss:.3}\")\n",
    "            #print(f\"Val loss: {val_loss:.3}\\n\")\n",
    "                \n",
    "            self.train_losses.append(train_loss)\n",
    "            self.val_losses.append(val_loss)\n",
    "\n",
    "            np.save(f\"losses/{kind}/{self.model_name}_train_loss.npy\", self.train_losses)\n",
    "            np.save(f\"losses/{kind}/{self.model_name}_val_loss.npy\", self.val_losses)\n",
    "\n",
    "        np.save(f\"losses/{kind}/{self.model_name}_train_loss.npy\", self.train_losses)\n",
    "        np.save(f\"losses/{kind}/{self.model_name}_val_loss.npy\", self.val_losses)\n",
    "        \n",
    "        return self.train_losses, self.val_losses\n",
    "    "
   ]
  },
  {
   "cell_type": "code",
   "execution_count": 29,
   "metadata": {},
   "outputs": [
    {
     "name": "stdout",
     "output_type": "stream",
     "text": [
      "cuda\n"
     ]
    }
   ],
   "source": [
    "# discver whether to use GPU or not\n",
    "use_cuda = torch.cuda.is_available()\n",
    "device = torch.device('cuda' if use_cuda else 'cpu')\n",
    "print(device)\n"
   ]
  },
  {
   "cell_type": "code",
   "execution_count": 30,
   "metadata": {},
   "outputs": [],
   "source": [
    "gpt2 = gpt2.to(device)"
   ]
  },
  {
   "cell_type": "code",
   "execution_count": 31,
   "metadata": {},
   "outputs": [],
   "source": [
    "from transformers import AdamW\n",
    "from transformers import get_scheduler\n",
    "\n",
    "\n",
    "optimizer = AdamW(gpt2.parameters(), lr=5e-5)\n",
    "\n",
    "\n",
    "num_epochs = 30\n",
    "num_training_steps = num_epochs * len(dataloaders[\"train\"])\n",
    "lr_scheduler = get_scheduler(\n",
    "    \"linear\",\n",
    "    optimizer=optimizer,\n",
    "    num_warmup_steps=0,\n",
    "    num_training_steps=num_training_steps\n",
    ")"
   ]
  },
  {
   "cell_type": "code",
   "execution_count": 32,
   "metadata": {},
   "outputs": [
    {
     "name": "stdout",
     "output_type": "stream",
     "text": [
      "Trainable params: 43M\n"
     ]
    }
   ],
   "source": [
    "pytorch_total_params = sum(p.numel() for p in gpt2.parameters() if p.requires_grad)\n",
    "\n",
    "print(f\"Trainable params: {pytorch_total_params//(10**6)}M\")"
   ]
  },
  {
   "cell_type": "code",
   "execution_count": 33,
   "metadata": {},
   "outputs": [],
   "source": [
    "gpt2_learner = Learner(dataloaders[\"train\"], dataloaders[\"val\"], gpt2, optimizer, None, \\\n",
    "                      None, device, style=\"simple\", model_name=\"gpt2_lr5e-5nshead6l6\")"
   ]
  },
  {
   "cell_type": "code",
   "execution_count": 34,
   "metadata": {},
   "outputs": [
    {
     "name": "stderr",
     "output_type": "stream",
     "text": [
      "Epoch:  83%|████████▎ | 25/30 [4:40:19<55:56, 671.40s/it, Train loss=1.38, Val loss=1.6]  ]"
     ]
    },
    {
     "name": "stdout",
     "output_type": "stream",
     "text": [
      "Early stopped\n"
     ]
    },
    {
     "name": "stderr",
     "output_type": "stream",
     "text": [
      "Epoch:  83%|████████▎ | 25/30 [4:51:32<58:18, 699.69s/it, Train loss=1.38, Val loss=1.6]\n"
     ]
    }
   ],
   "source": [
    "train_losses, val_losses = gpt2_learner.train(num_epochs, early_stopping=True, patience=3, verbose=False)"
   ]
  },
  {
   "cell_type": "code",
   "execution_count": 35,
   "metadata": {},
   "outputs": [
    {
     "name": "stdout",
     "output_type": "stream",
     "text": [
      "[1.8170877056159789, 1.7413241041970924, 1.6971370966420243, 1.6622958402251329, 1.6354085886583498, 1.6118461070224783, 1.591088471339445, 1.572094198753795, 1.555754321388199, 1.5397701674915019, 1.5251717367801336, 1.5114934425446198, 1.4986342015441318, 1.4861670264744915, 1.4750080958394323, 1.46299313695586, 1.4531149847757623, 1.4425776113086306, 1.4313258613277844, 1.421409831895793, 1.4128822841392108, 1.4027293707655342, 1.3947282107946783, 1.3862659969992823, 1.377428224048121]\n"
     ]
    }
   ],
   "source": [
    "print(train_losses)"
   ]
  },
  {
   "cell_type": "code",
   "execution_count": 36,
   "metadata": {},
   "outputs": [
    {
     "name": "stdout",
     "output_type": "stream",
     "text": [
      "[1.8218134945089166, 1.7520048770037564, 1.7157119837674228, 1.6883245251395487, 1.6700624238361013, 1.6546073328364979, 1.64297818812457, 1.6326522480357777, 1.6254542058164423, 1.6192916230721908, 1.6133808580311861, 1.6101495721123436, 1.6050608320669695, 1.6017373811114919, 1.6005451733415776, 1.5985915498300032, 1.5977176612073725, 1.5958125092766502, 1.5947259816256436, 1.5945589954202826, 1.5954475706273858, 1.5942054477604952, 1.5962092442946, 1.5972664659673517, 1.5961904124780135]\n"
     ]
    }
   ],
   "source": [
    "print(val_losses)"
   ]
  },
  {
   "cell_type": "markdown",
   "metadata": {},
   "source": [
    "## Prediction"
   ]
  },
  {
   "cell_type": "code",
   "execution_count": 47,
   "metadata": {},
   "outputs": [],
   "source": [
    "import torch.nn.functional as F\n",
    "\n",
    "\n",
    "class PredictorDstGPT2():\n",
    "    def __init__(self, model, coder_class, max_mz=None, add_intens=False, quadratic=False):\n",
    "        self.model = model\n",
    "        self.coder = coder_class(model.w2v, max_mz)\n",
    "        self.add_intens= add_intens\n",
    "        self.quadratic= quadratic\n",
    "    @classmethod\n",
    "    def from_file(cls, file, coder_cls, max_mz=None, device=\"cpu\", add_intens=False, quadratic=False):\n",
    "        model = torch.load(file,  map_location=torch.device(device)) \n",
    "        return cls(model, coder_class=coder_cls, max_mz=max_mz, add_intens=add_intens, quadratic=quadratic)\n",
    "    \n",
    "    \n",
    "    def __call__(self, X_ds, device=\"cpu\"):\n",
    "        self.model= self.model.to(device)\n",
    "        X_ds = X_ds.to(device)\n",
    "        \n",
    "        with torch.no_grad():\n",
    "            # return distribution for next peak \n",
    "            return F.softmax(self.model(**{\"input_ids\":X_ds}).logits[:, len(X_ds[0])-1],  dim=-1)\n",
    "    \n",
    "    def predict_l_next(self, X_dict_batch, l, filtered=True, device=\"cpu\"):\n",
    "        \"\"\"\n",
    "        receives indices and intens and predicts l next peaks\n",
    "        if filtered: returns only non-repetitive indices that are not given as input\n",
    "        \"\"\"\n",
    "        with torch.no_grad():\n",
    "            logits = self.model(**X_dict_batch).logits[:, len(X_dict_batch[\"input_ids\"][0])-1]\n",
    "        \n",
    "        if filtered:\n",
    "            args_batch = torch.argsort(logits, dim=-1, descending=True).int().cpu()\n",
    "            res = torch.empty((len(X_dict_batch[\"input_ids\"]), l), dtype=torch.int)\n",
    "            for i in range(len(args_batch)):\n",
    "                given = set(X_dict_batch[\"input_ids\"][i])\n",
    "                solved = 0\n",
    "                for j in range(len(args_batch[0])):\n",
    "                    if args_batch[i][j] not in given:\n",
    "                        res[i][solved] = args_batch[i][j]\n",
    "                        solved +=1\n",
    "                    if solved == l:\n",
    "                        break\n",
    "                \n",
    "            return res.numpy()\n",
    "        \n",
    "        return torch.argsort(logits, dim=-1, descending=True)[:, :l].cpu().numpy()\n",
    "        \n",
    "\n",
    "    def predict_l_all(self, hugg_ds, up_to_k, l, batch_size=64, filtered=True, verbose=False, device=\"cpu\"):\n",
    "        # to add intensity when necessary\n",
    "        hugg_ds.add_intensity = self.add_intens\n",
    "        hugg_ds.quadratic = self.quadratic\n",
    "        self.model= self.model.to(device)\n",
    "        \n",
    "        #loader = DataLoader(hugg_ds, batch_size=batch_size, shuffle=True, num_workers=8)\n",
    "        def loader_gen(ds, batch_size):\n",
    "            keys= ds[0].keys()\n",
    "            for i in range((len(ds)//batch_size)):\n",
    "                n_sam = batch_size #if i*batch_size < len(ds) else len(ds) % batch_size\n",
    "                batch = {k: torch.empty(n_sam, *v.shape, dtype=v.dtype) for k,v in ds[0].items()}\n",
    "                for j in range(n_sam):\n",
    "                    for key in keys:\n",
    "                        batch[key][j] = ds[i*batch_size+j][key]\n",
    "                yield batch\n",
    "            \n",
    "            n_sam = len(ds)% batch_size\n",
    "            \n",
    "            batch = {k: torch.empty(n_sam, *v.shape, dtype=v.dtype) for k,v in ds[0].items()}\n",
    "            for j in range(n_sam):\n",
    "                for key in keys:\n",
    "                    batch[key][j] = ds[(i+1)*batch_size+j][key]\n",
    "            yield batch\n",
    "        \n",
    "        loader = loader_gen(hugg_ds, batch_size)\n",
    "        len_loader = len(hugg_ds)//batch_size + 1\n",
    "\n",
    "        X_intens = [np.sort(doc.peaks.intensities)[::-1][:min(self.model.config.n_positions, len(doc.peaks.intensities))-1] for doc in hugg_ds.ref_docs]\n",
    "        \n",
    "        l_pred_indices_per_k = np.ones(shape=(up_to_k, len(hugg_ds), l)) * (-1)\n",
    "        y_indices = []\n",
    "        for b, X_dict_batch_ in enumerate(loader):\n",
    "                \n",
    "#             indices, intens = X_ds[:,0].numpy().astype(int), X_ds[:,1].numpy()\n",
    "            y_indices += [arr[(X_dict_batch_[\"attention_mask\"][u]==1).numpy()][1:] for u, arr in enumerate((X_dict_batch_[\"input_ids\"].numpy().astype(int)))]            \n",
    "\n",
    "            \n",
    "    #             X_intens.append(intens)\n",
    "            for j in range(1, up_to_k+1):\n",
    "                # we skip evaluation for too short spectra\n",
    "#                 if j > len(indices):\n",
    "#                     continue\n",
    "               # print(j)\n",
    "                X_dict_batch = {\"input_ids\": X_dict_batch_[\"input_ids\"][:, :j].clone()}\n",
    "                \n",
    "                if \"position_ids\" in X_dict_batch_.keys():\n",
    "                    X_dict_batch[\"position_ids\"] = X_dict_batch_[\"position_ids\"][:, :j].clone()\n",
    "                \n",
    "                \n",
    "                # drop too short spectra\n",
    "                # get mask - for each sample in batch either True (long enough) or False (too short) \n",
    "                len_mask = X_dict_batch_[\"attention_mask\"][:, j-1] == 1\n",
    "                \n",
    "                X_dict_batch[\"input_ids\"] = X_dict_batch[\"input_ids\"][len_mask]\n",
    "                if \"position_ids\" in X_dict_batch_.keys():\n",
    "                    X_dict_batch[\"position_ids\"] = X_dict_batch[\"position_ids\"][len_mask]\n",
    "              \n",
    "                # no samples in batch left after cutting \n",
    "                if len_mask.sum() == 0:\n",
    "                    continue\n",
    "                X_dict_batch = {k: v.to(device) for k, v in X_dict_batch.items()}\n",
    "\n",
    "                l_next = self.predict_l_next(X_dict_batch, l, filtered, device=device)\n",
    "                \n",
    "                l_pred_indices_per_k[j-1,b*batch_size: (b+1)*(batch_size)][len_mask] = l_next\n",
    "            \n",
    "            if verbose and b % 1 == 0:\n",
    "                print(f\"Done: {b}/{len_loader}\")\n",
    "        return l_pred_indices_per_k, y_indices, X_intens \n",
    "\n",
    "\n",
    "class PredictorAutoGPT2():\n",
    "    def __init__(self, model, coder_class, max_mz=None):\n",
    "        self.model = model\n",
    "        self.coder = coder_class(model.w2v, max_mz)\n",
    "#         self.add_intensity = True\n",
    "    \n",
    "#     def predict(self, indices, intensities):\n",
    "#         return self.model([indices], [intensities])\n",
    "    \n",
    "#     def predict_ith_from_batch(self, docs, i):\n",
    "#         return self.model([self.coder.encode(docs[i].words)], [np.array(docs[i].weights)])\n",
    "        \n",
    "#     def predict_batch(self, docs):\n",
    "#         res = np.empty((len(docs), self.coder.get_embedding_dimension()))\n",
    "#         encoded = []\n",
    "#         ints = []\n",
    "#         for doc in docs:\n",
    "#             enc, kept = self.coder.encode(doc.words)\n",
    "#             encoded.append(enc)\n",
    "#             ints.append(np.array(doc.weights)[kept])\n",
    "            \n",
    "#         res = self.model(encoded, ints)\n",
    "#         return res\n",
    "\n",
    "\n",
    "    @classmethod\n",
    "    def from_file(cls, file, coder_cls, max_mz=None, device=\"cpu\"):\n",
    "        model = torch.load(file,  map_location=torch.device(device)) \n",
    "        return cls(model, coder_class=coder_cls, max_mz=max_mz)\n",
    "    \n",
    "    \n",
    "    def __call__(self, X_ds, device=\"cpu\"):\n",
    "        self.model= self.model.to(device)\n",
    "        X_ds = X_ds.to(device)\n",
    "        \n",
    "        with torch.no_grad():\n",
    "            # return distribution for next peak \n",
    "            return F.softmax(self.model(**{\"input_ids\":X_ds}).logits[:, len(X_ds[0])-1], dim=-1)\n",
    "    \n",
    "    def predict_l_next(self, X_dict_batch, l, filtered=True, device=\"cpu\"):\n",
    "        \"\"\"\n",
    "        receives indices and intens and predicts l next peaks\n",
    "        if filtered: returns only non-repetitive indices that are not given as input\n",
    "        \"\"\"\n",
    "        \n",
    "        k = X_dict_batch[\"input_ids\"].shape[1]\n",
    "\n",
    "        if filtered:\n",
    "            return self.model.generate(\n",
    "                X_dict_batch[\"input_ids\"], \n",
    "                max_length=k+l, \n",
    "                #num_beams=5, \n",
    "                no_repeat_ngram_size=1, \n",
    "                #encoder_no_repeat_ngram_size=1,\n",
    "                #early_stopping=True, \n",
    "                #bad_words_ids = X_dict_batch[\"input_ids\"].tolist(),\n",
    "                pad_token_id=len(self.coder.vocab)\n",
    "            ).cpu().numpy()[:, k:]\n",
    "\n",
    "#             res = torch.empty(len(X_dict_batch[\"input_ids\"]), l, dtype=torch.int) \n",
    "#             for i in range(len(beam_output)):\n",
    "#                 uniq_row = torch.unique(beam_output[i])\n",
    "#                 assert len(uniq_row) >= l \n",
    "#                 res[i, :] = uniq_row[:l]\n",
    "#             return res\n",
    "            \n",
    "        \n",
    "        return self.model.generate(\n",
    "                X_dict_batch[\"input_ids\"], \n",
    "                max_length=k+l, \n",
    "                #num_beams=5, \n",
    "                #early_stopping=True, \n",
    "                pad_token_id=len(self.coder.vocab)\n",
    "        ).cpu().numpy()[:, k:]\n",
    "        \n",
    "#       \n",
    "    def predict_l_all(self, hugg_ds, up_to_k, l, batch_size=64, filtered=True, verbose=False, device=\"cpu\"):\n",
    "        # to add intensity when necessary\n",
    "        hugg_ds.add_intensity = False\n",
    "        \n",
    "        \n",
    "        self.model= self.model.to(device)\n",
    "        \n",
    "        #loader = DataLoader(hugg_ds, batch_size=batch_size, shuffle=False, num_workers=0)\n",
    "        def loader_gen(ds, batch_size):\n",
    "            keys= ds[0].keys()\n",
    "            for i in range((len(ds)//batch_size)):\n",
    "                n_sam = batch_size #if i*batch_size < len(ds) else len(ds) % batch_size\n",
    "                batch = {k: torch.empty(n_sam, *v.shape, dtype=v.dtype) for k,v in ds[0].items()}\n",
    "                for j in range(n_sam):\n",
    "                    for key in keys:\n",
    "                        batch[key][j] = ds[i*batch_size+j][key]\n",
    "                yield batch\n",
    "            \n",
    "            n_sam = len(ds)% batch_size\n",
    "            \n",
    "            batch = {k: torch.empty(n_sam, *v.shape, dtype=v.dtype) for k,v in ds[0].items()}\n",
    "            for j in range(n_sam):\n",
    "                for key in keys:\n",
    "                    batch[key][j] = ds[(i+1)*batch_size+j][key]\n",
    "            yield batch\n",
    "            \n",
    "        loader = loader_gen(hugg_ds, batch_size)\n",
    "        len_loader = len(hugg_ds)//batch_size + 1\n",
    "        X_intens = [np.sort(doc.peaks.intensities)[::-1][:min(self.model.config.n_positions, len(doc.peaks.intensities))-1] for doc in hugg_ds.ref_docs]\n",
    "\n",
    "        \n",
    "        l_pred_indices_per_k = np.ones(shape=(up_to_k, len(hugg_ds), l)) * (-1)\n",
    "        y_indices = []\n",
    "\n",
    "        for b, X_dict_batch_ in enumerate(loader):\n",
    "                \n",
    "#             indices, intens = X_ds[:,0].numpy().astype(int), X_ds[:,1].numpy()\n",
    "            y_indices += [arr[(X_dict_batch_[\"attention_mask\"][u]==1).numpy()][1:] for u, arr in enumerate((X_dict_batch_[\"input_ids\"].numpy().astype(int)))]            \n",
    "\n",
    "#             X_intens.append(intens)\n",
    "            for j in range(1, up_to_k+1):\n",
    "                # we skip evaluation for too short spectra\n",
    "#                 if j > len(indices):\n",
    "#                     continue\n",
    "               # print(j)\n",
    "                X_dict_batch = {\"input_ids\": X_dict_batch_[\"input_ids\"][:, :j].clone()}#{k: v.detach().clone() for k, v in X_dict_batch_.items()}\n",
    "                \n",
    "               # drop too short spectra\n",
    "                # get mask - for each sample in batch either True (long enough) or False (too short) \n",
    "                len_mask = X_dict_batch_[\"attention_mask\"][:, j-1] == 1\n",
    "                \n",
    "                X_dict_batch[\"input_ids\"] = X_dict_batch[\"input_ids\"][len_mask]\n",
    "\n",
    "                \n",
    "                # no samples in batch left after cutting \n",
    "                if len_mask.sum() == 0:\n",
    "                    continue\n",
    "                X_dict_batch = {k: v.to(device) for k, v in X_dict_batch.items()}\n",
    "\n",
    "                l_next = self.predict_l_next(X_dict_batch, l, filtered, device=device)\n",
    "                \n",
    "                l_pred_indices_per_k[j-1,b*batch_size: (b+1)*(batch_size)][len_mask] = l_next\n",
    "            \n",
    "            if verbose and b % 1 == 0:\n",
    "                print(f\"Done: {b}/{len_loader}\")\n",
    "        return l_pred_indices_per_k, y_indices, X_intens "
   ]
  },
  {
   "cell_type": "markdown",
   "metadata": {},
   "source": [
    "## Visualisation"
   ]
  },
  {
   "cell_type": "code",
   "execution_count": 48,
   "metadata": {},
   "outputs": [],
   "source": [
    "from visual_utils import plot_spectrum_predictions\n",
    "\n",
    "predictor = PredictorDstGPT2.from_file(f\"models/{kind}/gpt2_lr5e-5ns\", TextMzCoder, max_mz=None)\n",
    "predictor.model.cpu()\n",
    "i = 100\n",
    "k = 4"
   ]
  },
  {
   "cell_type": "code",
   "execution_count": 49,
   "metadata": {},
   "outputs": [
    {
     "data": {
      "image/png": "[encoded data removed]",
      "text/plain": [
       "<Figure size 2000x1000 with 2 Axes>"
      ]
     },
     "metadata": {},
     "output_type": "display_data"
    }
   ],
   "source": [
    "plot_ds = TopKDS(documents_val, vocab, k, onehot=False, add_intensity=False)\n",
    "prob = predictor(plot_ds[i][0].reshape(1, *plot_ds[i][0].shape))[0,:-1].cpu().numpy()\n",
    "plot_spectrum_predictions(plot_ds.ref_docs[i], k, prob, predictor.coder, plot_full=False)\n"
   ]
  },
  {
   "cell_type": "markdown",
   "metadata": {},
   "source": [
    "## Model Selection\n",
    "done on the val set"
   ]
  },
  {
   "cell_type": "code",
   "execution_count": 50,
   "metadata": {},
   "outputs": [],
   "source": [
    "P_FOLDER = f\"predictions/{kind}\"\n",
    "up_to_k = 30\n",
    "l = 20"
   ]
  },
  {
   "cell_type": "code",
   "execution_count": 51,
   "metadata": {},
   "outputs": [],
   "source": [
    "import os\n",
    "from metrics import metrics_klj, metrics_intlj\n",
    "\n",
    "# predictors = {#\"gpt2\": PredictorAutoGPT2(gpt2.cpu(), TextMzCoder, max_mz=None), \n",
    "#              \"gpt2_test\": PredictorAutoGPT2.from_file(f\"models/{kind}/gpt2_lr5e-5_ns\", TextMzCoder, max_mz=None, device=device)}\n",
    "# P_FOLDER = f\"predictions/{kind}\"\n",
    "# up_to_k = 5\n",
    "# l = 1\n",
    "\n",
    "predictors = { \n",
    "            \"gpt2_dst\": PredictorDstGPT2.from_file(f\"models/{kind}/gpt2_lr5e-5ns\", TextMzCoder, max_mz=None, device=device),  \n",
    "            \"gpt2_auto\": PredictorAutoGPT2.from_file(f\"models/{kind}/gpt2_lr5e-5ns\", TextMzCoder, max_mz=None, device=device),\n",
    "            \"gpt2_lin_intens_dst\": PredictorDstGPT2.from_file(f\"models/{kind}/gpt2_lr5e-5ns_intens\", TextMzCoder, max_mz=None, device=device, add_intens=True),\n",
    "            \"gpt2_quad_intens_dst\": PredictorDstGPT2.from_file(f\"models/{kind}/gpt2_lr5e-5ns_intens_quad\", TextMzCoder, max_mz=None, device=device, add_intens=True, quadratic=True),    \n",
    "            \"gpt2_only30_dst\": PredictorDstGPT2.from_file(f\"models/{kind}/gpt2_lr5e-5ns_only30peaks\", TextMzCoder, max_mz=None, device=device),  \n",
    "            \"gpt2_only30_auto\": PredictorAutoGPT2.from_file(f\"models/{kind}/gpt2_lr5e-5ns_only30peaks\", TextMzCoder, max_mz=None, device=device),\n",
    "            \"gpt2_embd300_dst\": PredictorDstGPT2.from_file(f\"models/{kind}/gpt2_lr5e-5ns300embd\", TextMzCoder, max_mz=None, device=device),  \n",
    "            \"gpt2_embd300_auto\": PredictorAutoGPT2.from_file(f\"models/{kind}/gpt2_lr5e-5ns300embd\", TextMzCoder, max_mz=None, device=device),\n",
    "            \"gpt2_h6l6_dst\": PredictorDstGPT2.from_file(f\"models/{kind}/gpt2_lr5e-5nshead6l6\", TextMzCoder, max_mz=None, device=device),  \n",
    "            \"gpt2_h6l6_auto\": PredictorAutoGPT2.from_file(f\"models/{kind}/gpt2_lr5e-5nshead6l6\", TextMzCoder, max_mz=None, device=device),\n",
    "\n",
    "                        \n",
    "}\n"
   ]
  },
  {
   "cell_type": "code",
   "execution_count": 52,
   "metadata": {},
   "outputs": [
    {
     "data": {
      "text/plain": [
       "'predictions/de_novo'"
      ]
     },
     "execution_count": 52,
     "metadata": {},
     "output_type": "execute_result"
    }
   ],
   "source": [
    "P_FOLDER"
   ]
  },
  {
   "cell_type": "code",
   "execution_count": 53,
   "metadata": {},
   "outputs": [],
   "source": [
    "from model_evaluation import calc_predictions, load_predictions, model_selection\n",
    "from visual_utils import plot_scores"
   ]
  },
  {
   "cell_type": "code",
   "execution_count": 54,
   "metadata": {},
   "outputs": [
    {
     "name": "stdout",
     "output_type": "stream",
     "text": [
      "gpt2_dst\n"
     ]
    },
    {
     "name": "stderr",
     "output_type": "stream",
     "text": [
      "/opt/conda/lib/python3.8/site-packages/numpy/core/_asarray.py:136: VisibleDeprecationWarning: Creating an ndarray from ragged nested sequences (which is a list-or-tuple of lists-or-tuples-or ndarrays with different lengths or shapes) is deprecated. If you meant to do this, you must specify 'dtype=object' when creating the ndarray\n",
      "  return array(a, dtype, copy=False, order=order, subok=True)\n"
     ]
    },
    {
     "name": "stdout",
     "output_type": "stream",
     "text": [
      "gpt2_auto\n",
      "gpt2_lin_intens_dst\n",
      "gpt2_quad_intens_dst\n",
      "gpt2_only30_dst\n",
      "gpt2_only30_auto\n",
      "gpt2_embd300_dst\n",
      "gpt2_embd300_auto\n",
      "gpt2_h6l6_dst\n",
      "gpt2_h6l6_auto\n",
      "CPU times: user 1h 59min 51s, sys: 8min, total: 2h 7min 52s\n",
      "Wall time: 2h 8min 20s\n"
     ]
    }
   ],
   "source": [
    "%%time\n",
    "calc_predictions(up_to_k, l, predictors, datasets, \"hugg_val\", P_FOLDER, batch_size=512, device=device, verbose=False)"
   ]
  },
  {
   "cell_type": "code",
   "execution_count": 56,
   "metadata": {},
   "outputs": [
    {
     "name": "stdout",
     "output_type": "stream",
     "text": [
      "gpt2_embd300_dst\n",
      "Possible k up to 30, predict up to 20 peaks\n",
      "Selected up to k=20, l=4, j=6\n",
      "[28034 28034 28034 28034 27994 27960 27908 27857 27773 27699 27611 27522\n",
      " 27437 27335 27244 27124 27001 26900 26791 26695]\n",
      "[28034 28034 28034 28034 27994 27960 27908 27857 27773 27699 27611 27522\n",
      " 27437 27335 27244 27124 27001 26900 26791 26695]\n",
      "Selected up to k=20, l=None, to_rel_inten=0.2\n",
      "problem - spectrum with unknown peak skipped\n",
      "[25995 27731 27989 28015 28032 28030 28033 28029 28031 27989 27957 27905\n",
      " 27853 27769 27694 27609 27517 27435 27333 27241]\n",
      "[25995 27731 27989 28015 28032 28030 28033 28029 28031 27989 27957 27905\n",
      " 27853 27769 27694 27609 27517 27435 27333 27241]\n",
      "gpt2_dst\n",
      "Possible k up to 30, predict up to 20 peaks\n",
      "Selected up to k=20, l=4, j=6\n",
      "problem - spectrum with unknown peak skipped\n",
      "[25995 27731 27989 28015 28032 28030 28033 28029 28031 27989 27957 27905\n",
      " 27853 27769 27694 27609 27517 27435 27333 27241]\n",
      "[25995 27731 27989 28015 28032 28030 28033 28029 28031 27989 27957 27905\n",
      " 27853 27769 27694 27609 27517 27435 27333 27241]\n",
      "gpt2_only30_auto\n",
      "Possible k up to 30, predict up to 20 peaks\n",
      "Selected up to k=20, l=4, j=6\n",
      "[28034 28034 28034 28034 27994 27960 27908 27857 27773 27699 27611 27522\n",
      " 27437 27335 27244 27124 27001 26900 26791 26695]\n",
      "[28034 28034 28034 28034 27994 27960 27908 27857 27773 27699 27611 27522\n",
      " 27437 27335 27244 27124 27001 26900 26791 26695]\n",
      "Selected up to k=20, l=None, to_rel_inten=0.2\n",
      "problem - spectrum with unknown peak skipped\n",
      "[25995 27731 27989 28015 28032 28030 28033 28029 28031 27989 27957 27905\n",
      " 27853 27769 27694 27609 27517 27435 27333 27241]\n",
      "[25995 27731 27989 28015 28032 28030 28033 28029 28031 27989 27957 27905\n",
      " 27853 27769 27694 27609 27517 27435 27333 27241]\n",
      "gpt2_lin_intens_dst\n",
      "Possible k up to 30, predict up to 20 peaks\n",
      "Selected up to k=20, l=4, j=6\n",
      "[28034 28034 28034 28034 27994 27960 27908 27857 27773 27699 27611 27522\n",
      " 27437 27335 27244 27124 27001 26900 26791 26695]\n",
      "[28034 28034 28034 28034 27994 27960 27908 27857 27773 27699 27611 27522\n",
      " 27437 27335 27244 27124 27001 26900 26791 26695]\n",
      "Selected up to k=20, l=None, to_rel_inten=0.2\n",
      "problem - spectrum with unknown peak skipped\n",
      "[25995 27731 27989 28015 28032 28030 28033 28029 28031 27989 27957 27905\n",
      " 27853 27769 27694 27609 27517 27435 27333 27241]\n",
      "[25995 27731 27989 28015 28032 28030 28033 28029 28031 27989 27957 27905\n",
      " 27853 27769 27694 27609 27517 27435 27333 27241]\n",
      "gpt2_auto\n",
      "Possible k up to 30, predict up to 20 peaks\n",
      "Selected up to k=20, l=4, j=6\n",
      "[28034 28034 28034 28034 27994 27960 27908 27857 27773 27699 27611 27522\n",
      " 27437 27335 27244 27124 27001 26900 26791 26695]\n",
      "[28034 28034 28034 28034 27994 27960 27908 27857 27773 27699 27611 27522\n",
      " 27437 27335 27244 27124 27001 26900 26791 26695]\n",
      "Selected up to k=20, l=None, to_rel_inten=0.2\n",
      "problem - spectrum with unknown peak skipped\n",
      "[25995 27731 27989 28015 28032 28030 28033 28029 28031 27989 27957 27905\n",
      " 27853 27769 27694 27609 27517 27435 27333 27241]\n",
      "[25995 27731 27989 28015 28032 28030 28033 28029 28031 27989 27957 27905\n",
      " 27853 27769 27694 27609 27517 27435 27333 27241]\n",
      "gpt2_only30_dst\n",
      "Possible k up to 30, predict up to 20 peaks\n",
      "Selected up to k=20, l=4, j=6\n",
      "[28034 28034 28034 28034 27994 27960 27908 27857 27773 27699 27611 27522\n",
      " 27437 27335 27244 27124 27001 26900 26791 26695]\n",
      "[28034 28034 28034 28034 27994 27960 27908 27857 27773 27699 27611 27522\n",
      " 27437 27335 27244 27124 27001 26900 26791 26695]\n",
      "Selected up to k=20, l=None, to_rel_inten=0.2\n",
      "problem - spectrum with unknown peak skipped\n",
      "[25995 27731 27989 28015 28032 28030 28033 28029 28031 27989 27957 27905\n",
      " 27853 27769 27694 27609 27517 27435 27333 27241]\n",
      "[25995 27731 27989 28015 28032 28030 28033 28029 28031 27989 27957 27905\n",
      " 27853 27769 27694 27609 27517 27435 27333 27241]\n",
      "gpt2_h6l6_dst\n",
      "Possible k up to 30, predict up to 20 peaks\n",
      "Selected up to k=20, l=4, j=6\n",
      "[28034 28034 28034 28034 27994 27960 27908 27857 27773 27699 27611 27522\n",
      " 27437 27335 27244 27124 27001 26900 26791 26695]\n",
      "[28034 28034 28034 28034 27994 27960 27908 27857 27773 27699 27611 27522\n",
      " 27437 27335 27244 27124 27001 26900 26791 26695]\n",
      "Selected up to k=20, l=None, to_rel_inten=0.2\n",
      "problem - spectrum with unknown peak skipped\n",
      "[25995 27731 27989 28015 28032 28030 28033 28029 28031 27989 27957 27905\n",
      " 27853 27769 27694 27609 27517 27435 27333 27241]\n",
      "[25995 27731 27989 28015 28032 28030 28033 28029 28031 27989 27957 27905\n",
      " 27853 27769 27694 27609 27517 27435 27333 27241]\n",
      "gpt2_quad_intens_dst\n",
      "Possible k up to 30, predict up to 20 peaks\n",
      "Selected up to k=20, l=4, j=6\n",
      "[28034 28034 28034 28034 27994 27960 27908 27857 27773 27699 27611 27522\n",
      " 27437 27335 27244 27124 27001 26900 26791 26695]\n",
      "[28034 28034 28034 28034 27994 27960 27908 27857 27773 27699 27611 27522\n",
      " 27437 27335 27244 27124 27001 26900 26791 26695]\n",
      "Selected up to k=20, l=None, to_rel_inten=0.2\n",
      "problem - spectrum with unknown peak skipped\n",
      "[25995 27731 27989 28015 28032 28030 28033 28029 28031 27989 27957 27905\n",
      " 27853 27769 27694 27609 27517 27435 27333 27241]\n",
      "[25995 27731 27989 28015 28032 28030 28033 28029 28031 27989 27957 27905\n",
      " 27853 27769 27694 27609 27517 27435 27333 27241]\n",
      "gpt2_embd300_auto\n",
      "Possible k up to 30, predict up to 20 peaks\n",
      "Selected up to k=20, l=4, j=6\n",
      "[28034 28034 28034 28034 27994 27960 27908 27857 27773 27699 27611 27522\n",
      " 27437 27335 27244 27124 27001 26900 26791 26695]\n",
      "[28034 28034 28034 28034 27994 27960 27908 27857 27773 27699 27611 27522\n",
      " 27437 27335 27244 27124 27001 26900 26791 26695]\n",
      "Selected up to k=20, l=None, to_rel_inten=0.2\n",
      "problem - spectrum with unknown peak skipped\n",
      "[25995 27731 27989 28015 28032 28030 28033 28029 28031 27989 27957 27905\n",
      " 27853 27769 27694 27609 27517 27435 27333 27241]\n",
      "[25995 27731 27989 28015 28032 28030 28033 28029 28031 27989 27957 27905\n",
      " 27853 27769 27694 27609 27517 27435 27333 27241]\n"
     ]
    },
    {
     "data": {
      "image/png": "[encoded data removed]",
      "text/plain": [
       "<Figure size 2000x1000 with 1 Axes>"
      ]
     },
     "metadata": {},
     "output_type": "display_data"
    }
   ],
   "source": [
    "best_p_name, scores = model_selection(P_FOLDER, \"hugg_val\", predictors=predictors, up_to_k=20, \\\n",
    "                                      l=4, j=6, to_rel_inten=.2, l_rel=None)\n",
    "plot_scores(scores, metrics=\"mpi\")"
   ]
  },
  {
   "cell_type": "code",
   "execution_count": 57,
   "metadata": {},
   "outputs": [
    {
     "data": {
      "text/plain": [
       "'gpt2_h6l6_auto'"
      ]
     },
     "execution_count": 57,
     "metadata": {},
     "output_type": "execute_result"
    }
   ],
   "source": [
    "best_p_name"
   ]
  },
  {
   "cell_type": "raw",
   "metadata": {},
   "source": [
    "gpt2_dst\n",
    "Possible k up to 5, predict up to 10 peaks\n",
    "Selected up to k=5, l=4, j=6\n",
    "0.305\n",
    "0.371\n",
    "0.417\n",
    "0.446\n",
    "0.464\n",
    "\n",
    "0.152\n",
    "0.192\n",
    "0.221\n",
    "0.240\n",
    "0.252"
   ]
  },
  {
   "cell_type": "raw",
   "metadata": {},
   "source": [
    "gpt2_first_dst\n",
    "Possible k up to 4, predict up to 4 peaks\n",
    "Selected up to k=4, l=3, j=6\n",
    "0.238\n",
    "0.267\n",
    "0.288\n",
    "0.298\n",
    "\n",
    "0.097\n",
    "0.110\n",
    "0.119\n",
    "0.123\n",
    "gpt2_dst\n",
    "Possible k up to 4, predict up to 4 peaks\n",
    "Selected up to k=4, l=3, j=6\n",
    "0.369\n",
    "0.451\n",
    "0.510\n",
    "0.547\n",
    "\n",
    "0.154\n",
    "0.194\n",
    "0.223\n",
    "0.242\n",
    "gpt2_ns_dst\n",
    "Possible k up to 4, predict up to 4 peaks\n",
    "Selected up to k=4, l=3, j=6\n",
    "0.369\n",
    "0.452\n",
    "0.510\n",
    "0.551\n",
    "\n",
    "0.155\n",
    "0.194\n",
    "0.223\n",
    "0.245"
   ]
  },
  {
   "cell_type": "code",
   "execution_count": null,
   "metadata": {},
   "outputs": [],
   "source": [
    "best_p_name"
   ]
  },
  {
   "cell_type": "markdown",
   "metadata": {},
   "source": [
    "## Visualisation of the best predictor"
   ]
  },
  {
   "cell_type": "code",
   "execution_count": null,
   "metadata": {},
   "outputs": [],
   "source": [
    "prob = predictors[best_p_name](plot_ds[i][0].reshape(1, *plot_ds[i][0].shape))[0,:-1].cpu().numpy()\n",
    "plot_spectrum_predictions(plot_ds.ref_docs[i], k, prob, predictors[best_p_name].coder)"
   ]
  },
  {
   "cell_type": "markdown",
   "metadata": {},
   "source": [
    "## Detailed evaluation of the best predictor \n",
    "done on the test set"
   ]
  },
  {
   "cell_type": "code",
   "execution_count": null,
   "metadata": {},
   "outputs": [],
   "source": [
    "%%time\n",
    "up_to_k = 50\n",
    "l = l\n",
    "calc_predictions(up_to_k, l, {best_p_name: predictors[best_p_name]}, \"hugg_test\", P_FOLDER)"
   ]
  },
  {
   "cell_type": "code",
   "execution_count": null,
   "metadata": {},
   "outputs": [],
   "source": [
    "l_pred_indices_per_k_best, y_indices, X_intens = load_predictions(best_p_name, \"hugg_test\", P_FOLDER)\n",
    "l_pred_indices_per_k_base, y_indices_base, X_intens_base = load_predictions(\"base_1\", \"spec_test\", P_FOLDER)"
   ]
  },
  {
   "cell_type": "code",
   "execution_count": null,
   "metadata": {},
   "outputs": [],
   "source": [
    "from metrics import accuracy_at_k\n",
    "from visual_utils import plot_stats\n",
    "\n",
    "def get_to_len(xs, len_):\n",
    "    return [xs[i] if i<len(xs) else 0 for i in range(len_)]\n",
    "\n",
    "accs_at_k = accuracy_at_k(l_pred_indices_per_k_best, y_indices, up_to_k=None)\n",
    "accs_at_k_base = get_to_len(accuracy_at_k(l_pred_indices_per_k_base, y_indices_base, up_to_k=None), len(accs_at_k))\n",
    "\n",
    "\n",
    "\n",
    "plot_stats(accs_at_k, baseline1D=accs_at_k_base, title=\"Accuracy@k\", color=\"red\", ylabel='accuracy', xlabel='k')"
   ]
  },
  {
   "cell_type": "code",
   "execution_count": null,
   "metadata": {},
   "outputs": [],
   "source": [
    "from metrics import accuracy_at_int\n",
    "\n",
    "accs_at_int = accuracy_at_int(l_pred_indices_per_k_best, y_indices, X_intens)\n",
    "accs_at_int_base = get_to_len(accuracy_at_int(l_pred_indices_per_k_base, y_indices_base, X_intens_base), len(accs_at_int))"
   ]
  },
  {
   "cell_type": "code",
   "execution_count": null,
   "metadata": {},
   "outputs": [],
   "source": [
    "plot_stats(accs_at_int, baseline1D=accs_at_int_base, title=\"Accuracy@int\", color=\"red\", decreasing=True,  ylabel='accuracy', xlabel='intensity level', x_factor=.01)"
   ]
  },
  {
   "cell_type": "code",
   "execution_count": null,
   "metadata": {},
   "outputs": [],
   "source": [
    "sum(l_pred_indices_per_k_base[30][:,0] != -1)"
   ]
  },
  {
   "cell_type": "code",
   "execution_count": null,
   "metadata": {},
   "outputs": [],
   "source": [
    "to_rel_inten=.2\n",
    "j=6\n",
    "l=4\n",
    "up_to_k=50"
   ]
  },
  {
   "cell_type": "code",
   "execution_count": null,
   "metadata": {},
   "outputs": [],
   "source": [
    "mean_prec, mean_jac, mean_prec_int, mean_jac_int = calc_mean_lj_metrics(l_pred_indices_per_k_best, y_indices, \\\n",
    "                                                                        X_intens, up_to_k=up_to_k, l=l, j=j, \\\n",
    "                                                                        l_rel=None, to_rel_inten=to_rel_inten)\n",
    "\n",
    "mean_prec_base, mean_jac_base, mean_prec_int_base, mean_jac_int_base = calc_mean_lj_metrics(l_pred_indices_per_k_base, \\\n",
    "                                                                                            y_indices_base, X_intens_base, \\\n",
    "                                                                                            up_to_k=up_to_k, l=l, j=j,\\\n",
    "                                                                                            l_rel=None, to_rel_inten=to_rel_inten)\n",
    "\n",
    "#mean_prec_base = get_to_len(mean_prec_base, len(mean_prec))\n",
    "#mean_jac_base = get_to_len(mean_jac_base, len(mean_jac))"
   ]
  },
  {
   "cell_type": "code",
   "execution_count": null,
   "metadata": {},
   "outputs": [],
   "source": [
    "plot_stats(mean_prec, baseline1D=mean_prec_base, title=\"Mean_Prec\", color=\"green\", ylabel='precision', xlabel='k')"
   ]
  },
  {
   "cell_type": "code",
   "execution_count": null,
   "metadata": {},
   "outputs": [],
   "source": [
    "plot_stats(mean_jac, baseline1D=mean_jac_base, title=\"Mean_Jac\", color=\"blue\", ylabel='jaccard', xlabel='k')"
   ]
  },
  {
   "cell_type": "code",
   "execution_count": null,
   "metadata": {},
   "outputs": [],
   "source": [
    "plot_stats(mean_prec_int, baseline1D=mean_prec_int_base, title=\"Mean_Prec\", color=\"green\", ylabel='precision', xlabel='k')"
   ]
  },
  {
   "cell_type": "code",
   "execution_count": null,
   "metadata": {},
   "outputs": [],
   "source": [
    "plot_stats(mean_jac_int, baseline1D=mean_jac_int_base, title=\"Mean_Jac\", color=\"blue\", ylabel='jaccard', xlabel='k')"
   ]
  },
  {
   "cell_type": "code",
   "execution_count": null,
   "metadata": {},
   "outputs": [],
   "source": [
    "assert False"
   ]
  },
  {
   "cell_type": "code",
   "execution_count": null,
   "metadata": {},
   "outputs": [],
   "source": []
  },
  {
   "cell_type": "raw",
   "metadata": {},
   "source": [
    "# metrics\n",
    "\n",
    "given k from {1..30} predict l next from l+j \n",
    "\n",
    "- dst models:\n",
    "\n",
    "    - N evaluaci (30 steps)\n",
    "    - predictor has mode to receive batch of samples of length 30, predict dst for each token\n",
    "          -> return all dsts\n",
    "          -> pick top indices for each token, filter and return l indices for each k\n",
    "          \n",
    "    - predictor receives batch o length k and returns predicted filtered indices from 1 to k \n",
    "- autoreg models:\n",
    "    \n",
    "    - N evaluaci ( 5-35 steps)\n",
    "\n",
    "\n",
    "given k from {1..N} predict one next - compuation cajk if done via teacherforcing \n",
    "\n",
    "- N evaluaci ( ~100 steps)\n",
    "\n",
    "given k=5 predict all next - computation super cajk \n",
    "\n",
    "- N evaluaci (5 steps)\n"
   ]
  },
  {
   "cell_type": "raw",
   "metadata": {},
   "source": [
    "model\n",
    "# input in indices, intensities\n",
    "# output distribution over indexed peaks\n",
    "\n",
    "\n",
    "visual \n",
    "# input indices, all indices, all intensities, model prediction [logprob/prob]\n",
    "# call coder to get from indices to mz\n",
    "# plot prediction and reference over mz\n",
    "\n",
    "eval model specific\n",
    "# input model, data\n",
    "# call coder to get from mz to indices\n",
    "# output comptued predictions for metrics\n",
    "\n",
    "metrics\n",
    "# input computed predictions in given format"
   ]
  },
  {
   "cell_type": "code",
   "execution_count": null,
   "metadata": {},
   "outputs": [],
   "source": []
  },
  {
   "cell_type": "code",
   "execution_count": null,
   "metadata": {},
   "outputs": [],
   "source": []
  },
  {
   "cell_type": "code",
   "execution_count": null,
   "metadata": {},
   "outputs": [],
   "source": [
    "  batch_size = len(X_dict_batch[\"input_ids\"])\n",
    "#         k = len(X_dict_batch[\"input_ids\"][0])\n",
    "#         pred_indices = torch.ones(batch_size, l, device=device, dtype=torch.int) * (-1)\n",
    "        \n",
    "#         with torch.no_grad():\n",
    "# #         print(X_dict_batch)\n",
    "#             out = self.model(**X_dict_batch, use_cache=True)\n",
    "#         pred_ind_batch = torch.argmax(out.logits, dim=-1)[:, k-1].int()\n",
    "        \n",
    "#         # filtering hack\n",
    "#         for j, p in enumerate(pred_ind_batch):\n",
    "#             if p not in pred_indices[j] and p not in X_dict_batch[\"input_ids\"][j]:\n",
    "#                 pos = (pred_indices[j]==-1).nonzero(as_tuple=False)\n",
    "#                 if len(pos) == 0:\n",
    "#                     continue                \n",
    "#                 pred_indices[j][pos[0]] = p\n",
    "        \n",
    "# #        new_mask = torch.zeros_like(X_dict_batch[\"attention_mask\"], dtype=torch.int)\n",
    "# #        new_mask[:, 0] = 1\n",
    "        \n",
    "    \n",
    "#         #print(out.past_key_values[0][0].size(-2))\n",
    "    \n",
    "#         # filtering hack\n",
    "#         while (pred_indices == -1).any():\n",
    "# #             print(pred_ind_batch)\n",
    "#             new_dict_batch = {\"input_ids\": pred_ind_batch.reshape(-1, 1)}\n",
    "# #             print(new_dict_batch)\n",
    "#             with torch.no_grad():\n",
    "#                 out = self.model(**new_dict_batch, use_cache=True, past_key_values=out.past_key_values)\n",
    "#             pred_ind_batch = torch.argmax(out.logits, dim=-1)[:, 0].int()\n",
    "            \n",
    "#             # filtering hack\n",
    "#             for j, p in enumerate(pred_ind_batch):\n",
    "#                 if p not in pred_indices[j] and p not in X_dict_batch[\"input_ids\"][j]:\n",
    "#                     pos = (pred_indices[j]==-1).nonzero(as_tuple=False)\n",
    "#                     if len(pos) == 0:\n",
    "#                         continue                \n",
    "#                     pred_indices[j][pos[0]] = p\n",
    "#         #print(pred_indices)\n",
    "#         return pred_indices.cpu().numpy()\n",
    "# #         if not filtered:\n",
    "# #             return pred_indices\n",
    "#         # all peaks must be unique\n",
    "#         #np.unique(data\n",
    "        \n",
    "# #         # omit the peaks that were given as input\n",
    "# #         top_k_l = get_top_k_ind(pred_indices, l+len(indices))[0]\n",
    "# #         indices_match = set(indices)\n",
    "# #         return np.array([ind for ind in top_k_l if ind not in indices_match][:l])\n",
    "    "
   ]
  },
  {
   "cell_type": "code",
   "execution_count": null,
   "metadata": {},
   "outputs": [],
   "source": []
  },
  {
   "cell_type": "code",
   "execution_count": null,
   "metadata": {},
   "outputs": [],
   "source": []
  },
  {
   "cell_type": "code",
   "execution_count": null,
   "metadata": {},
   "outputs": [],
   "source": []
  }
 ],
 "metadata": {
  "kernelspec": {
   "display_name": "Python 3",
   "language": "python",
   "name": "python3"
  },
  "language_info": {
   "codemirror_mode": {
    "name": "ipython",
    "version": 3
   },
   "file_extension": ".py",
   "mimetype": "text/x-python",
   "name": "python",
   "nbconvert_exporter": "python",
   "pygments_lexer": "ipython3",
   "version": "3.8.5"
  }
 },
 "nbformat": 4,
 "nbformat_minor": 4
}
