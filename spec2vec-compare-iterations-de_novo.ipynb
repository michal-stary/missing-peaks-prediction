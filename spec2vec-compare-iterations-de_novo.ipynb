{
 "cells": [
  {
   "cell_type": "markdown",
   "metadata": {},
   "source": [
    "# Compare word2vec training  iterations (AllPositive dataset)"
   ]
  },
  {
   "cell_type": "code",
   "execution_count": 36,
   "metadata": {},
   "outputs": [
    {
     "name": "stdout",
     "output_type": "stream",
     "text": [
      "The autoreload extension is already loaded. To reload it, use:\n",
      "  %reload_ext autoreload\n"
     ]
    }
   ],
   "source": [
    "import os\n",
    "import sys\n",
    "import gensim\n",
    "import numpy as np\n",
    "\n",
    "base = \"data\"\n",
    "dataset = \"nist\"\n",
    "kind = \"de_novo\"\n",
    "\n",
    "model_name = kind\n",
    "\n",
    "data_train_path =f\"{base}/{dataset}/{kind}/train.msp\"\n",
    "data_val_path =f\"{base}/{dataset}/{kind}/val.msp\"\n",
    "data_test_path =f\"{base}/{dataset}/{kind}/test.msp\"\n",
    "\n",
    "%load_ext autoreload\n",
    "%autoreload 2"
   ]
  },
  {
   "cell_type": "markdown",
   "metadata": {},
   "source": [
    "### Import pre-processed dataset \"Unique InchiKeys\""
   ]
  },
  {
   "cell_type": "code",
   "execution_count": 37,
   "metadata": {},
   "outputs": [
    {
     "name": "stdout",
     "output_type": "stream",
     "text": [
      "number of spectra: 22921\n"
     ]
    }
   ],
   "source": [
    "from matchms.importing import load_from_msp\n",
    "from data_utils import spectrum_processing\n",
    "\n",
    "spectrums_val = [spectrum_processing(s) for s in load_from_msp(data_val_path)]\n",
    "spectrums_val = [s for s in spectrums_val if s is not None]\n",
    "print(\"number of spectra:\", len(spectrums_val))"
   ]
  },
  {
   "cell_type": "markdown",
   "metadata": {},
   "source": [
    "## Load pretrained spec2vec models and calculate scores"
   ]
  },
  {
   "cell_type": "code",
   "execution_count": 41,
   "metadata": {},
   "outputs": [],
   "source": [
    "from spec2vec import Spec2Vec\n",
    "from spec2vec import SpectrumDocument "
   ]
  },
  {
   "cell_type": "code",
   "execution_count": 42,
   "metadata": {},
   "outputs": [],
   "source": [
    "documents = [SpectrumDocument(s, n_decimals=0) for s in spectrums_val]"
   ]
  },
  {
   "cell_type": "code",
   "execution_count": 43,
   "metadata": {},
   "outputs": [
    {
     "data": {
      "text/plain": [
       "['peak@12',\n",
       " 'peak@13',\n",
       " 'peak@14',\n",
       " 'peak@15',\n",
       " 'peak@24',\n",
       " 'peak@25',\n",
       " 'peak@26',\n",
       " 'peak@27',\n",
       " 'peak@28',\n",
       " 'peak@29']"
      ]
     },
     "execution_count": 43,
     "metadata": {},
     "output_type": "execute_result"
    }
   ],
   "source": [
    "documents[0].words[:10]"
   ]
  },
  {
   "cell_type": "markdown",
   "metadata": {},
   "source": [
    "### Load reference scores"
   ]
  },
  {
   "cell_type": "code",
   "execution_count": 44,
   "metadata": {},
   "outputs": [],
   "source": [
    "filename = \"gas2vec/similarity_nist_val/in_database/tanimoto_scores.npy\"\n",
    "matrix_similarities_fingerprint_daylight = np.load(filename)"
   ]
  },
  {
   "cell_type": "code",
   "execution_count": 45,
   "metadata": {},
   "outputs": [],
   "source": [
    "from spec2vec_plotting_functions import plot_precentile"
   ]
  },
  {
   "cell_type": "markdown",
   "metadata": {},
   "source": [
    "## Actual score calculation\n",
    "+ Using ``Spec2Vec`` with ``intensity_weighting_power=0.5``.\n",
    "+ Calculate matrix of all-vs-all similarity scores.\n",
    "+ Iterate over trained models after different numbers of iterations."
   ]
  },
  {
   "cell_type": "code",
   "execution_count": 46,
   "metadata": {},
   "outputs": [
    {
     "name": "stdout",
     "output_type": "stream",
     "text": [
      "/auto/brno6/home/xstary1/raims\n"
     ]
    }
   ],
   "source": [
    "!pwd"
   ]
  },
  {
   "cell_type": "code",
   "execution_count": null,
   "metadata": {},
   "outputs": [],
   "source": [
    "path_models = \"gas2vec\"\n",
    "\n",
    "for iteration in [2, 4, 6, 10, 16, 20, 26, 30, 40, 50, 60, 70, 80, 90, 100]:\n",
    "    filename = f\"{model_name}_iter_{iteration}.model\"\n",
    "    model_file = os.path.join(path_models, filename)\n",
    "\n",
    "    # Load pretrained model\n",
    "    model = gensim.models.Word2Vec.load(model_file)\n",
    "    \n",
    "    # Score calculations\n",
    "    spec2vec_similarity = Spec2Vec(model, intensity_weighting_power=0.5, allowed_missing_percentage=15)\n",
    "    similarity_matrix = spec2vec_similarity.matrix(documents, documents, is_symmetric=True)\n",
    "    print(\"u\")\n",
    "    # Compare to reference scores\n",
    "    percentile_spec2vec = plot_precentile(matrix_similarities_fingerprint_daylight,\n",
    "                                                      similarity_matrix,\n",
    "                                                      num_bins=100, show_top_percentile=0.1,\n",
    "                                                      ignore_diagonal=True)\n",
    "\n",
    "    filename = os.path.join(\"gas2vec/iterations\", \"percentile_de_novo_iter_{}.npy\".format(iteration))\n",
    "    np.save(filename, percentile_spec2vec)\n",
    "    \n",
    "    filename = os.path.join(\"gas2vec/iterations\", \"similarities_de_novo_iter_{}.npy\".format(iteration))\n",
    "    np.save(filename, percentile_spec2vec)"
   ]
  },
  {
   "cell_type": "code",
   "execution_count": 51,
   "metadata": {},
   "outputs": [
    {
     "name": "stdout",
     "output_type": "stream",
     "text": [
      "Found 1 word(s) missing in the model. Weighted missing percentage not covered by the given model is 3.03%.\n",
      "Found 1 word(s) missing in the model. Weighted missing percentage not covered by the given model is 2.55%.\n",
      "Found 1 word(s) missing in the model. Weighted missing percentage not covered by the given model is 2.17%.\n",
      "Found 1 word(s) missing in the model. Weighted missing percentage not covered by the given model is 1.55%.\n",
      "Found 1 word(s) missing in the model. Weighted missing percentage not covered by the given model is 1.16%.\n",
      "Found 1 word(s) missing in the model. Weighted missing percentage not covered by the given model is 0.53%.\n",
      "Found 1 word(s) missing in the model. Weighted missing percentage not covered by the given model is 0.37%.\n",
      "Found 1 word(s) missing in the model. Weighted missing percentage not covered by the given model is 1.70%.\n",
      "Found 1 word(s) missing in the model. Weighted missing percentage not covered by the given model is 0.64%.\n",
      "Found 2 word(s) missing in the model. Weighted missing percentage not covered by the given model is 3.46%.\n",
      "Found 1 word(s) missing in the model. Weighted missing percentage not covered by the given model is 1.69%.\n",
      "Found 1 word(s) missing in the model. Weighted missing percentage not covered by the given model is 0.40%.\n",
      "Found 1 word(s) missing in the model. Weighted missing percentage not covered by the given model is 0.66%.\n",
      "Found 1 word(s) missing in the model. Weighted missing percentage not covered by the given model is 0.44%.\n",
      "Found 1 word(s) missing in the model. Weighted missing percentage not covered by the given model is 1.46%.\n",
      "Found 2 word(s) missing in the model. Weighted missing percentage not covered by the given model is 2.20%.\n",
      "Found 2 word(s) missing in the model. Weighted missing percentage not covered by the given model is 2.19%.\n",
      "Found 1 word(s) missing in the model. Weighted missing percentage not covered by the given model is 1.57%.\n",
      "Found 1 word(s) missing in the model. Weighted missing percentage not covered by the given model is 1.71%.\n",
      "Found 1 word(s) missing in the model. Weighted missing percentage not covered by the given model is 0.85%.\n",
      "Found 2 word(s) missing in the model. Weighted missing percentage not covered by the given model is 1.59%.\n",
      "Found 2 word(s) missing in the model. Weighted missing percentage not covered by the given model is 2.25%.\n",
      "Found 2 word(s) missing in the model. Weighted missing percentage not covered by the given model is 2.16%.\n",
      "Found 2 word(s) missing in the model. Weighted missing percentage not covered by the given model is 3.26%.\n",
      "Found 2 word(s) missing in the model. Weighted missing percentage not covered by the given model is 1.89%.\n",
      "Found 1 word(s) missing in the model. Weighted missing percentage not covered by the given model is 0.89%.\n",
      "Found 2 word(s) missing in the model. Weighted missing percentage not covered by the given model is 1.56%.\n",
      "Found 1 word(s) missing in the model. Weighted missing percentage not covered by the given model is 0.33%.\n",
      "Found 1 word(s) missing in the model. Weighted missing percentage not covered by the given model is 0.36%.\n",
      "Found 1 word(s) missing in the model. Weighted missing percentage not covered by the given model is 0.83%.\n",
      "Found 1 word(s) missing in the model. Weighted missing percentage not covered by the given model is 0.90%.\n",
      "Found 1 word(s) missing in the model. Weighted missing percentage not covered by the given model is 0.62%.\n",
      "Found 1 word(s) missing in the model. Weighted missing percentage not covered by the given model is 0.67%.\n",
      "Found 2 word(s) missing in the model. Weighted missing percentage not covered by the given model is 1.15%.\n",
      "Found 2 word(s) missing in the model. Weighted missing percentage not covered by the given model is 1.59%.\n",
      "Found 2 word(s) missing in the model. Weighted missing percentage not covered by the given model is 2.11%.\n",
      "Found 2 word(s) missing in the model. Weighted missing percentage not covered by the given model is 1.50%.\n",
      "Found 2 word(s) missing in the model. Weighted missing percentage not covered by the given model is 1.23%.\n",
      "Found 2 word(s) missing in the model. Weighted missing percentage not covered by the given model is 1.18%.\n",
      "Found 1 word(s) missing in the model. Weighted missing percentage not covered by the given model is 0.47%.\n",
      "Found 1 word(s) missing in the model. Weighted missing percentage not covered by the given model is 0.48%.\n",
      "Found 1 word(s) missing in the model. Weighted missing percentage not covered by the given model is 0.18%.\n",
      "Found 1 word(s) missing in the model. Weighted missing percentage not covered by the given model is 0.23%.\n",
      "Found 1 word(s) missing in the model. Weighted missing percentage not covered by the given model is 0.70%.\n",
      "Found 1 word(s) missing in the model. Weighted missing percentage not covered by the given model is 0.90%.\n",
      "Found 1 word(s) missing in the model. Weighted missing percentage not covered by the given model is 0.80%.\n",
      "Found 2 word(s) missing in the model. Weighted missing percentage not covered by the given model is 1.04%.\n",
      "Found 1 word(s) missing in the model. Weighted missing percentage not covered by the given model is 0.40%.\n",
      "Found 2 word(s) missing in the model. Weighted missing percentage not covered by the given model is 1.16%.\n",
      "Found 1 word(s) missing in the model. Weighted missing percentage not covered by the given model is 0.36%.\n",
      "Found 1 word(s) missing in the model. Weighted missing percentage not covered by the given model is 0.41%.\n",
      "Found 2 word(s) missing in the model. Weighted missing percentage not covered by the given model is 1.81%.\n",
      "Found 1 word(s) missing in the model. Weighted missing percentage not covered by the given model is 0.93%.\n",
      "Found 1 word(s) missing in the model. Weighted missing percentage not covered by the given model is 0.99%.\n",
      "Found 1 word(s) missing in the model. Weighted missing percentage not covered by the given model is 0.73%.\n",
      "Found 2 word(s) missing in the model. Weighted missing percentage not covered by the given model is 1.08%.\n",
      "Found 1 word(s) missing in the model. Weighted missing percentage not covered by the given model is 0.60%.\n",
      "Found 1 word(s) missing in the model. Weighted missing percentage not covered by the given model is 0.35%.\n",
      "Found 2 word(s) missing in the model. Weighted missing percentage not covered by the given model is 1.24%.\n",
      "Found 2 word(s) missing in the model. Weighted missing percentage not covered by the given model is 2.37%.\n",
      "Found 2 word(s) missing in the model. Weighted missing percentage not covered by the given model is 2.60%.\n",
      "Found 1 word(s) missing in the model. Weighted missing percentage not covered by the given model is 0.20%.\n",
      "Found 1 word(s) missing in the model. Weighted missing percentage not covered by the given model is 0.33%.\n",
      "Found 1 word(s) missing in the model. Weighted missing percentage not covered by the given model is 0.88%.\n",
      "Found 1 word(s) missing in the model. Weighted missing percentage not covered by the given model is 0.35%.\n",
      "Found 2 word(s) missing in the model. Weighted missing percentage not covered by the given model is 1.63%.\n",
      "Found 2 word(s) missing in the model. Weighted missing percentage not covered by the given model is 0.94%.\n",
      "Found 2 word(s) missing in the model. Weighted missing percentage not covered by the given model is 0.75%.\n",
      "Found 2 word(s) missing in the model. Weighted missing percentage not covered by the given model is 1.31%.\n",
      "Found 2 word(s) missing in the model. Weighted missing percentage not covered by the given model is 1.20%.\n",
      "Found 2 word(s) missing in the model. Weighted missing percentage not covered by the given model is 1.10%.\n",
      "Found 2 word(s) missing in the model. Weighted missing percentage not covered by the given model is 0.98%.\n",
      "Found 2 word(s) missing in the model. Weighted missing percentage not covered by the given model is 0.85%.\n",
      "Found 2 word(s) missing in the model. Weighted missing percentage not covered by the given model is 0.78%.\n",
      "Found 1 word(s) missing in the model. Weighted missing percentage not covered by the given model is 0.62%.\n",
      "Found 2 word(s) missing in the model. Weighted missing percentage not covered by the given model is 0.96%.\n",
      "Found 2 word(s) missing in the model. Weighted missing percentage not covered by the given model is 1.10%.\n",
      "Found 2 word(s) missing in the model. Weighted missing percentage not covered by the given model is 1.01%.\n",
      "Found 1 word(s) missing in the model. Weighted missing percentage not covered by the given model is 0.64%.\n",
      "Found 1 word(s) missing in the model. Weighted missing percentage not covered by the given model is 0.77%.\n",
      "Found 1 word(s) missing in the model. Weighted missing percentage not covered by the given model is 0.65%.\n",
      "Found 1 word(s) missing in the model. Weighted missing percentage not covered by the given model is 0.81%.\n",
      "Found 2 word(s) missing in the model. Weighted missing percentage not covered by the given model is 1.49%.\n",
      "Found 1 word(s) missing in the model. Weighted missing percentage not covered by the given model is 0.18%.\n",
      "Found 1 word(s) missing in the model. Weighted missing percentage not covered by the given model is 0.72%.\n",
      "Found 1 word(s) missing in the model. Weighted missing percentage not covered by the given model is 0.52%.\n",
      "Found 1 word(s) missing in the model. Weighted missing percentage not covered by the given model is 0.40%.\n",
      "Found 1 word(s) missing in the model. Weighted missing percentage not covered by the given model is 0.14%.\n",
      "Found 1 word(s) missing in the model. Weighted missing percentage not covered by the given model is 0.42%.\n",
      "Found 2 word(s) missing in the model. Weighted missing percentage not covered by the given model is 1.22%.\n",
      "Found 2 word(s) missing in the model. Weighted missing percentage not covered by the given model is 0.99%.\n",
      "Found 2 word(s) missing in the model. Weighted missing percentage not covered by the given model is 1.05%.\n",
      "Found 2 word(s) missing in the model. Weighted missing percentage not covered by the given model is 0.86%.\n",
      "Found 2 word(s) missing in the model. Weighted missing percentage not covered by the given model is 0.93%.\n",
      "Found 2 word(s) missing in the model. Weighted missing percentage not covered by the given model is 1.77%.\n",
      "Found 1 word(s) missing in the model. Weighted missing percentage not covered by the given model is 0.23%.\n",
      "Found 2 word(s) missing in the model. Weighted missing percentage not covered by the given model is 0.71%.\n",
      "Found 1 word(s) missing in the model. Weighted missing percentage not covered by the given model is 0.36%.\n",
      "Found 1 word(s) missing in the model. Weighted missing percentage not covered by the given model is 0.27%.\n",
      "Found 1 word(s) missing in the model. Weighted missing percentage not covered by the given model is 0.47%.\n",
      "Found 1 word(s) missing in the model. Weighted missing percentage not covered by the given model is 0.48%.\n",
      "Found 1 word(s) missing in the model. Weighted missing percentage not covered by the given model is 0.14%.\n",
      "Found 1 word(s) missing in the model. Weighted missing percentage not covered by the given model is 0.23%.\n",
      "Found 1 word(s) missing in the model. Weighted missing percentage not covered by the given model is 0.21%.\n",
      "Found 1 word(s) missing in the model. Weighted missing percentage not covered by the given model is 0.97%.\n",
      "Found 1 word(s) missing in the model. Weighted missing percentage not covered by the given model is 0.50%.\n",
      "Found 3 word(s) missing in the model. Weighted missing percentage not covered by the given model is 1.21%.\n",
      "Found 1 word(s) missing in the model. Weighted missing percentage not covered by the given model is 0.37%.\n",
      "Found 1 word(s) missing in the model. Weighted missing percentage not covered by the given model is 0.76%.\n",
      "Found 1 word(s) missing in the model. Weighted missing percentage not covered by the given model is 0.24%.\n",
      "Found 2 word(s) missing in the model. Weighted missing percentage not covered by the given model is 0.95%.\n",
      "Found 2 word(s) missing in the model. Weighted missing percentage not covered by the given model is 0.96%.\n",
      "Found 1 word(s) missing in the model. Weighted missing percentage not covered by the given model is 0.58%.\n",
      "Found 1 word(s) missing in the model. Weighted missing percentage not covered by the given model is 0.47%.\n",
      "Found 1 word(s) missing in the model. Weighted missing percentage not covered by the given model is 0.83%.\n",
      "Found 1 word(s) missing in the model. Weighted missing percentage not covered by the given model is 0.72%.\n",
      "Found 1 word(s) missing in the model. Weighted missing percentage not covered by the given model is 0.27%.\n",
      "Found 1 word(s) missing in the model. Weighted missing percentage not covered by the given model is 0.56%.\n",
      "Found 1 word(s) missing in the model. Weighted missing percentage not covered by the given model is 0.84%.\n",
      "Found 1 word(s) missing in the model. Weighted missing percentage not covered by the given model is 0.19%.\n",
      "Found 1 word(s) missing in the model. Weighted missing percentage not covered by the given model is 0.43%.\n",
      "Found 1 word(s) missing in the model. Weighted missing percentage not covered by the given model is 0.23%.\n",
      "Found 1 word(s) missing in the model. Weighted missing percentage not covered by the given model is 0.34%.\n",
      "Found 1 word(s) missing in the model. Weighted missing percentage not covered by the given model is 1.34%.\n",
      "Found 1 word(s) missing in the model. Weighted missing percentage not covered by the given model is 0.20%.\n",
      "Found 1 word(s) missing in the model. Weighted missing percentage not covered by the given model is 0.21%.\n",
      "Found 1 word(s) missing in the model. Weighted missing percentage not covered by the given model is 0.33%.\n",
      "Found 1 word(s) missing in the model. Weighted missing percentage not covered by the given model is 0.16%.\n",
      "Found 1 word(s) missing in the model. Weighted missing percentage not covered by the given model is 0.22%.\n",
      "Found 1 word(s) missing in the model. Weighted missing percentage not covered by the given model is 0.31%.\n",
      "Found 1 word(s) missing in the model. Weighted missing percentage not covered by the given model is 0.43%.\n",
      "Found 1 word(s) missing in the model. Weighted missing percentage not covered by the given model is 0.64%.\n",
      "Found 1 word(s) missing in the model. Weighted missing percentage not covered by the given model is 0.16%.\n",
      "Found 1 word(s) missing in the model. Weighted missing percentage not covered by the given model is 0.16%.\n",
      "Found 1 word(s) missing in the model. Weighted missing percentage not covered by the given model is 0.68%.\n",
      "Found 1 word(s) missing in the model. Weighted missing percentage not covered by the given model is 1.29%.\n",
      "Found 1 word(s) missing in the model. Weighted missing percentage not covered by the given model is 0.32%.\n",
      "Found 1 word(s) missing in the model. Weighted missing percentage not covered by the given model is 0.32%.\n",
      "Found 1 word(s) missing in the model. Weighted missing percentage not covered by the given model is 0.18%.\n",
      "Found 1 word(s) missing in the model. Weighted missing percentage not covered by the given model is 0.30%.\n",
      "Found 1 word(s) missing in the model. Weighted missing percentage not covered by the given model is 0.32%.\n",
      "Found 1 word(s) missing in the model. Weighted missing percentage not covered by the given model is 0.25%.\n",
      "Found 1 word(s) missing in the model. Weighted missing percentage not covered by the given model is 0.27%.\n",
      "Found 1 word(s) missing in the model. Weighted missing percentage not covered by the given model is 0.17%.\n",
      "Found 1 word(s) missing in the model. Weighted missing percentage not covered by the given model is 0.63%.\n",
      "Found 1 word(s) missing in the model. Weighted missing percentage not covered by the given model is 0.13%.\n",
      "Found 1 word(s) missing in the model. Weighted missing percentage not covered by the given model is 0.24%.\n",
      "Found 1 word(s) missing in the model. Weighted missing percentage not covered by the given model is 1.22%.\n",
      "Found 1 word(s) missing in the model. Weighted missing percentage not covered by the given model is 0.24%.\n",
      "Found 1 word(s) missing in the model. Weighted missing percentage not covered by the given model is 0.17%.\n",
      "Found 1 word(s) missing in the model. Weighted missing percentage not covered by the given model is 0.25%.\n",
      "Found 1 word(s) missing in the model. Weighted missing percentage not covered by the given model is 0.12%.\n",
      "Found 1 word(s) missing in the model. Weighted missing percentage not covered by the given model is 0.30%.\n",
      "Found 1 word(s) missing in the model. Weighted missing percentage not covered by the given model is 0.90%.\n",
      "Found 1 word(s) missing in the model. Weighted missing percentage not covered by the given model is 0.65%.\n",
      "Found 1 word(s) missing in the model. Weighted missing percentage not covered by the given model is 0.31%.\n",
      "Found 1 word(s) missing in the model. Weighted missing percentage not covered by the given model is 0.16%.\n",
      "Found 1 word(s) missing in the model. Weighted missing percentage not covered by the given model is 0.21%.\n",
      "Found 1 word(s) missing in the model. Weighted missing percentage not covered by the given model is 0.14%.\n",
      "Found 1 word(s) missing in the model. Weighted missing percentage not covered by the given model is 0.19%.\n",
      "Found 1 word(s) missing in the model. Weighted missing percentage not covered by the given model is 0.10%.\n",
      "Found 1 word(s) missing in the model. Weighted missing percentage not covered by the given model is 0.09%.\n",
      "Found 1 word(s) missing in the model. Weighted missing percentage not covered by the given model is 0.39%.\n",
      "Found 1 word(s) missing in the model. Weighted missing percentage not covered by the given model is 0.13%.\n",
      "Found 1 word(s) missing in the model. Weighted missing percentage not covered by the given model is 0.11%.\n",
      "Found 1 word(s) missing in the model. Weighted missing percentage not covered by the given model is 0.32%.\n",
      "Found 1 word(s) missing in the model. Weighted missing percentage not covered by the given model is 0.21%.\n",
      "Found 1 word(s) missing in the model. Weighted missing percentage not covered by the given model is 1.50%.\n",
      "Found 1 word(s) missing in the model. Weighted missing percentage not covered by the given model is 0.11%.\n",
      "Found 1 word(s) missing in the model. Weighted missing percentage not covered by the given model is 0.58%.\n",
      "Found 1 word(s) missing in the model. Weighted missing percentage not covered by the given model is 0.08%.\n",
      "Found 1 word(s) missing in the model. Weighted missing percentage not covered by the given model is 0.55%.\n",
      "Found 1 word(s) missing in the model. Weighted missing percentage not covered by the given model is 0.11%.\n",
      "Found 1 word(s) missing in the model. Weighted missing percentage not covered by the given model is 0.33%.\n",
      "Found 1 word(s) missing in the model. Weighted missing percentage not covered by the given model is 0.24%.\n",
      "Found 1 word(s) missing in the model. Weighted missing percentage not covered by the given model is 0.29%.\n",
      "Found 1 word(s) missing in the model. Weighted missing percentage not covered by the given model is 0.52%.\n",
      "Found 1 word(s) missing in the model. Weighted missing percentage not covered by the given model is 0.44%.\n",
      "Found 1 word(s) missing in the model. Weighted missing percentage not covered by the given model is 0.07%.\n",
      "Found 2 word(s) missing in the model. Weighted missing percentage not covered by the given model is 0.20%.\n",
      "Found 1 word(s) missing in the model. Weighted missing percentage not covered by the given model is 0.10%.\n"
     ]
    },
    {
     "data": {
      "image/png": "[encoded data removed]",
      "text/plain": [
       "<Figure size 432x432 with 1 Axes>"
      ]
     },
     "metadata": {},
     "output_type": "display_data"
    }
   ],
   "source": [
    "path_models = \"gas2vec\"\n",
    "\n",
    "iteration=100\n",
    "\n",
    "filename = f\"{model_name}.model\"\n",
    "model_file = os.path.join(path_models, filename)\n",
    "\n",
    "# Load pretrained model\n",
    "model = gensim.models.Word2Vec.load(model_file)\n",
    "    \n",
    "# Score calculations\n",
    "spec2vec_similarity = Spec2Vec(model, intensity_weighting_power=0.5, allowed_missing_percentage=15)\n",
    "similarity_matrix = spec2vec_similarity.matrix(documents, documents, is_symmetric=True)\n",
    "# Compare to reference scores\n",
    "percentile_spec2vec = plot_precentile(matrix_similarities_fingerprint_daylight,\n",
    "                                                      similarity_matrix,\n",
    "                                                      num_bins=100, show_top_percentile=0.1,\n",
    "                                                      ignore_diagonal=True)\n",
    "\n",
    "filename = os.path.join(\"gas2vec/iterations\", \"percentile_de_novo_iter_{}.npy\".format(iteration))\n",
    "np.save(filename, percentile_spec2vec)\n",
    "    \n",
    "filename = os.path.join(\"gas2vec/iterations\", \"similarities_de_novo_iter_{}.npy\".format(iteration))\n",
    "np.save(filename, percentile_spec2vec)"
   ]
  },
  {
   "cell_type": "markdown",
   "metadata": {},
   "source": [
    "## Compare results"
   ]
  },
  {
   "cell_type": "code",
   "execution_count": null,
   "metadata": {},
   "outputs": [],
   "source": [
    "import os"
   ]
  },
  {
   "cell_type": "code",
   "execution_count": 2,
   "metadata": {},
   "outputs": [
    {
     "ename": "NameError",
     "evalue": "name 'os' is not defined",
     "output_type": "error",
     "traceback": [
      "\u001b[0;31m---------------------------------------------------------------------------\u001b[0m",
      "\u001b[0;31mNameError\u001b[0m                                 Traceback (most recent call last)",
      "\u001b[0;32m<ipython-input-2-48aeaa7ad5ea>\u001b[0m in \u001b[0;36m<module>\u001b[0;34m\u001b[0m\n\u001b[1;32m      4\u001b[0m \u001b[0;32mfor\u001b[0m \u001b[0miteration\u001b[0m \u001b[0;32min\u001b[0m \u001b[0;34m[\u001b[0m\u001b[0;36m2\u001b[0m\u001b[0;34m,\u001b[0m \u001b[0;36m4\u001b[0m\u001b[0;34m,\u001b[0m \u001b[0;36m6\u001b[0m\u001b[0;34m,\u001b[0m \u001b[0;36m10\u001b[0m\u001b[0;34m,\u001b[0m \u001b[0;36m16\u001b[0m\u001b[0;34m,\u001b[0m \u001b[0;36m20\u001b[0m\u001b[0;34m,\u001b[0m \u001b[0;36m26\u001b[0m\u001b[0;34m,\u001b[0m \u001b[0;36m30\u001b[0m\u001b[0;34m,\u001b[0m \u001b[0;36m40\u001b[0m\u001b[0;34m,\u001b[0m \u001b[0;36m50\u001b[0m\u001b[0;34m,\u001b[0m \u001b[0;36m60\u001b[0m\u001b[0;34m,\u001b[0m \u001b[0;36m70\u001b[0m\u001b[0;34m,\u001b[0m \u001b[0;36m80\u001b[0m\u001b[0;34m,\u001b[0m \u001b[0;36m90\u001b[0m\u001b[0;34m,\u001b[0m \u001b[0;36m100\u001b[0m\u001b[0;34m]\u001b[0m\u001b[0;34m:\u001b[0m\u001b[0;34m\u001b[0m\u001b[0;34m\u001b[0m\u001b[0m\n\u001b[1;32m      5\u001b[0m \u001b[0;34m\u001b[0m\u001b[0m\n\u001b[0;32m----> 6\u001b[0;31m     \u001b[0mfilename\u001b[0m \u001b[0;34m=\u001b[0m \u001b[0mos\u001b[0m\u001b[0;34m.\u001b[0m\u001b[0mpath\u001b[0m\u001b[0;34m.\u001b[0m\u001b[0mjoin\u001b[0m\u001b[0;34m(\u001b[0m\u001b[0mpath_data\u001b[0m\u001b[0;34m,\u001b[0m \u001b[0;34m\"percentile_de_novo_iter_{}.npy\"\u001b[0m\u001b[0;34m.\u001b[0m\u001b[0mformat\u001b[0m\u001b[0;34m(\u001b[0m\u001b[0miteration\u001b[0m\u001b[0;34m)\u001b[0m\u001b[0;34m)\u001b[0m\u001b[0;34m\u001b[0m\u001b[0;34m\u001b[0m\u001b[0m\n\u001b[0m\u001b[1;32m      7\u001b[0m     \u001b[0mpercentiles\u001b[0m\u001b[0;34m.\u001b[0m\u001b[0mappend\u001b[0m\u001b[0;34m(\u001b[0m\u001b[0mnp\u001b[0m\u001b[0;34m.\u001b[0m\u001b[0mload\u001b[0m\u001b[0;34m(\u001b[0m\u001b[0mfilename\u001b[0m\u001b[0;34m)\u001b[0m\u001b[0;34m)\u001b[0m\u001b[0;34m\u001b[0m\u001b[0;34m\u001b[0m\u001b[0m\n\u001b[1;32m      8\u001b[0m \u001b[0;34m\u001b[0m\u001b[0m\n",
      "\u001b[0;31mNameError\u001b[0m: name 'os' is not defined"
     ]
    }
   ],
   "source": [
    "path_data = \"gas2vec/iterations\"\n",
    "\n",
    "percentiles = []\n",
    "for iteration in [2, 4, 6, 10, 16, 20, 26, 30, 40, 50, 60, 70, 80, 90, 100]:\n",
    "    \n",
    "    filename = os.path.join(path_data, \"percentile_de_novo_iter_{}.npy\".format(iteration))\n",
    "    percentiles.append(np.load(filename))\n",
    "    "
   ]
  },
  {
   "cell_type": "code",
   "execution_count": 1,
   "metadata": {},
   "outputs": [
    {
     "ename": "NameError",
     "evalue": "name 'np' is not defined",
     "output_type": "error",
     "traceback": [
      "\u001b[0;31m---------------------------------------------------------------------------\u001b[0m",
      "\u001b[0;31mNameError\u001b[0m                                 Traceback (most recent call last)",
      "\u001b[0;32m<ipython-input-1-6cbff5edd6ff>\u001b[0m in \u001b[0;36m<module>\u001b[0;34m\u001b[0m\n\u001b[1;32m      8\u001b[0m \u001b[0mfig\u001b[0m\u001b[0;34m,\u001b[0m \u001b[0max\u001b[0m \u001b[0;34m=\u001b[0m \u001b[0mplt\u001b[0m\u001b[0;34m.\u001b[0m\u001b[0msubplots\u001b[0m\u001b[0;34m(\u001b[0m\u001b[0mfigsize\u001b[0m\u001b[0;34m=\u001b[0m\u001b[0;34m(\u001b[0m\u001b[0;36m7\u001b[0m\u001b[0;34m,\u001b[0m\u001b[0;36m6\u001b[0m\u001b[0;34m)\u001b[0m\u001b[0;34m)\u001b[0m\u001b[0;34m\u001b[0m\u001b[0;34m\u001b[0m\u001b[0m\n\u001b[1;32m      9\u001b[0m \u001b[0;34m\u001b[0m\u001b[0m\n\u001b[0;32m---> 10\u001b[0;31m \u001b[0mx_percentiles\u001b[0m \u001b[0;34m=\u001b[0m \u001b[0;34m(\u001b[0m\u001b[0mshow_top_percentile\u001b[0m \u001b[0;34m/\u001b[0m \u001b[0mnum_bins\u001b[0m \u001b[0;34m*\u001b[0m \u001b[0;34m(\u001b[0m\u001b[0;36m1\u001b[0m \u001b[0;34m+\u001b[0m \u001b[0mnp\u001b[0m\u001b[0;34m.\u001b[0m\u001b[0marange\u001b[0m\u001b[0;34m(\u001b[0m\u001b[0mnum_bins\u001b[0m\u001b[0;34m)\u001b[0m\u001b[0;34m)\u001b[0m\u001b[0;34m)\u001b[0m\u001b[0;34m[\u001b[0m\u001b[0;34m:\u001b[0m\u001b[0;34m:\u001b[0m\u001b[0;34m-\u001b[0m\u001b[0;36m1\u001b[0m\u001b[0;34m]\u001b[0m\u001b[0;34m\u001b[0m\u001b[0;34m\u001b[0m\u001b[0m\n\u001b[0m\u001b[1;32m     11\u001b[0m \u001b[0miterations\u001b[0m \u001b[0;34m=\u001b[0m \u001b[0;34m[\u001b[0m\u001b[0;36m2\u001b[0m\u001b[0;34m,\u001b[0m \u001b[0;36m4\u001b[0m\u001b[0;34m,\u001b[0m \u001b[0;36m6\u001b[0m\u001b[0;34m,\u001b[0m \u001b[0;36m10\u001b[0m\u001b[0;34m,\u001b[0m \u001b[0;36m16\u001b[0m\u001b[0;34m,\u001b[0m \u001b[0;36m20\u001b[0m\u001b[0;34m,\u001b[0m \u001b[0;36m26\u001b[0m\u001b[0;34m,\u001b[0m \u001b[0;36m30\u001b[0m\u001b[0;34m,\u001b[0m \u001b[0;36m40\u001b[0m\u001b[0;34m,\u001b[0m \u001b[0;36m50\u001b[0m\u001b[0;34m,\u001b[0m \u001b[0;36m60\u001b[0m\u001b[0;34m,\u001b[0m \u001b[0;36m70\u001b[0m\u001b[0;34m,\u001b[0m \u001b[0;36m80\u001b[0m\u001b[0;34m,\u001b[0m \u001b[0;36m90\u001b[0m\u001b[0;34m,\u001b[0m \u001b[0;36m100\u001b[0m\u001b[0;34m]\u001b[0m\u001b[0;34m\u001b[0m\u001b[0;34m\u001b[0m\u001b[0m\n\u001b[1;32m     12\u001b[0m \u001b[0miterations_plot\u001b[0m \u001b[0;34m=\u001b[0m \u001b[0;34m[\u001b[0m\u001b[0;36m2\u001b[0m\u001b[0;34m,\u001b[0m \u001b[0;36m4\u001b[0m\u001b[0;34m,\u001b[0m \u001b[0;36m6\u001b[0m\u001b[0;34m,\u001b[0m \u001b[0;36m10\u001b[0m\u001b[0;34m,\u001b[0m \u001b[0;36m16\u001b[0m\u001b[0;34m,\u001b[0m \u001b[0;36m20\u001b[0m\u001b[0;34m,\u001b[0m \u001b[0;36m26\u001b[0m\u001b[0;34m,\u001b[0m \u001b[0;36m30\u001b[0m\u001b[0;34m,\u001b[0m \u001b[0;36m40\u001b[0m\u001b[0;34m,\u001b[0m \u001b[0;36m50\u001b[0m\u001b[0;34m,\u001b[0m \u001b[0;36m60\u001b[0m\u001b[0;34m,\u001b[0m \u001b[0;36m70\u001b[0m\u001b[0;34m,\u001b[0m \u001b[0;36m80\u001b[0m\u001b[0;34m,\u001b[0m \u001b[0;36m90\u001b[0m\u001b[0;34m,\u001b[0m \u001b[0;36m100\u001b[0m\u001b[0;34m]\u001b[0m\u001b[0;34m\u001b[0m\u001b[0;34m\u001b[0m\u001b[0m\n",
      "\u001b[0;31mNameError\u001b[0m: name 'np' is not defined"
     ]
    },
    {
     "data": {
      "image/png": "[encoded data removed]",
      "text/plain": [
       "<Figure size 504x432 with 1 Axes>"
      ]
     },
     "metadata": {},
     "output_type": "display_data"
    }
   ],
   "source": [
    "from matplotlib import pyplot as plt\n",
    "\n",
    "#Compare all:\n",
    "num_bins = 100\n",
    "show_top_percentile = 0.1\n",
    "\n",
    "plt.style.use('ggplot')\n",
    "fig, ax = plt.subplots(figsize=(7,6))\n",
    "\n",
    "x_percentiles = (show_top_percentile / num_bins * (1 + np.arange(num_bins)))[::-1]\n",
    "iterations = [2, 4, 6, 10, 16, 20, 26, 30, 40, 50, 60, 70, 80, 90, 100]\n",
    "iterations_plot = [2, 4, 6, 10, 16, 20, 26, 30, 40, 50, 60, 70, 80, 90, 100]\n",
    "\n",
    "color_count = 0\n",
    "color_max = len(iterations_plot) + 1\n",
    "for i, percentile in enumerate(percentiles):\n",
    "    if iterations[i] in iterations_plot:\n",
    "        plt.plot(x_percentiles, percentiles[i], \n",
    "                 color=(color_count/color_max, 0, 1-color_count/color_max, 0.2+0.8*color_count/color_max),\n",
    "                 label='{}) Gas2Vec (trained {} iterations)'.format((color_count+1), iterations[i]))\n",
    "        color_count += 1\n",
    "\n",
    "i = 9    \n",
    "# plt.plot(x_percentiles, percentiles[i], \n",
    "#          \"--\", color=\"black\",\n",
    "#          label='selected: Spec2Vec (trained {} iterations on UniqueInchikeys)'.format(iterations[i]))\n",
    "plt.xticks(fontsize=12)\n",
    "plt.yticks(fontsize=12)\n",
    "\n",
    "plt.xticks(np.linspace(0, show_top_percentile, 5),\n",
    "           [\"{:.3f}%\".format(x) for x in np.linspace(0, show_top_percentile, 5)])\n",
    "plt.legend(fontsize=8)\n",
    "plt.xlabel(\"Top percentile of spectral similarity score g(s1,s2)\", fontsize=13)\n",
    "plt.ylabel(\"Mean molecular similarity f(m1,m2) \\n (within respective percentile)\", fontsize=13)\n",
    "plt.xlim(0, 0.1)\n",
    "plt.ylim(0.4, 0.92)\n",
    "plt.savefig(os.path.join(\"gas2vec/figures\", 'Benchmarking_model_10perc_iterations.pdf'))\n",
    "plt.savefig(os.path.join(\"gas2vec/figures\", 'Benchmarking_model_10perc_iterations.eps'))"
   ]
  },
  {
   "cell_type": "markdown",
   "metadata": {},
   "source": [
    "---"
   ]
  }
 ],
 "metadata": {
  "kernelspec": {
   "display_name": "Python 3",
   "language": "python",
   "name": "python3"
  },
  "language_info": {
   "codemirror_mode": {
    "name": "ipython",
    "version": 3
   },
   "file_extension": ".py",
   "mimetype": "text/x-python",
   "name": "python",
   "nbconvert_exporter": "python",
   "pygments_lexer": "ipython3",
   "version": "3.8.5"
  }
 },
 "nbformat": 4,
 "nbformat_minor": 4
}
