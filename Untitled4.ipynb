{
 "cells": [
  {
   "cell_type": "code",
   "execution_count": 6,
   "id": "6d9612d5-1c51-4041-96a2-cd664b488aea",
   "metadata": {},
   "outputs": [
    {
     "name": "stdout",
     "output_type": "stream",
     "text": [
      "0.63\n",
      "0.5670000000000001\n",
      "0.5103000000000001\n",
      "0.45927000000000007\n",
      "0.41334300000000007\n",
      "0.3720087000000001\n",
      "0.3348078300000001\n",
      "0.30132704700000007\n",
      "0.27119434230000006\n",
      "0.24407490807000007\n"
     ]
    }
   ],
   "source": [
    "x=.7\n",
    "for _ in range(10):\n",
    "    x=x*0.9\n",
    "    print(x)"
   ]
  },
  {
   "cell_type": "code",
   "execution_count": 8,
   "id": "d8d55171-0861-4394-b609-d61e0fd31743",
   "metadata": {},
   "outputs": [
    {
     "name": "stdout",
     "output_type": "stream",
     "text": [
      "0.48999999999999994\n",
      "0.24009999999999992\n",
      "0.057648009999999965\n",
      "0.003323293056960096\n",
      "1.104427674243918e-05\n",
      "1.21976048763583e-10\n",
      "1.487815647197598e-20\n",
      "2.2135954000460076e-40\n",
      "4.900004595104844e-80\n",
      "2.401004503204859e-159\n"
     ]
    }
   ],
   "source": [
    "x=.7\n",
    "for _ in range(10):\n",
    "    x=x**2\n",
    "    print(x)"
   ]
  },
  {
   "cell_type": "code",
   "execution_count": null,
   "id": "c223ca5f-8d22-4899-a5ad-ae8ffe72b608",
   "metadata": {},
   "outputs": [],
   "source": []
  }
 ],
 "metadata": {
  "kernelspec": {
   "display_name": "Python 3",
   "language": "python",
   "name": "python3"
  },
  "language_info": {
   "codemirror_mode": {
    "name": "ipython",
    "version": 3
   },
   "file_extension": ".py",
   "mimetype": "text/x-python",
   "name": "python",
   "nbconvert_exporter": "python",
   "pygments_lexer": "ipython3",
   "version": "3.8.5"
  }
 },
 "nbformat": 4,
 "nbformat_minor": 5
}
