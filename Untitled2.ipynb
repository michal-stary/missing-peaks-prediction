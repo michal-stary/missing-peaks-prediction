{
 "cells": [
  {
   "cell_type": "markdown",
   "id": "2b4601e5-a479-41b7-995f-bcbca0310d76",
   "metadata": {},
   "source": [
    "# Visual "
   ]
  },
  {
   "cell_type": "code",
   "execution_count": 3,
   "id": "77feda17-2691-482e-8fc6-1d67e19eec50",
   "metadata": {},
   "outputs": [],
   "source": [
    "base = \"data\"\n",
    "dataset = \"nist\"\n",
    "kind = \"in_database\"\n",
    "\n",
    "data_train_path =f\"{base}/{dataset}/{kind}/train.msp\"\n",
    "data_val_path =f\"{base}/{dataset}/{kind}/val.msp\"\n",
    "data_test_path =f\"{base}/{dataset}/{kind}/test.msp\"\n",
    "\n",
    "max_mz = 1001\n",
    "\n",
    "%load_ext autoreload\n",
    "%autoreload 2"
   ]
  },
  {
   "cell_type": "code",
   "execution_count": 4,
   "id": "5da0a1b4-b73e-438e-850e-c7aa0ce8d6b2",
   "metadata": {},
   "outputs": [],
   "source": [
    "from matchms.importing import load_from_msp\n",
    "from data_utils import spectrum_processing, get_n_samples, FixedSizeDS\n",
    "from helpers import get_mz_vector, get_his_size\n",
    "import numpy as np\n",
    "from scipy.sparse import csr_matrix\n",
    "\n",
    "# only for visual \n",
    "from spec2vec import SpectrumDocument\n",
    "from data_utils import BasicCoder"
   ]
  },
  {
   "cell_type": "code",
   "execution_count": 6,
   "id": "6c484508-6e3f-443e-b108-5ade8ff74046",
   "metadata": {},
   "outputs": [],
   "source": [
    "def get_spectra(path):\n",
    "    # Load data from MSP file and apply filters\n",
    "    spectrums = [spectrum_processing(s, min_rel_int=None) for s in load_from_msp(path)]\n",
    "    # Omit spectrums that didn't qualify for analysis\n",
    "    spectrums = [s for s in spectrums if s is not None]\n",
    "    # Create spectrum documents\n",
    "    return spectrums\n",
    "spectrums_train = get_spectra(data_train_path)\n",
    "spectrums_val = get_spectra(data_val_path)\n",
    "spectrums_test = get_spectra(data_test_path)"
   ]
  },
  {
   "cell_type": "code",
   "execution_count": 7,
   "id": "5be51a48-875e-47de-a40c-59aab7107893",
   "metadata": {},
   "outputs": [],
   "source": [
    "documents_test = [SpectrumDocument(s, n_decimals=0) for s in spectrums_test]"
   ]
  },
  {
   "cell_type": "code",
   "execution_count": 8,
   "id": "19e0754a-1ffe-4026-9c85-f6eaf2affa1e",
   "metadata": {},
   "outputs": [],
   "source": [
    "datasets_indb = {\n",
    "    \"spec_train\": spectrums_train, \n",
    "    \"spec_val\": spectrums_val, \n",
    "    \"spec_val_5000\": get_n_samples(spectrums_val, 5000),\n",
    "    \"spec_val_10000\": get_n_samples(spectrums_val, 10000),\n",
    "    \"spec_test\": spectrums_test, \n",
    "    \"fixed_test\": FixedSizeDS(spectrums_test)\n",
    "}\n"
   ]
  },
  {
   "cell_type": "code",
   "execution_count": 9,
   "id": "fef88c6f-8685-415a-a5ce-23faf860d6e1",
   "metadata": {},
   "outputs": [
    {
     "name": "stdout",
     "output_type": "stream",
     "text": [
      "The autoreload extension is already loaded. To reload it, use:\n",
      "  %reload_ext autoreload\n"
     ]
    }
   ],
   "source": [
    "base = \"data\"\n",
    "dataset = \"nist\"\n",
    "kind = \"de_novo\"\n",
    "\n",
    "data_train_path =f\"{base}/{dataset}/{kind}/train.msp\"\n",
    "data_val_path =f\"{base}/{dataset}/{kind}/val.msp\"\n",
    "data_test_path =f\"{base}/{dataset}/{kind}/test.msp\"\n",
    "\n",
    "max_mz = 1001\n",
    "\n",
    "%load_ext autoreload\n",
    "%autoreload 2"
   ]
  },
  {
   "cell_type": "code",
   "execution_count": 10,
   "id": "62c3cea8-6d73-478b-ae96-15ca03c141f3",
   "metadata": {},
   "outputs": [],
   "source": [
    "def get_spectra(path):\n",
    "    # Load data from MSP file and apply filters\n",
    "    spectrums = [spectrum_processing(s, min_rel_int=None) for s in load_from_msp(path)]\n",
    "    # Omit spectrums that didn't qualify for analysis\n",
    "    spectrums = [s for s in spectrums if s is not None]\n",
    "    # Create spectrum documents\n",
    "    return spectrums\n",
    "spectrums_train = get_spectra(data_train_path)\n",
    "spectrums_val = get_spectra(data_val_path)\n",
    "spectrums_test = get_spectra(data_test_path)"
   ]
  },
  {
   "cell_type": "code",
   "execution_count": 11,
   "id": "7ce0a4a6-6dd2-43f5-91a3-df516099c8c8",
   "metadata": {},
   "outputs": [],
   "source": [
    "documents_test = [SpectrumDocument(s, n_decimals=0) for s in spectrums_test]"
   ]
  },
  {
   "cell_type": "code",
   "execution_count": 12,
   "id": "605e51d1-7f5d-46e6-8c3c-4957d1861a06",
   "metadata": {},
   "outputs": [],
   "source": [
    "datasets_denovo = {\n",
    "    \"spec_train\": spectrums_train, \n",
    "    \"spec_val\": spectrums_val, \n",
    "    \"spec_val_5000\": get_n_samples(spectrums_val, 5000),\n",
    "    \"spec_val_10000\": get_n_samples(spectrums_val, 10000),\n",
    "    \"spec_test\": spectrums_test, \n",
    "    \"fixed_test\": FixedSizeDS(spectrums_test)\n",
    "}\n"
   ]
  },
  {
   "cell_type": "markdown",
   "id": "45caeafe-7338-4088-b9f3-e80857d24fe2",
   "metadata": {},
   "source": [
    "## Get same\n"
   ]
  },
  {
   "cell_type": "code",
   "execution_count": null,
   "id": "6f8f1eb4-f861-4338-aec0-72b57a082eb0",
   "metadata": {},
   "outputs": [],
   "source": []
  }
 ],
 "metadata": {
  "kernelspec": {
   "display_name": "Python 3",
   "language": "python",
   "name": "python3"
  },
  "language_info": {
   "codemirror_mode": {
    "name": "ipython",
    "version": 3
   },
   "file_extension": ".py",
   "mimetype": "text/x-python",
   "name": "python",
   "nbconvert_exporter": "python",
   "pygments_lexer": "ipython3",
   "version": "3.8.5"
  }
 },
 "nbformat": 4,
 "nbformat_minor": 5
}
